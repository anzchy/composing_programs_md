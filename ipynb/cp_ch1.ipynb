{
 "cells": [
  {
   "cell_type": "markdown",
   "id": "ddd373af",
   "metadata": {},
   "source": [
    "# Chapter 1: Building Abstractions with Functions\n",
    "\n",
    "## 1.1 Getting Started\n",
    "\n",
    "Computer science is a tremendously broad academic discipline. The areas of\n",
    "globally distributed systems, artificial intelligence, robotics, graphics,\n",
    "security, scientific computing, computer architecture, and dozens of emerging\n",
    "sub-fields all expand with new techniques and discoveries every year. The\n",
    "rapid progress of computer science has left few aspects of human life\n",
    "unaffected. Commerce, communication, science, art, leisure, and politics have\n",
    "all been reinvented as computational domains.\n",
    "\n",
    "The high productivity of computer science is only possible because the\n",
    "discipline is built upon an elegant and powerful set of fundamental ideas. All\n",
    "computing begins with representing information, specifying logic to process\n",
    "it, and designing abstractions that manage the complexity of that logic.\n",
    "Mastering these fundamentals will require us to understand precisely how\n",
    "computers interpret computer programs and carry out computational processes.\n",
    "\n",
    "These fundamental ideas have long been taught using the classic textbook\n",
    "_Structure and Interpretation of Computer Programs_\n",
    "([SICP](http://mitpress.mit.edu/sicp)) by Harold Abelson and Gerald Jay\n",
    "Sussman with Julie Sussman. This text borrows heavily from that textbook,\n",
    "which the original authors have kindly licensed for adaptation and reuse under\n",
    "a Creative Commons license. These notes are published under the [Creative\n",
    "Commons attribution non-commericial share-alike license version\n",
    "3](http://creativecommons.org/licenses/by-nc-sa/3.0/deed.en_US).\n",
    "\n",
    "### 1.1.1 Programming in Python\n",
    "\n",
    "> A language isn't something you learn so much as something you join.\n",
    ">\n",
    "> [Arika Okrent](http://arikaokrent.com/)\n",
    "\n",
    "In order to define computational processes, we need a programming language;\n",
    "preferably one that many humans and a great variety of computers can all\n",
    "understand. In this text, we will work primarily with the\n",
    "[Python](http://docs.python.org/py3k/) language.\n",
    "\n",
    "Python is a widely used programming language that has recruited enthusiasts\n",
    "from many professions: web programmers, game engineers, scientists, academics,\n",
    "and even designers of new programming languages. When you learn Python, you\n",
    "join a million-person-strong community of developers. Developer communities\n",
    "are tremendously important institutions: members help each other solve\n",
    "problems, share their projects and experiences, and collectively develop\n",
    "software and tools. Dedicated members often achieve celebrity and widespread\n",
    "esteem for their contributions.\n",
    "\n",
    "The Python language itself is the product of a [large volunteer\n",
    "community](http://www.python.org/psf/members/) that prides itself on the\n",
    "[diversity](http://python.org/community/diversity/) of its contributors. The\n",
    "language was conceived and first implemented by [Guido van\n",
    "Rossum](http://en.wikipedia.org/wiki/Guido_van_Rossum) in the late 1980's. The\n",
    "first chapter of his [Python 3\n",
    "Tutorial](http://docs.python.org/py3k/tutorial/appetite.html) explains why\n",
    "Python is so popular, among the many languages available today.\n",
    "\n",
    "Python excels as an instructional language because, throughout its history,\n",
    "Python's developers have emphasized the human interpretability of Python code,\n",
    "reinforced by the [Zen of Python](http://www.python.org/dev/peps/pep-0020/)\n",
    "guiding principles of beauty, simplicity, and readability. Python is\n",
    "particularly appropriate for this text because its broad set of features\n",
    "support a variety of different programming styles, which we will explore.\n",
    "While there is no single way to program in Python, there are a set of\n",
    "conventions shared across the developer community that facilitate reading,\n",
    "understanding, and extending existing programs. Python's combination of great\n",
    "flexibility and accessibility allows students to explore many programming\n",
    "paradigms, and then apply their newly acquired knowledge to thousands of\n",
    "[ongoing projects](http://pypi.python.org/pypi).\n",
    "\n",
    "These notes maintain the spirit of [SICP](http://mitpress.mit.edu/sicp) by\n",
    "introducing the features of Python in step with techniques for abstraction and\n",
    "a rigorous model of computation. In addition, these notes provide a practical\n",
    "introduction to Python programming, including some advanced language features\n",
    "and illustrative examples. Increasing your facility with Python should come\n",
    "naturally as you progress through the text.\n",
    "\n",
    "The best way to get started programming in Python is to interact with the\n",
    "interpreter directly. This section describes how to install Python 3, initiate\n",
    "an interactive session with the interpreter, and start programming.\n",
    "\n",
    "### 1.1.2 Installing Python 3\n",
    "\n",
    "As with all great software, Python has many versions. This text will use the\n",
    "most recent stable version of Python 3. Many computers have older versions of\n",
    "Python installed already, such as Python 2.7, but those will not match the\n",
    "descriptions in this text. You should be able to use any computer, but expect\n",
    "to install Python 3. (Don't worry, Python is free.)\n",
    "\n",
    "You can download Python 3 from the Python downloads page by clicking on the\n",
    "version that begins with 3 (not 2). Follow the instructions of the installer\n",
    "to complete installation.\n",
    "\n",
    "For further guidance, try these video tutorials on [Windows\n",
    "installation](http://www.youtube.com/watch?v=54-wuFsPi0w) and [Mac\n",
    "installation](http://www.youtube.com/watch?v=smHuBHxJdK8) of Python 3, created\n",
    "by Julia Oh.\n",
    "\n",
    "### 1.1.3 Interactive Sessions\n",
    "\n",
    "In an interactive Python session, you type some Python _code_ after the\n",
    "_prompt_ , `>>>`. The Python _interpreter_ reads and executes what you type,\n",
    "carrying out your various commands.\n",
    "\n",
    "To start an interactive session, run the Python 3 application. Type `python3`\n",
    "at a terminal prompt (Mac/Unix/Linux) or open the Python 3 application in\n",
    "Windows.\n",
    "\n",
    "If you see the Python prompt, `>>>`, then you have successfully started an\n",
    "interactive session. These notes depict example interactions using the prompt,\n",
    "followed by some input.\n",
    "\n",
    "\n",
    "​"
   ]
  },
  {
   "cell_type": "code",
   "execution_count": 1,
   "id": "3a533347",
   "metadata": {},
   "outputs": [
    {
     "data": {
      "text/plain": [
       "4"
      ]
     },
     "execution_count": 1,
     "metadata": {},
     "output_type": "execute_result"
    }
   ],
   "source": [
    ">>> 2 + 2\n",
    "4\n"
   ]
  },
  {
   "cell_type": "markdown",
   "id": "815fd75b",
   "metadata": {},
   "source": [
    "**Interactive controls.** Each session keeps a history of what you have typed.\n",
    "To access that history, press `<Control>-P` (previous) and `<Control>-N`\n",
    "(next). `<Control>-D` exits a session, which discards this history. Up and\n",
    "down arrows also cycle through history on some systems.\n",
    "\n",
    "### 1.1.4 First Example\n",
    "\n",
    "> And, as imagination bodies forth\n",
    ">\n",
    "> The forms of things to unknown, and the poet's pen\n",
    ">\n",
    "> Turns them to shapes, and gives to airy nothing\n",
    ">\n",
    "> A local habitation and a name.\n",
    ">\n",
    "> William Shakespeare, A Midsummer-Night's Dream\n",
    "\n",
    "To give Python a proper introduction, we will begin with an example that uses\n",
    "several language features. In the next section, we will start from scratch and\n",
    "build up the language piece by piece. Think of this section as a sneak preview\n",
    "of features to come.\n",
    "\n",
    "Python has built-in support for a wide range of common programming activities,\n",
    "such as manipulating text, displaying graphics, and communicating over the\n",
    "Internet. The line of Python code\n",
    "\n",
    "\n",
    "​"
   ]
  },
  {
   "cell_type": "code",
   "execution_count": 4,
   "id": "8363f3ea",
   "metadata": {},
   "outputs": [],
   "source": [
    ">>> from urllib.request import urlopen\n"
   ]
  },
  {
   "cell_type": "markdown",
   "id": "f0ba9ba7",
   "metadata": {},
   "source": [
    "is an `import` statement that loads functionality for accessing data on the\n",
    "Internet. In particular, it makes available a function called `urlopen`, which\n",
    "can access the content at a uniform resource locator (URL), a location of\n",
    "something on the Internet.\n",
    "\n",
    "**Statements & Expressions**. Python code consists of expressions and\n",
    "statements. Broadly, computer programs consist of instructions to either"
   ]
  },
  {
   "cell_type": "code",
   "execution_count": null,
   "id": "4a992b30",
   "metadata": {},
   "outputs": [],
   "source": [
    "1. Compute some value\n",
    "2. Carry out some action"
   ]
  },
  {
   "cell_type": "markdown",
   "id": "adb4c706",
   "metadata": {},
   "source": [
    "Statements typically describe actions. When the Python interpreter executes a\n",
    "statement, it carries out the corresponding action. On the other hand,\n",
    "expressions typically describe computations. When Python evaluates an\n",
    "expression, it computes the value of that expression. This chapter introduces\n",
    "several types of statements and expressions.\n",
    "\n",
    "The assignment statement\n",
    "\n",
    "\n",
    "​"
   ]
  },
  {
   "cell_type": "code",
   "execution_count": 5,
   "id": "92cc0194",
   "metadata": {},
   "outputs": [
    {
     "ename": "HTTPError",
     "evalue": "HTTP Error 500: Internal Server Error",
     "output_type": "error",
     "traceback": [
      "\u001b[0;31m---------------------------------------------------------------------------\u001b[0m",
      "\u001b[0;31mHTTPError\u001b[0m                                 Traceback (most recent call last)",
      "Cell \u001b[0;32mIn[5], line 1\u001b[0m\n\u001b[0;32m----> 1\u001b[0m shakespeare \u001b[38;5;241m=\u001b[39m \u001b[43murlopen\u001b[49m\u001b[43m(\u001b[49m\u001b[38;5;124;43m'\u001b[39;49m\u001b[38;5;124;43mhttp://composingprograms.com/shakespeare.txt\u001b[39;49m\u001b[38;5;124;43m'\u001b[39;49m\u001b[43m)\u001b[49m\n",
      "File \u001b[0;32m~/Library/jupyterlab-desktop/jlab_server/lib/python3.12/urllib/request.py:215\u001b[0m, in \u001b[0;36murlopen\u001b[0;34m(url, data, timeout, cafile, capath, cadefault, context)\u001b[0m\n\u001b[1;32m    213\u001b[0m \u001b[38;5;28;01melse\u001b[39;00m:\n\u001b[1;32m    214\u001b[0m     opener \u001b[38;5;241m=\u001b[39m _opener\n\u001b[0;32m--> 215\u001b[0m \u001b[38;5;28;01mreturn\u001b[39;00m \u001b[43mopener\u001b[49m\u001b[38;5;241;43m.\u001b[39;49m\u001b[43mopen\u001b[49m\u001b[43m(\u001b[49m\u001b[43murl\u001b[49m\u001b[43m,\u001b[49m\u001b[43m \u001b[49m\u001b[43mdata\u001b[49m\u001b[43m,\u001b[49m\u001b[43m \u001b[49m\u001b[43mtimeout\u001b[49m\u001b[43m)\u001b[49m\n",
      "File \u001b[0;32m~/Library/jupyterlab-desktop/jlab_server/lib/python3.12/urllib/request.py:521\u001b[0m, in \u001b[0;36mOpenerDirector.open\u001b[0;34m(self, fullurl, data, timeout)\u001b[0m\n\u001b[1;32m    519\u001b[0m \u001b[38;5;28;01mfor\u001b[39;00m processor \u001b[38;5;129;01min\u001b[39;00m \u001b[38;5;28mself\u001b[39m\u001b[38;5;241m.\u001b[39mprocess_response\u001b[38;5;241m.\u001b[39mget(protocol, []):\n\u001b[1;32m    520\u001b[0m     meth \u001b[38;5;241m=\u001b[39m \u001b[38;5;28mgetattr\u001b[39m(processor, meth_name)\n\u001b[0;32m--> 521\u001b[0m     response \u001b[38;5;241m=\u001b[39m \u001b[43mmeth\u001b[49m\u001b[43m(\u001b[49m\u001b[43mreq\u001b[49m\u001b[43m,\u001b[49m\u001b[43m \u001b[49m\u001b[43mresponse\u001b[49m\u001b[43m)\u001b[49m\n\u001b[1;32m    523\u001b[0m \u001b[38;5;28;01mreturn\u001b[39;00m response\n",
      "File \u001b[0;32m~/Library/jupyterlab-desktop/jlab_server/lib/python3.12/urllib/request.py:630\u001b[0m, in \u001b[0;36mHTTPErrorProcessor.http_response\u001b[0;34m(self, request, response)\u001b[0m\n\u001b[1;32m    627\u001b[0m \u001b[38;5;66;03m# According to RFC 2616, \"2xx\" code indicates that the client's\u001b[39;00m\n\u001b[1;32m    628\u001b[0m \u001b[38;5;66;03m# request was successfully received, understood, and accepted.\u001b[39;00m\n\u001b[1;32m    629\u001b[0m \u001b[38;5;28;01mif\u001b[39;00m \u001b[38;5;129;01mnot\u001b[39;00m (\u001b[38;5;241m200\u001b[39m \u001b[38;5;241m<\u001b[39m\u001b[38;5;241m=\u001b[39m code \u001b[38;5;241m<\u001b[39m \u001b[38;5;241m300\u001b[39m):\n\u001b[0;32m--> 630\u001b[0m     response \u001b[38;5;241m=\u001b[39m \u001b[38;5;28;43mself\u001b[39;49m\u001b[38;5;241;43m.\u001b[39;49m\u001b[43mparent\u001b[49m\u001b[38;5;241;43m.\u001b[39;49m\u001b[43merror\u001b[49m\u001b[43m(\u001b[49m\n\u001b[1;32m    631\u001b[0m \u001b[43m        \u001b[49m\u001b[38;5;124;43m'\u001b[39;49m\u001b[38;5;124;43mhttp\u001b[39;49m\u001b[38;5;124;43m'\u001b[39;49m\u001b[43m,\u001b[49m\u001b[43m \u001b[49m\u001b[43mrequest\u001b[49m\u001b[43m,\u001b[49m\u001b[43m \u001b[49m\u001b[43mresponse\u001b[49m\u001b[43m,\u001b[49m\u001b[43m \u001b[49m\u001b[43mcode\u001b[49m\u001b[43m,\u001b[49m\u001b[43m \u001b[49m\u001b[43mmsg\u001b[49m\u001b[43m,\u001b[49m\u001b[43m \u001b[49m\u001b[43mhdrs\u001b[49m\u001b[43m)\u001b[49m\n\u001b[1;32m    633\u001b[0m \u001b[38;5;28;01mreturn\u001b[39;00m response\n",
      "File \u001b[0;32m~/Library/jupyterlab-desktop/jlab_server/lib/python3.12/urllib/request.py:559\u001b[0m, in \u001b[0;36mOpenerDirector.error\u001b[0;34m(self, proto, *args)\u001b[0m\n\u001b[1;32m    557\u001b[0m \u001b[38;5;28;01mif\u001b[39;00m http_err:\n\u001b[1;32m    558\u001b[0m     args \u001b[38;5;241m=\u001b[39m (\u001b[38;5;28mdict\u001b[39m, \u001b[38;5;124m'\u001b[39m\u001b[38;5;124mdefault\u001b[39m\u001b[38;5;124m'\u001b[39m, \u001b[38;5;124m'\u001b[39m\u001b[38;5;124mhttp_error_default\u001b[39m\u001b[38;5;124m'\u001b[39m) \u001b[38;5;241m+\u001b[39m orig_args\n\u001b[0;32m--> 559\u001b[0m     \u001b[38;5;28;01mreturn\u001b[39;00m \u001b[38;5;28;43mself\u001b[39;49m\u001b[38;5;241;43m.\u001b[39;49m\u001b[43m_call_chain\u001b[49m\u001b[43m(\u001b[49m\u001b[38;5;241;43m*\u001b[39;49m\u001b[43margs\u001b[49m\u001b[43m)\u001b[49m\n",
      "File \u001b[0;32m~/Library/jupyterlab-desktop/jlab_server/lib/python3.12/urllib/request.py:492\u001b[0m, in \u001b[0;36mOpenerDirector._call_chain\u001b[0;34m(self, chain, kind, meth_name, *args)\u001b[0m\n\u001b[1;32m    490\u001b[0m \u001b[38;5;28;01mfor\u001b[39;00m handler \u001b[38;5;129;01min\u001b[39;00m handlers:\n\u001b[1;32m    491\u001b[0m     func \u001b[38;5;241m=\u001b[39m \u001b[38;5;28mgetattr\u001b[39m(handler, meth_name)\n\u001b[0;32m--> 492\u001b[0m     result \u001b[38;5;241m=\u001b[39m \u001b[43mfunc\u001b[49m\u001b[43m(\u001b[49m\u001b[38;5;241;43m*\u001b[39;49m\u001b[43margs\u001b[49m\u001b[43m)\u001b[49m\n\u001b[1;32m    493\u001b[0m     \u001b[38;5;28;01mif\u001b[39;00m result \u001b[38;5;129;01mis\u001b[39;00m \u001b[38;5;129;01mnot\u001b[39;00m \u001b[38;5;28;01mNone\u001b[39;00m:\n\u001b[1;32m    494\u001b[0m         \u001b[38;5;28;01mreturn\u001b[39;00m result\n",
      "File \u001b[0;32m~/Library/jupyterlab-desktop/jlab_server/lib/python3.12/urllib/request.py:639\u001b[0m, in \u001b[0;36mHTTPDefaultErrorHandler.http_error_default\u001b[0;34m(self, req, fp, code, msg, hdrs)\u001b[0m\n\u001b[1;32m    638\u001b[0m \u001b[38;5;28;01mdef\u001b[39;00m \u001b[38;5;21mhttp_error_default\u001b[39m(\u001b[38;5;28mself\u001b[39m, req, fp, code, msg, hdrs):\n\u001b[0;32m--> 639\u001b[0m     \u001b[38;5;28;01mraise\u001b[39;00m HTTPError(req\u001b[38;5;241m.\u001b[39mfull_url, code, msg, hdrs, fp)\n",
      "\u001b[0;31mHTTPError\u001b[0m: HTTP Error 500: Internal Server Error"
     ]
    }
   ],
   "source": [
    ">>> shakespeare = urlopen('http://composingprograms.com/shakespeare.txt')\n"
   ]
  },
  {
   "cell_type": "markdown",
   "id": "39ea3b36",
   "metadata": {},
   "source": [
    "associates the name `shakespeare` with the value of the expression that\n",
    "follows `=`. That expression applies the `urlopen` function to a URL that\n",
    "contains the complete text of William Shakespeare's 37 plays, all in a single\n",
    "text document.\n",
    "\n",
    "**Functions**. Functions encapsulate logic that manipulates data. `urlopen` is\n",
    "a function. A web address is a piece of data, and the text of Shakespeare's\n",
    "plays is another. The process by which the former leads to the latter may be\n",
    "complex, but we can apply that process using only a simple expression because\n",
    "that complexity is tucked away within a function. Functions are the primary\n",
    "topic of this chapter.\n",
    "\n",
    "Another assignment statement\n",
    "\n",
    "\n",
    "​"
   ]
  },
  {
   "cell_type": "code",
   "execution_count": 6,
   "id": "127bbbc7",
   "metadata": {},
   "outputs": [
    {
     "ename": "NameError",
     "evalue": "name 'shakespeare' is not defined",
     "output_type": "error",
     "traceback": [
      "\u001b[0;31m---------------------------------------------------------------------------\u001b[0m",
      "\u001b[0;31mNameError\u001b[0m                                 Traceback (most recent call last)",
      "Cell \u001b[0;32mIn[6], line 1\u001b[0m\n\u001b[0;32m----> 1\u001b[0m words \u001b[38;5;241m=\u001b[39m \u001b[38;5;28mset\u001b[39m(\u001b[43mshakespeare\u001b[49m\u001b[38;5;241m.\u001b[39mread()\u001b[38;5;241m.\u001b[39mdecode()\u001b[38;5;241m.\u001b[39msplit())\n",
      "\u001b[0;31mNameError\u001b[0m: name 'shakespeare' is not defined"
     ]
    }
   ],
   "source": [
    ">>> words = set(shakespeare.read().decode().split())\n"
   ]
  },
  {
   "cell_type": "markdown",
   "id": "cac93e79",
   "metadata": {},
   "source": [
    "associates the name `words` to the set of all unique words that appear in\n",
    "Shakespeare's plays, all 33,721 of them. The chain of commands to `read`,\n",
    "`decode`, and `split`, each operate on an intermediate computational entity:\n",
    "we `read` the data from the opened URL, then `decode` the data into text, and\n",
    "finally `split` the text into words. All of those words are placed in a `set`.\n",
    "\n",
    "**Objects**. A `set` is a type of object, one that supports set operations\n",
    "like computing intersections and membership. An object seamlessly bundles\n",
    "together data and the logic that manipulates that data, in a way that manages\n",
    "the complexity of both. Objects are the primary topic of Chapter 2. Finally,\n",
    "the expression\n",
    "\n",
    "\n",
    "​"
   ]
  },
  {
   "cell_type": "code",
   "execution_count": null,
   "id": "d1a77749",
   "metadata": {},
   "outputs": [],
   "source": [
    ">>> {w for w in words if len(w) == 6 and w[::-1] in words}\n",
    "{'redder', 'drawer', 'reward', 'diaper', 'repaid'}\n"
   ]
  },
  {
   "cell_type": "markdown",
   "id": "585706e4",
   "metadata": {},
   "source": [
    "is a compound expression that evaluates to the set of all Shakespearian words\n",
    "that are simultaneously a word spelled in reverse. The cryptic notation\n",
    "`w[::-1]` enumerates each letter in a word, but the `-1` dictates to step\n",
    "backwards. When you enter an expression in an interactive session, Python\n",
    "prints its value on the following line.\n",
    "\n",
    "**Interpreters**. Evaluating compound expressions requires a precise procedure\n",
    "that interprets code in a predictable way. A program that implements such a\n",
    "procedure, evaluating compound expressions, is called an interpreter. The\n",
    "design and implementation of interpreters is the primary topic of Chapter 3.\n",
    "\n",
    "When compared with other computer programs, interpreters for programming\n",
    "languages are unique in their generality. Python was not designed with\n",
    "Shakespeare in mind. However, its great flexibility allowed us to process a\n",
    "large amount of text with only a few statements and expressions.\n",
    "\n",
    "In the end, we will find that all of these core concepts are closely related:\n",
    "functions are objects, objects are functions, and interpreters are instances\n",
    "of both. However, developing a clear understanding of each of these concepts\n",
    "and their role in organizing code is critical to mastering the art of\n",
    "programming.\n",
    "\n",
    "### 1.1.5 Errors\n",
    "\n",
    "Python is waiting for your command. You are encouraged to experiment with the\n",
    "language, even though you may not yet know its full vocabulary and structure.\n",
    "However, be prepared for errors. While computers are tremendously fast and\n",
    "flexible, they are also extremely rigid. The nature of computers is described\n",
    "in [Stanford's introductory\n",
    "course](http://web.stanford.edu/class/cs101/code-1-introduction.html) as\n",
    "\n",
    "> The fundamental equation of computers is:\n",
    ">\n",
    "> `computer = powerful + stupid`\n",
    ">\n",
    "> Computers are very powerful, looking at volumes of data very quickly.\n",
    "> Computers can perform billions of operations per second, where each\n",
    "> operation is pretty simple.\n",
    ">\n",
    "> Computers are also shockingly stupid and fragile. The operations that they\n",
    "> can do are extremely rigid, simple, and mechanical. The computer lacks\n",
    "> anything like real insight ... it's nothing like the HAL 9000 from the\n",
    "> movies. If nothing else, you should not be intimidated by the computer as if\n",
    "> it's some sort of brain. It's very mechanical underneath it all.\n",
    ">\n",
    "> Programming is about a person using their real insight to build something\n",
    "> useful, constructed out of these teeny, simple little operations that the\n",
    "> computer can do.\n",
    ">\n",
    "> Francisco Cai and Nick Parlante, Stanford CS101\n",
    "\n",
    "The rigidity of computers will immediately become apparent as you experiment\n",
    "with the Python interpreter: even the smallest spelling and formatting changes\n",
    "will cause unexpected output and errors.\n",
    "\n",
    "Learning to interpret errors and diagnose the cause of unexpected errors is\n",
    "called _debugging_. Some guiding principles of debugging are:"
   ]
  },
  {
   "cell_type": "code",
   "execution_count": null,
   "id": "2c06cd50",
   "metadata": {},
   "outputs": [],
   "source": [
    "1. **Test incrementally** : Every well-written program is composed of small, modular components that can be tested individually. Try out everything you write as soon as possible to identify problems early and gain confidence in your components.\n",
    "2. **Isolate errors** : An error in the output of a statement can typically be attributed to a particular modular component. When trying to diagnose a problem, trace the error to the smallest fragment of code you can before trying to correct it.\n",
    "3. **Check your assumptions** : Interpreters do carry out your instructions to the letter  no more and no less. Their output is unexpected when the behavior of some code does not match what the programmer believes (or assumes) that behavior to be. Know your assumptions, then focus your debugging effort on verifying that your assumptions actually hold.\n",
    "4. **Consult others** : You are not alone! If you don't understand an error message, ask a friend, instructor, or search engine. If you have isolated an error, but can't figure out how to correct it, ask someone else to take a look. A lot of valuable programming knowledge is shared in the process of group problem solving."
   ]
  },
  {
   "cell_type": "markdown",
   "id": "e9babbe5",
   "metadata": {},
   "source": [
    "Incremental testing, modular design, precise assumptions, and teamwork are\n",
    "themes that persist throughout this text. Hopefully, they will also persist\n",
    "throughout your computer science career.\n",
    "\n",
    "_Continue_ : [ 1.2 Elements of Programming ](../pages/12-elements-of-\n",
    "programming.html)\n",
    "\n",
    "## 1.2 Elements of Programming\n",
    "\n",
    "A programming language is more than just a means for instructing a computer to\n",
    "perform tasks. The language also serves as a framework within which we\n",
    "organize our ideas about computational processes. Programs serve to\n",
    "communicate those ideas among the members of a programming community. Thus,\n",
    "programs must be written for people to read, and only incidentally for\n",
    "machines to execute.\n",
    "\n",
    "When we describe a language, we should pay particular attention to the means\n",
    "that the language provides for combining simple ideas to form more complex\n",
    "ideas. Every powerful language has three such mechanisms:\n",
    "\n",
    "  * **primitive expressions and statements** , which represent the simplest building blocks that the language provides,\n",
    "  * **means of combination** , by which compound elements are built from simpler ones, and\n",
    "  * **means of abstraction** , by which compound elements can be named and manipulated as units.\n",
    "\n",
    "In programming, we deal with two kinds of elements: functions and data. (Soon\n",
    "we will discover that they are really not so distinct.) Informally, data is\n",
    "stuff that we want to manipulate, and functions describe the rules for\n",
    "manipulating the data. Thus, any powerful programming language should be able\n",
    "to describe primitive data and primitive functions, as well as have some\n",
    "methods for combining and abstracting both functions and data.\n",
    "\n",
    "### 1.2.1 Expressions\n",
    "\n",
    "**Video:** Show Hide\n",
    "\n",
    "Having experimented with the full Python interpreter in the previous section,\n",
    "we now start anew, methodically developing the Python language element by\n",
    "element. Be patient if the examples seem simplistic  more exciting material\n",
    "is soon to come.\n",
    "\n",
    "We begin with primitive expressions. One kind of primitive expression is a\n",
    "number. More precisely, the expression that you type consists of the numerals\n",
    "that represent the number in base 10.\n",
    "\n",
    "\n",
    "​"
   ]
  },
  {
   "cell_type": "code",
   "execution_count": null,
   "id": "e565ad05",
   "metadata": {},
   "outputs": [],
   "source": [
    ">>> 42\n",
    "42\n"
   ]
  },
  {
   "cell_type": "markdown",
   "id": "6787180c",
   "metadata": {},
   "source": [
    "Expressions representing numbers may be combined with mathematical operators\n",
    "to form a compound expression, which the interpreter will evaluate:\n",
    "\n",
    "\n",
    "​"
   ]
  },
  {
   "cell_type": "code",
   "execution_count": 7,
   "id": "feeb5b31",
   "metadata": {},
   "outputs": [
    {
     "data": {
      "text/plain": [
       "0.9921875"
      ]
     },
     "execution_count": 7,
     "metadata": {},
     "output_type": "execute_result"
    }
   ],
   "source": [
    ">>> -1 - -1\n",
    "0\n",
    ">>> 1/2 + 1/4 + 1/8 + 1/16 + 1/32 + 1/64 + 1/128\n",
    "0.9921875\n"
   ]
  },
  {
   "cell_type": "markdown",
   "id": "28649013",
   "metadata": {},
   "source": [
    "These mathematical expressions use _infix_ notation, where the _operator_\n",
    "(e.g., `+`, `-`, `*`, or `/`) appears in between the _operands_ (numbers).\n",
    "Python includes many ways to form compound expressions. Rather than attempt to\n",
    "enumerate them all immediately, we will introduce new expression forms as we\n",
    "go, along with the language features that they support.\n",
    "\n",
    "### 1.2.2 Call Expressions\n",
    "\n",
    "**Video:** Show Hide\n",
    "\n",
    "The most important kind of compound expression is a _call expression_ , which\n",
    "applies a function to some arguments. Recall from algebra that the\n",
    "mathematical notion of a function is a mapping from some input arguments to an\n",
    "output value. For instance, the `max` function maps its inputs to a single\n",
    "output, which is the largest of the inputs. The way in which Python expresses\n",
    "function application is the same as in conventional mathematics.\n",
    "\n",
    "\n",
    "​"
   ]
  },
  {
   "cell_type": "code",
   "execution_count": null,
   "id": "8ea7b95b",
   "metadata": {},
   "outputs": [],
   "source": [
    ">>> max(7.5, 9.5)\n",
    "9.5\n"
   ]
  },
  {
   "cell_type": "markdown",
   "id": "80eb116b",
   "metadata": {},
   "source": [
    "This call expression has subexpressions: the _operator_ is an expression that\n",
    "precedes parentheses, which enclose a comma-delimited list of _operand_\n",
    "expressions.\n",
    "\n",
    "![](http://www.composingprograms.com/img/call_expression.png)\n",
    "\n",
    "The operator specifies a _function_. When this call expression is evaluated,\n",
    "we say that the function `max` is _called_ with _arguments_ 7.5 and 9.5, and\n",
    "_returns_ a _value_ of 9.5.\n",
    "\n",
    "The order of the arguments in a call expression matters. For instance, the\n",
    "function `pow` raises its first argument to the power of its second argument.\n",
    "\n",
    "\n",
    "​"
   ]
  },
  {
   "cell_type": "code",
   "execution_count": null,
   "id": "fa4e971b",
   "metadata": {},
   "outputs": [],
   "source": [
    ">>> pow(100, 2)\n",
    "10000\n",
    ">>> pow(2, 100)\n",
    "1267650600228229401496703205376\n"
   ]
  },
  {
   "cell_type": "markdown",
   "id": "4577cec5",
   "metadata": {},
   "source": [
    "Function notation has three principal advantages over the mathematical\n",
    "convention of infix notation. First, functions may take an arbitrary number of\n",
    "arguments:\n",
    "\n",
    "\n",
    "​"
   ]
  },
  {
   "cell_type": "code",
   "execution_count": null,
   "id": "1b5eb41a",
   "metadata": {},
   "outputs": [],
   "source": [
    ">>> max(1, -2, 3, -4)\n",
    "3\n"
   ]
  },
  {
   "cell_type": "markdown",
   "id": "88fc8a4c",
   "metadata": {},
   "source": [
    "No ambiguity can arise, because the function name always precedes its\n",
    "arguments.\n",
    "\n",
    "Second, function notation extends in a straightforward way to _nested_\n",
    "expressions, where the elements are themselves compound expressions. In nested\n",
    "call expressions, unlike compound infix expressions, the structure of the\n",
    "nesting is entirely explicit in the parentheses.\n",
    "\n",
    "\n",
    "​"
   ]
  },
  {
   "cell_type": "code",
   "execution_count": null,
   "id": "0089984d",
   "metadata": {},
   "outputs": [],
   "source": [
    ">>> max(min(1, -2), min(pow(3, 5), -4))\n",
    "-2\n"
   ]
  },
  {
   "cell_type": "markdown",
   "id": "2427c49a",
   "metadata": {},
   "source": [
    "There is no limit (in principle) to the depth of such nesting and to the\n",
    "overall complexity of the expressions that the Python interpreter can\n",
    "evaluate. However, humans quickly get confused by multi-level nesting. An\n",
    "important role for you as a programmer is to structure expressions so that\n",
    "they remain interpretable by yourself, your programming partners, and other\n",
    "people who may read your expressions in the future.\n",
    "\n",
    "Third, mathematical notation has a great variety of forms: multiplication\n",
    "appears between terms, exponents appear as superscripts, division as a\n",
    "horizontal bar, and a square root as a roof with slanted siding. Some of this\n",
    "notation is very hard to type! However, all of this complexity can be unified\n",
    "via the notation of call expressions. While Python supports common\n",
    "mathematical operators using infix notation (like `+` and `-`), any operator\n",
    "can be expressed as a function with a name.\n",
    "\n",
    "### 1.2.3 Importing Library Functions\n",
    "\n",
    "Python defines a very large number of functions, including the operator\n",
    "functions mentioned in the preceding section, but does not make all of their\n",
    "names available by default. Instead, it organizes the functions and other\n",
    "quantities that it knows about into modules, which together comprise the\n",
    "Python Library. To use these elements, one imports them. For example, the\n",
    "`math` module provides a variety of familiar mathematical functions:\n",
    "\n",
    "\n",
    "​"
   ]
  },
  {
   "cell_type": "code",
   "execution_count": null,
   "id": "593e65a1",
   "metadata": {},
   "outputs": [],
   "source": [
    ">>> from math import sqrt\n",
    ">>> sqrt(256)\n",
    "16.0\n"
   ]
  },
  {
   "cell_type": "markdown",
   "id": "63bf102e",
   "metadata": {},
   "source": [
    "and the `operator` module provides access to functions corresponding to infix\n",
    "operators:\n",
    "\n",
    "\n",
    "​"
   ]
  },
  {
   "cell_type": "code",
   "execution_count": null,
   "id": "81f62758",
   "metadata": {},
   "outputs": [],
   "source": [
    ">>> from operator import add, sub, mul\n",
    ">>> add(14, 28)\n",
    "42\n",
    ">>> sub(100, mul(7, add(8, 4)))\n",
    "16\n"
   ]
  },
  {
   "cell_type": "markdown",
   "id": "e0868878",
   "metadata": {},
   "source": [
    "An `import` statement designates a module name (e.g., `operator` or `math`),\n",
    "and then lists the named attributes of that module to import (e.g., `sqrt`).\n",
    "Once a function is imported, it can be called multiple times.\n",
    "\n",
    "There is no difference between using these operator functions (e.g., `add`)\n",
    "and the operator symbols themselves (e.g., `+`). Conventionally, most\n",
    "programmers use symbols and infix notation to express simple arithmetic.\n",
    "\n",
    "The [Python 3 Library Docs](http://docs.python.org/py3k/library/index.html)\n",
    "list the functions defined by each module, such as the [math\n",
    "module](http://docs.python.org/py3k/library/math.html). However, this\n",
    "documentation is written for developers who know the whole language well. For\n",
    "now, you may find that experimenting with a function tells you more about its\n",
    "behavior than reading the documentation. As you become familiar with the\n",
    "Python language and vocabulary, this documentation will become a valuable\n",
    "reference source.\n",
    "\n",
    "### 1.2.4 Names and the Environment\n",
    "\n",
    "**Video:** Show Hide\n",
    "\n",
    "A critical aspect of a programming language is the means it provides for using\n",
    "names to refer to computational objects. If a value has been given a name, we\n",
    "say that the name _binds_ to the value.\n",
    "\n",
    "In Python, we can establish new bindings using the assignment statement, which\n",
    "contains a name to the left of `=` and a value to the right:\n",
    "\n",
    "\n",
    "​"
   ]
  },
  {
   "cell_type": "code",
   "execution_count": null,
   "id": "e31141a9",
   "metadata": {},
   "outputs": [],
   "source": [
    ">>> radius = 10\n",
    ">>> radius\n",
    "10\n",
    ">>> 2 * radius\n",
    "20\n"
   ]
  },
  {
   "cell_type": "markdown",
   "id": "0571a088",
   "metadata": {},
   "source": [
    "Names are also bound via `import` statements.\n",
    "\n",
    "\n",
    "​"
   ]
  },
  {
   "cell_type": "code",
   "execution_count": null,
   "id": "c835f7aa",
   "metadata": {},
   "outputs": [],
   "source": [
    ">>> from math import pi\n",
    ">>> pi * 71 / 223\n",
    "1.0002380197528042\n"
   ]
  },
  {
   "cell_type": "markdown",
   "id": "2bbef70f",
   "metadata": {},
   "source": [
    "The `=` symbol is called the _assignment_ operator in Python (and many other\n",
    "languages). Assignment is our simplest means of _abstraction_ , for it allows\n",
    "us to use simple names to refer to the results of compound operations, such as\n",
    "the `area` computed above. In this way, complex programs are constructed by\n",
    "building, step by step, computational objects of increasing complexity.\n",
    "\n",
    "The possibility of binding names to values and later retrieving those values\n",
    "by name means that the interpreter must maintain some sort of memory that\n",
    "keeps track of the names, values, and bindings. This memory is called an\n",
    "_environment_.\n",
    "\n",
    "Names can also be bound to functions. For instance, the name `max` is bound to\n",
    "the max function we have been using. Functions, unlike numbers, are tricky to\n",
    "render as text, so Python prints an identifying description instead, when\n",
    "asked to describe a function:\n",
    "\n",
    "\n",
    "​"
   ]
  },
  {
   "cell_type": "code",
   "execution_count": null,
   "id": "e8594499",
   "metadata": {},
   "outputs": [],
   "source": [
    ">>> max\n",
    "<built-in function max>\n"
   ]
  },
  {
   "cell_type": "markdown",
   "id": "60aff4e0",
   "metadata": {},
   "source": [
    "We can use assignment statements to give new names to existing functions.\n",
    "\n",
    "\n",
    "​"
   ]
  },
  {
   "cell_type": "code",
   "execution_count": null,
   "id": "05810404",
   "metadata": {},
   "outputs": [],
   "source": [
    ">>> f = max\n",
    ">>> f\n",
    "<built-in function max>\n",
    ">>> f(2, 3, 4)\n",
    "4\n"
   ]
  },
  {
   "cell_type": "markdown",
   "id": "454fb59b",
   "metadata": {},
   "source": [
    "And successive assignment statements can rebind a name to a new value.\n",
    "\n",
    "\n",
    "​"
   ]
  },
  {
   "cell_type": "code",
   "execution_count": null,
   "id": "d7bca18d",
   "metadata": {},
   "outputs": [],
   "source": [
    ">>> f = 2\n",
    ">>> f\n",
    "2\n"
   ]
  },
  {
   "cell_type": "markdown",
   "id": "6d37e61b",
   "metadata": {},
   "source": [
    "In Python, names are often called _variable names_ or _variables_ because they\n",
    "can be bound to different values in the course of executing a program. When a\n",
    "name is bound to a new value through assignment, it is no longer bound to any\n",
    "previous value. One can even bind built-in names to new values.\n",
    "\n",
    "\n",
    "​"
   ]
  },
  {
   "cell_type": "code",
   "execution_count": null,
   "id": "943fae21",
   "metadata": {},
   "outputs": [],
   "source": [
    ">>> max = 5\n",
    ">>> max\n",
    "5\n"
   ]
  },
  {
   "cell_type": "markdown",
   "id": "2850afe6",
   "metadata": {},
   "source": [
    "After assigning `max` to 5, the name `max` is no longer bound to a function,\n",
    "and so attempting to call `max(2, 3, 4)` will cause an error.\n",
    "\n",
    "When executing an assignment statement, Python evaluates the expression to the\n",
    "right of `=` before changing the binding to the name on the left. Therefore,\n",
    "one can refer to a name in right-side expression, even if it is the name to be\n",
    "bound by the assignment statement.\n",
    "\n",
    "\n",
    "​"
   ]
  },
  {
   "cell_type": "code",
   "execution_count": null,
   "id": "b869747d",
   "metadata": {},
   "outputs": [],
   "source": [
    ">>> x = 2\n",
    ">>> x = x + 1\n",
    ">>> x\n",
    "3\n"
   ]
  },
  {
   "cell_type": "markdown",
   "id": "c56bd560",
   "metadata": {},
   "source": [
    "We can also assign multiple values to multiple names in a single statement,\n",
    "where names on the left of `=` and expressions on the right of `=` are\n",
    "separated by commas.\n",
    "\n",
    "\n",
    "​"
   ]
  },
  {
   "cell_type": "code",
   "execution_count": null,
   "id": "b72d2c51",
   "metadata": {},
   "outputs": [],
   "source": [
    ">>> area, circumference = pi * radius * radius, 2 * pi * radius\n",
    ">>> area\n",
    "314.1592653589793\n",
    ">>> circumference\n",
    "62.83185307179586\n"
   ]
  },
  {
   "cell_type": "markdown",
   "id": "cd3b073a",
   "metadata": {},
   "source": [
    "Changing the value of one name does not affect other names. Below, even though\n",
    "the name `area` was bound to a value defined originally in terms of `radius`,\n",
    "the value of `area` has not changed. Updating the value of `area` requires\n",
    "another assignment statement.\n",
    "\n",
    "\n",
    "​"
   ]
  },
  {
   "cell_type": "code",
   "execution_count": null,
   "id": "e005f27f",
   "metadata": {},
   "outputs": [],
   "source": [
    ">>> radius = 11\n",
    ">>> area\n",
    "314.1592653589793\n",
    ">>> area = pi * radius * radius\n",
    "380.132711084365\n"
   ]
  },
  {
   "cell_type": "markdown",
   "id": "5c2c1750",
   "metadata": {},
   "source": [
    "With multiple assignment, _all_ expressions to the right of `=` are evaluated\n",
    "before _any_ names to the left are bound to those values. As a result of this\n",
    "rule, swapping the values bound to two names can be performed in a single\n",
    "statement.\n",
    "\n",
    "\n",
    "​"
   ]
  },
  {
   "cell_type": "code",
   "execution_count": null,
   "id": "ada00491",
   "metadata": {},
   "outputs": [],
   "source": [
    ">>> x, y = 3, 4.5\n",
    ">>> y, x = x, y\n",
    ">>> x\n",
    "4.5\n",
    ">>> y\n",
    "3\n"
   ]
  },
  {
   "cell_type": "markdown",
   "id": "907fecd3",
   "metadata": {},
   "source": [
    "### 1.2.5 Evaluating Nested Expressions\n",
    "\n",
    "One of our goals in this chapter is to isolate issues about thinking\n",
    "procedurally. As a case in point, let us consider that, in evaluating nested\n",
    "call expressions, the interpreter is itself following a procedure.\n",
    "\n",
    "To evaluate a call expression, Python will do the following:"
   ]
  },
  {
   "cell_type": "code",
   "execution_count": null,
   "id": "9d7bd1f4",
   "metadata": {},
   "outputs": [],
   "source": [
    "1. Evaluate the operator and operand subexpressions, then\n",
    "2. Apply the function that is the value of the operator subexpression to the arguments that are the values of the operand subexpressions."
   ]
  },
  {
   "cell_type": "markdown",
   "id": "a319414f",
   "metadata": {},
   "source": [
    "Even this simple procedure illustrates some important points about processes\n",
    "in general. The first step dictates that in order to accomplish the evaluation\n",
    "process for a call expression we must first evaluate other expressions. Thus,\n",
    "the evaluation procedure is _recursive_ in nature; that is, it includes, as\n",
    "one of its steps, the need to invoke the rule itself.\n",
    "\n",
    "For example, evaluating\n",
    "\n",
    "\n",
    "​"
   ]
  },
  {
   "cell_type": "code",
   "execution_count": null,
   "id": "e774affd",
   "metadata": {},
   "outputs": [],
   "source": [
    ">>> sub(pow(2, add(1, 10)), pow(2, 5))\n",
    "2016\n"
   ]
  },
  {
   "cell_type": "markdown",
   "id": "a762a931",
   "metadata": {},
   "source": [
    "requires that this evaluation procedure be applied four times. If we draw each\n",
    "expression that we evaluate, we can visualize the hierarchical structure of\n",
    "this process.\n",
    "\n",
    "![](http://www.composingprograms.com/img/expression_tree.png)\n",
    "\n",
    "This illustration is called an _expression tree_. In computer science, trees\n",
    "conventionally grow from the top down. The objects at each point in a tree are\n",
    "called nodes; in this case, they are expressions paired with their values.\n",
    "\n",
    "Evaluating its root, the full expression at the top, requires first evaluating\n",
    "the branches that are its subexpressions. The leaf expressions (that is, nodes\n",
    "with no branches stemming from them) represent either functions or numbers.\n",
    "The interior nodes have two parts: the call expression to which our evaluation\n",
    "rule is applied, and the result of that expression. Viewing evaluation in\n",
    "terms of this tree, we can imagine that the values of the operands percolate\n",
    "upward, starting from the terminal nodes and then combining at higher and\n",
    "higher levels.\n",
    "\n",
    "Next, observe that the repeated application of the first step brings us to the\n",
    "point where we need to evaluate, not call expressions, but primitive\n",
    "expressions such as numerals (e.g., 2) and names (e.g., `add`). We take care\n",
    "of the primitive cases by stipulating that\n",
    "\n",
    "  * A numeral evaluates to the number it names,\n",
    "  * A name evaluates to the value associated with that name in the current environment.\n",
    "\n",
    "Notice the important role of an environment in determining the meaning of the\n",
    "symbols in expressions. In Python, it is meaningless to speak of the value of\n",
    "an expression such as\n",
    "\n",
    "\n",
    "​"
   ]
  },
  {
   "cell_type": "code",
   "execution_count": null,
   "id": "739f5faf",
   "metadata": {},
   "outputs": [],
   "source": [
    ">>> add(x, 1)\n"
   ]
  },
  {
   "cell_type": "markdown",
   "id": "3745d322",
   "metadata": {},
   "source": [
    "without specifying any information about the environment that would provide a\n",
    "meaning for the name `x` (or even for the name `add`). Environments provide\n",
    "the context in which evaluation takes place, which plays an important role in\n",
    "our understanding of program execution.\n",
    "\n",
    "This evaluation procedure does not suffice to evaluate all Python code, only\n",
    "call expressions, numerals, and names. For instance, it does not handle\n",
    "assignment statements. Executing\n",
    "\n",
    "\n",
    "​"
   ]
  },
  {
   "cell_type": "code",
   "execution_count": null,
   "id": "3637994d",
   "metadata": {},
   "outputs": [],
   "source": [
    ">>> x = 3\n"
   ]
  },
  {
   "cell_type": "markdown",
   "id": "e733c00b",
   "metadata": {},
   "source": [
    "does not return a value nor evaluate a function on some arguments, since the\n",
    "purpose of assignment is instead to bind a name to a value. In general,\n",
    "statements are not evaluated but _executed_ ; they do not produce a value but\n",
    "instead make some change. Each type of expression or statement has its own\n",
    "evaluation or execution procedure.\n",
    "\n",
    "A pedantic note: when we say that \"a numeral evaluates to a number,\" we\n",
    "actually mean that the Python interpreter evaluates a numeral to a number. It\n",
    "is the interpreter which endows meaning to the programming language. Given\n",
    "that the interpreter is a fixed program that always behaves consistently, we\n",
    "can say that numerals (and expressions) themselves evaluate to values in the\n",
    "context of Python programs.\n",
    "\n",
    "### 1.2.6 The Non-Pure Print Function\n",
    "\n",
    "**Video:** Show Hide\n",
    "\n",
    "Throughout this text, we will distinguish between two types of functions.\n",
    "\n",
    "**Pure functions.** Functions have some input (their arguments) and return\n",
    "some output (the result of applying them). The built-in function\n",
    "\n",
    "\n",
    "​"
   ]
  },
  {
   "cell_type": "code",
   "execution_count": null,
   "id": "963d7b4c",
   "metadata": {},
   "outputs": [],
   "source": [
    ">>> abs(-2)\n",
    "2\n"
   ]
  },
  {
   "cell_type": "markdown",
   "id": "f1ec24c4",
   "metadata": {},
   "source": [
    "can be depicted as a small machine that takes input and produces output.\n",
    "\n",
    "![](http://www.composingprograms.com/img/function_abs.png)\n",
    "\n",
    "The function `abs` is _pure_. Pure functions have the property that applying\n",
    "them has no effects beyond returning a value. Moreover, a pure function must\n",
    "always return the same value when called twice with the same arguments.\n",
    "\n",
    "**Non-pure functions.** In addition to returning a value, applying a non-pure\n",
    "function can generate _side effects_ , which make some change to the state of\n",
    "the interpreter or computer. A common side effect is to generate additional\n",
    "output beyond the return value, using the `print` function.\n",
    "\n",
    "\n",
    "​"
   ]
  },
  {
   "cell_type": "code",
   "execution_count": null,
   "id": "af1e08bd",
   "metadata": {},
   "outputs": [],
   "source": [
    ">>> print(1, 2, 3)\n",
    "1 2 3\n"
   ]
  },
  {
   "cell_type": "markdown",
   "id": "2f20e403",
   "metadata": {},
   "source": [
    "While `print` and `abs` may appear to be similar in these examples, they work\n",
    "in fundamentally different ways. The value that `print` returns is always\n",
    "`None`, a special Python value that represents nothing. The interactive Python\n",
    "interpreter does not automatically print the value `None`. In the case of\n",
    "`print`, the function itself is printing output as a side effect of being\n",
    "called.\n",
    "\n",
    "![](http://www.composingprograms.com/img/function_print.png)\n",
    "\n",
    "A nested expression of calls to `print` highlights the non-pure character of\n",
    "the function.\n",
    "\n",
    "\n",
    "​"
   ]
  },
  {
   "cell_type": "code",
   "execution_count": null,
   "id": "df4c52d1",
   "metadata": {},
   "outputs": [],
   "source": [
    ">>> print(print(1), print(2))\n",
    "1\n",
    "2\n",
    "None None\n"
   ]
  },
  {
   "cell_type": "markdown",
   "id": "85de26be",
   "metadata": {},
   "source": [
    "If you find this output to be unexpected, draw an expression tree to clarify\n",
    "why evaluating this expression produces this peculiar output.\n",
    "\n",
    "Be careful with `print`! The fact that it returns `None` means that it _should\n",
    "not_ be the expression in an assignment statement.\n",
    "\n",
    "\n",
    "​"
   ]
  },
  {
   "cell_type": "code",
   "execution_count": null,
   "id": "9a3caeac",
   "metadata": {},
   "outputs": [],
   "source": [
    ">>> two = print(2)\n",
    "2\n",
    ">>> print(two)\n",
    "None\n"
   ]
  },
  {
   "cell_type": "markdown",
   "id": "4e0d11fa",
   "metadata": {},
   "source": [
    "Pure functions are restricted in that they cannot have side effects or change\n",
    "behavior over time. Imposing these restrictions yields substantial benefits.\n",
    "First, pure functions can be composed more reliably into compound call\n",
    "expressions. We can see in the non-pure function example above that `print`\n",
    "does not return a useful result when used in an operand expression. On the\n",
    "other hand, we have seen that functions such as `max`, `pow` and `sqrt` can be\n",
    "used effectively in nested expressions.\n",
    "\n",
    "Second, pure functions tend to be simpler to test. A list of arguments will\n",
    "always lead to the same return value, which can be compared to the expected\n",
    "return value. Testing is discussed in more detail later in this chapter.\n",
    "\n",
    "Third, Chapter 4 will illustrate that pure functions are essential for writing\n",
    "_concurrent_ programs, in which multiple call expressions may be evaluated\n",
    "simultaneously.\n",
    "\n",
    "By contrast, Chapter 2 investigates a range of non-pure functions and\n",
    "describes their uses.\n",
    "\n",
    "For these reasons, we concentrate heavily on creating and using pure functions\n",
    "in the remainder of this chapter. The `print` function is only used so that we\n",
    "can see the intermediate results of computations.\n",
    "\n",
    "_Continue_ : [ 1.3 Defining New Functions ](../pages/13-defining-new-\n",
    "functions.html)\n",
    "\n",
    "## 1.3 Defining New Functions\n",
    "\n",
    "**Video:** Show Hide\n",
    "\n",
    "We have identified in Python some of the elements that must appear in any\n",
    "powerful programming language:"
   ]
  },
  {
   "cell_type": "code",
   "execution_count": null,
   "id": "58af1a8d",
   "metadata": {},
   "outputs": [],
   "source": [
    "1. Numbers and arithmetic operations are _primitive_ built-in data values and functions.\n",
    "2. Nested function application provides a means of _combining_ operations.\n",
    "3. Binding names to values provides a limited means of _abstraction_."
   ]
  },
  {
   "cell_type": "markdown",
   "id": "22382096",
   "metadata": {},
   "source": [
    "Now we will learn about _function definitions_ , a much more powerful\n",
    "abstraction technique by which a name can be bound to compound operation,\n",
    "which can then be referred to as a unit.\n",
    "\n",
    "We begin by examining how to express the idea of _squaring_. We might say, \"To\n",
    "square something, multiply it by itself.\" This is expressed in Python as\n",
    "\n",
    "\n",
    "​"
   ]
  },
  {
   "cell_type": "code",
   "execution_count": null,
   "id": "c16b3302",
   "metadata": {},
   "outputs": [],
   "source": [
    ">>> def square(x):\n",
    "        return mul(x, x)\n"
   ]
  },
  {
   "cell_type": "markdown",
   "id": "e5283c55",
   "metadata": {},
   "source": [
    "which defines a new function that has been given the name `square`. This user-\n",
    "defined function is not built into the interpreter. It represents the compound\n",
    "operation of multiplying something by itself. The `x` in this definition is\n",
    "called a _formal parameter_ , which provides a name for the thing to be\n",
    "multiplied. The definition creates this user-defined function and associates\n",
    "it with the name `square`.\n",
    "\n",
    "**How to define a function.** Function definitions consist of a `def`\n",
    "statement that indicates a `<name>` and a comma-separated list of named\n",
    "`<formal parameters>`, then a `return` statement, called the function body,\n",
    "that specifies the `<return expression>` of the function, which is an\n",
    "expression to be evaluated whenever the function is applied:\n",
    "\n",
    "\n",
    "​"
   ]
  },
  {
   "cell_type": "code",
   "execution_count": null,
   "id": "9a75257b",
   "metadata": {},
   "outputs": [],
   "source": [
    "def <name>(<formal parameters>):\n",
    "    return <return expression>\n"
   ]
  },
  {
   "cell_type": "markdown",
   "id": "a0a37713",
   "metadata": {},
   "source": [
    "The second line _must_ be indented  most programmers use four spaces to\n",
    "indent. The return expression is not evaluated right away; it is stored as\n",
    "part of the newly defined function and evaluated only when the function is\n",
    "eventually applied.\n",
    "\n",
    "Having defined `square`, we can apply it with a call expression:\n",
    "\n",
    "\n",
    "​"
   ]
  },
  {
   "cell_type": "code",
   "execution_count": null,
   "id": "6e561a01",
   "metadata": {},
   "outputs": [],
   "source": [
    ">>> square(21)\n",
    "441\n",
    ">>> square(add(2, 5))\n",
    "49\n",
    ">>> square(square(3))\n",
    "81\n"
   ]
  },
  {
   "cell_type": "markdown",
   "id": "073395b8",
   "metadata": {},
   "source": [
    "We can also use `square` as a building block in defining other functions. For\n",
    "example, we can easily define a function `sum_squares` that, given any two\n",
    "numbers as arguments, returns the sum of their squares:\n",
    "\n",
    "\n",
    "​"
   ]
  },
  {
   "cell_type": "code",
   "execution_count": null,
   "id": "5f85b343",
   "metadata": {},
   "outputs": [],
   "source": [
    ">>> def sum_squares(x, y):\n",
    "        return add(square(x), square(y))\n"
   ]
  },
  {
   "cell_type": "markdown",
   "id": "afdef187",
   "metadata": {},
   "source": [
    "​    \n",
    "​"
   ]
  },
  {
   "cell_type": "code",
   "execution_count": null,
   "id": "744220cb",
   "metadata": {},
   "outputs": [],
   "source": [
    ">>> sum_squares(3, 4)\n",
    "25\n"
   ]
  },
  {
   "cell_type": "markdown",
   "id": "62f32c80",
   "metadata": {},
   "source": [
    "User-defined functions are used in exactly the same way as built-in functions.\n",
    "Indeed, one cannot tell from the definition of `sum_squares` whether `square`\n",
    "is built into the interpreter, imported from a module, or defined by the user.\n",
    "\n",
    "Both `def` statements and assignment statements bind names to values, and any\n",
    "existing bindings are lost. For example, `g` below first refers to a function\n",
    "of no arguments, then a number, and then a different function of two\n",
    "arguments.\n",
    "\n",
    "\n",
    "​"
   ]
  },
  {
   "cell_type": "code",
   "execution_count": null,
   "id": "d835f145",
   "metadata": {},
   "outputs": [],
   "source": [
    ">>> def g():\n",
    "        return 1\n",
    ">>> g()\n",
    "1\n",
    ">>> g = 2\n",
    ">>> g\n",
    "2\n",
    ">>> def g(h, i):\n",
    "        return h + i\n",
    ">>> g(1, 2)\n",
    "3\n"
   ]
  },
  {
   "cell_type": "markdown",
   "id": "b658a5c9",
   "metadata": {},
   "source": [
    "### 1.3.1 Environments\n",
    "\n",
    "**Video:** Show Hide\n",
    "\n",
    "Our subset of Python is now complex enough that the meaning of programs is\n",
    "non-obvious. What if a formal parameter has the same name as a built-in\n",
    "function? Can two functions share names without confusion? To resolve such\n",
    "questions, we must describe environments in more detail.\n",
    "\n",
    "An environment in which an expression is evaluated consists of a sequence of\n",
    "_frames_ , depicted as boxes. Each frame contains _bindings_ , each of which\n",
    "associates a name with its corresponding value. There is a single _global_\n",
    "frame. Assignment and import statements add entries to the first frame of the\n",
    "current environment. So far, our environment consists only of the global\n",
    "frame.\n",
    "\n",
    "from math import pi tau = 2 * pi\n",
    "\n",
    "This _environment diagram_ shows the bindings of the current environment,\n",
    "along with the values to which names are bound. The environment diagrams in\n",
    "this text are interactive: you can step through the lines of the small program\n",
    "on the left to see the state of the environment evolve on the right. You can\n",
    "also click on the \"Edit code in Online Python Tutor\" link to load the example\n",
    "into the [Online Python Tutor](http://composingprograms.com/tutor.html), a\n",
    "tool created by [Philip Guo](http://www.pgbovine.net/) for generating these\n",
    "environment diagrams. You are encouraged to create examples yourself and study\n",
    "the resulting environment diagrams.\n",
    "\n",
    "Functions appear in environment diagrams as well. An `import` statement binds\n",
    "a name to a built-in function. A `def` statement binds a name to a user-\n",
    "defined function created by the definition. The resulting environment after\n",
    "importing `mul` and defining `square` appears below:\n",
    "\n",
    "from operator import mul def square(x): return mul(x, x)\n",
    "\n",
    "Each function is a line that starts with `func`, followed by the function name\n",
    "and formal parameters. Built-in functions such as `mul` do not have formal\n",
    "parameter names, and so `...` is always used instead.\n",
    "\n",
    "The name of a function is repeated twice, once in the frame and again as part\n",
    "of the function itself. The name appearing in the function is called the\n",
    "_intrinsic name_. The name in a frame is a _bound name_. There is a difference\n",
    "between the two: different names may refer to the same function, but that\n",
    "function itself has only one intrinsic name.\n",
    "\n",
    "The name bound to a function in a frame is the one used during evaluation. The\n",
    "intrinsic name of a function does not play a role in evaluation. Step through\n",
    "the example below using the _Forward_ button to see that once the name `max`\n",
    "is bound to the value 3, it can no longer be used as a function.\n",
    "\n",
    "f = max max = 3 result = f(2, 3, 4) max(1, 2) # Causes an error\n",
    "\n",
    "The error message `TypeError: 'int' object is not callable` is reporting that\n",
    "the name `max` (currently bound to the number 3) is an integer and not a\n",
    "function. Therefore, it cannot be used as the operator in a call expression.\n",
    "\n",
    "**Function Signatures.** Functions differ in the number of arguments that they\n",
    "are allowed to take. To track these requirements, we draw each function in a\n",
    "way that shows the function name and its formal parameters. The user-defined\n",
    "function `square` takes only `x`; providing more or fewer arguments will\n",
    "result in an error. A description of the formal parameters of a function is\n",
    "called the function's signature.\n",
    "\n",
    "The function `max` can take an arbitrary number of arguments. It is rendered\n",
    "as `max(...)`. Regardless of the number of arguments taken, all built-in\n",
    "functions will be rendered as `<name>(...)`, because these primitive functions\n",
    "were never explicitly defined.\n",
    "\n",
    "### 1.3.2 Calling User-Defined Functions\n",
    "\n",
    "To evaluate a call expression whose operator names a user-defined function,\n",
    "the Python interpreter follows a computational process. As with any call\n",
    "expression, the interpreter evaluates the operator and operand expressions,\n",
    "and then applies the named function to the resulting arguments.\n",
    "\n",
    "Applying a user-defined function introduces a second _local_ frame, which is\n",
    "only accessible to that function. To apply a user-defined function to some\n",
    "arguments:"
   ]
  },
  {
   "cell_type": "code",
   "execution_count": null,
   "id": "5c7bc57d",
   "metadata": {},
   "outputs": [],
   "source": [
    "1. Bind the arguments to the names of the function's formal parameters in a new _local_ frame.\n",
    "2. Execute the body of the function in the environment that starts with this frame."
   ]
  },
  {
   "cell_type": "markdown",
   "id": "4bf9ba27",
   "metadata": {},
   "source": [
    "The environment in which the body is evaluated consists of two frames: first\n",
    "the local frame that contains formal parameter bindings, then the global frame\n",
    "that contains everything else. Each instance of a function application has its\n",
    "own independent local frame.\n",
    "\n",
    "To illustrate an example in detail, several steps of the environment diagram\n",
    "for the same example are depicted below. After executing the first import\n",
    "statement, only the name `mul` is bound in the global frame.\n",
    "\n",
    "from operator import mul def square(x): return mul(x, x) square(-2)\n",
    "\n",
    "First, the definition statement for the function `square` is executed. Notice\n",
    "that the entire `def` statement is processed in a single step. The body of a\n",
    "function is not executed until the function is called (not when it is\n",
    "defined).\n",
    "\n",
    "from operator import mul def square(x): return mul(x, x) square(-2)\n",
    "\n",
    "Next, The `square` function is called with the argument `-2`, and so a new\n",
    "frame is created with the formal parameter `x` bound to the value `-2`.\n",
    "\n",
    "from operator import mul def square(x): return mul(x, x) square(-2)\n",
    "\n",
    "Then, the name `x` is looked up in the current environment, which consists of\n",
    "the two frames shown. In both occurrences, `x` evaluates to `-2`, and so the\n",
    "`square` function returns 4.\n",
    "\n",
    "from operator import mul def square(x): return mul(x, x) square(-2)\n",
    "\n",
    "The \"Return value\" in the `square()` frame is not a name binding; instead it\n",
    "indicates the value returned by the function call that created the frame.\n",
    "\n",
    "Even in this simple example, two different environments are used. The top-\n",
    "level expression `square(-2)` is evaluated in the global environment, while\n",
    "the return expression `mul(x, x)` is evaluated in the environment created for\n",
    "by calling `square`. Both `x` and `mul` are bound in this environment, but in\n",
    "different frames.\n",
    "\n",
    "The order of frames in an environment affects the value returned by looking up\n",
    "a name in an expression. We stated previously that a name is evaluated to the\n",
    "value associated with that name in the current environment. We can now be more\n",
    "precise:\n",
    "\n",
    "**Name Evaluation.** A name evaluates to the value bound to that name in the\n",
    "earliest frame of the current environment in which that name is found.\n",
    "\n",
    "Our conceptual framework of environments, names, and functions constitutes a\n",
    "_model of evaluation_ ; while some mechanical details are still unspecified\n",
    "(e.g., how a binding is implemented), our model does precisely and correctly\n",
    "describe how the interpreter evaluates call expressions. In Chapter 3 we will\n",
    "see how this model can serve as a blueprint for implementing a working\n",
    "interpreter for a programming language.\n",
    "\n",
    "### 1.3.3 Example: Calling a User-Defined Function\n",
    "\n",
    "Let us again consider our two simple function definitions and illustrate the\n",
    "process that evaluates a call expression for a user-defined function.\n",
    "\n",
    "from operator import add, mul def square(x): return mul(x, x) def\n",
    "sum_squares(x, y): return add(square(x), square(y)) result = sum_squares(5,\n",
    "12)\n",
    "\n",
    "Python first evaluates the name `sum_squares`, which is bound to a user-\n",
    "defined function in the global frame. The primitive numeric expressions 5 and\n",
    "12 evaluate to the numbers they represent.\n",
    "\n",
    "Next, Python applies `sum_squares`, which introduces a local frame that binds\n",
    "x to 5 and y to 12.\n",
    "\n",
    "from operator import add, mul def square(x): return mul(x, x) def\n",
    "sum_squares(x, y): return add(square(x), square(y)) result = sum_squares(5,\n",
    "12)\n",
    "\n",
    "The body of `sum_squares` contains this call expression:\n",
    "\n",
    "\n",
    "​"
   ]
  },
  {
   "cell_type": "code",
   "execution_count": null,
   "id": "2b1cd064",
   "metadata": {},
   "outputs": [],
   "source": [
    "add     (  square(x)  ,  square(y)  )\n",
    "    ________     _________     _________\n",
    "    operator     operand 0     operand 1\n"
   ]
  },
  {
   "cell_type": "markdown",
   "id": "2b2e6e4a",
   "metadata": {},
   "source": [
    "All three subexpressions are evaluated in the current environment, which\n",
    "begins with the frame labeled `sum_squares()`. The operator subexpression\n",
    "`add` is a name found in the global frame, bound to the built-in function for\n",
    "addition. The two operand subexpressions must be evaluated in turn, before\n",
    "addition is applied. Both operands are evaluated in the current environment\n",
    "beginning with the frame labeled `sum_squares`.\n",
    "\n",
    "In `operand 0`, `square` names a user-defined function in the global frame,\n",
    "while `x` names the number 5 in the local frame. Python applies `square` to 5\n",
    "by introducing yet another local frame that binds x to 5.\n",
    "\n",
    "from operator import add, mul def square(x): return mul(x, x) def\n",
    "sum_squares(x, y): return add(square(x), square(y)) result = sum_squares(5,\n",
    "12)\n",
    "\n",
    "Using this environment, the expression `mul(x, x)` evaluates to 25.\n",
    "\n",
    "Our evaluation procedure now turns to `operand 1`, for which `y` names the\n",
    "number 12. Python evaluates the body of `square` again, this time introducing\n",
    "yet another local frame that binds `x` to 12. Hence, `operand 1` evaluates to\n",
    "144.\n",
    "\n",
    "from operator import add, mul def square(x): return mul(x, x) def\n",
    "sum_squares(x, y): return add(square(x), square(y)) result = sum_squares(5,\n",
    "12)\n",
    "\n",
    "Finally, applying addition to the arguments 25 and 144 yields a final return\n",
    "value for `sum_squares`: 169.\n",
    "\n",
    "from operator import add, mul def square(x): return mul(x, x) def\n",
    "sum_squares(x, y): return add(square(x), square(y)) result = sum_squares(5,\n",
    "12)\n",
    "\n",
    "This example illustrates many of the fundamental ideas we have developed so\n",
    "far. Names are bound to values, which are distributed across many independent\n",
    "local frames, along with a single global frame that contains shared names. A\n",
    "new local frame is introduced every time a function is called, even if the\n",
    "same function is called twice.\n",
    "\n",
    "All of this machinery exists to ensure that names resolve to the correct\n",
    "values at the correct times during program execution. This example illustrates\n",
    "why our model requires the complexity that we have introduced. All three local\n",
    "frames contain a binding for the name `x`, but that name is bound to different\n",
    "values in different frames. Local frames keep these names separate.\n",
    "\n",
    "### 1.3.4 Local Names\n",
    "\n",
    "One detail of a function's implementation that should not affect the\n",
    "function's behavior is the implementer's choice of names for the function's\n",
    "formal parameters. Thus, the following functions should provide the same\n",
    "behavior:\n",
    "\n",
    "\n",
    "​"
   ]
  },
  {
   "cell_type": "code",
   "execution_count": null,
   "id": "8869771b",
   "metadata": {},
   "outputs": [],
   "source": [
    ">>> def square(x):\n",
    "        return mul(x, x)\n",
    ">>> def square(y):\n",
    "        return mul(y, y)\n"
   ]
  },
  {
   "cell_type": "markdown",
   "id": "256be729",
   "metadata": {},
   "source": [
    "This principle -- that the meaning of a function should be independent of the\n",
    "parameter names chosen by its author -- has important consequences for\n",
    "programming languages. The simplest consequence is that the parameter names of\n",
    "a function must remain local to the body of the function.\n",
    "\n",
    "If the parameters were not local to the bodies of their respective functions,\n",
    "then the parameter `x` in `square` could be confused with the parameter `x` in\n",
    "`sum_squares`. Critically, this is not the case: the binding for `x` in\n",
    "different local frames are unrelated. The model of computation is carefully\n",
    "designed to ensure this independence.\n",
    "\n",
    "We say that the _scope_ of a local name is limited to the body of the user-\n",
    "defined function that defines it. When a name is no longer accessible, it is\n",
    "out of scope. This scoping behavior isn't a new fact about our model; it is a\n",
    "consequence of the way environments work.\n",
    "\n",
    "### 1.3.5 Choosing Names\n",
    "\n",
    "The interchangeability of names does not imply that formal parameter names do\n",
    "not matter at all. On the contrary, well-chosen function and parameter names\n",
    "are essential for the human interpretability of function definitions!\n",
    "\n",
    "The following guidelines are adapted from the [style guide for Python\n",
    "code](http://www.python.org/dev/peps/pep-0008), which serves as a guide for\n",
    "all (non-rebellious) Python programmers. A shared set of conventions smooths\n",
    "communication among members of a developer community. As a side effect of\n",
    "following these conventions, you will find that your code becomes more\n",
    "internally consistent."
   ]
  },
  {
   "cell_type": "code",
   "execution_count": null,
   "id": "79957d53",
   "metadata": {},
   "outputs": [],
   "source": [
    "1. Function names are lowercase, with words separated by underscores. Descriptive names are encouraged.\n",
    "2. Function names typically evoke operations applied to arguments by the interpreter (e.g., `print`, `add`, `square`) or the name of the quantity that results (e.g., `max`, `abs`, `sum`).\n",
    "3. Parameter names are lowercase, with words separated by underscores. Single-word names are preferred.\n",
    "4. Parameter names should evoke the role of the parameter in the function, not just the kind of argument that is allowed.\n",
    "5. Single letter parameter names are acceptable when their role is obvious, but avoid \"l\" (lowercase ell), \"O\" (capital oh), or \"I\" (capital i) to avoid confusion with numerals."
   ]
  },
  {
   "cell_type": "markdown",
   "id": "126fe159",
   "metadata": {},
   "source": [
    "There are many exceptions to these guidelines, even in the Python standard\n",
    "library. Like the vocabulary of the English language, Python has inherited\n",
    "words from a variety of contributors, and the result is not always consistent.\n",
    "\n",
    "### 1.3.6 Functions as Abstractions\n",
    "\n",
    "Though it is very simple, `sum_squares` exemplifies the most powerful property\n",
    "of user-defined functions. The function `sum_squares` is defined in terms of\n",
    "the function `square`, but relies only on the relationship that `square`\n",
    "defines between its input arguments and its output values.\n",
    "\n",
    "We can write `sum_squares` without concerning ourselves with _how_ to square a\n",
    "number. The details of how the square is computed can be suppressed, to be\n",
    "considered at a later time. Indeed, as far as `sum_squares` is concerned,\n",
    "`square` is not a particular function body, but rather an abstraction of a\n",
    "function, a so-called functional abstraction. At this level of abstraction,\n",
    "any function that computes the square is equally good.\n",
    "\n",
    "Thus, considering only the values they return, the following two functions for\n",
    "squaring a number should be indistinguishable. Each takes a numerical argument\n",
    "and produces the square of that number as the value.\n",
    "\n",
    "\n",
    "​"
   ]
  },
  {
   "cell_type": "code",
   "execution_count": null,
   "id": "e643e9e1",
   "metadata": {},
   "outputs": [],
   "source": [
    ">>> def square(x):\n",
    "        return mul(x, x)\n",
    ">>> def square(x):\n",
    "        return mul(x, x-1) + x\n"
   ]
  },
  {
   "cell_type": "markdown",
   "id": "d77e9f05",
   "metadata": {},
   "source": [
    "In other words, a function definition should be able to suppress details. The\n",
    "users of the function may not have written the function themselves, but may\n",
    "have obtained it from another programmer as a \"black box\". A programmer should\n",
    "not need to know how the function is implemented in order to use it. The\n",
    "Python Library has this property. Many developers use the functions defined\n",
    "there, but few ever inspect their implementation.\n",
    "\n",
    "**Aspects of a functional abstraction.** To master the use of a functional\n",
    "abstraction, it is often useful to consider its three core attributes. The\n",
    "_domain_ of a function is the set of arguments it can take. The _range_ of a\n",
    "function is the set of values it can return. The _intent_ of a function is the\n",
    "relationship it computes between inputs and output (as well as any side\n",
    "effects it might generate). Understanding functional abstractions via their\n",
    "domain, range, and intent is critical to using them correctly in a complex\n",
    "program.\n",
    "\n",
    "For example, any `square` function that we use to implement `sum_squares`\n",
    "should have these attributes:\n",
    "\n",
    "  * The _domain_ is any single real number.\n",
    "  * The _range_ is any non-negative real number.\n",
    "  * The _intent_ is that the output is the square of the input.\n",
    "\n",
    "These attributes do not specify how the intent is carried out; that detail is\n",
    "abstracted away.\n",
    "\n",
    "### 1.3.7 Operators\n",
    "\n",
    "**Video:** Show Hide\n",
    "\n",
    "Mathematical operators (such as `+` and `-`) provided our first example of a\n",
    "method of combination, but we have yet to define an evaluation procedure for\n",
    "expressions that contain these operators.\n",
    "\n",
    "Python expressions with infix operators each have their own evaluation\n",
    "procedures, but you can often think of them as short-hand for call\n",
    "expressions. When you see\n",
    "\n",
    "\n",
    "​"
   ]
  },
  {
   "cell_type": "code",
   "execution_count": null,
   "id": "bb91ae26",
   "metadata": {},
   "outputs": [],
   "source": [
    ">>> 2 + 3\n",
    "5\n"
   ]
  },
  {
   "cell_type": "markdown",
   "id": "f33efec8",
   "metadata": {},
   "source": [
    "simply consider it to be short-hand for\n",
    "\n",
    "\n",
    "​"
   ]
  },
  {
   "cell_type": "code",
   "execution_count": null,
   "id": "7cdc31de",
   "metadata": {},
   "outputs": [],
   "source": [
    ">>> add(2, 3)\n",
    "5\n"
   ]
  },
  {
   "cell_type": "markdown",
   "id": "5448f834",
   "metadata": {},
   "source": [
    "Infix notation can be nested, just like call expressions. Python applies the\n",
    "normal mathematical rules of operator precedence, which dictate how to\n",
    "interpret a compound expression with multiple operators.\n",
    "\n",
    "\n",
    "​"
   ]
  },
  {
   "cell_type": "code",
   "execution_count": null,
   "id": "16196999",
   "metadata": {},
   "outputs": [],
   "source": [
    ">>> 2 + 3 * 4 + 5\n",
    "19\n"
   ]
  },
  {
   "cell_type": "markdown",
   "id": "ed0dafbd",
   "metadata": {},
   "source": [
    "evaluates to the same result as\n",
    "\n",
    "\n",
    "​"
   ]
  },
  {
   "cell_type": "code",
   "execution_count": null,
   "id": "0bc57cab",
   "metadata": {},
   "outputs": [],
   "source": [
    ">>> add(add(2, mul(3, 4)), 5)\n",
    "19\n"
   ]
  },
  {
   "cell_type": "markdown",
   "id": "f21a6d53",
   "metadata": {},
   "source": [
    "The nesting in the call expression is more explicit than the operator version,\n",
    "but also harder to read. Python also allows subexpression grouping with\n",
    "parentheses, to override the normal precedence rules or make the nested\n",
    "structure of an expression more explicit.\n",
    "\n",
    "\n",
    "​"
   ]
  },
  {
   "cell_type": "code",
   "execution_count": null,
   "id": "99a1e08a",
   "metadata": {},
   "outputs": [],
   "source": [
    ">>> (2 + 3) * (4 + 5)\n",
    "45\n"
   ]
  },
  {
   "cell_type": "markdown",
   "id": "4cc9a768",
   "metadata": {},
   "source": [
    "evaluates to the same result as\n",
    "\n",
    "\n",
    "​"
   ]
  },
  {
   "cell_type": "code",
   "execution_count": null,
   "id": "64fb0461",
   "metadata": {},
   "outputs": [],
   "source": [
    ">>> mul(add(2, 3), add(4, 5))\n",
    "45\n"
   ]
  },
  {
   "cell_type": "markdown",
   "id": "001109d5",
   "metadata": {},
   "source": [
    "When it comes to division, Python provides two infix operators: `/` and `//`.\n",
    "The former is normal division, so that it results in a _floating point_ , or\n",
    "decimal value, even if the divisor evenly divides the dividend:\n",
    "\n",
    "\n",
    "​"
   ]
  },
  {
   "cell_type": "code",
   "execution_count": null,
   "id": "04caeb44",
   "metadata": {},
   "outputs": [],
   "source": [
    ">>> 5 / 4\n",
    "1.25\n",
    ">>> 8 / 4\n",
    "2.0\n"
   ]
  },
  {
   "cell_type": "markdown",
   "id": "ad16c397",
   "metadata": {},
   "source": [
    "The `//` operator, on the other hand, rounds the result down to an integer:\n",
    "\n",
    "\n",
    "​"
   ]
  },
  {
   "cell_type": "code",
   "execution_count": null,
   "id": "79003596",
   "metadata": {},
   "outputs": [],
   "source": [
    ">>> 5 // 4\n",
    "1\n",
    ">>> -5 // 4\n",
    "-2\n"
   ]
  },
  {
   "cell_type": "markdown",
   "id": "36cee5e0",
   "metadata": {},
   "source": [
    "These two operators are shorthand for the `truediv` and `floordiv` functions.\n",
    "\n",
    "\n",
    "​"
   ]
  },
  {
   "cell_type": "code",
   "execution_count": null,
   "id": "e0fe8af3",
   "metadata": {},
   "outputs": [],
   "source": [
    ">>> from operator import truediv, floordiv\n",
    ">>> truediv(5, 4)\n",
    "1.25\n",
    ">>> floordiv(5, 4)\n",
    "1\n"
   ]
  },
  {
   "cell_type": "markdown",
   "id": "1e3d3289",
   "metadata": {},
   "source": [
    "You should feel free to use infix operators and parentheses in your programs.\n",
    "Idiomatic Python prefers operators over call expressions for simple\n",
    "mathematical operations.\n",
    "\n",
    "_Continue_ : [ 1.4 Designing Functions ](../pages/14-designing-functions.html)\n",
    "\n",
    "## 1.4 Designing Functions\n",
    "\n",
    "**Video:** Show Hide\n",
    "\n",
    "Functions are an essential ingredient of all programs, large and small, and\n",
    "serve as our primary medium to express computational processes in a\n",
    "programming language. So far, we have discussed the formal properties of\n",
    "functions and how they are applied. We now turn to the topic of what makes a\n",
    "good function. Fundamentally, the qualities of good functions all reinforce\n",
    "the idea that functions are abstractions.\n",
    "\n",
    "  * Each function should have exactly one job. That job should be identifiable with a short name and characterizable in a single line of text. Functions that perform multiple jobs in sequence should be divided into multiple functions.\n",
    "  * _Don't repeat yourself_ is a central tenet of software engineering. The so-called DRY principle states that multiple fragments of code should not describe redundant logic. Instead, that logic should be implemented once, given a name, and applied multiple times. If you find yourself copying and pasting a block of code, you have probably found an opportunity for functional abstraction.\n",
    "  * Functions should be defined generally. Squaring is not in the Python Library precisely because it is a special case of the `pow` function, which raises numbers to arbitrary powers.\n",
    "\n",
    "These guidelines improve the readability of code, reduce the number of errors,\n",
    "and often minimize the total amount of code written. Decomposing a complex\n",
    "task into concise functions is a skill that takes experience to master.\n",
    "Fortunately, Python provides several features to support your efforts.\n",
    "\n",
    "### 1.4.1 Documentation\n",
    "\n",
    "A function definition will often include documentation describing the\n",
    "function, called a _docstring_ , which must be indented along with the\n",
    "function body. Docstrings are conventionally triple quoted. The first line\n",
    "describes the job of the function in one line. The following lines can\n",
    "describe arguments and clarify the behavior of the function:\n",
    "\n",
    "\n",
    "​"
   ]
  },
  {
   "cell_type": "code",
   "execution_count": null,
   "id": "08f97c26",
   "metadata": {},
   "outputs": [],
   "source": [
    ">>> def pressure(v, t, n):\n",
    "        \"\"\"Compute the pressure in pascals of an ideal gas.\n",
    "\n",
    "        Applies the ideal gas law: http://en.wikipedia.org/wiki/Ideal_gas_law\n",
    "\n",
    "        v -- volume of gas, in cubic meters\n",
    "        t -- absolute temperature in degrees kelvin\n",
    "        n -- particles of gas\n",
    "        \"\"\"\n",
    "        k = 1.38e-23  # Boltzmann's constant\n",
    "        return n * k * t / v\n"
   ]
  },
  {
   "cell_type": "markdown",
   "id": "08f09cda",
   "metadata": {},
   "source": [
    "When you call `help` with the name of a function as an argument, you see its\n",
    "docstring (type `q` to quit Python help).\n",
    "\n",
    "\n",
    "​"
   ]
  },
  {
   "cell_type": "code",
   "execution_count": null,
   "id": "288c524f",
   "metadata": {},
   "outputs": [],
   "source": [
    ">>> help(pressure)\n"
   ]
  },
  {
   "cell_type": "markdown",
   "id": "6ea9eee9",
   "metadata": {},
   "source": [
    "When writing Python programs, include docstrings for all but the simplest\n",
    "functions. Remember, code is written only once, but often read many times. The\n",
    "Python docs include [docstring\n",
    "guidelines](http://www.python.org/dev/peps/pep-0257/) that maintain\n",
    "consistency across different Python projects.\n",
    "\n",
    "**Comments**. Comments in Python can be attached to the end of a line\n",
    "following the `#` symbol. For example, the comment `Boltzmann's constant`\n",
    "above describes `k`. These comments don't ever appear in Python's `help`, and\n",
    "they are ignored by the interpreter. They exist for humans alone.\n",
    "\n",
    "### 1.4.2 Default Argument Values\n",
    "\n",
    "A consequence of defining general functions is the introduction of additional\n",
    "arguments. Functions with many arguments can be awkward to call and difficult\n",
    "to read.\n",
    "\n",
    "In Python, we can provide default values for the arguments of a function. When\n",
    "calling that function, arguments with default values are optional. If they are\n",
    "not provided, then the default value is bound to the formal parameter name\n",
    "instead. For instance, if an application commonly computes pressure for one\n",
    "mole of particles, this value can be provided as a default:\n",
    "\n",
    "\n",
    "​"
   ]
  },
  {
   "cell_type": "code",
   "execution_count": null,
   "id": "074484b9",
   "metadata": {},
   "outputs": [],
   "source": [
    ">>> def pressure(v, t, n=6.022e23):\n",
    "        \"\"\"Compute the pressure in pascals of an ideal gas.\n",
    "\n",
    "        v -- volume of gas, in cubic meters\n",
    "        t -- absolute temperature in degrees kelvin\n",
    "        n -- particles of gas (default: one mole)\n",
    "        \"\"\"\n",
    "        k = 1.38e-23  # Boltzmann's constant\n",
    "        return n * k * t / v\n"
   ]
  },
  {
   "cell_type": "markdown",
   "id": "0dba707d",
   "metadata": {},
   "source": [
    "The `=` symbol means two different things in this example, depending on the\n",
    "context in which it is used. In the `def` statement header, `=` does not\n",
    "perform assignment, but instead indicates a default value to use when the\n",
    "`pressure` function is called. By contrast, the assignment statement to `k` in\n",
    "the body of the function binds the name `k` to an approximation of Boltzmann's\n",
    "constant.\n",
    "\n",
    "\n",
    "​"
   ]
  },
  {
   "cell_type": "code",
   "execution_count": null,
   "id": "d764d7ba",
   "metadata": {},
   "outputs": [],
   "source": [
    ">>> pressure(1, 273.15)\n",
    "2269.974834\n",
    ">>> pressure(1, 273.15, 3 * 6.022e23)\n",
    "6809.924502\n"
   ]
  },
  {
   "cell_type": "markdown",
   "id": "9cb20cff",
   "metadata": {},
   "source": [
    "The `pressure` function is defined to take three arguments, but only two are\n",
    "provided in the first call expression above. In this case, the value for `n`\n",
    "is taken from the `def` statement default. If a third argument is provided,\n",
    "the default is ignored.\n",
    "\n",
    "As a guideline, most data values used in a function's body should be expressed\n",
    "as default values to named arguments, so that they are easy to inspect and can\n",
    "be changed by the function caller. Some values that never change, such as the\n",
    "fundamental constant `k`, can be bound in the function body or in the global\n",
    "frame.\n",
    "\n",
    "_Continue_ : [ 1.5 Control ](../pages/15-control.html)\n",
    "\n",
    "## 1.5 Control\n",
    "\n",
    "The expressive power of the functions that we can define at this point is very\n",
    "limited, because we have not introduced a way to make comparisons and to\n",
    "perform different operations depending on the result of a comparison. _Control\n",
    "statements_ will give us this ability. They are statements that control the\n",
    "flow of a program's execution based on the results of logical comparisons.\n",
    "\n",
    "Statements differ fundamentally from the expressions that we have studied so\n",
    "far. They have no value. Instead of computing something, executing a control\n",
    "statement determines what the interpreter should do next.\n",
    "\n",
    "### 1.5.1 Statements\n",
    "\n",
    "So far, we have primarily considered how to evaluate expressions. However, we\n",
    "have seen three kinds of statements already: assignment, `def`, and `return`\n",
    "statements. These lines of Python code are not themselves expressions,\n",
    "although they all contain expressions as components.\n",
    "\n",
    "Rather than being evaluated, statements are _executed_. Each statement\n",
    "describes some change to the interpreter state, and executing a statement\n",
    "applies that change. As we have seen for `return` and assignment statements,\n",
    "executing statements can involve evaluating subexpressions contained within\n",
    "them.\n",
    "\n",
    "Expressions can also be executed as statements, in which case they are\n",
    "evaluated, but their value is discarded. Executing a pure function has no\n",
    "effect, but executing a non-pure function can cause effects as a consequence\n",
    "of function application.\n",
    "\n",
    "Consider, for instance,\n",
    "\n",
    "\n",
    "​"
   ]
  },
  {
   "cell_type": "code",
   "execution_count": null,
   "id": "404fed4e",
   "metadata": {},
   "outputs": [],
   "source": [
    ">>> def square(x):\n",
    "        mul(x, x) # Watch out! This call doesn't return a value.\n"
   ]
  },
  {
   "cell_type": "markdown",
   "id": "2e7b11ed",
   "metadata": {},
   "source": [
    "This example is valid Python, but probably not what was intended. The body of\n",
    "the function consists of an expression. An expression by itself is a valid\n",
    "statement, but the effect of the statement is that the `mul` function is\n",
    "called, and the result is discarded. If you want to do something with the\n",
    "result of an expression, you need to say so: you might store it with an\n",
    "assignment statement or return it with a return statement:\n",
    "\n",
    "\n",
    "​"
   ]
  },
  {
   "cell_type": "code",
   "execution_count": null,
   "id": "ab266ab6",
   "metadata": {},
   "outputs": [],
   "source": [
    ">>> def square(x):\n",
    "        return mul(x, x)\n"
   ]
  },
  {
   "cell_type": "markdown",
   "id": "2d69d9d9",
   "metadata": {},
   "source": [
    "Sometimes it does make sense to have a function whose body is an expression,\n",
    "when a non-pure function like `print` is called.\n",
    "\n",
    "\n",
    "​"
   ]
  },
  {
   "cell_type": "code",
   "execution_count": null,
   "id": "fffe312a",
   "metadata": {},
   "outputs": [],
   "source": [
    ">>> def print_square(x):\n",
    "        print(square(x))\n"
   ]
  },
  {
   "cell_type": "markdown",
   "id": "5520b946",
   "metadata": {},
   "source": [
    "At its highest level, the Python interpreter's job is to execute programs,\n",
    "composed of statements. However, much of the interesting work of computation\n",
    "comes from evaluating expressions. Statements govern the relationship among\n",
    "different expressions in a program and what happens to their results.\n",
    "\n",
    "### 1.5.2 Compound Statements\n",
    "\n",
    "In general, Python code is a sequence of statements. A simple statement is a\n",
    "single line that doesn't end in a colon. A compound statement is so called\n",
    "because it is composed of other statements (simple and compound). Compound\n",
    "statements typically span multiple lines and start with a one-line header\n",
    "ending in a colon, which identifies the type of statement. Together, a header\n",
    "and an indented suite of statements is called a clause. A compound statement\n",
    "consists of one or more clauses:\n",
    "\n",
    "\n",
    "​"
   ]
  },
  {
   "cell_type": "code",
   "execution_count": null,
   "id": "3d09b5ca",
   "metadata": {},
   "outputs": [],
   "source": [
    "<header>:\n",
    "    <statement>\n",
    "    <statement>\n",
    "    ...\n",
    "<separating header>:\n",
    "    <statement>\n",
    "    <statement>\n",
    "    ...\n",
    "...\n"
   ]
  },
  {
   "cell_type": "markdown",
   "id": "4badcfe7",
   "metadata": {},
   "source": [
    "We can understand the statements we have already introduced in these terms.\n",
    "\n",
    "  * Expressions, return statements, and assignment statements are simple statements.\n",
    "  * A `def` statement is a compound statement. The suite that follows the `def` header defines the function body.\n",
    "\n",
    "Specialized evaluation rules for each kind of header dictate when and if the\n",
    "statements in its suite are executed. We say that the header controls its\n",
    "suite. For example, in the case of `def` statements, we saw that the return\n",
    "expression is not evaluated immediately, but instead stored for later use when\n",
    "the defined function is eventually called.\n",
    "\n",
    "We can also understand multi-line programs now.\n",
    "\n",
    "  * To execute a sequence of statements, execute the first statement. If that statement does not redirect control, then proceed to execute the rest of the sequence of statements, if any remain.\n",
    "\n",
    "This definition exposes the essential structure of a recursively defined\n",
    "_sequence_ : a sequence can be decomposed into its first element and the rest\n",
    "of its elements. The \"rest\" of a sequence of statements is itself a sequence\n",
    "of statements! Thus, we can recursively apply this execution rule. This view\n",
    "of sequences as recursive data structures will appear again in later chapters.\n",
    "\n",
    "The important consequence of this rule is that statements are executed in\n",
    "order, but later statements may never be reached, because of redirected\n",
    "control.\n",
    "\n",
    "**Practical Guidance.** When indenting a suite, all lines must be indented the\n",
    "same amount and in the same way (use spaces, not tabs). Any variation in\n",
    "indentation will cause an error.\n",
    "\n",
    "### 1.5.3 Defining Functions II: Local Assignment\n",
    "\n",
    "Originally, we stated that the body of a user-defined function consisted only\n",
    "of a `return` statement with a single return expression. In fact, functions\n",
    "can define a sequence of operations that extends beyond a single expression.\n",
    "\n",
    "Whenever a user-defined function is applied, the sequence of clauses in the\n",
    "suite of its definition is executed in a local environment  an environment\n",
    "starting with a local frame created by calling that function. A `return`\n",
    "statement redirects control: the process of function application terminates\n",
    "whenever the first `return` statement is executed, and the value of the\n",
    "`return` expression is the returned value of the function being applied.\n",
    "\n",
    "Assignment statements can appear within a function body. For instance, this\n",
    "function returns the absolute difference between two quantities as a\n",
    "percentage of the first, using a two-step calculation:\n",
    "\n",
    "def percent_difference(x, y): difference = abs(x-y) return 100 * difference /\n",
    "x result = percent_difference(40, 50)\n",
    "\n",
    "The effect of an assignment statement is to bind a name to a value in the\n",
    "_first_ frame of the current environment. As a consequence, assignment\n",
    "statements within a function body cannot affect the global frame. The fact\n",
    "that functions can only manipulate their local environment is critical to\n",
    "creating _modular_ programs, in which pure functions interact only via the\n",
    "values they take and return.\n",
    "\n",
    "Of course, the `percent_difference` function could be written as a single\n",
    "expression, as shown below, but the return expression is more complex.\n",
    "\n",
    "\n",
    "​"
   ]
  },
  {
   "cell_type": "code",
   "execution_count": null,
   "id": "601aaed2",
   "metadata": {},
   "outputs": [],
   "source": [
    ">>> def percent_difference(x, y):\n",
    "        return 100 * abs(x-y) / x\n",
    ">>> percent_difference(40, 50)\n",
    "25.0\n"
   ]
  },
  {
   "cell_type": "markdown",
   "id": "375dbe9f",
   "metadata": {},
   "source": [
    "So far, local assignment hasn't increased the expressive power of our function\n",
    "definitions. It will do so, when combined with other control statements. In\n",
    "addition, local assignment also plays a critical role in clarifying the\n",
    "meaning of complex expressions by assigning names to intermediate quantities.\n",
    "\n",
    "### 1.5.4 Conditional Statements\n",
    "\n",
    "**Video:** Show Hide\n",
    "\n",
    "Python has a built-in function for computing absolute values.\n",
    "\n",
    "\n",
    "​"
   ]
  },
  {
   "cell_type": "code",
   "execution_count": null,
   "id": "57a70cf6",
   "metadata": {},
   "outputs": [],
   "source": [
    ">>> abs(-2)\n",
    "2\n"
   ]
  },
  {
   "cell_type": "markdown",
   "id": "01d1017a",
   "metadata": {},
   "source": [
    "We would like to be able to implement such a function ourselves, but we have\n",
    "no obvious way to define a function that has a comparison and a choice. We\n",
    "would like to express that if `x` is positive, `abs(x)` returns `x`.\n",
    "Furthermore, if `x` is 0, `abs(x)` returns 0. Otherwise, `abs(x)` returns\n",
    "`-x`. In Python, we can express this choice with a conditional statement.\n",
    "\n",
    "def absolute_value(x): \"\"\"Compute abs(x).\"\"\" if x > 0: return x elif x == 0:\n",
    "return 0 else: return -x result = absolute_value(-2)\n",
    "\n",
    "This implementation of `absolute_value` raises several important issues:\n",
    "\n",
    "**Conditional statements**. A conditional statement in Python consists of a\n",
    "series of headers and suites: a required `if` clause, an optional sequence of\n",
    "`elif` clauses, and finally an optional `else` clause:\n",
    "\n",
    "\n",
    "​"
   ]
  },
  {
   "cell_type": "code",
   "execution_count": null,
   "id": "4202542f",
   "metadata": {},
   "outputs": [],
   "source": [
    "if <expression>:\n",
    "    <suite>\n",
    "elif <expression>:\n",
    "    <suite>\n",
    "else:\n",
    "    <suite>\n"
   ]
  },
  {
   "cell_type": "markdown",
   "id": "a62f5fd1",
   "metadata": {},
   "source": [
    "When executing a conditional statement, each clause is considered in order.\n",
    "The computational process of executing a conditional clause follows."
   ]
  },
  {
   "cell_type": "code",
   "execution_count": null,
   "id": "d0c49b3c",
   "metadata": {},
   "outputs": [],
   "source": [
    "1. Evaluate the header's expression.\n",
    "2. If it is a true value, execute the suite. Then, skip over all subsequent clauses in the conditional statement."
   ]
  },
  {
   "cell_type": "markdown",
   "id": "5a4b8be6",
   "metadata": {},
   "source": [
    "If the `else` clause is reached (which only happens if all `if` and `elif`\n",
    "expressions evaluate to false values), its suite is executed.\n",
    "\n",
    "**Boolean contexts**. Above, the execution procedures mention \"a false value\"\n",
    "and \"a true value.\" The expressions inside the header statements of\n",
    "conditional blocks are said to be in _boolean contexts_ : their truth values\n",
    "matter to control flow, but otherwise their values are not assigned or\n",
    "returned. Python includes several false values, including 0, `None`, and the\n",
    "_boolean_ value `False`. All other numbers are true values. In Chapter 2, we\n",
    "will see that every built-in kind of data in Python has both true and false\n",
    "values.\n",
    "\n",
    "**Boolean values**. Python has two boolean values, called `True` and `False`.\n",
    "Boolean values represent truth values in logical expressions. The built-in\n",
    "comparison operations, `>, <, >=, <=, ==, !=`, return these values.\n",
    "\n",
    "\n",
    "​"
   ]
  },
  {
   "cell_type": "code",
   "execution_count": null,
   "id": "866a447e",
   "metadata": {},
   "outputs": [],
   "source": [
    ">>> 4 < 2\n",
    "False\n",
    ">>> 5 >= 5\n",
    "True\n"
   ]
  },
  {
   "cell_type": "markdown",
   "id": "069f521c",
   "metadata": {},
   "source": [
    "This second example reads \"5 is greater than or equal to 5\", and corresponds\n",
    "to the function `ge` in the `operator` module.\n",
    "\n",
    "\n",
    "​"
   ]
  },
  {
   "cell_type": "code",
   "execution_count": null,
   "id": "10844e04",
   "metadata": {},
   "outputs": [],
   "source": [
    ">>> 0 == -0\n",
    "True\n"
   ]
  },
  {
   "cell_type": "markdown",
   "id": "02968929",
   "metadata": {},
   "source": [
    "This final example reads \"0 equals -0\", and corresponds to `eq` in the\n",
    "`operator` module. Notice that Python distinguishes assignment (`=`) from\n",
    "equality comparison (`==`), a convention shared across many programming\n",
    "languages.\n",
    "\n",
    "**Boolean operators**. Three basic logical operators are also built into\n",
    "Python:\n",
    "\n",
    "\n",
    "​"
   ]
  },
  {
   "cell_type": "code",
   "execution_count": null,
   "id": "fb19ab4e",
   "metadata": {},
   "outputs": [],
   "source": [
    ">>> True and False\n",
    "False\n",
    ">>> True or False\n",
    "True\n",
    ">>> not False\n",
    "True\n"
   ]
  },
  {
   "cell_type": "markdown",
   "id": "e16e0a00",
   "metadata": {},
   "source": [
    "Logical expressions have corresponding evaluation procedures. These procedures\n",
    "exploit the fact that the truth value of a logical expression can sometimes be\n",
    "determined without evaluating all of its subexpressions, a feature called\n",
    "_short-circuiting_.\n",
    "\n",
    "To evaluate the expression `<left> and <right>`:"
   ]
  },
  {
   "cell_type": "code",
   "execution_count": null,
   "id": "e54678eb",
   "metadata": {},
   "outputs": [],
   "source": [
    "1. Evaluate the subexpression `<left>`.\n",
    "2. If the result is a false value `v`, then the expression evaluates to `v`.\n",
    "3. Otherwise, the expression evaluates to the value of the subexpression `<right>`."
   ]
  },
  {
   "cell_type": "markdown",
   "id": "a14d685f",
   "metadata": {},
   "source": [
    "To evaluate the expression `<left> or <right>`:"
   ]
  },
  {
   "cell_type": "code",
   "execution_count": null,
   "id": "75a2828b",
   "metadata": {},
   "outputs": [],
   "source": [
    "1. Evaluate the subexpression `<left>`.\n",
    "2. If the result is a true value `v`, then the expression evaluates to `v`.\n",
    "3. Otherwise, the expression evaluates to the value of the subexpression `<right>`."
   ]
  },
  {
   "cell_type": "markdown",
   "id": "dedd4479",
   "metadata": {},
   "source": [
    "To evaluate the expression `not <exp>`:"
   ]
  },
  {
   "cell_type": "code",
   "execution_count": null,
   "id": "35c6639b",
   "metadata": {},
   "outputs": [],
   "source": [
    "1. Evaluate `<exp>`; The value is `True` if the result is a false value, and `False` otherwise."
   ]
  },
  {
   "cell_type": "markdown",
   "id": "00b81876",
   "metadata": {},
   "source": [
    "These values, rules, and operators provide us with a way to combine the\n",
    "results of comparisons. Functions that perform comparisons and return boolean\n",
    "values typically begin with `is`, not followed by an underscore (e.g.,\n",
    "`isfinite`, `isdigit`, `isinstance`, etc.).\n",
    "\n",
    "### 1.5.5 Iteration\n",
    "\n",
    "**Video:** Show Hide\n",
    "\n",
    "In addition to selecting which statements to execute, control statements are\n",
    "used to express repetition. If each line of code we wrote were only executed\n",
    "once, programming would be a very unproductive exercise. Only through repeated\n",
    "execution of statements do we unlock the full potential of computers. We have\n",
    "already seen one form of repetition: a function can be applied many times,\n",
    "although it is only defined once. Iterative control structures are another\n",
    "mechanism for executing the same statements many times.\n",
    "\n",
    "Consider the sequence of Fibonacci numbers, in which each number is the sum of\n",
    "the preceding two:\n",
    "\n",
    "\n",
    "​"
   ]
  },
  {
   "cell_type": "code",
   "execution_count": null,
   "id": "f13fd3b4",
   "metadata": {},
   "outputs": [],
   "source": [
    "0, 1, 1, 2, 3, 5, 8, 13, 21, ...\n"
   ]
  },
  {
   "cell_type": "markdown",
   "id": "981488d5",
   "metadata": {},
   "source": [
    "Each value is constructed by repeatedly applying the sum-previous-two rule.\n",
    "The first and second are fixed to 0 and 1. For instance, the eighth Fibonacci\n",
    "number is 13.\n",
    "\n",
    "We can use a `while` statement to enumerate `n` Fibonacci numbers. We need to\n",
    "track how many values we've created (`k`), along with the kth value (`curr`)\n",
    "and its predecessor (`pred`). Step through this function and observe how the\n",
    "Fibonacci numbers evolve one by one, bound to `curr`.\n",
    "\n",
    "def fib(n): \"\"\"Compute the nth Fibonacci number, for n >= 2.\"\"\" pred, curr =\n",
    "0, 1 # Fibonacci numbers 1 and 2 k = 2 # Which Fib number is curr? while k <\n",
    "n: pred, curr = curr, pred + curr k = k + 1 return curr result = fib(8)\n",
    "\n",
    "Remember that commas seperate multiple names and values in an assignment\n",
    "statement. The line:\n",
    "\n",
    "\n",
    "​"
   ]
  },
  {
   "cell_type": "code",
   "execution_count": null,
   "id": "04e65a7f",
   "metadata": {},
   "outputs": [],
   "source": [
    "pred, curr = curr, pred + curr\n"
   ]
  },
  {
   "cell_type": "markdown",
   "id": "5eba71c9",
   "metadata": {},
   "source": [
    "has the effect of rebinding the name `pred` to the value of `curr`, and\n",
    "simultanously rebinding `curr` to the value of `pred + curr`. All of the\n",
    "expressions to the right of `=` are evaluated before any rebinding takes\n",
    "place.\n",
    "\n",
    "This order of events -- evaluating everything on the right of `=` before\n",
    "updating any bindings on the left -- is essential for correctness of this\n",
    "function.\n",
    "\n",
    "A `while` clause contains a header expression followed by a suite:\n",
    "\n",
    "\n",
    "​"
   ]
  },
  {
   "cell_type": "code",
   "execution_count": null,
   "id": "ab1489b7",
   "metadata": {},
   "outputs": [],
   "source": [
    "while <expression>:\n",
    "    <suite>\n"
   ]
  },
  {
   "cell_type": "markdown",
   "id": "c160e96c",
   "metadata": {},
   "source": [
    "To execute a `while` clause:"
   ]
  },
  {
   "cell_type": "code",
   "execution_count": null,
   "id": "e23a0f37",
   "metadata": {},
   "outputs": [],
   "source": [
    "1. Evaluate the header's expression.\n",
    "2. If it is a true value, execute the suite, then return to step 1."
   ]
  },
  {
   "cell_type": "markdown",
   "id": "0dc9ef31",
   "metadata": {},
   "source": [
    "In step 2, the entire suite of the `while` clause is executed before the\n",
    "header expression is evaluated again.\n",
    "\n",
    "In order to prevent the suite of a `while` clause from being executed\n",
    "indefinitely, the suite should always change some binding in each pass.\n",
    "\n",
    "A `while` statement that does not terminate is called an infinite loop. Press\n",
    "`<Control>-C` to force Python to stop looping.\n",
    "\n",
    "### 1.5.6 Testing\n",
    "\n",
    "_Testing_ a function is the act of verifying that the function's behavior\n",
    "matches expectations. Our language of functions is now sufficiently complex\n",
    "that we need to start testing our implementations.\n",
    "\n",
    "A _test_ is a mechanism for systematically performing this verification. Tests\n",
    "typically take the form of another function that contains one or more sample\n",
    "calls to the function being tested. The returned value is then verified\n",
    "against an expected result. Unlike most functions, which are meant to be\n",
    "general, tests involve selecting and validating calls with specific argument\n",
    "values. Tests also serve as documentation: they demonstrate how to call a\n",
    "function and what argument values are appropriate.\n",
    "\n",
    "**Assertions.** Programmers use `assert` statements to verify expectations,\n",
    "such as the output of a function being tested. An `assert` statement has an\n",
    "expression in a boolean context, followed by a quoted line of text (single or\n",
    "double quotes are both fine, but be consistent) that will be displayed if the\n",
    "expression evaluates to a false value.\n",
    "\n",
    "\n",
    "​"
   ]
  },
  {
   "cell_type": "code",
   "execution_count": null,
   "id": "0d387135",
   "metadata": {},
   "outputs": [],
   "source": [
    ">>> assert fib(8) == 13, 'The 8th Fibonacci number should be 13'\n"
   ]
  },
  {
   "cell_type": "markdown",
   "id": "d113ac31",
   "metadata": {},
   "source": [
    "When the expression being asserted evaluates to a true value, executing an\n",
    "assert statement has no effect. When it is a false value, `assert` causes an\n",
    "error that halts execution.\n",
    "\n",
    "A test function for `fib` should test several arguments, including extreme\n",
    "values of `n`.\n",
    "\n",
    "\n",
    "​"
   ]
  },
  {
   "cell_type": "code",
   "execution_count": null,
   "id": "8dd0c1a3",
   "metadata": {},
   "outputs": [],
   "source": [
    ">>> def fib_test():\n",
    "        assert fib(2) == 1, 'The 2nd Fibonacci number should be 1'\n",
    "        assert fib(3) == 1, 'The 3rd Fibonacci number should be 1'\n",
    "        assert fib(50) == 7778742049, 'Error at the 50th Fibonacci number'\n"
   ]
  },
  {
   "cell_type": "markdown",
   "id": "44158d43",
   "metadata": {},
   "source": [
    "When writing Python in files, rather than directly into the interpreter, tests\n",
    "are typically written in the same file or a neighboring file with the suffix\n",
    "`_test.py`.\n",
    "\n",
    "**Doctests.** Python provides a convenient method for placing simple tests\n",
    "directly in the docstring of a function. The first line of a docstring should\n",
    "contain a one-line description of the function, followed by a blank line. A\n",
    "detailed description of arguments and behavior may follow. In addition, the\n",
    "docstring may include a sample interactive session that calls the function:\n",
    "\n",
    "\n",
    "​"
   ]
  },
  {
   "cell_type": "code",
   "execution_count": null,
   "id": "0b849d5c",
   "metadata": {},
   "outputs": [],
   "source": [
    ">>> def sum_naturals(n):\n",
    "        \"\"\"Return the sum of the first n natural numbers.\n",
    "\n",
    "        >>> sum_naturals(10)\n",
    "        55\n",
    "        >>> sum_naturals(100)\n",
    "        5050\n",
    "        \"\"\"\n",
    "        total, k = 0, 1\n",
    "        while k <= n:\n",
    "            total, k = total + k, k + 1\n",
    "        return total\n"
   ]
  },
  {
   "cell_type": "markdown",
   "id": "1162e59d",
   "metadata": {},
   "source": [
    "Then, the interaction can be verified via the [doctest\n",
    "module](http://docs.python.org/py3k/library/doctest.html). Below, the\n",
    "`globals` function returns a representation of the global environment, which\n",
    "the interpreter needs in order to evaluate expressions.\n",
    "\n",
    "\n",
    "​"
   ]
  },
  {
   "cell_type": "code",
   "execution_count": null,
   "id": "49832172",
   "metadata": {},
   "outputs": [],
   "source": [
    ">>> from doctest import testmod\n",
    ">>> testmod()\n",
    "TestResults(failed=0, attempted=2)\n"
   ]
  },
  {
   "cell_type": "markdown",
   "id": "f66888d4",
   "metadata": {},
   "source": [
    "To verify the doctest interactions for only a single function, we use a\n",
    "`doctest` function called `run_docstring_examples`. This function is\n",
    "(unfortunately) a bit complicated to call. Its first argument is the function\n",
    "to test. The second should always be the result of the expression `globals()`,\n",
    "a built-in function that returns the global environment. The third argument is\n",
    "`True` to indicate that we would like \"verbose\" output: a catalog of all tests\n",
    "run.\n",
    "\n",
    "\n",
    "​"
   ]
  },
  {
   "cell_type": "code",
   "execution_count": null,
   "id": "eeee78c5",
   "metadata": {},
   "outputs": [],
   "source": [
    ">>> from doctest import run_docstring_examples\n",
    ">>> run_docstring_examples(sum_naturals, globals(), True)\n",
    "Finding tests in NoName\n",
    "Trying:\n",
    "    sum_naturals(10)\n",
    "Expecting:\n",
    "    55\n",
    "ok\n",
    "Trying:\n",
    "    sum_naturals(100)\n",
    "Expecting:\n",
    "    5050\n",
    "ok\n"
   ]
  },
  {
   "cell_type": "markdown",
   "id": "cab399ce",
   "metadata": {},
   "source": [
    "When the return value of a function does not match the expected result, the\n",
    "`run_docstring_examples` function will report this problem as a test failure.\n",
    "\n",
    "When writing Python in files, all doctests in a file can be run by starting\n",
    "Python with the doctest command line option:\n",
    "\n",
    "\n",
    "​"
   ]
  },
  {
   "cell_type": "code",
   "execution_count": null,
   "id": "99521981",
   "metadata": {},
   "outputs": [],
   "source": [
    "python3 -m doctest <python_source_file>\n"
   ]
  },
  {
   "cell_type": "markdown",
   "id": "d0233393",
   "metadata": {},
   "source": [
    "The key to effective testing is to write (and run) tests immediately after\n",
    "implementing new functions. It is even good practice to write some tests\n",
    "before you implement, in order to have some example inputs and outputs in your\n",
    "mind. A test that applies a single function is called a _unit test_.\n",
    "Exhaustive unit testing is a hallmark of good program design.\n",
    "\n",
    "_Continue_ : [ 1.6 Higher-Order Functions ](../pages/16-higher-order-\n",
    "functions.html)\n",
    "\n",
    "## 1.6 Higher-Order Functions\n",
    "\n",
    "**Video:** Show Hide\n",
    "\n",
    "We have seen that functions are a method of abstraction that describe compound\n",
    "operations independent of the particular values of their arguments. That is,\n",
    "in `square`,\n",
    "\n",
    "\n",
    "​"
   ]
  },
  {
   "cell_type": "code",
   "execution_count": null,
   "id": "14ea88fa",
   "metadata": {},
   "outputs": [],
   "source": [
    ">>> def square(x):\n",
    "        return x * x\n"
   ]
  },
  {
   "cell_type": "markdown",
   "id": "b35db63d",
   "metadata": {},
   "source": [
    "we are not talking about the square of a particular number, but rather about a\n",
    "method for obtaining the square of any number. Of course, we could get along\n",
    "without ever defining this function, by always writing expressions such as\n",
    "\n",
    "\n",
    "​"
   ]
  },
  {
   "cell_type": "code",
   "execution_count": null,
   "id": "af2b7f40",
   "metadata": {},
   "outputs": [],
   "source": [
    ">>> 3 * 3\n",
    "9\n",
    ">>> 5 * 5\n",
    "25\n"
   ]
  },
  {
   "cell_type": "markdown",
   "id": "5ba190b4",
   "metadata": {},
   "source": [
    "and never mentioning `square` explicitly. This practice would suffice for\n",
    "simple computations such as `square`, but would become arduous for more\n",
    "complex examples such as `abs` or `fib`. In general, lacking function\n",
    "definition would put us at the disadvantage of forcing us to work always at\n",
    "the level of the particular operations that happen to be primitives in the\n",
    "language (multiplication, in this case) rather than in terms of higher-level\n",
    "operations. Our programs would be able to compute squares, but our language\n",
    "would lack the ability to express the concept of squaring.\n",
    "\n",
    "One of the things we should demand from a powerful programming language is the\n",
    "ability to build abstractions by assigning names to common patterns and then\n",
    "to work in terms of the names directly. Functions provide this ability. As we\n",
    "will see in the following examples, there are common programming patterns that\n",
    "recur in code, but are used with a number of different functions. These\n",
    "patterns can also be abstracted, by giving them names.\n",
    "\n",
    "To express certain general patterns as named concepts, we will need to\n",
    "construct functions that can accept other functions as arguments or return\n",
    "functions as values. Functions that manipulate functions are called higher-\n",
    "order functions. This section shows how higher-order functions can serve as\n",
    "powerful abstraction mechanisms, vastly increasing the expressive power of our\n",
    "language.\n",
    "\n",
    "### 1.6.1 Functions as Arguments\n",
    "\n",
    "Consider the following three functions, which all compute summations. The\n",
    "first, `sum_naturals`, computes the sum of natural numbers up to `n`:\n",
    "\n",
    "\n",
    "​"
   ]
  },
  {
   "cell_type": "code",
   "execution_count": null,
   "id": "0d7a16aa",
   "metadata": {},
   "outputs": [],
   "source": [
    ">>> def sum_naturals(n):\n",
    "        total, k = 0, 1\n",
    "        while k <= n:\n",
    "            total, k = total + k, k + 1\n",
    "        return total\n"
   ]
  },
  {
   "cell_type": "markdown",
   "id": "8cca9212",
   "metadata": {},
   "source": [
    "​    \n",
    "​"
   ]
  },
  {
   "cell_type": "code",
   "execution_count": null,
   "id": "d74481bd",
   "metadata": {},
   "outputs": [],
   "source": [
    ">>> sum_naturals(100)\n",
    "5050\n"
   ]
  },
  {
   "cell_type": "markdown",
   "id": "17b7cbbf",
   "metadata": {},
   "source": [
    "The second, `sum_cubes`, computes the sum of the cubes of natural numbers up\n",
    "to `n`.\n",
    "\n",
    "\n",
    "​"
   ]
  },
  {
   "cell_type": "code",
   "execution_count": null,
   "id": "d59b671f",
   "metadata": {},
   "outputs": [],
   "source": [
    ">>> def sum_cubes(n):\n",
    "        total, k = 0, 1\n",
    "        while k <= n:\n",
    "            total, k = total + k*k*k, k + 1\n",
    "        return total\n"
   ]
  },
  {
   "cell_type": "markdown",
   "id": "44160c36",
   "metadata": {},
   "source": [
    "​    \n",
    "​"
   ]
  },
  {
   "cell_type": "code",
   "execution_count": null,
   "id": "f20db0a3",
   "metadata": {},
   "outputs": [],
   "source": [
    ">>> sum_cubes(100)\n",
    "25502500\n"
   ]
  },
  {
   "cell_type": "markdown",
   "id": "f95657d9",
   "metadata": {},
   "source": [
    "The third, `pi_sum`, computes the sum of terms in the series\n",
    "\n",
    "![](http://www.composingprograms.com/img/pi_sum.png)\n",
    "\n",
    "which converges to pi very slowly.\n",
    "\n",
    "\n",
    "​"
   ]
  },
  {
   "cell_type": "code",
   "execution_count": null,
   "id": "c12c7463",
   "metadata": {},
   "outputs": [],
   "source": [
    ">>> def pi_sum(n):\n",
    "        total, k = 0, 1\n",
    "        while k <= n:\n",
    "            total, k = total + 8 / ((4*k-3) * (4*k-1)), k + 1\n",
    "        return total\n"
   ]
  },
  {
   "cell_type": "markdown",
   "id": "0bb807a5",
   "metadata": {},
   "source": [
    "​    \n",
    "​"
   ]
  },
  {
   "cell_type": "code",
   "execution_count": null,
   "id": "642f1403",
   "metadata": {},
   "outputs": [],
   "source": [
    ">>> pi_sum(100)\n",
    "3.1365926848388144\n"
   ]
  },
  {
   "cell_type": "markdown",
   "id": "aac7c9cc",
   "metadata": {},
   "source": [
    "These three functions clearly share a common underlying pattern. They are for\n",
    "the most part identical, differing only in name and the function of `k` used\n",
    "to compute the term to be added. We could generate each of the functions by\n",
    "filling in slots in the same template:\n",
    "\n",
    "\n",
    "​"
   ]
  },
  {
   "cell_type": "code",
   "execution_count": null,
   "id": "ff9a1b56",
   "metadata": {},
   "outputs": [],
   "source": [
    "def <name>(n):\n",
    "    total, k = 0, 1\n",
    "    while k <= n:\n",
    "        total, k = total + <term>(k), k + 1\n",
    "    return total\n"
   ]
  },
  {
   "cell_type": "markdown",
   "id": "44525a1b",
   "metadata": {},
   "source": [
    "The presence of such a common pattern is strong evidence that there is a\n",
    "useful abstraction waiting to be brought to the surface. Each of these\n",
    "functions is a summation of terms. As program designers, we would like our\n",
    "language to be powerful enough so that we can write a function that expresses\n",
    "the concept of summation itself rather than only functions that compute\n",
    "particular sums. We can do so readily in Python by taking the common template\n",
    "shown above and transforming the \"slots\" into formal parameters:\n",
    "\n",
    "In the example below, `summation` takes as its two arguments the upper bound\n",
    "`n` together with the function `term` that computes the kth term. We can use\n",
    "`summation` just as we would any function, and it expresses summations\n",
    "succinctly. Take the time to step through this example, and notice how binding\n",
    "`cube` to the local names `term` ensures that the result `1*1*1 + 2*2*2 +\n",
    "3*3*3 = 36` is computed correctly. In this example, frames which are no longer\n",
    "needed are removed to save space.\n",
    "\n",
    "def summation(n, term): total, k = 0, 1 while k <= n: total, k = total +\n",
    "term(k), k + 1 return total def cube(x): return x*x*x def sum_cubes(n): return\n",
    "summation(n, cube) result = sum_cubes(3)\n",
    "\n",
    "Using an `identity` function that returns its argument, we can also sum\n",
    "natural numbers using exactly the same `summation` function.\n",
    "\n",
    "\n",
    "​"
   ]
  },
  {
   "cell_type": "code",
   "execution_count": null,
   "id": "bc27497f",
   "metadata": {},
   "outputs": [],
   "source": [
    ">>> def summation(n, term):\n",
    "        total, k = 0, 1\n",
    "        while k <= n:\n",
    "            total, k = total + term(k), k + 1\n",
    "        return total\n"
   ]
  },
  {
   "cell_type": "markdown",
   "id": "287303f0",
   "metadata": {},
   "source": [
    "​    \n",
    "​"
   ]
  },
  {
   "cell_type": "code",
   "execution_count": null,
   "id": "50355ef1",
   "metadata": {},
   "outputs": [],
   "source": [
    ">>> def identity(x):\n",
    "        return x\n"
   ]
  },
  {
   "cell_type": "markdown",
   "id": "ba5f696a",
   "metadata": {},
   "source": [
    "​    \n",
    "​"
   ]
  },
  {
   "cell_type": "code",
   "execution_count": null,
   "id": "9602d321",
   "metadata": {},
   "outputs": [],
   "source": [
    ">>> def sum_naturals(n):\n",
    "        return summation(n, identity)\n"
   ]
  },
  {
   "cell_type": "markdown",
   "id": "369e0b4a",
   "metadata": {},
   "source": [
    "​    \n",
    "​"
   ]
  },
  {
   "cell_type": "code",
   "execution_count": null,
   "id": "5d1dbd49",
   "metadata": {},
   "outputs": [],
   "source": [
    ">>> sum_naturals(10)\n",
    "55\n"
   ]
  },
  {
   "cell_type": "markdown",
   "id": "a2924f5b",
   "metadata": {},
   "source": [
    "The `summation` function can also be called directly, without definining\n",
    "another function for a specific sequence.\n",
    "\n",
    "\n",
    "​"
   ]
  },
  {
   "cell_type": "code",
   "execution_count": null,
   "id": "0f6fd741",
   "metadata": {},
   "outputs": [],
   "source": [
    ">>> summation(10, square)\n",
    "385\n"
   ]
  },
  {
   "cell_type": "markdown",
   "id": "082b7d36",
   "metadata": {},
   "source": [
    "We can define `pi_sum` using our `summation` abstraction by defining a\n",
    "function `pi_term` to compute each term. We pass the argument `1e6`, a\n",
    "shorthand for `1 * 10^6 = 1000000`, to generate a close approximation to pi.\n",
    "\n",
    "\n",
    "​"
   ]
  },
  {
   "cell_type": "code",
   "execution_count": null,
   "id": "ba786ec7",
   "metadata": {},
   "outputs": [],
   "source": [
    ">>> def pi_term(x):\n",
    "        return 8 / ((4*x-3) * (4*x-1))\n"
   ]
  },
  {
   "cell_type": "markdown",
   "id": "a02496b1",
   "metadata": {},
   "source": [
    "​    \n",
    "​"
   ]
  },
  {
   "cell_type": "code",
   "execution_count": null,
   "id": "5166adf4",
   "metadata": {},
   "outputs": [],
   "source": [
    ">>> def pi_sum(n):\n",
    "        return summation(n, pi_term)\n"
   ]
  },
  {
   "cell_type": "markdown",
   "id": "a952b666",
   "metadata": {},
   "source": [
    "​    \n",
    "​"
   ]
  },
  {
   "cell_type": "code",
   "execution_count": null,
   "id": "b4e7157f",
   "metadata": {},
   "outputs": [],
   "source": [
    ">>> pi_sum(1e6)\n",
    "3.141592153589902\n"
   ]
  },
  {
   "cell_type": "markdown",
   "id": "d594281c",
   "metadata": {},
   "source": [
    "### 1.6.2 Functions as General Methods\n",
    "\n",
    "**Video:** Show Hide\n",
    "\n",
    "We introduced user-defined functions as a mechanism for abstracting patterns\n",
    "of numerical operations so as to make them independent of the particular\n",
    "numbers involved. With higher-order functions, we begin to see a more powerful\n",
    "kind of abstraction: some functions express general methods of computation,\n",
    "independent of the particular functions they call.\n",
    "\n",
    "Despite this conceptual extension of what a function means, our environment\n",
    "model of how to evaluate a call expression extends gracefully to the case of\n",
    "higher-order functions, without change. When a user-defined function is\n",
    "applied to some arguments, the formal parameters are bound to the values of\n",
    "those arguments (which may be functions) in a new local frame.\n",
    "\n",
    "Consider the following example, which implements a general method for\n",
    "iterative improvement and uses it to compute the [golden\n",
    "ratio](http://www.geom.uiuc.edu/~demo5337/s97b/art.htm). The golden ratio,\n",
    "often called \"phi\", is a number near 1.6 that appears frequently in nature,\n",
    "art, and architecture.\n",
    "\n",
    "An iterative improvement algorithm begins with a `guess` of a solution to an\n",
    "equation. It repeatedly applies an `update` function to improve that guess,\n",
    "and applies a `close` comparison to check whether the current `guess` is\n",
    "\"close enough\" to be considered correct.\n",
    "\n",
    "\n",
    "​"
   ]
  },
  {
   "cell_type": "code",
   "execution_count": null,
   "id": "0fc16594",
   "metadata": {},
   "outputs": [],
   "source": [
    ">>> def improve(update, close, guess=1):\n",
    "        while not close(guess):\n",
    "            guess = update(guess)\n",
    "        return guess\n"
   ]
  },
  {
   "cell_type": "markdown",
   "id": "69a46d71",
   "metadata": {},
   "source": [
    "This `improve` function is a general expression of repetitive refinement. It\n",
    "doesn't specify what problem is being solved: those details are left to the\n",
    "`update` and `close` functions passed in as arguments.\n",
    "\n",
    "Among the well-known properties of the golden ratio are that it can be\n",
    "computed by repeatedly summing the inverse of any positive number with 1, and\n",
    "that it is one less than its square. We can express these properties as\n",
    "functions to be used with `improve`.\n",
    "\n",
    "\n",
    "​"
   ]
  },
  {
   "cell_type": "code",
   "execution_count": null,
   "id": "8dabb95c",
   "metadata": {},
   "outputs": [],
   "source": [
    ">>> def golden_update(guess):\n",
    "        return 1/guess + 1\n"
   ]
  },
  {
   "cell_type": "markdown",
   "id": "1ee4d709",
   "metadata": {},
   "source": [
    "​    \n",
    "​"
   ]
  },
  {
   "cell_type": "code",
   "execution_count": null,
   "id": "1dbf190b",
   "metadata": {},
   "outputs": [],
   "source": [
    ">>> def square_close_to_successor(guess):\n",
    "        return approx_eq(guess * guess, guess + 1)\n"
   ]
  },
  {
   "cell_type": "markdown",
   "id": "18410e95",
   "metadata": {},
   "source": [
    "Above, we introduce a call to `approx_eq` that is meant to return `True` if\n",
    "its arguments are approximately equal to each other. To implement,\n",
    "`approx_eq`, we can compare the absolute value of the difference between two\n",
    "numbers to a small tolerance value.\n",
    "\n",
    "\n",
    "​"
   ]
  },
  {
   "cell_type": "code",
   "execution_count": null,
   "id": "3c3c03e0",
   "metadata": {},
   "outputs": [],
   "source": [
    ">>> def approx_eq(x, y, tolerance=1e-15):\n",
    "        return abs(x - y) < tolerance\n"
   ]
  },
  {
   "cell_type": "markdown",
   "id": "6b03f896",
   "metadata": {},
   "source": [
    "Calling `improve` with the arguments `golden_update` and\n",
    "`square_close_to_successor` will compute a finite approximation to the golden\n",
    "ratio.\n",
    "\n",
    "\n",
    "​"
   ]
  },
  {
   "cell_type": "code",
   "execution_count": null,
   "id": "db8c4bfd",
   "metadata": {},
   "outputs": [],
   "source": [
    ">>> improve(golden_update, square_close_to_successor)\n",
    "1.6180339887498951\n"
   ]
  },
  {
   "cell_type": "markdown",
   "id": "03f1d0f9",
   "metadata": {},
   "source": [
    "By tracing through the steps of evaluation, we can see how this result is\n",
    "computed. First, a local frame for `improve` is constructed with bindings for\n",
    "`update`, `close`, and `guess`. In the body of `improve`, the name `close` is\n",
    "bound to `square_close_to_successor`, which is called on the initial value of\n",
    "`guess`. Trace through the rest of the steps to see the computational process\n",
    "that evolves to compute the golden ratio.\n",
    "\n",
    "def improve(update, close, guess=1): while not close(guess): guess =\n",
    "update(guess) return guess def golden_update(guess): return 1/guess + 1 def\n",
    "square_close_to_successor(guess): return approx_eq(guess * guess, guess + 1)\n",
    "def approx_eq(x, y, tolerance=1e-3): return abs(x - y) < tolerance phi =\n",
    "improve(golden_update, square_close_to_successor)\n",
    "\n",
    "This example illustrates two related big ideas in computer science. First,\n",
    "naming and functions allow us to abstract away a vast amount of complexity.\n",
    "While each function definition has been trivial, the computational process set\n",
    "in motion by our evaluation procedure is quite intricate. Second, it is only\n",
    "by virtue of the fact that we have an extremely general evaluation procedure\n",
    "for the Python language that small components can be composed into complex\n",
    "processes. Understanding the procedure of interpreting programs allows us to\n",
    "validate and inspect the process we have created.\n",
    "\n",
    "As always, our new general method `improve` needs a test to check its\n",
    "correctness. The golden ratio can provide such a test, because it also has an\n",
    "exact closed-form solution, which we can compare to this iterative result.\n",
    "\n",
    "\n",
    "​"
   ]
  },
  {
   "cell_type": "code",
   "execution_count": null,
   "id": "831c1f60",
   "metadata": {},
   "outputs": [],
   "source": [
    ">>> from math import sqrt\n",
    ">>> phi = 1/2 + sqrt(5)/2\n",
    ">>> def improve_test():\n",
    "        approx_phi = improve(golden_update, square_close_to_successor)\n",
    "        assert approx_eq(phi, approx_phi), 'phi differs from its approximation'\n"
   ]
  },
  {
   "cell_type": "markdown",
   "id": "f7b23e12",
   "metadata": {},
   "source": [
    "​    \n",
    "​"
   ]
  },
  {
   "cell_type": "code",
   "execution_count": null,
   "id": "6e56a9d1",
   "metadata": {},
   "outputs": [],
   "source": [
    ">>> improve_test()\n"
   ]
  },
  {
   "cell_type": "markdown",
   "id": "af34f984",
   "metadata": {},
   "source": [
    "For this test, no news is good news: `improve_test` returns `None` after its\n",
    "`assert` statement is executed successfully.\n",
    "\n",
    "### 1.6.3 Defining Functions III: Nested Definitions\n",
    "\n",
    "The above examples demonstrate how the ability to pass functions as arguments\n",
    "significantly enhances the expressive power of our programming language. Each\n",
    "general concept or equation maps onto its own short function. One negative\n",
    "consequence of this approach is that the global frame becomes cluttered with\n",
    "names of small functions, which must all be unique. Another problem is that we\n",
    "are constrained by particular function signatures: the `update` argument to\n",
    "`improve` must take exactly one argument. Nested function definitions address\n",
    "both of these problems, but require us to enrich our environment model.\n",
    "\n",
    "Let's consider a new problem: computing the square root of a number. In\n",
    "programming languages, \"square root\" is often abbreviated as `sqrt`. Repeated\n",
    "application of the following update converges to the square root of `a`:\n",
    "\n",
    "\n",
    "​"
   ]
  },
  {
   "cell_type": "code",
   "execution_count": null,
   "id": "776f40f1",
   "metadata": {},
   "outputs": [],
   "source": [
    ">>> def average(x, y):\n",
    "        return (x + y)/2\n"
   ]
  },
  {
   "cell_type": "markdown",
   "id": "e3082368",
   "metadata": {},
   "source": [
    "​    \n",
    "​"
   ]
  },
  {
   "cell_type": "code",
   "execution_count": null,
   "id": "f50584a3",
   "metadata": {},
   "outputs": [],
   "source": [
    ">>> def sqrt_update(x, a):\n",
    "        return average(x, a/x)\n"
   ]
  },
  {
   "cell_type": "markdown",
   "id": "ce7cde08",
   "metadata": {},
   "source": [
    "This two-argument update function is incompatible with `improve` (it takes two\n",
    "arguments, not one), and it provides only a single update, while we really\n",
    "care about taking square roots by repeated updates. The solution to both of\n",
    "these issues is to place function definitions inside the body of other\n",
    "definitions.\n",
    "\n",
    "\n",
    "​"
   ]
  },
  {
   "cell_type": "code",
   "execution_count": null,
   "id": "99dfc8a8",
   "metadata": {},
   "outputs": [],
   "source": [
    ">>> def sqrt(a):\n",
    "        def sqrt_update(x):\n",
    "            return average(x, a/x)\n",
    "        def sqrt_close(x):\n",
    "            return approx_eq(x * x, a)\n",
    "        return improve(sqrt_update, sqrt_close)\n"
   ]
  },
  {
   "cell_type": "markdown",
   "id": "7f7fa69e",
   "metadata": {},
   "source": [
    "Like local assignment, local `def` statements only affect the current local\n",
    "frame. These functions are only in scope while `sqrt` is being evaluated.\n",
    "Consistent with our evaluation procedure, these local `def` statements don't\n",
    "even get evaluated until `sqrt` is called.\n",
    "\n",
    "**Lexical scope.** Locally defined functions also have access to the name\n",
    "bindings in the scope in which they are defined. In this example,\n",
    "`sqrt_update` refers to the name `a`, which is a formal parameter of its\n",
    "enclosing function `sqrt`. This discipline of sharing names among nested\n",
    "definitions is called _lexical scoping_. Critically, the inner functions have\n",
    "access to the names in the environment where they are defined (not where they\n",
    "are called).\n",
    "\n",
    "We require two extensions to our environment model to enable lexical scoping."
   ]
  },
  {
   "cell_type": "code",
   "execution_count": null,
   "id": "73031923",
   "metadata": {},
   "outputs": [],
   "source": [
    "1. Each user-defined function has a parent environment: the environment in which it was defined.\n",
    "2. When a user-defined function is called, its local frame extends its parent environment."
   ]
  },
  {
   "cell_type": "markdown",
   "id": "d6b89a85",
   "metadata": {},
   "source": [
    "Previous to `sqrt`, all functions were defined in the global environment, and\n",
    "so they all had the same parent: the global environment. By contrast, when\n",
    "Python evaluates the first two clauses of `sqrt`, it create functions that are\n",
    "associated with a local environment. In the call\n",
    "\n",
    "\n",
    "​"
   ]
  },
  {
   "cell_type": "code",
   "execution_count": null,
   "id": "6e4f3baf",
   "metadata": {},
   "outputs": [],
   "source": [
    ">>> sqrt(256)\n",
    "16.0\n"
   ]
  },
  {
   "cell_type": "markdown",
   "id": "e35ad6e6",
   "metadata": {},
   "source": [
    "the environment first adds a local frame for `sqrt` and evaluates the `def`\n",
    "statements for `sqrt_update` and `sqrt_close`.\n",
    "\n",
    "def average(x, y): return (x + y)/2 def improve(update, close, guess=1): while\n",
    "not close(guess): guess = update(guess) return guess def approx_eq(x, y,\n",
    "tolerance=1e-3): return abs(x - y) < tolerance def sqrt(a): def\n",
    "sqrt_update(x): return average(x, a/x) def sqrt_close(x): return approx_eq(x *\n",
    "x, a) return improve(sqrt_update, sqrt_close) result = sqrt(256)\n",
    "\n",
    "Function values each have a new annotation that we will include in environment\n",
    "diagrams from now on, a _parent_. The parent of a function value is the first\n",
    "frame of the environment in which that function was defined. Functions without\n",
    "parent annotations were defined in the global environment. When a user-defined\n",
    "function is called, the frame created has the same parent as that function.\n",
    "\n",
    "Subsequently, the name `sqrt_update` resolves to this newly defined function,\n",
    "which is passed as an argument to `improve`. Within the body of `improve`, we\n",
    "must apply our `update` function (bound to `sqrt_update`) to the initial guess\n",
    "`x` of 1. This final application creates an environment for `sqrt_update` that\n",
    "begins with a local frame containing only `x`, but with the parent frame\n",
    "`sqrt` still containing a binding for `a`.\n",
    "\n",
    "def average(x, y): return (x + y)/2 def improve(update, close, guess=1): while\n",
    "not close(guess): guess = update(guess) return guess def approx_eq(x, y,\n",
    "tolerance=1e-3): return abs(x - y) < tolerance def sqrt(a): def\n",
    "sqrt_update(x): return average(x, a/x) def sqrt_close(x): return approx_eq(x *\n",
    "x, a) return improve(sqrt_update, sqrt_close) result = sqrt(256)\n",
    "\n",
    "The most critical part of this evaluation procedure is the transfer of the\n",
    "parent for `sqrt_update` to the frame created by calling `sqrt_update`. This\n",
    "frame is also annotated with `[parent=f1]`.\n",
    "\n",
    "**Extended Environments**. An environment can consist of an arbitrarily long\n",
    "chain of frames, which always concludes with the global frame. Previous to\n",
    "this `sqrt` example, environments had at most two frames: a local frame and\n",
    "the global frame. By calling functions that were defined within other\n",
    "functions, via nested `def` statements, we can create longer chains. The\n",
    "environment for this call to `sqrt_update` consists of three frames: the local\n",
    "`sqrt_update` frame, the `sqrt` frame in which `sqrt_update` was defined\n",
    "(labeled `f1`), and the global frame.\n",
    "\n",
    "The return expression in the body of `sqrt_update` can resolve a value for `a`\n",
    "by following this chain of frames. Looking up a name finds the first value\n",
    "bound to that name in the current environment. Python checks first in the\n",
    "`sqrt_update` frame -- no `a` exists. Python checks next in the parent frame,\n",
    "`f1`, and finds a binding for `a` to 256.\n",
    "\n",
    "Hence, we realize two key advantages of lexical scoping in Python.\n",
    "\n",
    "  * The names of a local function do not interfere with names external to the function in which it is defined, because the local function name will be bound in the current local environment in which it was defined, rather than the global environment.\n",
    "  * A local function can access the environment of the enclosing function, because the body of the local function is evaluated in an environment that extends the evaluation environment in which it was defined.\n",
    "\n",
    "The `sqrt_update` function carries with it some data: the value for `a`\n",
    "referenced in the environment in which it was defined. Because they \"enclose\"\n",
    "information in this way, locally defined functions are often called\n",
    "_closures_.\n",
    "\n",
    "### 1.6.4 Functions as Returned Values\n",
    "\n",
    "**Video:** Show Hide\n",
    "\n",
    "We can achieve even more expressive power in our programs by creating\n",
    "functions whose returned values are themselves functions. An important feature\n",
    "of lexically scoped programming languages is that locally defined functions\n",
    "maintain their parent environment when they are returned. The following\n",
    "example illustrates the utility of this feature.\n",
    "\n",
    "Once many simple functions are defined, function _composition_ is a natural\n",
    "method of combination to include in our programming language. That is, given\n",
    "two functions `f(x)` and `g(x)`, we might want to define `h(x) = f(g(x))`. We\n",
    "can define function composition using our existing tools:\n",
    "\n",
    "\n",
    "​"
   ]
  },
  {
   "cell_type": "code",
   "execution_count": null,
   "id": "936ef110",
   "metadata": {},
   "outputs": [],
   "source": [
    ">>> def compose1(f, g):\n",
    "        def h(x):\n",
    "            return f(g(x))\n",
    "        return h\n"
   ]
  },
  {
   "cell_type": "markdown",
   "id": "a6f3e61c",
   "metadata": {},
   "source": [
    "The environment diagram for this example shows how the names `f` and `g` are\n",
    "resolved correctly, even in the presence of conflicting names.\n",
    "\n",
    "def square(x): return x * x def successor(x): return x + 1 def compose1(f, g):\n",
    "def h(x): return f(g(x)) return h def f(x): \"\"\"Never called.\"\"\" return -x\n",
    "square_successor = compose1(square, successor) result = square_successor(12)\n",
    "\n",
    "The 1 in `compose1` is meant to signify that the composed functions all take a\n",
    "single argument. This naming convention is not enforced by the interpreter;\n",
    "the 1 is just part of the function name.\n",
    "\n",
    "At this point, we begin to observe the benefits of our effort to define\n",
    "precisely the environment model of computation. No modification to our\n",
    "environment model is required to explain our ability to return functions in\n",
    "this way.\n",
    "\n",
    "### 1.6.5 Example: Newton's Method\n",
    "\n",
    "**Video:** Show Hide\n",
    "\n",
    "This extended example shows how function return values and local definitions\n",
    "can work together to express general ideas concisely. We will implement an\n",
    "algorithm that is used broadly in machine learning, scientific computing,\n",
    "hardware design, and optimization.\n",
    "\n",
    "Newton's method is a classic iterative approach to finding the arguments of a\n",
    "mathematical function that yield a return value of 0. These values are called\n",
    "the _zeros_ of the function. Finding a zero of a function is often equivalent\n",
    "to solving some other problem of interest, such as computing a square root.\n",
    "\n",
    "A motivating comment before we proceed: it is easy to take for granted the\n",
    "fact that we know how to compute square roots. Not just Python, but your\n",
    "phone, web browser, or pocket calculator can do so for you. However, part of\n",
    "learning computer science is understanding how quantities like these can be\n",
    "computed, and the general approach presented here is applicable to solving a\n",
    "large class of equations beyond those built into Python.\n",
    "\n",
    "Newton's method is an iterative improvement algorithm: it improves a guess of\n",
    "the zero for any function that is _differentiable_ , which means that it can\n",
    "be approximated by a straight line at any point. Newton's method follows these\n",
    "linear approximations to find function zeros.\n",
    "\n",
    "Imagine a line through the point $(x, f(x))$ that has the same slope as the\n",
    "curve for function $f(x)$ at that point. Such a line is called the _tangent_ ,\n",
    "and its slope is called the _derivative_ of $f$ at $x$.\n",
    "\n",
    "This line's slope is the ratio of the change in function value to the change\n",
    "in function argument. Hence, translating $x$ by $f(x)$ divided by the slope\n",
    "will give the argument value at which this tangent line touches 0.\n",
    "\n",
    "![](http://www.composingprograms.com/img/newton.png)\n",
    "\n",
    "A `newton_update` expresses the computational process of following this\n",
    "tangent line to 0, for a function `f` and its derivative `df`.\n",
    "\n",
    "\n",
    "​"
   ]
  },
  {
   "cell_type": "code",
   "execution_count": null,
   "id": "ff4cb98a",
   "metadata": {},
   "outputs": [],
   "source": [
    ">>> def newton_update(f, df):\n",
    "        def update(x):\n",
    "            return x - f(x) / df(x)\n",
    "        return update\n"
   ]
  },
  {
   "cell_type": "markdown",
   "id": "48f7dd72",
   "metadata": {},
   "source": [
    "Finally, we can define the `find_root` function in terms of `newton_update`,\n",
    "our `improve` algorithm, and a comparison to see if $f(x)$ is near 0.\n",
    "\n",
    "\n",
    "​"
   ]
  },
  {
   "cell_type": "code",
   "execution_count": null,
   "id": "b8391b43",
   "metadata": {},
   "outputs": [],
   "source": [
    ">>> def find_zero(f, df):\n",
    "        def near_zero(x):\n",
    "            return approx_eq(f(x), 0)\n",
    "        return improve(newton_update(f, df), near_zero)\n"
   ]
  },
  {
   "cell_type": "markdown",
   "id": "703d35e6",
   "metadata": {},
   "source": [
    "**Computing Roots.** Using Newton's method, we can compute roots of arbitrary\n",
    "degree $n$. The degree $n$ root of $a$ is $x$ such that $x \\cdot x \\cdot x\n",
    "\\dots x = a$ with $x$ repeated $n$ times. For example,\n",
    "\n",
    "  * The square (second) root of 64 is 8, because $8 \\cdot 8 = 64$.\n",
    "  * The cube (third) root of 64 is 4, because $4 \\cdot 4 \\cdot 4 = 64$.\n",
    "  * The sixth root of 64 is 2, because $2 \\cdot 2 \\cdot 2 \\cdot 2 \\cdot 2 \\cdot 2 = 64$.\n",
    "\n",
    "We can compute roots using Newton's method with the following observations:\n",
    "\n",
    "  * The square root of 64 (written $\\sqrt{64}$) is the value $x$ such that $x^2 - 64 = 0$\n",
    "  * More generally, the degree $n$ root of $a$ (written $\\sqrt[n]{a}$) is the value $x$ such that $x^n - a = 0$\n",
    "\n",
    "If we can find a zero of this last equation, then we can compute degree $n$\n",
    "roots. By plotting the curves for $n$ equal to 2, 3, and 6 and $a$ equal to\n",
    "64, we can visualize this relationship.\n",
    "\n",
    "![](http://www.composingprograms.com/img/curves.png)\n",
    "\n",
    "**Video:** Show Hide\n",
    "\n",
    "We first implement `square_root` by defining `f` and its derivative `df`. We\n",
    "use from calculus the fact that the derivative of $f(x) = x^2 - a$ is the\n",
    "linear function $df(x) = 2x$.\n",
    "\n",
    "\n",
    "​"
   ]
  },
  {
   "cell_type": "code",
   "execution_count": null,
   "id": "9eeba7c7",
   "metadata": {},
   "outputs": [],
   "source": [
    ">>> def square_root_newton(a):\n",
    "        def f(x):\n",
    "            return x * x - a\n",
    "        def df(x):\n",
    "            return 2 * x\n",
    "        return find_zero(f, df)\n"
   ]
  },
  {
   "cell_type": "markdown",
   "id": "ed497b99",
   "metadata": {},
   "source": [
    "​    \n",
    "​"
   ]
  },
  {
   "cell_type": "code",
   "execution_count": null,
   "id": "67d4df6e",
   "metadata": {},
   "outputs": [],
   "source": [
    ">>> square_root_newton(64)\n",
    "8.0\n"
   ]
  },
  {
   "cell_type": "markdown",
   "id": "860bc9c4",
   "metadata": {},
   "source": [
    "Generalizing to roots of arbitrary degree $n$, we compute $f(x) = x^n - a$ and\n",
    "its derivative $df(x) = n \\cdot x^{n-1}$.\n",
    "\n",
    "\n",
    "​"
   ]
  },
  {
   "cell_type": "code",
   "execution_count": null,
   "id": "505430c3",
   "metadata": {},
   "outputs": [],
   "source": [
    ">>> def power(x, n):\n",
    "        \"\"\"Return x * x * x * ... * x for x repeated n times.\"\"\"\n",
    "        product, k = 1, 0\n",
    "        while k < n:\n",
    "            product, k = product * x, k + 1\n",
    "        return product\n"
   ]
  },
  {
   "cell_type": "markdown",
   "id": "c56c83ec",
   "metadata": {},
   "source": [
    "​    \n",
    "​"
   ]
  },
  {
   "cell_type": "code",
   "execution_count": null,
   "id": "d74a9f5e",
   "metadata": {},
   "outputs": [],
   "source": [
    ">>> def nth_root_of_a(n, a):\n",
    "        def f(x):\n",
    "            return power(x, n) - a\n",
    "        def df(x):\n",
    "            return n * power(x, n-1)\n",
    "        return find_zero(f, df)\n"
   ]
  },
  {
   "cell_type": "markdown",
   "id": "7b1a7deb",
   "metadata": {},
   "source": [
    "​    \n",
    "​"
   ]
  },
  {
   "cell_type": "code",
   "execution_count": null,
   "id": "c746c61d",
   "metadata": {},
   "outputs": [],
   "source": [
    ">>> nth_root_of_a(2, 64)\n",
    "8.0\n",
    ">>> nth_root_of_a(3, 64)\n",
    "4.0\n",
    ">>> nth_root_of_a(6, 64)\n",
    "2.0\n"
   ]
  },
  {
   "cell_type": "markdown",
   "id": "dd58dee3",
   "metadata": {},
   "source": [
    "The approximation error in all of these computations can be reduced by\n",
    "changing the `tolerance` in `approx_eq` to a smaller number.\n",
    "\n",
    "As you experiment with Newton's method, be aware that it will not always\n",
    "converge. The initial guess of `improve` must be sufficiently close to the\n",
    "zero, and various conditions about the function must be met. Despite this\n",
    "shortcoming, Newton's method is a powerful general computational method for\n",
    "solving differentiable equations. Very fast algorithms for logarithms and\n",
    "large integer division employ variants of the technique in modern computers.\n",
    "\n",
    "### 1.6.6 Currying\n",
    "\n",
    "**Video:** Show Hide\n",
    "\n",
    "We can use higher-order functions to convert a function that takes multiple\n",
    "arguments into a chain of functions that each take a single argument. More\n",
    "specifically, given a function `f(x, y)`, we can define a function `g` such\n",
    "that `g(x)(y)` is equivalent to `f(x, y)`. Here, `g` is a higher-order\n",
    "function that takes in a single argument `x` and returns another function that\n",
    "takes in a single argument `y`. This transformation is called _currying_.\n",
    "\n",
    "As an example, we can define a curried version of the `pow` function:\n",
    "\n",
    "\n",
    "​"
   ]
  },
  {
   "cell_type": "code",
   "execution_count": null,
   "id": "f8a34655",
   "metadata": {},
   "outputs": [],
   "source": [
    ">>> def curried_pow(x):\n",
    "        def h(y):\n",
    "            return pow(x, y)\n",
    "        return h\n"
   ]
  },
  {
   "cell_type": "markdown",
   "id": "1f7834c6",
   "metadata": {},
   "source": [
    "​    \n",
    "​"
   ]
  },
  {
   "cell_type": "code",
   "execution_count": null,
   "id": "6d1fa47b",
   "metadata": {},
   "outputs": [],
   "source": [
    ">>> curried_pow(2)(3)\n",
    "8\n"
   ]
  },
  {
   "cell_type": "markdown",
   "id": "97b5525d",
   "metadata": {},
   "source": [
    "Some programming languages, such as Haskell, only allow functions that take a\n",
    "single argument, so the programmer must curry all multi-argument procedures.\n",
    "In more general languages such as Python, currying is useful when we require a\n",
    "function that takes in only a single argument. For example, the _map_ pattern\n",
    "applies a single-argument function to a sequence of values. In later chapters,\n",
    "we will see more general examples of the map pattern, but for now, we can\n",
    "implement the pattern in a function:\n",
    "\n",
    "\n",
    "​"
   ]
  },
  {
   "cell_type": "code",
   "execution_count": null,
   "id": "0eba9bb9",
   "metadata": {},
   "outputs": [],
   "source": [
    ">>> def map_to_range(start, end, f):\n",
    "        while start < end:\n",
    "            print(f(start))\n",
    "            start = start + 1\n"
   ]
  },
  {
   "cell_type": "markdown",
   "id": "a8086c7a",
   "metadata": {},
   "source": [
    "We can use `map_to_range` and `curried_pow` to compute the first ten powers of\n",
    "two, rather than specifically writing a function to do so:\n",
    "\n",
    "\n",
    "​"
   ]
  },
  {
   "cell_type": "code",
   "execution_count": null,
   "id": "502713b0",
   "metadata": {},
   "outputs": [],
   "source": [
    ">>> map_to_range(0, 10, curried_pow(2))\n",
    "1\n",
    "2\n",
    "4\n",
    "8\n",
    "16\n",
    "32\n",
    "64\n",
    "128\n",
    "256\n",
    "512\n"
   ]
  },
  {
   "cell_type": "markdown",
   "id": "757d2c2b",
   "metadata": {},
   "source": [
    "We can similarly use the same two functions to compute powers of other\n",
    "numbers. Currying allows us to do so without writing a specific function for\n",
    "each number whose powers we wish to compute.\n",
    "\n",
    "In the above examples, we manually performed the currying transformation on\n",
    "the `pow` function to obtain `curried_pow`. Instead, we can define functions\n",
    "to automate currying, as well as the inverse _uncurrying_ transformation:\n",
    "\n",
    "\n",
    "​"
   ]
  },
  {
   "cell_type": "code",
   "execution_count": null,
   "id": "7523ddc9",
   "metadata": {},
   "outputs": [],
   "source": [
    ">>> def curry2(f):\n",
    "        \"\"\"Return a curried version of the given two-argument function.\"\"\"\n",
    "        def g(x):\n",
    "            def h(y):\n",
    "                return f(x, y)\n",
    "            return h\n",
    "        return g\n"
   ]
  },
  {
   "cell_type": "markdown",
   "id": "8a10cbd1",
   "metadata": {},
   "source": [
    "​    \n",
    "​"
   ]
  },
  {
   "cell_type": "code",
   "execution_count": null,
   "id": "374f17a4",
   "metadata": {},
   "outputs": [],
   "source": [
    ">>> def uncurry2(g):\n",
    "        \"\"\"Return a two-argument version of the given curried function.\"\"\"\n",
    "        def f(x, y):\n",
    "            return g(x)(y)\n",
    "        return f\n"
   ]
  },
  {
   "cell_type": "markdown",
   "id": "2255d27c",
   "metadata": {},
   "source": [
    "​    \n",
    "​"
   ]
  },
  {
   "cell_type": "code",
   "execution_count": null,
   "id": "ad70b280",
   "metadata": {},
   "outputs": [],
   "source": [
    ">>> pow_curried = curry2(pow)\n",
    ">>> pow_curried(2)(5)\n",
    "32\n",
    ">>> map_to_range(0, 10, pow_curried(2))\n",
    "1\n",
    "2\n",
    "4\n",
    "8\n",
    "16\n",
    "32\n",
    "64\n",
    "128\n",
    "256\n",
    "512\n"
   ]
  },
  {
   "cell_type": "markdown",
   "id": "a82a6356",
   "metadata": {},
   "source": [
    "The `curry2` function takes in a two-argument function `f` and returns a\n",
    "single-argument function `g`. When `g` is applied to an argument `x`, it\n",
    "returns a single-argument function `h`. When `h` is applied to `y`, it calls\n",
    "`f(x, y)`. Thus, `curry2(f)(x)(y)` is equivalent to `f(x, y)`. The `uncurry2`\n",
    "function reverses the currying transformation, so that `uncurry2(curry2(f))`\n",
    "is equivalent to `f`.\n",
    "\n",
    "\n",
    "​"
   ]
  },
  {
   "cell_type": "code",
   "execution_count": null,
   "id": "5c6da42e",
   "metadata": {},
   "outputs": [],
   "source": [
    ">>> uncurry2(pow_curried)(2, 5)\n",
    "32\n"
   ]
  },
  {
   "cell_type": "markdown",
   "id": "08795f49",
   "metadata": {},
   "source": [
    "### 1.6.7 Lambda Expressions\n",
    "\n",
    "**Video:** Show Hide\n",
    "\n",
    "So far, each time we have wanted to define a new function, we needed to give\n",
    "it a name. But for other types of expressions, we don't need to associate\n",
    "intermediate values with a name. That is, we can compute `a*b + c*d` without\n",
    "having to name the subexpressions `a*b` or `c*d`, or the full expression. In\n",
    "Python, we can create function values on the fly using `lambda` expressions,\n",
    "which evaluate to unnamed functions. A lambda expression evaluates to a\n",
    "function that has a single return expression as its body. Assignment and\n",
    "control statements are not allowed.\n",
    "\n",
    "\n",
    "​"
   ]
  },
  {
   "cell_type": "code",
   "execution_count": null,
   "id": "3b028e9e",
   "metadata": {},
   "outputs": [],
   "source": [
    ">>> def compose1(f, g):\n",
    "        return lambda x: f(g(x))\n"
   ]
  },
  {
   "cell_type": "markdown",
   "id": "feb0129c",
   "metadata": {},
   "source": [
    "We can understand the structure of a `lambda` expression by constructing a\n",
    "corresponding English sentence:\n",
    "\n",
    "\n",
    "​"
   ]
  },
  {
   "cell_type": "code",
   "execution_count": null,
   "id": "ea2307ed",
   "metadata": {},
   "outputs": [],
   "source": [
    "lambda            x            :          f(g(x))\n",
    "    \"A function that    takes x    and returns     f(g(x))\"\n"
   ]
  },
  {
   "cell_type": "markdown",
   "id": "980751df",
   "metadata": {},
   "source": [
    "The result of a lambda expression is called a lambda function. It has no\n",
    "intrinsic name (and so Python prints `<lambda>` for the name), but otherwise\n",
    "it behaves like any other function.\n",
    "\n",
    "\n",
    "​"
   ]
  },
  {
   "cell_type": "code",
   "execution_count": null,
   "id": "0f29b64b",
   "metadata": {},
   "outputs": [],
   "source": [
    ">>> s = lambda x: x * x\n",
    ">>> s\n",
    "<function <lambda> at 0xf3f490>\n",
    ">>> s(12)\n",
    "144\n"
   ]
  },
  {
   "cell_type": "markdown",
   "id": "53f3f019",
   "metadata": {},
   "source": [
    "In an environment diagram, the result of a lambda expression is a function as\n",
    "well, named with the greek letter Î» (lambda). Our compose example can be\n",
    "expressed quite compactly with lambda expressions.\n",
    "\n",
    "def compose1(f, g): return lambda x: f(g(x)) f = compose1(lambda x: x * x,\n",
    "lambda y: y + 1) result = f(12)\n",
    "\n",
    "Some programmers find that using unnamed functions from lambda expressions to\n",
    "be shorter and more direct. However, compound `lambda` expressions are\n",
    "notoriously illegible, despite their brevity. The following definition is\n",
    "correct, but many programmers have trouble understanding it quickly.\n",
    "\n",
    "\n",
    "​"
   ]
  },
  {
   "cell_type": "code",
   "execution_count": null,
   "id": "89eecbf5",
   "metadata": {},
   "outputs": [],
   "source": [
    ">>> compose1 = lambda f,g: lambda x: f(g(x))\n"
   ]
  },
  {
   "cell_type": "markdown",
   "id": "4b99ae57",
   "metadata": {},
   "source": [
    "In general, Python style prefers explicit `def` statements to lambda\n",
    "expressions, but allows them in cases where a simple function is needed as an\n",
    "argument or return value.\n",
    "\n",
    "Such stylistic rules are merely guidelines; you can program any way you wish.\n",
    "However, as you write programs, think about the audience of people who might\n",
    "read your program one day. When you can make your program easier to\n",
    "understand, you do those people a favor.\n",
    "\n",
    "The term _lambda_ is a historical accident resulting from the incompatibility\n",
    "of written mathematical notation and the constraints of early type-setting\n",
    "systems.\n",
    "\n",
    "> It may seem perverse to use lambda to introduce a procedure/function. The\n",
    "> notation goes back to Alonzo Church, who in the 1930's started with a \"hat\"\n",
    "> symbol; he wrote the square function as \"Å· . y Ã y\". But frustrated\n",
    "> typographers moved the hat to the left of the parameter and changed it to a\n",
    "> capital lambda: \"Îy . y Ã y\"; from there the capital lambda was changed to\n",
    "> lowercase, and now we see \"Î»y . y Ã y\" in math books and `(lambda (y) (* y\n",
    "> y))` in Lisp.\n",
    ">\n",
    "> Peter Norvig (norvig.com/lispy2.html)\n",
    "\n",
    "Despite their unusual etymology, `lambda` expressions and the corresponding\n",
    "formal language for function application, the _lambda calculus_ , are\n",
    "fundamental computer science concepts shared far beyond the Python programming\n",
    "community. We will revisit this topic when we study the design of interpreters\n",
    "in Chapter 3.\n",
    "\n",
    "### 1.6.8 Abstractions and First-Class Functions\n",
    "\n",
    "**Video:** Show Hide\n",
    "\n",
    "We began this section with the observation that user-defined functions are a\n",
    "crucial abstraction mechanism, because they permit us to express general\n",
    "methods of computing as explicit elements in our programming language. Now\n",
    "we've seen how higher-order functions permit us to manipulate these general\n",
    "methods to create further abstractions.\n",
    "\n",
    "As programmers, we should be alert to opportunities to identify the underlying\n",
    "abstractions in our programs, build upon them, and generalize them to create\n",
    "more powerful abstractions. This is not to say that one should always write\n",
    "programs in the most abstract way possible; expert programmers know how to\n",
    "choose the level of abstraction appropriate to their task. But it is important\n",
    "to be able to think in terms of these abstractions, so that we can be ready to\n",
    "apply them in new contexts. The significance of higher-order functions is that\n",
    "they enable us to represent these abstractions explicitly as elements in our\n",
    "programming language, so that they can be handled just like other\n",
    "computational elements.\n",
    "\n",
    "In general, programming languages impose restrictions on the ways in which\n",
    "computational elements can be manipulated. Elements with the fewest\n",
    "restrictions are said to have first-class status. Some of the \"rights and\n",
    "privileges\" of first-class elements are:"
   ]
  },
  {
   "cell_type": "code",
   "execution_count": null,
   "id": "134fd489",
   "metadata": {},
   "outputs": [],
   "source": [
    "1. They may be bound to names.\n",
    "2. They may be passed as arguments to functions.\n",
    "3. They may be returned as the results of functions.\n",
    "4. They may be included in data structures."
   ]
  },
  {
   "cell_type": "markdown",
   "id": "93851cf0",
   "metadata": {},
   "source": [
    "Python awards functions full first-class status, and the resulting gain in\n",
    "expressive power is enormous.\n",
    "\n",
    "### 1.6.9 Function Decorators\n",
    "\n",
    "**Video:** Show Hide\n",
    "\n",
    "Python provides special syntax to apply higher-order functions as part of\n",
    "executing a `def` statement, called a decorator. Perhaps the most common\n",
    "example is a trace.\n",
    "\n",
    "\n",
    "​"
   ]
  },
  {
   "cell_type": "code",
   "execution_count": null,
   "id": "caf7c734",
   "metadata": {},
   "outputs": [],
   "source": [
    ">>> def trace(fn):\n",
    "        def wrapped(x):\n",
    "            print('-> ', fn, '(', x, ')')\n",
    "            return fn(x)\n",
    "        return wrapped\n"
   ]
  },
  {
   "cell_type": "markdown",
   "id": "70e1468b",
   "metadata": {},
   "source": [
    "​    \n",
    "​"
   ]
  },
  {
   "cell_type": "code",
   "execution_count": null,
   "id": "8cc5c337",
   "metadata": {},
   "outputs": [],
   "source": [
    ">>> @trace\n",
    "    def triple(x):\n",
    "        return 3 * x\n"
   ]
  },
  {
   "cell_type": "markdown",
   "id": "5df2d6d7",
   "metadata": {},
   "source": [
    "​    \n",
    "​"
   ]
  },
  {
   "cell_type": "code",
   "execution_count": null,
   "id": "2774ec5d",
   "metadata": {},
   "outputs": [],
   "source": [
    ">>> triple(12)\n",
    "->  <function triple at 0x102a39848> ( 12 )\n",
    "36\n"
   ]
  },
  {
   "cell_type": "markdown",
   "id": "f34081e0",
   "metadata": {},
   "source": [
    "In this example, A higher-order function `trace` is defined, which returns a\n",
    "function that precedes a call to its argument with a `print` statement that\n",
    "outputs the argument. The `def` statement for `triple` has an annotation,\n",
    "`@trace`, which affects the execution rule for `def`. As usual, the function\n",
    "`triple` is created. However, the name `triple` is not bound to this function.\n",
    "Instead, the name `triple` is bound to the returned function value of calling\n",
    "`trace` on the newly defined `triple` function. In code, this decorator is\n",
    "equivalent to:\n",
    "\n",
    "\n",
    "​"
   ]
  },
  {
   "cell_type": "code",
   "execution_count": null,
   "id": "f68ddc54",
   "metadata": {},
   "outputs": [],
   "source": [
    ">>> def triple(x):\n",
    "        return 3 * x\n"
   ]
  },
  {
   "cell_type": "markdown",
   "id": "0ffd47b9",
   "metadata": {},
   "source": [
    "​    \n",
    "​"
   ]
  },
  {
   "cell_type": "code",
   "execution_count": null,
   "id": "b1bcf8b0",
   "metadata": {},
   "outputs": [],
   "source": [
    ">>> triple = trace(triple)\n"
   ]
  },
  {
   "cell_type": "markdown",
   "id": "fb993796",
   "metadata": {},
   "source": [
    "In the projects associated with this text, decorators are used for tracing, as\n",
    "well as selecting which functions to call when a program is run from the\n",
    "command line.\n",
    "\n",
    "**Extra for experts.** The decorator symbol `@` may also be followed by a call\n",
    "expression. The expression following `@` is evaluated first (just as the name\n",
    "`trace` was evaluated above), the `def` statement second, and finally the\n",
    "result of evaluating the decorator expression is applied to the newly defined\n",
    "function, and the result is bound to the name in the `def` statement. A [short\n",
    "tutorial on\n",
    "decorators](http://programmingbits.pythonblogs.com/27_programmingbits/archive/50_function_decorators.html)\n",
    "by Ariel Ortiz gives further examples for interested students.\n",
    "\n",
    "_Continue_ : [ 1.7 Recursive Functions ](../pages/17-recursive-functions.html)\n",
    "\n",
    "## 1.7 Recursive Functions\n",
    "\n",
    "**Video:** Show Hide\n",
    "\n",
    "A function is called _recursive_ if the body of the function calls the\n",
    "function itself, either directly or indirectly. That is, the process of\n",
    "executing the body of a recursive function may in turn require applying that\n",
    "function again. Recursive functions do not use any special syntax in Python,\n",
    "but they do require some effort to understand and create.\n",
    "\n",
    "We'll begin with an example problem: write a function that sums the digits of\n",
    "a natural number. When designing recursive functions, we look for ways in\n",
    "which a problem can be broken down into simpler problems. In this case, the\n",
    "operators `%` and `//` can be used to separate a number into two parts: its\n",
    "last digit and all but its last digit.\n",
    "\n",
    "\n",
    "​"
   ]
  },
  {
   "cell_type": "code",
   "execution_count": null,
   "id": "71a46e80",
   "metadata": {},
   "outputs": [],
   "source": [
    ">>> 18117 % 10\n",
    "7\n",
    ">>> 18117 // 10\n",
    "1811\n"
   ]
  },
  {
   "cell_type": "markdown",
   "id": "d391961d",
   "metadata": {},
   "source": [
    "The sum of the digits of 18117 is `1+8+1+1+7 = 18`. Just as we can separate\n",
    "the number, we can separate this sum into the last digit, 7, and the sum of\n",
    "all but the last digit, `1+8+1+1 = 11`. This separation gives us an algorithm:\n",
    "to sum the digits of a number `n`, add its last digit `n % 10` to the sum of\n",
    "the digits of `n // 10`. There's one special case: if a number has only one\n",
    "digit, then the sum of its digits is itself. This algorithm can be implemented\n",
    "as a recursive function.\n",
    "\n",
    "\n",
    "​"
   ]
  },
  {
   "cell_type": "code",
   "execution_count": null,
   "id": "16bec613",
   "metadata": {},
   "outputs": [],
   "source": [
    ">>> def sum_digits(n):\n",
    "        \"\"\"Return the sum of the digits of positive integer n.\"\"\"\n",
    "        if n < 10:\n",
    "            return n\n",
    "        else:\n",
    "            all_but_last, last = n // 10, n % 10\n",
    "            return sum_digits(all_but_last) + last\n"
   ]
  },
  {
   "cell_type": "markdown",
   "id": "38de5545",
   "metadata": {},
   "source": [
    "This definition of `sum_digits` is both complete and correct, even though the\n",
    "`sum_digits` function is called within its own body. The problem of summing\n",
    "the digits of a number is broken down into two steps: summing all but the last\n",
    "digit, then adding the last digit. Both of these steps are simpler than the\n",
    "original problem. The function is recursive because the first step is the same\n",
    "kind of problem as the original problem. That is, `sum_digits` is exactly the\n",
    "function we need in order to implement `sum_digits`.\n",
    "\n",
    "\n",
    "​"
   ]
  },
  {
   "cell_type": "code",
   "execution_count": null,
   "id": "acbfb313",
   "metadata": {},
   "outputs": [],
   "source": [
    ">>> sum_digits(9)\n",
    "9\n",
    ">>> sum_digits(18117)\n",
    "18\n",
    ">>> sum_digits(9437184)\n",
    "36\n",
    ">>> sum_digits(11408855402054064613470328848384)\n",
    "126\n"
   ]
  },
  {
   "cell_type": "markdown",
   "id": "e97842cb",
   "metadata": {},
   "source": [
    "We can understand precisely how this recursive function applies successfully\n",
    "using our environment model of computation. No new rules are required.\n",
    "\n",
    "def sum_digits(n): if n < 10: return n else: all_but_last, last = n // 10, n %\n",
    "10 return sum_digits(all_but_last) + last sum_digits(738)\n",
    "\n",
    "When the `def` statement is executed, the name `sum_digits` is bound to a new\n",
    "function, but the body of that function is not yet executed. Therefore, the\n",
    "circular nature of `sum_digits` is not a problem yet. Then, `sum_digits` is\n",
    "called on 738:"
   ]
  },
  {
   "cell_type": "code",
   "execution_count": null,
   "id": "41f3147e",
   "metadata": {},
   "outputs": [],
   "source": [
    "1. A local frame for `sum_digits` with `n` bound to 738 is created, and the body of `sum_digits` is executed in the environment that starts with that frame.\n",
    "2. Since 738 is not less than 10, the assignment statement on line 4 is executed, splitting 738 into 73 and 8.\n",
    "3. In the following return statement, `sum_digits` is called on 73, the value of `all_but_last` in the current environment.\n",
    "\n",
    "4. Another local frame for `sum_digits` is created, this time with `n` bound to 73. The body of `sum_digits` is again executed in the new environment that starts with this frame.\n",
    "5. Since 73 is also not less than 10, 73 is split into 7 and 3 and `sum_digits` is called on 7, the value of `all_but_last` evaluated in this frame.\n",
    "6. A third local frame for `sum_digits` is created, with `n` bound to 7.\n",
    "7. In the environment starting with this frame, it is true that `n < 10`, and therefore 7 is returned.\n",
    "8. In the second local frame, this return value 7 is summed with 3, the value of `last`, to return 10.\n",
    "9. In the first local frame, this return value 10 is summed with 8, the value of `last`, to return 18."
   ]
  },
  {
   "cell_type": "markdown",
   "id": "28b7cf7c",
   "metadata": {},
   "source": [
    "This recursive function applies correctly, despite its circular character,\n",
    "because it is applied twice, but with a different argument each time.\n",
    "Moreover, the second application was a simpler instance of the digit summing\n",
    "problem than the first. Generate the environment diagram for the call\n",
    "`sum_digits(18117)` to see that each successive call to `sum_digits` takes a\n",
    "smaller argument than the last, until eventually a single-digit input is\n",
    "reached.\n",
    "\n",
    "This example also illustrates how functions with simple bodies can evolve\n",
    "complex computational processes by using recursion.\n",
    "\n",
    "### 1.7.1 The Anatomy of Recursive Functions\n",
    "\n",
    "**Video:** Show Hide\n",
    "\n",
    "A common pattern can be found in the body of many recursive functions. The\n",
    "body begins with a _base case_ , a conditional statement that defines the\n",
    "behavior of the function for the inputs that are simplest to process. In the\n",
    "case of `sum_digits`, the base case is any single-digit argument, and we\n",
    "simply return that argument. Some recursive functions will have multiple base\n",
    "cases.\n",
    "\n",
    "The base cases are then followed by one or more _recursive calls_. Recursive\n",
    "calls always have a certain character: they simplify the original problem.\n",
    "Recursive functions express computation by simplifying problems incrementally.\n",
    "For example, summing the digits of 7 is simpler than summing the digits of 73,\n",
    "which in turn is simpler than summing the digits of 738. For each subsequent\n",
    "call, there is less work left to be done.\n",
    "\n",
    "Recursive functions often solve problems in a different way than the iterative\n",
    "approaches that we have used previously. Consider a function `fact` to compute\n",
    "`n` factorial, where for example `fact(4)` computes $4! = 4 \\cdot 3 \\cdot 2\n",
    "\\cdot 1 = 24$.\n",
    "\n",
    "A natural implementation using a `while` statement accumulates the total by\n",
    "multiplying together each positive integer up to `n`.\n",
    "\n",
    "\n",
    "​"
   ]
  },
  {
   "cell_type": "code",
   "execution_count": null,
   "id": "f14764ab",
   "metadata": {},
   "outputs": [],
   "source": [
    ">>> def fact_iter(n):\n",
    "        total, k = 1, 1\n",
    "        while k <= n:\n",
    "            total, k = total * k, k + 1\n",
    "        return total\n"
   ]
  },
  {
   "cell_type": "markdown",
   "id": "beba4657",
   "metadata": {},
   "source": [
    "​    \n",
    "​"
   ]
  },
  {
   "cell_type": "code",
   "execution_count": null,
   "id": "fe10b6ab",
   "metadata": {},
   "outputs": [],
   "source": [
    ">>> fact_iter(4)\n",
    "24\n"
   ]
  },
  {
   "cell_type": "markdown",
   "id": "e4612b94",
   "metadata": {},
   "source": [
    "On the other hand, a recursive implementation of factorial can express\n",
    "`fact(n)` in terms of `fact(n-1)`, a simpler problem. The base case of the\n",
    "recursion is the simplest form of the problem: `fact(1)` is 1.\n",
    "\n",
    "def fact(n): if n == 1: return 1 else: return n * fact(n-1) fact(4)\n",
    "\n",
    "These two factorial functions differ conceptually. The iterative function\n",
    "constructs the result from the base case of 1 to the final total by\n",
    "successively multiplying in each term. The recursive function, on the other\n",
    "hand, constructs the result directly from the final term, `n`, and the result\n",
    "of the simpler problem, `fact(n-1)`.\n",
    "\n",
    "As the recursion \"unwinds\" through successive applications of the _fact_\n",
    "function to simpler and simpler problem instances, the result is eventually\n",
    "built starting from the base case. The recursion ends by passing the argument\n",
    "1 to `fact`; the result of each call depends on the next until the base case\n",
    "is reached.\n",
    "\n",
    "The correctness of this recursive function is easy to verify from the standard\n",
    "definition of the mathematical function for factorial:\n",
    "\n",
    "\\begin{align*} (n-1)! &= (n-1) \\cdot (n-2) \\cdot \\dots \\cdot 1 \\\\\\ n! &= n\n",
    "\\cdot (n-1) \\cdot (n-2) \\cdot \\dots \\cdot 1 \\\\\\ n! &= n \\cdot (n-1)!\n",
    "\\end{align*}\n",
    "\n",
    "While we can unwind the recursion using our model of computation, it is often\n",
    "clearer to think about recursive calls as functional abstractions. That is, we\n",
    "should not care about how `fact(n-1)` is implemented in the body of `fact`; we\n",
    "should simply trust that it computes the factorial of `n-1`. Treating a\n",
    "recursive call as a functional abstraction has been called a _recursive leap\n",
    "of faith_. We define a function in terms of itself, but simply trust that the\n",
    "simpler cases will work correctly when verifying the correctness of the\n",
    "function. In this example, we trust that `fact(n-1)` will correctly compute\n",
    "`(n-1)!`; we must only check that `n!` is computed correctly if this\n",
    "assumption holds. In this way, verifying the correctness of a recursive\n",
    "function is a form of proof by induction.\n",
    "\n",
    "The functions _fact_iter_ and _fact_ also differ because the former must\n",
    "introduce two additional names, `total` and `k`, that are not required in the\n",
    "recursive implementation. In general, iterative functions must maintain some\n",
    "local state that changes throughout the course of computation. At any point in\n",
    "the iteration, that state characterizes the result of completed work and the\n",
    "amount of work remaining. For example, when `k` is 3 and total is 2, there are\n",
    "still two terms remaining to be processed, 3 and 4. On the other hand, _fact_\n",
    "is characterized by its single argument `n`. The state of the computation is\n",
    "entirely contained within the structure of the environment, which has return\n",
    "values that take the role of `total`, and binds `n` to different values in\n",
    "different frames rather than explicitly tracking `k`.\n",
    "\n",
    "Recursive functions leverage the rules of evaluating call expressions to bind\n",
    "names to values, often avoiding the nuisance of correctly assigning local\n",
    "names during iteration. For this reason, recursive functions can be easier to\n",
    "define correctly. However, learning to recognize the computational processes\n",
    "evolved by recursive functions certainly requires practice.\n",
    "\n",
    "### 1.7.2 Mutual Recursion\n",
    "\n",
    "**Video:** Show Hide\n",
    "\n",
    "When a recursive procedure is divided among two functions that call each\n",
    "other, the functions are said to be _mutually recursive_. As an example,\n",
    "consider the following definition of even and odd for non-negative integers:\n",
    "\n",
    "  * a number is even if it is one more than an odd number\n",
    "  * a number is odd if it is one more than an even number\n",
    "  * 0 is even\n",
    "\n",
    "Using this definition, we can implement mutually recursive functions to\n",
    "determine whether a number is even or odd:\n",
    "\n",
    "def is_even(n): if n == 0: return True else: return is_odd(n-1) def is_odd(n):\n",
    "if n == 0: return False else: return is_even(n-1) result = is_even(4)\n",
    "\n",
    "Mutually recursive functions can be turned into a single recursive function by\n",
    "breaking the abstraction boundary between the two functions. In this example,\n",
    "the body of `is_odd` can be incorporated into that of `is_even`, making sure\n",
    "to replace `n` with `n-1` in the body of `is_odd` to reflect the argument\n",
    "passed into it:\n",
    "\n",
    "\n",
    "​"
   ]
  },
  {
   "cell_type": "code",
   "execution_count": null,
   "id": "07c38f7a",
   "metadata": {},
   "outputs": [],
   "source": [
    ">>> def is_even(n):\n",
    "        if n == 0:\n",
    "            return True\n",
    "        else:\n",
    "            if (n-1) == 0:\n",
    "                return False\n",
    "            else:\n",
    "                return is_even((n-1)-1)\n"
   ]
  },
  {
   "cell_type": "markdown",
   "id": "a1ec5232",
   "metadata": {},
   "source": [
    "As such, mutual recursion is no more mysterious or powerful than simple\n",
    "recursion, and it provides a mechanism for maintaining abstraction within a\n",
    "complicated recursive program.\n",
    "\n",
    "### 1.7.3 Printing in Recursive Functions\n",
    "\n",
    "**Video:** Show Hide\n",
    "\n",
    "The computational process evolved by a recursive function can often be\n",
    "visualized using calls to `print`. As an example, we will implement a function\n",
    "`cascade` that prints all prefixes of a number from largest to smallest to\n",
    "largest.\n",
    "\n",
    "\n",
    "​"
   ]
  },
  {
   "cell_type": "code",
   "execution_count": null,
   "id": "a57d20fa",
   "metadata": {},
   "outputs": [],
   "source": [
    ">>> def cascade(n):\n",
    "        \"\"\"Print a cascade of prefixes of n.\"\"\"\n",
    "        if n < 10:\n",
    "            print(n)\n",
    "        else:\n",
    "            print(n)\n",
    "            cascade(n//10)\n",
    "            print(n)\n"
   ]
  },
  {
   "cell_type": "markdown",
   "id": "9607e54b",
   "metadata": {},
   "source": [
    "​    \n",
    "​"
   ]
  },
  {
   "cell_type": "code",
   "execution_count": null,
   "id": "6402b0b6",
   "metadata": {},
   "outputs": [],
   "source": [
    ">>> cascade(2013)\n",
    "2013\n",
    "201\n",
    "20\n",
    "2\n",
    "20\n",
    "201\n",
    "2013\n"
   ]
  },
  {
   "cell_type": "markdown",
   "id": "a87e4992",
   "metadata": {},
   "source": [
    "In this recursive function, the base case is a single-digit number, which is\n",
    "printed. Otherwise, a recursive call is placed between two calls to `print`.\n",
    "\n",
    "**Video:** Show Hide\n",
    "\n",
    "It is not a rigid requirement that base cases be expressed before recursive\n",
    "calls. In fact, this function can be expressed more compactly by observing\n",
    "that `print(n)` is repeated in both clauses of the conditional statement, and\n",
    "therefore can precede it.\n",
    "\n",
    "\n",
    "​"
   ]
  },
  {
   "cell_type": "code",
   "execution_count": null,
   "id": "2d948c4a",
   "metadata": {},
   "outputs": [],
   "source": [
    ">>> def cascade(n):\n",
    "        \"\"\"Print a cascade of prefixes of n.\"\"\"\n",
    "        print(n)\n",
    "        if n >= 10:\n",
    "            cascade(n//10)\n",
    "            print(n)\n"
   ]
  },
  {
   "cell_type": "markdown",
   "id": "355637e2",
   "metadata": {},
   "source": [
    "As another example of mutual recursion, consider a two-player game in which\n",
    "there are `n` initial pebbles on a table. The players take turns, removing\n",
    "either one or two pebbles from the table, and the player who removes the final\n",
    "pebble wins. Suppose that Alice and Bob play this game, each using a simple\n",
    "strategy:\n",
    "\n",
    "  * Alice always removes a single pebble\n",
    "  * Bob removes two pebbles if an even number of pebbles is on the table, and one otherwise\n",
    "\n",
    "Given `n` initial pebbles and Alice starting, who wins the game?\n",
    "\n",
    "A natural decomposition of this problem is to encapsulate each strategy in its\n",
    "own function. This allows us to modify one strategy without affecting the\n",
    "other, maintaining the abstraction barrier between the two. In order to\n",
    "incorporate the turn-by-turn nature of the game, these two functions call each\n",
    "other at the end of each turn.\n",
    "\n",
    "\n",
    "​"
   ]
  },
  {
   "cell_type": "code",
   "execution_count": null,
   "id": "89b06d8c",
   "metadata": {},
   "outputs": [],
   "source": [
    ">>> def play_alice(n):\n",
    "        if n == 0:\n",
    "            print(\"Bob wins!\")\n",
    "        else:\n",
    "            play_bob(n-1)\n"
   ]
  },
  {
   "cell_type": "markdown",
   "id": "2b3ae198",
   "metadata": {},
   "source": [
    "​    \n",
    "​"
   ]
  },
  {
   "cell_type": "code",
   "execution_count": null,
   "id": "0a776919",
   "metadata": {},
   "outputs": [],
   "source": [
    ">>> def play_bob(n):\n",
    "        if n == 0:\n",
    "            print(\"Alice wins!\")\n",
    "        elif is_even(n):\n",
    "            play_alice(n-2)\n",
    "        else:\n",
    "            play_alice(n-1)\n"
   ]
  },
  {
   "cell_type": "markdown",
   "id": "8b02e2b3",
   "metadata": {},
   "source": [
    "​    \n",
    "​"
   ]
  },
  {
   "cell_type": "code",
   "execution_count": null,
   "id": "464936c8",
   "metadata": {},
   "outputs": [],
   "source": [
    ">>> play_alice(20)\n",
    "Bob wins!\n"
   ]
  },
  {
   "cell_type": "markdown",
   "id": "b346420c",
   "metadata": {},
   "source": [
    "In `play_bob`, we see that multiple recursive calls may appear in the body of\n",
    "a function. However, in this example, each call to `play_bob` calls\n",
    "`play_alice` at most once. In the next section, we consider what happens when\n",
    "a single function call makes multiple direct recursive calls.\n",
    "\n",
    "### 1.7.4 Tree Recursion\n",
    "\n",
    "**Video:** Show Hide\n",
    "\n",
    "Another common pattern of computation is called tree recursion, in which a\n",
    "function calls itself more than once. As an example, consider computing the\n",
    "sequence of Fibonacci numbers, in which each number is the sum of the\n",
    "preceding two.\n",
    "\n",
    "def fib(n): if n == 1: return 0 if n == 2: return 1 else: return fib(n-2) +\n",
    "fib(n-1) result = fib(6)\n",
    "\n",
    "This recursive definition is tremendously appealing relative to our previous\n",
    "attempts: it exactly mirrors the familiar definition of Fibonacci numbers. A\n",
    "function with multiple recursive calls is said to be _tree recursive_ because\n",
    "each call branches into multiple smaller calls, each of which branches into\n",
    "yet smaller calls, just as the branches of a tree become smaller but more\n",
    "numerous as they extend from the trunk.\n",
    "\n",
    "We were already able to define a function to compute Fibonacci numbers without\n",
    "tree recursion. In fact, our previous attempts were more efficient, a topic\n",
    "discussed later in the text. Next, we consider a problem for which the tree\n",
    "recursive solution is substantially simpler than any iterative alternative.\n",
    "\n",
    "### 1.7.5 Example: Partitions\n",
    "\n",
    "**Video:** Show Hide\n",
    "\n",
    "The number of partitions of a positive integer `n`, using parts up to size\n",
    "`m`, is the number of ways in which `n` can be expressed as the sum of\n",
    "positive integer parts up to `m` in increasing order. For example, the number\n",
    "of partitions of 6 using parts up to 4 is 9."
   ]
  },
  {
   "cell_type": "code",
   "execution_count": null,
   "id": "296ef065",
   "metadata": {},
   "outputs": [],
   "source": [
    "1. `6 = 2 + 4`\n",
    "2. `6 = 1 + 1 + 4`\n",
    "3. `6 = 3 + 3`\n",
    "4. `6 = 1 + 2 + 3`\n",
    "5. `6 = 1 + 1 + 1 + 3`\n",
    "6. `6 = 2 + 2 + 2`\n",
    "7. `6 = 1 + 1 + 2 + 2`\n",
    "8. `6 = 1 + 1 + 1 + 1 + 2`\n",
    "9. `6 = 1 + 1 + 1 + 1 + 1 + 1`"
   ]
  },
  {
   "cell_type": "markdown",
   "id": "9dc3473a",
   "metadata": {},
   "source": [
    "We will define a function `count_partitions(n, m)` that returns the number of\n",
    "different partitions of `n` using parts up to `m`. This function has a simple\n",
    "solution as a tree-recursive function, based on the following observation:\n",
    "\n",
    "The number of ways to partition `n` using integers up to `m` equals"
   ]
  },
  {
   "cell_type": "code",
   "execution_count": null,
   "id": "8d149ff1",
   "metadata": {},
   "outputs": [],
   "source": [
    "1. the number of ways to partition `n-m` using integers up to `m`, and\n",
    "2. the number of ways to partition `n` using integers up to `m-1`."
   ]
  },
  {
   "cell_type": "markdown",
   "id": "a1b7597f",
   "metadata": {},
   "source": [
    "To see why this is true, observe that all the ways of partitioning `n` can be\n",
    "divided into two groups: those that include at least one `m` and those that do\n",
    "not. Moreover, each partition in the first group is a partition of `n-m`,\n",
    "followed by `m` added at the end. In the example above, the first two\n",
    "partitions contain 4, and the rest do not.\n",
    "\n",
    "Therefore, we can recursively reduce the problem of partitioning `n` using\n",
    "integers up to `m` into two simpler problems: (1) partition a smaller number\n",
    "`n-m`, and (2) partition with smaller components up to `m-1`.\n",
    "\n",
    "To complete the implementation, we need to specify the following base cases:"
   ]
  },
  {
   "cell_type": "code",
   "execution_count": null,
   "id": "ef40b39a",
   "metadata": {},
   "outputs": [],
   "source": [
    "1. There is one way to partition 0: include no parts.\n",
    "2. There are 0 ways to partition a negative `n`.\n",
    "3. There are 0 ways to partition any `n` greater than 0 using parts of size 0 or less.\n"
   ]
  },
  {
   "cell_type": "markdown",
   "id": "6007dad8",
   "metadata": {},
   "source": [
    "​"
   ]
  },
  {
   "cell_type": "code",
   "execution_count": null,
   "id": "234c9785",
   "metadata": {},
   "outputs": [],
   "source": [
    ">>> def count_partitions(n, m):\n",
    "        \"\"\"Count the ways to partition n using parts up to m.\"\"\"\n",
    "        if n == 0:\n",
    "            return 1\n",
    "        elif n < 0:\n",
    "            return 0\n",
    "        elif m == 0:\n",
    "            return 0\n",
    "        else:\n",
    "            return count_partitions(n-m, m) + count_partitions(n, m-1)\n"
   ]
  },
  {
   "cell_type": "markdown",
   "id": "0b8a9149",
   "metadata": {},
   "source": [
    "​    \n",
    "​"
   ]
  },
  {
   "cell_type": "code",
   "execution_count": null,
   "id": "7b05bfbf",
   "metadata": {},
   "outputs": [],
   "source": [
    ">>> count_partitions(6, 4)\n",
    "9\n",
    ">>> count_partitions(5, 5)\n",
    "7\n",
    ">>> count_partitions(10, 10)\n",
    "42\n",
    ">>> count_partitions(15, 15)\n",
    "176\n",
    ">>> count_partitions(20, 20)\n",
    "627\n"
   ]
  },
  {
   "cell_type": "markdown",
   "id": "abae99f0",
   "metadata": {},
   "source": [
    "We can think of a tree-recursive function as exploring different\n",
    "possibilities. In this case, we explore the possibility that we use a part of\n",
    "size `m` and the possibility that we do not. The first and second recursive\n",
    "calls correspond to these possibilities.\n",
    "\n",
    "Implementing this function without recursion would be substantially more\n",
    "involved. Interested readers are encouraged to try."
   ]
  }
 ],
 "metadata": {
  "kernelspec": {
   "display_name": "Python 3 (ipykernel)",
   "language": "python",
   "name": "python3"
  },
  "language_info": {
   "codemirror_mode": {
    "name": "ipython",
    "version": 3
   },
   "file_extension": ".py",
   "mimetype": "text/x-python",
   "name": "python",
   "nbconvert_exporter": "python",
   "pygments_lexer": "ipython3",
   "version": "3.12.5"
  }
 },
 "nbformat": 4,
 "nbformat_minor": 5
}
