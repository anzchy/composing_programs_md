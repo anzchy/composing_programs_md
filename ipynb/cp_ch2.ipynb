{
 "cells": [
  {
   "cell_type": "markdown",
   "id": "31c2aa3d",
   "metadata": {},
   "source": [
    "# Chapter 2: Building Abstractions with Data\n",
    "\n",
    "## 2.1 Introduction\n",
    "\n",
    "We concentrated in Chapter 1 on computational processes and on the role of\n",
    "functions in program design. We saw how to use primitive data (numbers) and\n",
    "primitive operations (arithmetic), how to form compound functions through\n",
    "composition and control, and how to create functional abstractions by giving\n",
    "names to processes. We also saw that higher-order functions enhance the power\n",
    "of our language by enabling us to manipulate, and thereby to reason, in terms\n",
    "of general methods of computation. This is much of the essence of programming.\n",
    "\n",
    "This chapter focuses on data. The techniques we investigate here will allow us\n",
    "to represent and manipulate information about many different domains. Due to\n",
    "the explosive growth of the Internet, a vast amount of structured information\n",
    "is freely available to all of us online, and computation can be applied to a\n",
    "vast range of different problems. Effective use of built-in and user-defined\n",
    "data types are fundamental to data processing applications.\n",
    "\n",
    "### 2.1.1 Native Data Types\n",
    "\n",
    "Every value in Python has a _class_ that determines what type of value it is.\n",
    "Values that share a class also share behavior. For example, the integers `1`\n",
    "and `2` are both instances of the `int` class. These two values can be treated\n",
    "similarly. For example, they can both be negated or added to another integer.\n",
    "The built-in `type` function allows us to inspect the class of any value.\n",
    "\n",
    "\n",
    "​"
   ]
  },
  {
   "cell_type": "code",
   "execution_count": null,
   "id": "bcab31eb",
   "metadata": {},
   "outputs": [],
   "source": [
    ">>> type(2)\n",
    "<class 'int'>\n"
   ]
  },
  {
   "cell_type": "markdown",
   "id": "cf41d110",
   "metadata": {},
   "source": [
    "The values we have used so far are instances of a small number of _native_\n",
    "data types that are built into the Python language. Native data types have the\n",
    "following properties:"
   ]
  },
  {
   "cell_type": "code",
   "execution_count": null,
   "id": "134c9f7b",
   "metadata": {},
   "outputs": [],
   "source": [
    "1. There are expressions that evaluate to values of native types, called _literals_.\n",
    "2. There are built-in functions and operators to manipulate values of native types."
   ]
  },
  {
   "cell_type": "markdown",
   "id": "7076653d",
   "metadata": {},
   "source": [
    "The `int` class is the native data type used to represent integers. Integer\n",
    "literals (sequences of adjacent numerals) evaluate to `int` values, and\n",
    "mathematical operators manipulate these values.\n",
    "\n",
    "\n",
    "​"
   ]
  },
  {
   "cell_type": "code",
   "execution_count": null,
   "id": "b3a88c42",
   "metadata": {},
   "outputs": [],
   "source": [
    ">>> 12 + 3000000000000000000000000\n",
    "3000000000000000000000012\n"
   ]
  },
  {
   "cell_type": "markdown",
   "id": "eb2fbdc7",
   "metadata": {},
   "source": [
    "Python includes three native numeric types: integers (`int`), real numbers\n",
    "(`float`), and complex numbers (`complex`).\n",
    "\n",
    "\n",
    "​"
   ]
  },
  {
   "cell_type": "code",
   "execution_count": null,
   "id": "c8406610",
   "metadata": {},
   "outputs": [],
   "source": [
    ">>> type(1.5)\n",
    "<class 'float'>\n",
    ">>> type(1+1j)\n",
    "<class 'complex'>\n"
   ]
  },
  {
   "cell_type": "markdown",
   "id": "082854a2",
   "metadata": {},
   "source": [
    "**Floats.** The name `float` comes from the way in which real numbers are\n",
    "represented in Python and many other programming languages: a \"floating point\"\n",
    "representation. While the details of how numbers are represented is not a\n",
    "topic for this text, some high-level differences between `int` and `float`\n",
    "objects are important to know. In particular, `int` objects represent integers\n",
    "exactly, without any approximation or limits on their size. On the other hand,\n",
    "`float` objects can represent a wide range of fractional numbers, but not all\n",
    "numbers can be represented exactly, and there are minimum and maximum values.\n",
    "Therefore, `float` values should be treated as approximations to real values.\n",
    "These approximations have only a finite amount of precision. Combining `float`\n",
    "values can lead to approximation errors; both of the following expressions\n",
    "would evaluate to `7` if not for approximation.\n",
    "\n",
    "\n",
    "​"
   ]
  },
  {
   "cell_type": "code",
   "execution_count": null,
   "id": "ac988e80",
   "metadata": {},
   "outputs": [],
   "source": [
    ">>> 7 / 3 * 3\n",
    "7.0\n"
   ]
  },
  {
   "cell_type": "markdown",
   "id": "580dcaba",
   "metadata": {},
   "source": [
    "​    \n",
    "​"
   ]
  },
  {
   "cell_type": "code",
   "execution_count": null,
   "id": "7f106f98",
   "metadata": {},
   "outputs": [],
   "source": [
    ">>> 1 / 3 * 7 * 3\n",
    "6.999999999999999\n"
   ]
  },
  {
   "cell_type": "markdown",
   "id": "9b17a01e",
   "metadata": {},
   "source": [
    "Although `int` values are combined above, dividing one `int` by another yields\n",
    "a `float` value: a truncated finite approximation to the actual ratio of the\n",
    "two integers divided.\n",
    "\n",
    "\n",
    "​"
   ]
  },
  {
   "cell_type": "code",
   "execution_count": null,
   "id": "c96f0966",
   "metadata": {},
   "outputs": [],
   "source": [
    ">>> type(1/3)\n",
    "<class 'float'>\n",
    ">>> 1/3\n",
    "0.3333333333333333\n"
   ]
  },
  {
   "cell_type": "markdown",
   "id": "072f994d",
   "metadata": {},
   "source": [
    "Problems with this approximation appear when we conduct equality tests.\n",
    "\n",
    "\n",
    "​"
   ]
  },
  {
   "cell_type": "code",
   "execution_count": null,
   "id": "3d247a96",
   "metadata": {},
   "outputs": [],
   "source": [
    ">>> 1/3 == 0.333333333333333312345  # Beware of float approximation\n",
    "True\n"
   ]
  },
  {
   "cell_type": "markdown",
   "id": "694cb7f1",
   "metadata": {},
   "source": [
    "These subtle differences between the `int` and `float` class have wide-ranging\n",
    "consequences for writing programs, and so they are details that must be\n",
    "memorized by programmers. Fortunately, there are only a handful of native data\n",
    "types, limiting the amount of memorization required to become proficient in a\n",
    "programming language. Moreover, these same details are consistent across many\n",
    "programming languages, enforced by community guidelines such as the [IEEE 754\n",
    "floating point standard](http://en.wikipedia.org/wiki/IEEE_floating_point).\n",
    "\n",
    "**Non-numeric types.** Values can represent many other types of data, such as\n",
    "sounds, images, locations, web addresses, network connections, and more. A few\n",
    "are represented by native data types, such as the `bool` class for values\n",
    "`True` and `False`. The type for most values must be defined by programmers\n",
    "using the means of combination and abstraction that we will develop in this\n",
    "chapter.\n",
    "\n",
    "The following sections introduce more of Python's native data types, focusing\n",
    "on the role they play in creating useful data abstractions. For those\n",
    "interested in further details, a chapter on [native data\n",
    "types](http://getpython3.com/diveintopython3/native-datatypes.html) in the\n",
    "online book Dive Into Python 3 gives a pragmatic overview of all Python's\n",
    "native data types and how to manipulate them, including numerous usage\n",
    "examples and practical tips.\n",
    "\n",
    "_Continue_ : [ 2.2 Data Abstraction ](../pages/22-data-abstraction.html)\n",
    "\n",
    "## 2.2 Data Abstraction\n",
    "\n",
    "As we consider the wide set of things in the world that we would like to\n",
    "represent in our programs, we find that most of them have compound structure.\n",
    "For example, a geographic position has latitude and longitude coordinates. To\n",
    "represent positions, we would like our programming language to have the\n",
    "capacity to couple together a latitude and longitude to form a pair, a\n",
    "_compound data_ value that our programs can manipulate as a single conceptual\n",
    "unit, but which also has two parts that can be considered individually.\n",
    "\n",
    "The use of compound data enables us to increase the modularity of our\n",
    "programs. If we can manipulate geographic positions as whole values, then we\n",
    "can shield parts of our program that compute using positions from the details\n",
    "of how those positions are represented. The general technique of isolating the\n",
    "parts of a program that deal with how data are represented from the parts that\n",
    "deal with how data are manipulated is a powerful design methodology called\n",
    "_data abstraction_. Data abstraction makes programs much easier to design,\n",
    "maintain, and modify.\n",
    "\n",
    "Data abstraction is similar in character to functional abstraction. When we\n",
    "create a functional abstraction, the details of how a function is implemented\n",
    "can be suppressed, and the particular function itself can be replaced by any\n",
    "other function with the same overall behavior. In other words, we can make an\n",
    "abstraction that separates the way the function is used from the details of\n",
    "how the function is implemented. Analogously, data abstraction isolates how a\n",
    "compound data value is used from the details of how it is constructed.\n",
    "\n",
    "The basic idea of data abstraction is to structure programs so that they\n",
    "operate on abstract data. That is, our programs should use data in such a way\n",
    "as to make as few assumptions about the data as possible. At the same time, a\n",
    "concrete data representation is defined as an independent part of the program.\n",
    "\n",
    "These two parts of a program, the part that operates on abstract data and the\n",
    "part that defines a concrete representation, are connected by a small set of\n",
    "functions that implement abstract data in terms of the concrete\n",
    "representation. To illustrate this technique, we will consider how to design a\n",
    "set of functions for manipulating rational numbers.\n",
    "\n",
    "### 2.2.1 Example: Rational Numbers\n",
    "\n",
    "A rational number is a ratio of integers, and rational numbers constitute an\n",
    "important sub-class of real numbers. A rational number such as `1/3` or\n",
    "`17/29` is typically written as:\n",
    "\n",
    "\n",
    "​"
   ]
  },
  {
   "cell_type": "code",
   "execution_count": null,
   "id": "5ef2429a",
   "metadata": {},
   "outputs": [],
   "source": [
    "<numerator>/<denominator>\n"
   ]
  },
  {
   "cell_type": "markdown",
   "id": "a28197f2",
   "metadata": {},
   "source": [
    "where both the `<numerator>` and `<denominator>` are placeholders for integer\n",
    "values. Both parts are needed to exactly characterize the value of the\n",
    "rational number. Actually dividing integers produces a `float` approximation,\n",
    "losing the exact precision of integers.\n",
    "\n",
    "\n",
    "​"
   ]
  },
  {
   "cell_type": "code",
   "execution_count": null,
   "id": "f6345393",
   "metadata": {},
   "outputs": [],
   "source": [
    ">>> 1/3\n",
    "0.3333333333333333\n",
    ">>> 1/3 == 0.333333333333333300000  # Dividing integers yields an approximation\n",
    "True\n"
   ]
  },
  {
   "cell_type": "markdown",
   "id": "76eb4007",
   "metadata": {},
   "source": [
    "However, we can create an exact representation for rational numbers by\n",
    "combining together the numerator and denominator.\n",
    "\n",
    "We know from using functional abstractions that we can start programming\n",
    "productively before we have an implementation of some parts of our program.\n",
    "Let us begin by assuming that we already have a way of constructing a rational\n",
    "number from a numerator and a denominator. We also assume that, given a\n",
    "rational number, we have a way of selecting its numerator and its denominator\n",
    "component. Let us further assume that the constructor and selectors are\n",
    "available as the following three functions:\n",
    "\n",
    "  * `rational(n, d)` returns the rational number with numerator `n` and denominator `d`.\n",
    "  * `numer(x)` returns the numerator of the rational number `x`.\n",
    "  * `denom(x)` returns the denominator of the rational number `x`.\n",
    "\n",
    "We are using here a powerful strategy for designing programs: _wishful\n",
    "thinking_. We haven't yet said how a rational number is represented, or how\n",
    "the functions `numer`, `denom`, and `rational` should be implemented. Even so,\n",
    "if we did define these three functions, we could then add, multiply, print,\n",
    "and test equality of rational numbers:\n",
    "\n",
    "\n",
    "​"
   ]
  },
  {
   "cell_type": "code",
   "execution_count": null,
   "id": "31cf7ed6",
   "metadata": {},
   "outputs": [],
   "source": [
    ">>> def add_rationals(x, y):\n",
    "        nx, dx = numer(x), denom(x)\n",
    "        ny, dy = numer(y), denom(y)\n",
    "        return rational(nx * dy + ny * dx, dx * dy)\n"
   ]
  },
  {
   "cell_type": "markdown",
   "id": "c7628f86",
   "metadata": {},
   "source": [
    "​    \n",
    "​"
   ]
  },
  {
   "cell_type": "code",
   "execution_count": null,
   "id": "4da3ca58",
   "metadata": {},
   "outputs": [],
   "source": [
    ">>> def mul_rationals(x, y):\n",
    "        return rational(numer(x) * numer(y), denom(x) * denom(y))\n"
   ]
  },
  {
   "cell_type": "markdown",
   "id": "e0b75a5e",
   "metadata": {},
   "source": [
    "​    \n",
    "​"
   ]
  },
  {
   "cell_type": "code",
   "execution_count": null,
   "id": "1f4c1369",
   "metadata": {},
   "outputs": [],
   "source": [
    ">>> def print_rational(x):\n",
    "        print(numer(x), '/', denom(x))\n"
   ]
  },
  {
   "cell_type": "markdown",
   "id": "42b6f9a4",
   "metadata": {},
   "source": [
    "​    \n",
    "​"
   ]
  },
  {
   "cell_type": "code",
   "execution_count": null,
   "id": "8e1f481c",
   "metadata": {},
   "outputs": [],
   "source": [
    ">>> def rationals_are_equal(x, y):\n",
    "        return numer(x) * denom(y) == numer(y) * denom(x)\n"
   ]
  },
  {
   "cell_type": "markdown",
   "id": "3e4d7028",
   "metadata": {},
   "source": [
    "Now we have the operations on rational numbers defined in terms of the\n",
    "selector functions `numer` and `denom`, and the constructor function\n",
    "`rational`, but we haven't yet defined these functions. What we need is some\n",
    "way to glue together a numerator and a denominator into a compound value.\n",
    "\n",
    "### 2.2.2 Pairs\n",
    "\n",
    "To enable us to implement the concrete level of our data abstraction, Python\n",
    "provides a compound structure called a `list`, which can be constructed by\n",
    "placing expressions within square brackets separated by commas. Such an\n",
    "expression is called a list literal.\n",
    "\n",
    "\n",
    "​"
   ]
  },
  {
   "cell_type": "code",
   "execution_count": null,
   "id": "f9f4bd3f",
   "metadata": {},
   "outputs": [],
   "source": [
    ">>> [10, 20]\n",
    "[10, 20]\n"
   ]
  },
  {
   "cell_type": "markdown",
   "id": "a0283c6b",
   "metadata": {},
   "source": [
    "The elements of a list can be accessed in two ways. The first way is via our\n",
    "familiar method of multiple assignment, which unpacks a list into its elements\n",
    "and binds each element to a different name.\n",
    "\n",
    "\n",
    "​"
   ]
  },
  {
   "cell_type": "code",
   "execution_count": null,
   "id": "01c61f23",
   "metadata": {},
   "outputs": [],
   "source": [
    ">>> pair = [10, 20]\n",
    ">>> pair\n",
    "[10, 20]\n",
    ">>> x, y = pair\n",
    ">>> x\n",
    "10\n",
    ">>> y\n",
    "20\n"
   ]
  },
  {
   "cell_type": "markdown",
   "id": "017f44d5",
   "metadata": {},
   "source": [
    "A second method for accessing the elements in a list is by the element\n",
    "selection operator, also expressed using square brackets. Unlike a list\n",
    "literal, a square-brackets expression directly following another expression\n",
    "does not evaluate to a `list` value, but instead selects an element from the\n",
    "value of the preceding expression.\n",
    "\n",
    "\n",
    "​"
   ]
  },
  {
   "cell_type": "code",
   "execution_count": null,
   "id": "66c11234",
   "metadata": {},
   "outputs": [],
   "source": [
    ">>> pair[0]\n",
    "10\n",
    ">>> pair[1]\n",
    "20\n"
   ]
  },
  {
   "cell_type": "markdown",
   "id": "2d35ef69",
   "metadata": {},
   "source": [
    "Lists in Python (and sequences in most other programming languages) are\n",
    "0-indexed, meaning that the index 0 selects the first element, index 1 selects\n",
    "the second, and so on. One intuition that supports this indexing convention is\n",
    "that the index represents how far an element is offset from the beginning of\n",
    "the list.\n",
    "\n",
    "The equivalent function for the element selection operator is called\n",
    "`getitem`, and it also uses 0-indexed positions to select elements from a\n",
    "list.\n",
    "\n",
    "\n",
    "​"
   ]
  },
  {
   "cell_type": "code",
   "execution_count": null,
   "id": "bc92b9a7",
   "metadata": {},
   "outputs": [],
   "source": [
    ">>> from operator import getitem\n",
    ">>> getitem(pair, 0)\n",
    "10\n",
    ">>> getitem(pair, 1)\n",
    "20\n"
   ]
  },
  {
   "cell_type": "markdown",
   "id": "66b957c7",
   "metadata": {},
   "source": [
    "Two-element lists are not the only method of representing pairs in Python. Any\n",
    "way of bundling two values together into one can be considered a pair. Lists\n",
    "are a common method to do so. Lists can also contain more than two elements,\n",
    "as we will explore later in the chapter.\n",
    "\n",
    "**Representing Rational Numbers.** We can now represent a rational number as a\n",
    "pair of two integers: a numerator and a denominator.\n",
    "\n",
    "\n",
    "​"
   ]
  },
  {
   "cell_type": "code",
   "execution_count": null,
   "id": "ca25f856",
   "metadata": {},
   "outputs": [],
   "source": [
    ">>> def rational(n, d):\n",
    "        return [n, d]\n"
   ]
  },
  {
   "cell_type": "markdown",
   "id": "fc66b646",
   "metadata": {},
   "source": [
    "​    \n",
    "​"
   ]
  },
  {
   "cell_type": "code",
   "execution_count": null,
   "id": "0b09f1ad",
   "metadata": {},
   "outputs": [],
   "source": [
    ">>> def numer(x):\n",
    "        return x[0]\n"
   ]
  },
  {
   "cell_type": "markdown",
   "id": "a07c48d9",
   "metadata": {},
   "source": [
    "​    \n",
    "​"
   ]
  },
  {
   "cell_type": "code",
   "execution_count": null,
   "id": "388aa2f5",
   "metadata": {},
   "outputs": [],
   "source": [
    ">>> def denom(x):\n",
    "        return x[1]\n"
   ]
  },
  {
   "cell_type": "markdown",
   "id": "1f0bb682",
   "metadata": {},
   "source": [
    "Together with the arithmetic operations we defined earlier, we can manipulate\n",
    "rational numbers with the functions we have defined.\n",
    "\n",
    "\n",
    "​"
   ]
  },
  {
   "cell_type": "code",
   "execution_count": null,
   "id": "ffa186da",
   "metadata": {},
   "outputs": [],
   "source": [
    ">>> half = rational(1, 2)\n",
    ">>> print_rational(half)\n",
    "1 / 2\n",
    ">>> third = rational(1, 3)\n",
    ">>> print_rational(mul_rationals(half, third))\n",
    "1 / 6\n",
    ">>> print_rational(add_rationals(third, third))\n",
    "6 / 9\n"
   ]
  },
  {
   "cell_type": "markdown",
   "id": "6b90d2a1",
   "metadata": {},
   "source": [
    "As the example above shows, our rational number implementation does not reduce\n",
    "rational numbers to lowest terms. We can remedy this flaw by changing the\n",
    "implementation of `rational`. If we have a function for computing the greatest\n",
    "common denominator of two integers, we can use it to reduce the numerator and\n",
    "the denominator to lowest terms before constructing the pair. As with many\n",
    "useful tools, such a function already exists in the Python Library.\n",
    "\n",
    "\n",
    "​"
   ]
  },
  {
   "cell_type": "code",
   "execution_count": null,
   "id": "9c84020e",
   "metadata": {},
   "outputs": [],
   "source": [
    ">>> from fractions import gcd\n",
    ">>> def rational(n, d):\n",
    "        g = gcd(n, d)\n",
    "        return (n//g, d//g)\n"
   ]
  },
  {
   "cell_type": "markdown",
   "id": "b969b01b",
   "metadata": {},
   "source": [
    "The floor division operator, `//`, expresses integer division, which rounds\n",
    "down the fractional part of the result of division. Since we know that `g`\n",
    "divides both `n` and `d` evenly, integer division is exact in this case. This\n",
    "revised `rational` implementation ensures that rationals are expressed in\n",
    "lowest terms.\n",
    "\n",
    "\n",
    "​"
   ]
  },
  {
   "cell_type": "code",
   "execution_count": null,
   "id": "7c034c98",
   "metadata": {},
   "outputs": [],
   "source": [
    ">>> print_rational(add_rationals(third, third))\n",
    "2 / 3\n"
   ]
  },
  {
   "cell_type": "markdown",
   "id": "6d957b3e",
   "metadata": {},
   "source": [
    "This improvement was accomplished by changing the constructor without changing\n",
    "any of the functions that implement the actual arithmetic operations.\n",
    "\n",
    "### 2.2.3 Abstraction Barriers\n",
    "\n",
    "Before continuing with more examples of compound data and data abstraction,\n",
    "let us consider some of the issues raised by the rational number example. We\n",
    "defined operations in terms of a constructor `rational` and selectors `numer`\n",
    "and `denom`. In general, the underlying idea of data abstraction is to\n",
    "identify a basic set of operations in terms of which all manipulations of\n",
    "values of some kind will be expressed, and then to use only those operations\n",
    "in manipulating the data. By restricting the use of operations in this way, it\n",
    "is much easier to change the representation of abstract data without changing\n",
    "the behavior of a program.\n",
    "\n",
    "For rational numbers, different parts of the program manipulate rational\n",
    "numbers using different operations, as described in this table.\n",
    "\n",
    "| **Parts of the program that...**                  | **Treat rationals as...**   | **Using only...**                                            |\n",
    "| ------------------------------------------------- | --------------------------- | ------------------------------------------------------------ |\n",
    "| Use rational numbers to perform computation       | whole data values           | `add_rational, mul_rational, rationals_are_equal, print_rational` |\n",
    "| Create rationals or implement rational operations | numerators and denominators | `rational, numer, denom`                                     |\n",
    "| Implement selectors and constructor for rationals | two-element lists           | list literals and element selection                          |\n",
    "\n",
    "In each layer above, the functions in the final column enforce an abstraction\n",
    "barrier. These functions are called by a higher level and implemented using a\n",
    "lower level of abstraction.\n",
    "\n",
    "An abstraction barrier violation occurs whenever a part of the program that\n",
    "can use a higher level function instead uses a function in a lower level. For\n",
    "example, a function that computes the square of a rational number is best\n",
    "implemented in terms of `mul_rational`, which does not assume anything about\n",
    "the implementation of a rational number.\n",
    "\n",
    "\n",
    "​"
   ]
  },
  {
   "cell_type": "code",
   "execution_count": null,
   "id": "38a79934",
   "metadata": {},
   "outputs": [],
   "source": [
    ">>> def square_rational(x):\n",
    "        return mul_rational(x, x)\n"
   ]
  },
  {
   "cell_type": "markdown",
   "id": "a8bafb26",
   "metadata": {},
   "source": [
    "Referring directly to numerators and denominators would violate one\n",
    "abstraction barrier.\n",
    "\n",
    "\n",
    "​"
   ]
  },
  {
   "cell_type": "code",
   "execution_count": null,
   "id": "fca4aa11",
   "metadata": {},
   "outputs": [],
   "source": [
    ">>> def square_rational_violating_once(x):\n",
    "        return rational(numer(x) * numer(x), denom(x) * denom(x))\n"
   ]
  },
  {
   "cell_type": "markdown",
   "id": "7e51f3b9",
   "metadata": {},
   "source": [
    "Assuming that rationals are represented as two-element lists would violate two\n",
    "abstraction barriers.\n",
    "\n",
    "\n",
    "​"
   ]
  },
  {
   "cell_type": "code",
   "execution_count": null,
   "id": "21a93f57",
   "metadata": {},
   "outputs": [],
   "source": [
    ">>> def square_rational_violating_twice(x):\n",
    "        return [x[0] * x[0], x[1] * x[1]]\n"
   ]
  },
  {
   "cell_type": "markdown",
   "id": "778a7889",
   "metadata": {},
   "source": [
    "Abstraction barriers make programs easier to maintain and to modify. The fewer\n",
    "functions that depend on a particular representation, the fewer changes are\n",
    "required when one wants to change that representation. All of these\n",
    "implementations of `square_rational` have the correct behavior, but only the\n",
    "first is robust to future changes. The `square_rational` function would not\n",
    "require updating even if we altered the representation of rational numbers. By\n",
    "contrast, `square_rational_violating_once` would need to be changed whenever\n",
    "the selector or constructor signatures changed, and\n",
    "`square_rational_violating_twice` would require updating whenever the\n",
    "implementation of rational numbers changed.\n",
    "\n",
    "### 2.2.4 The Properties of Data\n",
    "\n",
    "Abstraction barriers shape the way in which we think about data. A valid\n",
    "representation of a rational number is not restricted to any particular\n",
    "implementation (such as a two-element list); it is a value returned by\n",
    "`rational` that can be passed to `numer`, and `denom`. In addition, the\n",
    "appropriate relationship must hold among the constructor and selectors. That\n",
    "is, if we construct a rational number `x` from integers `n` and `d`, then it\n",
    "should be the case that `numer(x)/denom(x)` is equal to `n/d`.\n",
    "\n",
    "In general, we can express abstract data using a collection of selectors and\n",
    "constructors, together with some behavior conditions. As long as the behavior\n",
    "conditions are met (such as the division property above), the selectors and\n",
    "constructors constitute a valid representation of a kind of data. The\n",
    "implementation details below an abstraction barrier may change, but if the\n",
    "behavior does not, then the data abstraction remains valid, and any program\n",
    "written using this data abstraction will remain correct.\n",
    "\n",
    "This point of view can be applied broadly, including to the pair values that\n",
    "we used to implement rational numbers. We never actually said much about what\n",
    "a pair was, only that the language supplied the means to create and manipulate\n",
    "lists with two elements. The behavior we require to implement a pair is that\n",
    "it glues two values together. Stated as a behavior condition,\n",
    "\n",
    "  * If a pair `p` was constructed from values `x` and `y`, then `select(p, 0)` returns `x`, and `select(p, 1)` returns `y`.\n",
    "\n",
    "We don't actually need the `list` type to create pairs. Instead, we can\n",
    "implement two functions `pair` and `select` that fulfill this description just\n",
    "as well as a two-element list.\n",
    "\n",
    "\n",
    "​"
   ]
  },
  {
   "cell_type": "code",
   "execution_count": null,
   "id": "1269f3d3",
   "metadata": {},
   "outputs": [],
   "source": [
    ">>> def pair(x, y):\n",
    "        \"\"\"Return a function that represents a pair.\"\"\"\n",
    "        def get(index):\n",
    "            if index == 0:\n",
    "                return x\n",
    "            elif index == 1:\n",
    "                return y\n",
    "        return get\n"
   ]
  },
  {
   "cell_type": "markdown",
   "id": "8efaeb76",
   "metadata": {},
   "source": [
    "​    \n",
    "​"
   ]
  },
  {
   "cell_type": "code",
   "execution_count": null,
   "id": "3a313bc9",
   "metadata": {},
   "outputs": [],
   "source": [
    ">>> def select(p, i):\n",
    "        \"\"\"Return the element at index i of pair p.\"\"\"\n",
    "        return p(i)\n"
   ]
  },
  {
   "cell_type": "markdown",
   "id": "ab7a1e1c",
   "metadata": {},
   "source": [
    "With this implementation, we can create and manipulate pairs.\n",
    "\n",
    "\n",
    "​"
   ]
  },
  {
   "cell_type": "code",
   "execution_count": null,
   "id": "c80d05c1",
   "metadata": {},
   "outputs": [],
   "source": [
    ">>> p = pair(20, 14)\n",
    ">>> select(p, 0)\n",
    "20\n",
    ">>> select(p, 1)\n",
    "14\n"
   ]
  },
  {
   "cell_type": "markdown",
   "id": "36819b9a",
   "metadata": {},
   "source": [
    "This use of higher-order functions corresponds to nothing like our intuitive\n",
    "notion of what data should be. Nevertheless, these functions suffice to\n",
    "represent pairs in our programs. Functions are sufficient to represent\n",
    "compound data.\n",
    "\n",
    "The point of exhibiting the functional representation of a pair is not that\n",
    "Python actually works this way (lists are implemented more directly, for\n",
    "efficiency reasons) but that it could work this way. The functional\n",
    "representation, although obscure, is a perfectly adequate way to represent\n",
    "pairs, since it fulfills the only conditions that pairs need to fulfill. The\n",
    "practice of data abstraction allows us to switch among representations easily.\n",
    "\n",
    "_Continue_ : [ 2.3 Sequences ](../pages/23-sequences.html)\n",
    "\n",
    "## 2.3 Sequences\n",
    "\n",
    "A sequence is an ordered collection of values. The sequence is a powerful,\n",
    "fundamental abstraction in computer science. Sequences are not instances of a\n",
    "particular built-in type or abstract data representation, but instead a\n",
    "collection of behaviors that are shared among several different types of data.\n",
    "That is, there are many kinds of sequences, but they all share common\n",
    "behavior. In particular,\n",
    "\n",
    "**Length.** A sequence has a finite length. An empty sequence has length 0.\n",
    "\n",
    "**Element selection.** A sequence has an element corresponding to any non-\n",
    "negative integer index less than its length, starting at 0 for the first\n",
    "element.\n",
    "\n",
    "Python includes several native data types that are sequences, the most\n",
    "important of which is the `list`.\n",
    "\n",
    "### 2.3.1 Lists\n",
    "\n",
    "A `list` value is a sequence that can have arbitrary length. Lists have a\n",
    "large set of built-in behaviors, along with specific syntax to express those\n",
    "behaviors. We have already seen the list literal, which evaluates to a `list`\n",
    "instance, as well as an element selection expression that evaluates to a value\n",
    "in the list. The built-in `len` function returns the length of a sequence.\n",
    "Below, `digits` is a list with four elements. The element at index 3 is 8.\n",
    "\n",
    "\n",
    "​"
   ]
  },
  {
   "cell_type": "code",
   "execution_count": null,
   "id": "008be16f",
   "metadata": {},
   "outputs": [],
   "source": [
    ">>> digits = [1, 8, 2, 8]\n",
    ">>> len(digits)\n",
    "4\n",
    ">>> digits[3]\n",
    "8\n"
   ]
  },
  {
   "cell_type": "markdown",
   "id": "15d1baf7",
   "metadata": {},
   "source": [
    "Additionally, lists can be added together and multiplied by integers. For\n",
    "sequences, addition and multiplication do not add or multiply elements, but\n",
    "instead combine and replicate the sequences themselves. That is, the `add`\n",
    "function in the `operator` module (and the `+` operator) yields a list that is\n",
    "the concatenation of the added arguments. The `mul` function in `operator`\n",
    "(and the `*` operator) can take a list and an integer `k` to return the list\n",
    "that consists of `k` repetitions of the original list.\n",
    "\n",
    "\n",
    "​"
   ]
  },
  {
   "cell_type": "code",
   "execution_count": null,
   "id": "8e9b0482",
   "metadata": {},
   "outputs": [],
   "source": [
    ">>> [2, 7] + digits * 2\n",
    "[2, 7, 1, 8, 2, 8, 1, 8, 2, 8]\n"
   ]
  },
  {
   "cell_type": "markdown",
   "id": "2fb660c8",
   "metadata": {},
   "source": [
    "Any values can be included in a list, including another list. Element\n",
    "selection can be applied multiple times in order to select a deeply nested\n",
    "element in a list containing lists.\n",
    "\n",
    "\n",
    "​"
   ]
  },
  {
   "cell_type": "code",
   "execution_count": null,
   "id": "69a8c749",
   "metadata": {},
   "outputs": [],
   "source": [
    ">>> pairs = [[10, 20], [30, 40]]\n",
    ">>> pairs[1]\n",
    "[30, 40]\n",
    ">>> pairs[1][0]\n",
    "30\n"
   ]
  },
  {
   "cell_type": "markdown",
   "id": "3c802565",
   "metadata": {},
   "source": [
    "### 2.3.2 Sequence Iteration\n",
    "\n",
    "In many cases, we would like to iterate over the elements of a sequence and\n",
    "perform some computation for each element in turn. This pattern is so common\n",
    "that Python has an additional control statement to process sequential data:\n",
    "the `for` statement.\n",
    "\n",
    "Consider the problem of counting how many times a value appears in a sequence.\n",
    "We can implement a function to compute this count using a `while` loop.\n",
    "\n",
    "\n",
    "​"
   ]
  },
  {
   "cell_type": "code",
   "execution_count": null,
   "id": "174d3389",
   "metadata": {},
   "outputs": [],
   "source": [
    ">>> def count(s, value):\n",
    "        \"\"\"Count the number of occurrences of value in sequence s.\"\"\"\n",
    "        total, index = 0, 0\n",
    "        while index < len(s):\n",
    "            if s[index] == value:\n",
    "                total = total + 1\n",
    "            index = index + 1\n",
    "        return total\n"
   ]
  },
  {
   "cell_type": "markdown",
   "id": "74be0d1b",
   "metadata": {},
   "source": [
    "​    \n",
    "​"
   ]
  },
  {
   "cell_type": "code",
   "execution_count": null,
   "id": "c540cd6d",
   "metadata": {},
   "outputs": [],
   "source": [
    ">>> count(digits, 8)\n",
    "2\n"
   ]
  },
  {
   "cell_type": "markdown",
   "id": "d2c4a09e",
   "metadata": {},
   "source": [
    "The Python `for` statement can simplify this function body by iterating over\n",
    "the element values directly without introducing the name `index` at all.\n",
    "\n",
    "\n",
    "​"
   ]
  },
  {
   "cell_type": "code",
   "execution_count": null,
   "id": "d58ca088",
   "metadata": {},
   "outputs": [],
   "source": [
    ">>> def count(s, value):\n",
    "        \"\"\"Count the number of occurrences of value in sequence s.\"\"\"\n",
    "        total = 0\n",
    "        for elem in s:\n",
    "            if elem == value:\n",
    "                total = total + 1\n",
    "        return total\n"
   ]
  },
  {
   "cell_type": "markdown",
   "id": "6938becf",
   "metadata": {},
   "source": [
    "​    \n",
    "​"
   ]
  },
  {
   "cell_type": "code",
   "execution_count": null,
   "id": "1fa3730d",
   "metadata": {},
   "outputs": [],
   "source": [
    ">>> count(digits, 8)\n",
    "2\n"
   ]
  },
  {
   "cell_type": "markdown",
   "id": "027e6269",
   "metadata": {},
   "source": [
    "A `for` statement consists of a single clause with the form:\n",
    "\n",
    "\n",
    "​"
   ]
  },
  {
   "cell_type": "code",
   "execution_count": null,
   "id": "861eb229",
   "metadata": {},
   "outputs": [],
   "source": [
    "for <name> in <expression>:\n",
    "    <suite>\n"
   ]
  },
  {
   "cell_type": "markdown",
   "id": "b4bd4171",
   "metadata": {},
   "source": [
    "A `for` statement is executed by the following procedure:"
   ]
  },
  {
   "cell_type": "code",
   "execution_count": null,
   "id": "425ba15d",
   "metadata": {},
   "outputs": [],
   "source": [
    "1. Evaluate the header `<expression>`, which must yield an iterable value.\n",
    "2. For each element value in that iterable value, in order:\n",
    "       1. Bind `<name>` to that value in the current frame.\n",
    "              2. Execute the `<suite>`."
   ]
  },
  {
   "cell_type": "markdown",
   "id": "097e9029",
   "metadata": {},
   "source": [
    "This execution procedure refers to _iterable values_. Lists are a type of\n",
    "sequence, and sequences are iterable values. Their elements are considered in\n",
    "their sequential order. Python includes other iterable types, but we will\n",
    "focus on sequences for now; the general definition of the term \"iterable\"\n",
    "appears in the section on iterators in Chapter 4.\n",
    "\n",
    "An important consequence of this evaluation procedure is that `<name>` will be\n",
    "bound to the last element of the sequence after the `for` statement is\n",
    "executed. The `for` loop introduces yet another way in which the environment\n",
    "can be updated by a statement.\n",
    "\n",
    "**Sequence unpacking.** A common pattern in programs is to have a sequence of\n",
    "elements that are themselves sequences, but all of a fixed length. A `for`\n",
    "statement may include multiple names in its header to \"unpack\" each element\n",
    "sequence into its respective elements. For example, we may have a list of two-\n",
    "element lists.\n",
    "\n",
    "\n",
    "​"
   ]
  },
  {
   "cell_type": "code",
   "execution_count": null,
   "id": "452cbfa1",
   "metadata": {},
   "outputs": [],
   "source": [
    ">>> pairs = [[1, 2], [2, 2], [2, 3], [4, 4]]\n"
   ]
  },
  {
   "cell_type": "markdown",
   "id": "8f92afab",
   "metadata": {},
   "source": [
    "and wish to find the number of these pairs that have the same first and second\n",
    "element.\n",
    "\n",
    "\n",
    "​"
   ]
  },
  {
   "cell_type": "code",
   "execution_count": null,
   "id": "ea5bdd68",
   "metadata": {},
   "outputs": [],
   "source": [
    ">>> same_count = 0\n"
   ]
  },
  {
   "cell_type": "markdown",
   "id": "c5ac1496",
   "metadata": {},
   "source": [
    "The following `for` statement with two names in its header will bind each name\n",
    "`x` and `y` to the first and second elements in each pair, respectively.\n",
    "\n",
    "\n",
    "​"
   ]
  },
  {
   "cell_type": "code",
   "execution_count": null,
   "id": "5d705f45",
   "metadata": {},
   "outputs": [],
   "source": [
    ">>> for x, y in pairs:\n",
    "        if x == y:\n",
    "            same_count = same_count + 1\n"
   ]
  },
  {
   "cell_type": "markdown",
   "id": "3da190ee",
   "metadata": {},
   "source": [
    "​    \n",
    "​"
   ]
  },
  {
   "cell_type": "code",
   "execution_count": null,
   "id": "cdb79533",
   "metadata": {},
   "outputs": [],
   "source": [
    ">>> same_count\n",
    "2\n"
   ]
  },
  {
   "cell_type": "markdown",
   "id": "fb095be7",
   "metadata": {},
   "source": [
    "This pattern of binding multiple names to multiple values in a fixed-length\n",
    "sequence is called _sequence unpacking_ ; it is the same pattern that we see\n",
    "in assignment statements that bind multiple names to multiple values.\n",
    "\n",
    "**Ranges.** A `range` is another built-in type of sequence in Python, which\n",
    "represents a range of integers. Ranges are created with `range`, which takes\n",
    "two integer arguments: the first number and one beyond the last number in the\n",
    "desired range.\n",
    "\n",
    "\n",
    "​"
   ]
  },
  {
   "cell_type": "code",
   "execution_count": null,
   "id": "c61f1802",
   "metadata": {},
   "outputs": [],
   "source": [
    ">>> range(1, 10)  # Includes 1, but not 10\n",
    "range(1, 10)\n"
   ]
  },
  {
   "cell_type": "markdown",
   "id": "6a0824d8",
   "metadata": {},
   "source": [
    "Calling the `list` constructor on a range evaluates to a list with the same\n",
    "elements as the range, so that the elements can be easily inspected.\n",
    "\n",
    "\n",
    "​"
   ]
  },
  {
   "cell_type": "code",
   "execution_count": null,
   "id": "da5994d7",
   "metadata": {},
   "outputs": [],
   "source": [
    ">>> list(range(5, 8))\n",
    "[5, 6, 7]\n"
   ]
  },
  {
   "cell_type": "markdown",
   "id": "5884aa76",
   "metadata": {},
   "source": [
    "If only one argument is given, it is interpreted as one beyond the last value\n",
    "for a range that starts at 0.\n",
    "\n",
    "\n",
    "​"
   ]
  },
  {
   "cell_type": "code",
   "execution_count": null,
   "id": "8ee3d90f",
   "metadata": {},
   "outputs": [],
   "source": [
    ">>> list(range(4))\n",
    "[0, 1, 2, 3]\n"
   ]
  },
  {
   "cell_type": "markdown",
   "id": "861ea5cc",
   "metadata": {},
   "source": [
    "Ranges commonly appear as the expression in a `for` header to specify the\n",
    "number of times that the suite should be executed: A common convention is to\n",
    "use a single underscore character for the name in the `for` header if the name\n",
    "is unused in the suite:\n",
    "\n",
    "\n",
    "​"
   ]
  },
  {
   "cell_type": "code",
   "execution_count": null,
   "id": "558e38d4",
   "metadata": {},
   "outputs": [],
   "source": [
    ">>> for _ in range(3):\n",
    "        print('Go Bears!')\n",
    "\n",
    "Go Bears!\n",
    "Go Bears!\n",
    "Go Bears!\n"
   ]
  },
  {
   "cell_type": "markdown",
   "id": "7d6d9133",
   "metadata": {},
   "source": [
    "This underscore is just another name in the environment as far as the\n",
    "interpreter is concerned, but has a conventional meaning among programmers\n",
    "that indicates the name will not appear in any future expressions.\n",
    "\n",
    "### 2.3.3 Sequence Processing\n",
    "\n",
    "Sequences are such a common form of compound data that whole programs are\n",
    "often organized around this single abstraction. Modular components that have\n",
    "sequences as both inputs and outputs can be mixed and matched to perform data\n",
    "processing. Complex components can be defined by chaining together a pipeline\n",
    "of sequence processing operations, each of which is simple and focused.\n",
    "\n",
    "**List Comprehensions.** Many sequence processing operations can be expressed\n",
    "by evaluating a fixed expression for each element in a sequence and collecting\n",
    "the resulting values in a result sequence. In Python, a list comprehension is\n",
    "an expression that performs such a computation.\n",
    "\n",
    "\n",
    "​"
   ]
  },
  {
   "cell_type": "code",
   "execution_count": null,
   "id": "f30a517b",
   "metadata": {},
   "outputs": [],
   "source": [
    ">>> odds = [1, 3, 5, 7, 9]\n",
    ">>> [x+1 for x in odds]\n",
    "[2, 4, 6, 8, 10]\n"
   ]
  },
  {
   "cell_type": "markdown",
   "id": "7280b3e1",
   "metadata": {},
   "source": [
    "The `for` keyword above is not part of a `for` statement, but instead part of\n",
    "a list comprehension because it is contained within square brackets. The sub-\n",
    "expression `x+1` is evaluated with `x` bound to each element of `odds` in\n",
    "turn, and the resulting values are collected into a list.\n",
    "\n",
    "Another common sequence processing operation is to select a subset of values\n",
    "that satisfy some condition. List comprehensions can also express this\n",
    "pattern, for instance selecting all elements of `odds` that evenly divide\n",
    "`25`.\n",
    "\n",
    "\n",
    "​"
   ]
  },
  {
   "cell_type": "code",
   "execution_count": null,
   "id": "1a035cec",
   "metadata": {},
   "outputs": [],
   "source": [
    ">>> [x for x in odds if 25 % x == 0]\n",
    "[1, 5]\n"
   ]
  },
  {
   "cell_type": "markdown",
   "id": "60d6ff9e",
   "metadata": {},
   "source": [
    "The general form of a list comprehension is:\n",
    "\n",
    "\n",
    "​"
   ]
  },
  {
   "cell_type": "code",
   "execution_count": null,
   "id": "b827df9e",
   "metadata": {},
   "outputs": [],
   "source": [
    "[<map expression> for <name> in <sequence expression> if <filter expression>]\n"
   ]
  },
  {
   "cell_type": "markdown",
   "id": "8fdfef69",
   "metadata": {},
   "source": [
    "To evaluate a list comprehension, Python evaluates the `<sequence\n",
    "expression>`, which must return an iterable value. Then, for each element in\n",
    "order, the element value is bound to `<name>`, the filter expression is\n",
    "evaluated, and if it yields a true value, the map expression is evaluated. The\n",
    "values of the map expression are collected into a list.\n",
    "\n",
    "**Aggregation.** A third common pattern in sequence processing is to aggregate\n",
    "all values in a sequence into a single value. The built-in functions `sum`,\n",
    "`min`, and `max` are all examples of aggregation functions.\n",
    "\n",
    "By combining the patterns of evaluating an expression for each element,\n",
    "selecting a subset of elements, and aggregating elements, we can solve\n",
    "problems using a sequence processing approach.\n",
    "\n",
    "A perfect number is a positive integer that is equal to the sum of its\n",
    "divisors. The divisors of `n` are positive integers less than `n` that divide\n",
    "evenly into `n`. Listing the divisors of `n` can be expressed with a list\n",
    "comprehension.\n",
    "\n",
    "\n",
    "​"
   ]
  },
  {
   "cell_type": "code",
   "execution_count": null,
   "id": "243ffac8",
   "metadata": {},
   "outputs": [],
   "source": [
    ">>> def divisors(n):\n",
    "        return [1] + [x for x in range(2, n) if n % x == 0]\n"
   ]
  },
  {
   "cell_type": "markdown",
   "id": "6818687b",
   "metadata": {},
   "source": [
    "​    \n",
    "​"
   ]
  },
  {
   "cell_type": "code",
   "execution_count": null,
   "id": "98a0d68b",
   "metadata": {},
   "outputs": [],
   "source": [
    ">>> divisors(4)\n",
    "[1, 2]\n",
    ">>> divisors(12)\n",
    "[1, 2, 3, 4, 6]\n"
   ]
  },
  {
   "cell_type": "markdown",
   "id": "57ad760c",
   "metadata": {},
   "source": [
    "Using `divisors`, we can compute all perfect numbers from 1 to 1000 with\n",
    "another list comprehension. (1 is typically considered to be a perfect number\n",
    "as well, but it does not qualify under our definition of `divisors`.)\n",
    "\n",
    "\n",
    "​"
   ]
  },
  {
   "cell_type": "code",
   "execution_count": null,
   "id": "379060b4",
   "metadata": {},
   "outputs": [],
   "source": [
    ">>> [n for n in range(1, 1000) if sum(divisors(n)) == n]\n",
    "[6, 28, 496]\n"
   ]
  },
  {
   "cell_type": "markdown",
   "id": "b0036e1c",
   "metadata": {},
   "source": [
    "We can reuse our definition of `divisors` to solve another problem, finding\n",
    "the minimum perimeter of a rectangle with integer side lengths, given its\n",
    "area. The area of a rectangle is its height times its width. Therefore, given\n",
    "the area and height, we can compute the width. We can assert that both the\n",
    "width and height evenly divide the area to ensure that the side lengths are\n",
    "integers.\n",
    "\n",
    "\n",
    "​"
   ]
  },
  {
   "cell_type": "code",
   "execution_count": null,
   "id": "89892b4f",
   "metadata": {},
   "outputs": [],
   "source": [
    ">>> def width(area, height):\n",
    "        assert area % height == 0\n",
    "        return area // height\n"
   ]
  },
  {
   "cell_type": "markdown",
   "id": "5934dc93",
   "metadata": {},
   "source": [
    "The perimeter of a rectangle is the sum of its side lengths.\n",
    "\n",
    "\n",
    "​"
   ]
  },
  {
   "cell_type": "code",
   "execution_count": null,
   "id": "740d4263",
   "metadata": {},
   "outputs": [],
   "source": [
    ">>> def perimeter(width, height):\n",
    "        return 2 * width + 2 * height\n"
   ]
  },
  {
   "cell_type": "markdown",
   "id": "c474aadc",
   "metadata": {},
   "source": [
    "The height of a rectangle with integer side lengths must be a divisor of its\n",
    "area. We can compute the minimum perimeter by considering all heights.\n",
    "\n",
    "\n",
    "​"
   ]
  },
  {
   "cell_type": "code",
   "execution_count": null,
   "id": "86c0d9f7",
   "metadata": {},
   "outputs": [],
   "source": [
    ">>> def minimum_perimeter(area):\n",
    "        heights = divisors(area)\n",
    "        perimeters = [perimeter(width(area, h), h) for h in heights]\n",
    "        return min(perimeters)\n"
   ]
  },
  {
   "cell_type": "markdown",
   "id": "20d90016",
   "metadata": {},
   "source": [
    "​    \n",
    "​"
   ]
  },
  {
   "cell_type": "code",
   "execution_count": null,
   "id": "82a3cd42",
   "metadata": {},
   "outputs": [],
   "source": [
    ">>> area = 80\n",
    ">>> width(area, 5)\n",
    "16\n",
    ">>> perimeter(16, 5)\n",
    "42\n",
    ">>> perimeter(10, 8)\n",
    "36\n",
    ">>> minimum_perimeter(area)\n",
    "36\n",
    ">>> [minimum_perimeter(n) for n in range(1, 10)]\n",
    "[4, 6, 8, 8, 12, 10, 16, 12, 12]\n"
   ]
  },
  {
   "cell_type": "markdown",
   "id": "9c93b297",
   "metadata": {},
   "source": [
    "**Higher-Order Functions.** The common patterns we have observed in sequence\n",
    "processing can be expressed using higher-order functions. First, evaluating an\n",
    "expression for each element in a sequence can be expressed by applying a\n",
    "function to each element.\n",
    "\n",
    "\n",
    "​"
   ]
  },
  {
   "cell_type": "code",
   "execution_count": null,
   "id": "81ad531d",
   "metadata": {},
   "outputs": [],
   "source": [
    ">>> def apply_to_all(map_fn, s):\n",
    "        return [map_fn(x) for x in s]\n"
   ]
  },
  {
   "cell_type": "markdown",
   "id": "fc13a7ea",
   "metadata": {},
   "source": [
    "Selecting only elements for which some expression is true can be expressed by\n",
    "applying a function to each element.\n",
    "\n",
    "\n",
    "​"
   ]
  },
  {
   "cell_type": "code",
   "execution_count": null,
   "id": "f020573c",
   "metadata": {},
   "outputs": [],
   "source": [
    ">>> def keep_if(filter_fn, s):\n",
    "        return [x for x in s if filter_fn(x)]\n"
   ]
  },
  {
   "cell_type": "markdown",
   "id": "cabc4e18",
   "metadata": {},
   "source": [
    "Finally, many forms of aggregation can be expressed as repeatedly applying a\n",
    "two-argument function to the `reduced` value so far and each element in turn.\n",
    "\n",
    "\n",
    "​"
   ]
  },
  {
   "cell_type": "code",
   "execution_count": null,
   "id": "1b440e4b",
   "metadata": {},
   "outputs": [],
   "source": [
    ">>> def reduce(reduce_fn, s, initial):\n",
    "        reduced = initial\n",
    "        for x in s:\n",
    "            reduced = reduce_fn(reduced, x)\n",
    "        return reduced\n"
   ]
  },
  {
   "cell_type": "markdown",
   "id": "0582cb2d",
   "metadata": {},
   "source": [
    "For example, `reduce` can be used to multiply together all elements of a\n",
    "sequence. Using `mul` as the `reduce_fn` and 1 as the `initial` value,\n",
    "`reduce` can be used to multiply together a sequence of numbers.\n",
    "\n",
    "\n",
    "​"
   ]
  },
  {
   "cell_type": "code",
   "execution_count": null,
   "id": "b8a38857",
   "metadata": {},
   "outputs": [],
   "source": [
    ">>> reduce(mul, [2, 4, 8], 1)\n",
    "64\n"
   ]
  },
  {
   "cell_type": "markdown",
   "id": "ee4fe162",
   "metadata": {},
   "source": [
    "We can find perfect numbers using these higher-order functions as well.\n",
    "\n",
    "\n",
    "​"
   ]
  },
  {
   "cell_type": "code",
   "execution_count": null,
   "id": "774a0dfe",
   "metadata": {},
   "outputs": [],
   "source": [
    ">>> def divisors_of(n):\n",
    "        divides_n = lambda x: n % x == 0\n",
    "        return [1] + keep_if(divides_n, range(2, n))\n"
   ]
  },
  {
   "cell_type": "markdown",
   "id": "00c961a3",
   "metadata": {},
   "source": [
    "​    \n",
    "​"
   ]
  },
  {
   "cell_type": "code",
   "execution_count": null,
   "id": "782813d5",
   "metadata": {},
   "outputs": [],
   "source": [
    ">>> divisors_of(12)\n",
    "[1, 2, 3, 4, 6]\n",
    ">>> from operator import add\n",
    ">>> def sum_of_divisors(n):\n",
    "        return reduce(add, divisors_of(n), 0)\n"
   ]
  },
  {
   "cell_type": "markdown",
   "id": "2430c263",
   "metadata": {},
   "source": [
    "​    \n",
    "​"
   ]
  },
  {
   "cell_type": "code",
   "execution_count": null,
   "id": "06134ad3",
   "metadata": {},
   "outputs": [],
   "source": [
    ">>> def perfect(n):\n",
    "        return sum_of_divisors(n) == n\n"
   ]
  },
  {
   "cell_type": "markdown",
   "id": "3331cb41",
   "metadata": {},
   "source": [
    "​    \n",
    "​"
   ]
  },
  {
   "cell_type": "code",
   "execution_count": null,
   "id": "f36c7bb3",
   "metadata": {},
   "outputs": [],
   "source": [
    ">>> keep_if(perfect, range(1, 1000))\n",
    "[1, 6, 28, 496]\n"
   ]
  },
  {
   "cell_type": "markdown",
   "id": "97d7e5b6",
   "metadata": {},
   "source": [
    "**Conventional Names.** In the computer science community, the more common\n",
    "name for `apply_to_all` is `map` and the more common name for `keep_if` is\n",
    "`filter`. In Python, the built-in `map` and `filter` are generalizations of\n",
    "these functions that do not return lists. These functions are discussed in\n",
    "Chapter 4. The definitions above are equivalent to applying the `list`\n",
    "constructor to the result of built-in `map` and `filter` calls.\n",
    "\n",
    "\n",
    "​"
   ]
  },
  {
   "cell_type": "code",
   "execution_count": null,
   "id": "c042f119",
   "metadata": {},
   "outputs": [],
   "source": [
    ">>> apply_to_all = lambda map_fn, s: list(map(map_fn, s))\n",
    ">>> keep_if = lambda filter_fn, s: list(filter(filter_fn, s))\n"
   ]
  },
  {
   "cell_type": "markdown",
   "id": "1d087231",
   "metadata": {},
   "source": [
    "The `reduce` function is built into the `functools` module of the Python\n",
    "standard library. In this version, the `initial` argument is optional.\n",
    "\n",
    "\n",
    "​"
   ]
  },
  {
   "cell_type": "code",
   "execution_count": null,
   "id": "566ef19f",
   "metadata": {},
   "outputs": [],
   "source": [
    ">>> from functools import reduce\n",
    ">>> from operator import mul\n",
    ">>> def product(s):\n",
    "        return reduce(mul, s)\n"
   ]
  },
  {
   "cell_type": "markdown",
   "id": "12c9f1c9",
   "metadata": {},
   "source": [
    "​    \n",
    "​"
   ]
  },
  {
   "cell_type": "code",
   "execution_count": null,
   "id": "2580f897",
   "metadata": {},
   "outputs": [],
   "source": [
    ">>> product([1, 2, 3, 4, 5])\n",
    "120\n"
   ]
  },
  {
   "cell_type": "markdown",
   "id": "1e3a6601",
   "metadata": {},
   "source": [
    "In Python programs, it is more common to use list comprehensions directly\n",
    "rather than higher-order functions, but both approaches to sequence processing\n",
    "are widely used.\n",
    "\n",
    "### 2.3.4 Sequence Abstraction\n",
    "\n",
    "We have introduced two native data types that satisfy the sequence\n",
    "abstraction: lists and ranges. Both satisfy the conditions with which we began\n",
    "this section: length and element selection. Python includes two more behaviors\n",
    "of sequence types that extend the sequence abstraction.\n",
    "\n",
    "**Membership.** A value can be tested for membership in a sequence. Python has\n",
    "two operators `in` and `not in` that evaluate to `True` or `False` depending\n",
    "on whether an element appears in a sequence.\n",
    "\n",
    "\n",
    "​"
   ]
  },
  {
   "cell_type": "code",
   "execution_count": null,
   "id": "472702dd",
   "metadata": {},
   "outputs": [],
   "source": [
    ">>> digits\n",
    "[1, 8, 2, 8]\n",
    ">>> 2 in digits\n",
    "True\n",
    ">>> 1828 not in digits\n",
    "True\n"
   ]
  },
  {
   "cell_type": "markdown",
   "id": "9e3e5655",
   "metadata": {},
   "source": [
    "**Slicing.** Sequences contain smaller sequences within them. A _slice_ of a\n",
    "sequence is any contiguous span of the original sequence, designated by a pair\n",
    "of integers. As with the `range` constructor, the first integer indicates the\n",
    "starting index of the slice and the second indicates one beyond the ending\n",
    "index.\n",
    "\n",
    "In Python, sequence slicing is expressed similarly to element selection, using\n",
    "square brackets. A colon separates the starting and ending indices. Any bound\n",
    "that is omitted is assumed to be an extreme value: 0 for the starting index,\n",
    "and the length of the sequence for the ending index.\n",
    "\n",
    "\n",
    "​"
   ]
  },
  {
   "cell_type": "code",
   "execution_count": null,
   "id": "d2b5b54b",
   "metadata": {},
   "outputs": [],
   "source": [
    ">>> digits[0:2]\n",
    "[1, 8]\n",
    ">>> digits[1:]\n",
    "[8, 2, 8]\n"
   ]
  },
  {
   "cell_type": "markdown",
   "id": "b82cafb8",
   "metadata": {},
   "source": [
    "Enumerating these additional behaviors of the Python sequence abstraction\n",
    "gives us an opportunity to reflect upon what constitutes a useful data\n",
    "abstraction in general. The richness of an abstraction (that is, how many\n",
    "behaviors it includes) has consequences. For users of an abstraction,\n",
    "additional behaviors can be helpful. On the other hand, satisfying the\n",
    "requirements of a rich abstraction with a new data type can be challenging.\n",
    "Another negative consequence of rich abstractions is that they take longer for\n",
    "users to learn.\n",
    "\n",
    "Sequences have a rich abstraction because they are so ubiquitous in computing\n",
    "that learning a few complex behaviors is justified. In general, most user-\n",
    "defined abstractions should be kept as simple as possible.\n",
    "\n",
    "**Further reading.** Slice notation admits a variety of special cases, such as\n",
    "negative starting values, ending values, and step sizes. A complete\n",
    "description appears in the subsection called [slicing a\n",
    "list](http://getpython3.com/diveintopython3/native-\n",
    "datatypes.html#slicinglists) in Dive Into Python 3. In this chapter, we will\n",
    "only use the basic features described above.\n",
    "\n",
    "### 2.3.5 Strings\n",
    "\n",
    "Text values are perhaps more fundamental to computer science than even\n",
    "numbers. As a case in point, Python programs are written and stored as text.\n",
    "The native data type for text in Python is called a string, and corresponds to\n",
    "the constructor `str`.\n",
    "\n",
    "There are many details of how strings are represented, expressed, and\n",
    "manipulated in Python. Strings are another example of a rich abstraction, one\n",
    "that requires a substantial commitment on the part of the programmer to\n",
    "master. This section serves as a condensed introduction to essential string\n",
    "behaviors.\n",
    "\n",
    "String literals can express arbitrary text, surrounded by either single or\n",
    "double quotation marks.\n",
    "\n",
    "\n",
    "​"
   ]
  },
  {
   "cell_type": "code",
   "execution_count": null,
   "id": "e3918a6f",
   "metadata": {},
   "outputs": [],
   "source": [
    ">>> 'I am string!'\n",
    "'I am string!'\n",
    ">>> \"I've got an apostrophe\"\n",
    "\"I've got an apostrophe\"\n",
    ">>> 'æ¨å¥½'\n",
    "'æ¨å¥½'\n"
   ]
  },
  {
   "cell_type": "markdown",
   "id": "d82ea91d",
   "metadata": {},
   "source": [
    "We have seen strings already in our code, as docstrings, in calls to `print`,\n",
    "and as error messages in `assert` statements.\n",
    "\n",
    "Strings satisfy the two basic conditions of a sequence that we introduced at\n",
    "the beginning of this section: they have a length and they support element\n",
    "selection.\n",
    "\n",
    "\n",
    "​"
   ]
  },
  {
   "cell_type": "code",
   "execution_count": null,
   "id": "c8ed070b",
   "metadata": {},
   "outputs": [],
   "source": [
    ">>> city = 'Berkeley'\n",
    ">>> len(city)\n",
    "8\n",
    ">>> city[3]\n",
    "'k'\n"
   ]
  },
  {
   "cell_type": "markdown",
   "id": "747b0d97",
   "metadata": {},
   "source": [
    "The elements of a string are themselves strings that have only a single\n",
    "character. A character is any single letter of the alphabet, punctuation mark,\n",
    "or other symbol. Unlike many other programming languages, Python does not have\n",
    "a separate character type; any text is a string, and strings that represent\n",
    "single characters have a length of 1.\n",
    "\n",
    "Like lists, strings can also be combined via addition and multiplication.\n",
    "\n",
    "\n",
    "​"
   ]
  },
  {
   "cell_type": "code",
   "execution_count": null,
   "id": "309edaab",
   "metadata": {},
   "outputs": [],
   "source": [
    ">>> 'Berkeley' + ', CA'\n",
    "'Berkeley, CA'\n",
    ">>> 'Shabu ' * 2\n",
    "'Shabu Shabu '\n"
   ]
  },
  {
   "cell_type": "markdown",
   "id": "9e8d5a6e",
   "metadata": {},
   "source": [
    "**Membership.** The behavior of strings diverges from other sequence types in\n",
    "Python. The string abstraction does not conform to the full sequence\n",
    "abstraction that we described for lists and ranges. In particular, the\n",
    "membership operator `in` applies to strings, but has an entirely different\n",
    "behavior than when it is applied to sequences. It matches substrings rather\n",
    "than elements.\n",
    "\n",
    "\n",
    "​"
   ]
  },
  {
   "cell_type": "code",
   "execution_count": null,
   "id": "38dd5141",
   "metadata": {},
   "outputs": [],
   "source": [
    ">>> 'here' in \"Where's Waldo?\"\n",
    "True\n"
   ]
  },
  {
   "cell_type": "markdown",
   "id": "0b05c32d",
   "metadata": {},
   "source": [
    "**Multiline Literals.** Strings aren't limited to a single line. Triple quotes\n",
    "delimit string literals that span multiple lines. We have used this triple\n",
    "quoting extensively already for docstrings.\n",
    "\n",
    "\n",
    "​"
   ]
  },
  {
   "cell_type": "code",
   "execution_count": null,
   "id": "02ff5c38",
   "metadata": {},
   "outputs": [],
   "source": [
    ">>> \"\"\"The Zen of Python\n",
    "claims, Readability counts.\n",
    "Read more: import this.\"\"\"\n",
    "'The Zen of Python\\nclaims, \"Readability counts.\"\\nRead more: import this.'\n"
   ]
  },
  {
   "cell_type": "markdown",
   "id": "5396a873",
   "metadata": {},
   "source": [
    "In the printed result above, the `\\n` (pronounced \"_backslash en_ \") is a\n",
    "single element that represents a new line. Although it appears as two\n",
    "characters (backslash and \"n\"), it is considered a single character for the\n",
    "purposes of length and element selection.\n",
    "\n",
    "**String Coercion.** A string can be created from any object in Python by\n",
    "calling the `str` constructor function with an object value as its argument.\n",
    "This feature of strings is useful for constructing descriptive strings from\n",
    "objects of various types.\n",
    "\n",
    "\n",
    "​"
   ]
  },
  {
   "cell_type": "code",
   "execution_count": null,
   "id": "8922b5ab",
   "metadata": {},
   "outputs": [],
   "source": [
    ">>> str(2) + ' is an element of ' + str(digits)\n",
    "'2 is an element of [1, 8, 2, 8]'\n"
   ]
  },
  {
   "cell_type": "markdown",
   "id": "4803b555",
   "metadata": {},
   "source": [
    "**Further reading.** Encoding text in computers is a complex topic. In this\n",
    "chapter, we will abstract away the details of how strings are represented.\n",
    "However, for many applications, the particular details of how strings are\n",
    "encoded by computers is essential knowledge. [The strings chapter of Dive Into\n",
    "Python 3](http://getpython3.com/diveintopython3/strings.html) provides a\n",
    "description of character encodings and Unicode.\n",
    "\n",
    "### 2.3.6 Trees\n",
    "\n",
    "Our ability to use lists as the elements of other lists provides a new means\n",
    "of combination in our programming language. This ability is called a _closure\n",
    "property_ of a data type. In general, a method for combining data values has a\n",
    "closure property if the result of combination can itself be combined using the\n",
    "same method. Closure is the key to power in any means of combination because\n",
    "it permits us to create hierarchical structures  structures made up of\n",
    "parts, which themselves are made up of parts, and so on.\n",
    "\n",
    "We can visualize lists in environment diagrams using _box-and-pointer_\n",
    "notation. A list is depicted as adjacent boxes that contain the elements of\n",
    "the list. Primitive values such as numbers, strings, boolean values, and\n",
    "`None` appear within an element box. Composite values, such as function values\n",
    "and other lists, are indicated by an arrow.\n",
    "\n",
    "one_two = [1, 2] nested = [[1, 2], [], [[3, False, None], [4, lambda: 5]]]\n",
    "\n",
    "Nesting lists within lists can introduce complexity. The _tree_ is a\n",
    "fundamental data abstraction that imposes regularity on how hierarchical\n",
    "values are structured and manipulated.\n",
    "\n",
    "A tree has a root label and a sequence of branches. Each branch of a tree is a\n",
    "tree. A tree with no branches is called a leaf. Any tree contained within a\n",
    "tree is called a sub-tree of that tree (such as a branch of a branch). The\n",
    "root of each sub-tree of a tree is called a node in that tree.\n",
    "\n",
    "The data abstraction for a tree consists of the constructor `tree` and the\n",
    "selectors `label` and `branches`. We begin with a simplified version.\n",
    "\n",
    "\n",
    "​"
   ]
  },
  {
   "cell_type": "code",
   "execution_count": null,
   "id": "b3af42f1",
   "metadata": {},
   "outputs": [],
   "source": [
    ">>> def tree(root_label, branches=[]):\n",
    "        for branch in branches:\n",
    "            assert is_tree(branch), 'branches must be trees'\n",
    "        return [root_label] + list(branches)\n"
   ]
  },
  {
   "cell_type": "markdown",
   "id": "02396986",
   "metadata": {},
   "source": [
    "​    \n",
    "​"
   ]
  },
  {
   "cell_type": "code",
   "execution_count": null,
   "id": "7b16e14a",
   "metadata": {},
   "outputs": [],
   "source": [
    ">>> def label(tree):\n",
    "        return tree[0]\n"
   ]
  },
  {
   "cell_type": "markdown",
   "id": "eec1be29",
   "metadata": {},
   "source": [
    "​    \n",
    "​"
   ]
  },
  {
   "cell_type": "code",
   "execution_count": null,
   "id": "0b45a133",
   "metadata": {},
   "outputs": [],
   "source": [
    ">>> def branches(tree):\n",
    "        return tree[1:]\n"
   ]
  },
  {
   "cell_type": "markdown",
   "id": "ac9c2dfc",
   "metadata": {},
   "source": [
    "A tree is well-formed only if it has a root label and all branches are also\n",
    "trees. The `is_tree` function is applied in the `tree` constructor to verify\n",
    "that all branches are well-formed.\n",
    "\n",
    "\n",
    "​"
   ]
  },
  {
   "cell_type": "code",
   "execution_count": null,
   "id": "f5648ea9",
   "metadata": {},
   "outputs": [],
   "source": [
    ">>> def is_tree(tree):\n",
    "        if type(tree) != list or len(tree) < 1:\n",
    "            return False\n",
    "        for branch in branches(tree):\n",
    "            if not is_tree(branch):\n",
    "                return False\n",
    "        return True\n"
   ]
  },
  {
   "cell_type": "markdown",
   "id": "18175045",
   "metadata": {},
   "source": [
    "The `is_leaf` function checks whether or not a tree has branches.\n",
    "\n",
    "\n",
    "​"
   ]
  },
  {
   "cell_type": "code",
   "execution_count": null,
   "id": "3d3f5d0d",
   "metadata": {},
   "outputs": [],
   "source": [
    ">>> def is_leaf(tree):\n",
    "        return not branches(tree)\n"
   ]
  },
  {
   "cell_type": "markdown",
   "id": "b45f11df",
   "metadata": {},
   "source": [
    "Trees can be constructed by nested expressions. The following tree `t` has\n",
    "root label 3 and two branches.\n",
    "\n",
    "\n",
    "​"
   ]
  },
  {
   "cell_type": "code",
   "execution_count": null,
   "id": "9b0c0c73",
   "metadata": {},
   "outputs": [],
   "source": [
    ">>> t = tree(3, [tree(1), tree(2, [tree(1), tree(1)])])\n",
    ">>> t\n",
    "[3, [1], [2, [1], [1]]]\n",
    ">>> label(t)\n",
    "3\n",
    ">>> branches(t)\n",
    "[[1], [2, [1], [1]]]\n",
    ">>> label(branches(t)[1])\n",
    "2\n",
    ">>> is_leaf(t)\n",
    "False\n",
    ">>> is_leaf(branches(t)[0])\n",
    "True\n"
   ]
  },
  {
   "cell_type": "markdown",
   "id": "9d6e8923",
   "metadata": {},
   "source": [
    "Tree-recursive functions can be used to construct trees. For example, the nth\n",
    "Fibonacci tree has a root label of the nth Fibonacci number and, for `n > 1`,\n",
    "two branches that are also Fibonacci trees. A Fibonacci tree illustrates the\n",
    "tree-recursive computation of a Fibonacci number.\n",
    "\n",
    "\n",
    "​"
   ]
  },
  {
   "cell_type": "code",
   "execution_count": null,
   "id": "17b76d54",
   "metadata": {},
   "outputs": [],
   "source": [
    ">>> def fib_tree(n):\n",
    "        if n == 0 or n == 1:\n",
    "            return tree(n)\n",
    "        else:\n",
    "            left, right = fib_tree(n-2), fib_tree(n-1)\n",
    "            fib_n = label(left) + label(right)\n",
    "            return tree(fib_n, [left, right])\n",
    ">>> fib_tree(5)\n",
    "[5, [2, [1], [1, [0], [1]]], [3, [1, [0], [1]], [2, [1], [1, [0], [1]]]]]\n"
   ]
  },
  {
   "cell_type": "markdown",
   "id": "eb22ccd7",
   "metadata": {},
   "source": [
    "Tree-recursive functions are also used to process trees. For example, the\n",
    "`count_leaves` function counts the leaves of a tree.\n",
    "\n",
    "\n",
    "​"
   ]
  },
  {
   "cell_type": "code",
   "execution_count": null,
   "id": "e80a9d8d",
   "metadata": {},
   "outputs": [],
   "source": [
    ">>> def count_leaves(tree):\n",
    "      if is_leaf(tree):\n",
    "          return 1\n",
    "      else:\n",
    "          branch_counts = [count_leaves(b) for b in branches(tree)]\n",
    "          return sum(branch_counts)\n",
    ">>> count_leaves(fib_tree(5))\n",
    "8\n"
   ]
  },
  {
   "cell_type": "markdown",
   "id": "5544925f",
   "metadata": {},
   "source": [
    "**Partition trees.** Trees can also be used to represent the partitions of an\n",
    "integer. A partition tree for `n` using parts up to size `m` is a binary (two\n",
    "branch) tree that represents the choices taken during computation. In a non-\n",
    "leaf partition tree:\n",
    "\n",
    "  * the left (index 0) branch contains all ways of partitioning `n` using at least one `m`,\n",
    "  * the right (index 1) branch contains partitions using parts up to `m-1`, and\n",
    "  * the root label is `m`.\n",
    "\n",
    "The labels at the leaves of a partition tree express whether the path from the\n",
    "root of the tree to the leaf represents a successful partition of `n`.\n",
    "\n",
    "\n",
    "​"
   ]
  },
  {
   "cell_type": "code",
   "execution_count": null,
   "id": "b42dd767",
   "metadata": {},
   "outputs": [],
   "source": [
    ">>> def partition_tree(n, m):\n",
    "        \"\"\"Return a partition tree of n using parts of up to m.\"\"\"\n",
    "        if n == 0:\n",
    "            return tree(True)\n",
    "        elif n < 0 or m == 0:\n",
    "            return tree(False)\n",
    "        else:\n",
    "            left = partition_tree(n-m, m)\n",
    "            right = partition_tree(n, m-1)\n",
    "            return tree(m, [left, right])\n"
   ]
  },
  {
   "cell_type": "markdown",
   "id": "3dd25d4d",
   "metadata": {},
   "source": [
    "​    \n",
    "​"
   ]
  },
  {
   "cell_type": "code",
   "execution_count": null,
   "id": "0fda7fcc",
   "metadata": {},
   "outputs": [],
   "source": [
    ">>> partition_tree(2, 2)\n",
    "[2, [True], [1, [1, [True], [False]], [False]]]\n"
   ]
  },
  {
   "cell_type": "markdown",
   "id": "a67c60af",
   "metadata": {},
   "source": [
    "Printing the partitions from a partition tree is another tree-recursive\n",
    "process that traverses the tree, constructing each partition as a list.\n",
    "Whenever a `True` leaf is reached, the partition is printed.\n",
    "\n",
    "\n",
    "​"
   ]
  },
  {
   "cell_type": "code",
   "execution_count": null,
   "id": "8c1eb565",
   "metadata": {},
   "outputs": [],
   "source": [
    ">>> def print_parts(tree, partition=[]):\n",
    "        if is_leaf(tree):\n",
    "            if label(tree):\n",
    "                print(' + '.join(partition))\n",
    "        else:\n",
    "            left, right = branches(tree)\n",
    "            m = str(label(tree))\n",
    "            print_parts(left, partition + [m])\n",
    "            print_parts(right, partition)\n"
   ]
  },
  {
   "cell_type": "markdown",
   "id": "15a7397f",
   "metadata": {},
   "source": [
    "​    \n",
    "​"
   ]
  },
  {
   "cell_type": "code",
   "execution_count": null,
   "id": "1925c65c",
   "metadata": {},
   "outputs": [],
   "source": [
    ">>> print_parts(partition_tree(6, 4))\n",
    "4 + 2\n",
    "4 + 1 + 1\n",
    "3 + 3\n",
    "3 + 2 + 1\n",
    "3 + 1 + 1 + 1\n",
    "2 + 2 + 2\n",
    "2 + 2 + 1 + 1\n",
    "2 + 1 + 1 + 1 + 1\n",
    "1 + 1 + 1 + 1 + 1 + 1\n"
   ]
  },
  {
   "cell_type": "markdown",
   "id": "b01934ee",
   "metadata": {},
   "source": [
    "Slicing can be used on the branches of a tree as well. For example, we may\n",
    "want to place a restriction on the number of branches in a tree. A binary tree\n",
    "is either a leaf or a sequence of at most two binary trees. A common tree\n",
    "transformation called _binarization_ computes a binary tree from an original\n",
    "tree by grouping together adjacent branches.\n",
    "\n",
    "\n",
    "​"
   ]
  },
  {
   "cell_type": "code",
   "execution_count": null,
   "id": "611ac998",
   "metadata": {},
   "outputs": [],
   "source": [
    ">>> def right_binarize(tree):\n",
    "        \"\"\"Construct a right-branching binary tree.\"\"\"\n",
    "        if is_leaf(tree):\n",
    "            return tree\n",
    "        if len(tree) > 2:\n",
    "            tree = [tree[0], tree[1:]]\n",
    "        return [right_binarize(b) for b in tree]\n"
   ]
  },
  {
   "cell_type": "markdown",
   "id": "2216a9af",
   "metadata": {},
   "source": [
    "​    \n",
    "​"
   ]
  },
  {
   "cell_type": "code",
   "execution_count": null,
   "id": "378edc9c",
   "metadata": {},
   "outputs": [],
   "source": [
    ">>> right_binarize([1, 2, 3, 4, 5, 6, 7])\n",
    "[1, [2, [3, [4, [5, [6, 7]]]]]]\n"
   ]
  },
  {
   "cell_type": "markdown",
   "id": "e9ad0307",
   "metadata": {},
   "source": [
    "### 2.3.7 Linked Lists\n",
    "\n",
    "So far, we have used only native types to represent sequences. However, we can\n",
    "also develop sequence representations that are not built into Python. A common\n",
    "representation of a sequence constructed from nested pairs is called a _linked\n",
    "list_. The environment diagram below illustrates the linked list\n",
    "representation of a four-element sequence containing 1, 2, 3, and 4.\n",
    "\n",
    "four = [1, [2, [3, [4, 'empty']]]]\n",
    "\n",
    "A linked list is a pair containing the first element of the sequence (in this\n",
    "case 1) and the rest of the sequence (in this case a representation of 2, 3,\n",
    "4). The second element is also a linked list. The rest of the inner-most\n",
    "linked list containing only 4 is `'empty'`, a value that represents an empty\n",
    "linked list.\n",
    "\n",
    "Linked lists have recursive structure: the rest of a linked list is a linked\n",
    "list or `'empty'`. We can define an abstract data representation to validate,\n",
    "construct, and select the components of linked lists.\n",
    "\n",
    "\n",
    "​"
   ]
  },
  {
   "cell_type": "code",
   "execution_count": null,
   "id": "83913a4d",
   "metadata": {},
   "outputs": [],
   "source": [
    ">>> empty = 'empty'\n",
    ">>> def is_link(s):\n",
    "        \"\"\"s is a linked list if it is empty or a (first, rest) pair.\"\"\"\n",
    "        return s == empty or (len(s) == 2 and is_link(s[1]))\n"
   ]
  },
  {
   "cell_type": "markdown",
   "id": "63a7e409",
   "metadata": {},
   "source": [
    "​    \n",
    "​"
   ]
  },
  {
   "cell_type": "code",
   "execution_count": null,
   "id": "c30424f9",
   "metadata": {},
   "outputs": [],
   "source": [
    ">>> def link(first, rest):\n",
    "        \"\"\"Construct a linked list from its first element and the rest.\"\"\"\n",
    "        assert is_link(rest), \"rest must be a linked list.\"\n",
    "        return [first, rest]\n"
   ]
  },
  {
   "cell_type": "markdown",
   "id": "1237cdb4",
   "metadata": {},
   "source": [
    "​    \n",
    "​"
   ]
  },
  {
   "cell_type": "code",
   "execution_count": null,
   "id": "09715d05",
   "metadata": {},
   "outputs": [],
   "source": [
    ">>> def first(s):\n",
    "        \"\"\"Return the first element of a linked list s.\"\"\"\n",
    "        assert is_link(s), \"first only applies to linked lists.\"\n",
    "        assert s != empty, \"empty linked list has no first element.\"\n",
    "        return s[0]\n"
   ]
  },
  {
   "cell_type": "markdown",
   "id": "245ba455",
   "metadata": {},
   "source": [
    "​    \n",
    "​"
   ]
  },
  {
   "cell_type": "code",
   "execution_count": null,
   "id": "a0401103",
   "metadata": {},
   "outputs": [],
   "source": [
    ">>> def rest(s):\n",
    "        \"\"\"Return the rest of the elements of a linked list s.\"\"\"\n",
    "        assert is_link(s), \"rest only applies to linked lists.\"\n",
    "        assert s != empty, \"empty linked list has no rest.\"\n",
    "        return s[1]\n"
   ]
  },
  {
   "cell_type": "markdown",
   "id": "8aa2e45f",
   "metadata": {},
   "source": [
    "Above, `link` is a constructor and `first` and `rest` are selectors for an\n",
    "abstract data representation of linked lists. The behavior condition for a\n",
    "linked list is that, like a pair, its constructor and selectors are inverse\n",
    "functions.\n",
    "\n",
    "  * If a linked list `s` was constructed from first element `f` and linked list `r`, then `first(s)` returns `f`, and `rest(s)` returns `r`.\n",
    "\n",
    "We can use the constructor and selectors to manipulate linked lists.\n",
    "\n",
    "\n",
    "​"
   ]
  },
  {
   "cell_type": "code",
   "execution_count": null,
   "id": "8c71161a",
   "metadata": {},
   "outputs": [],
   "source": [
    ">>> four = link(1, link(2, link(3, link(4, empty))))\n",
    ">>> first(four)\n",
    "1\n",
    ">>> rest(four)\n",
    "[2, [3, [4, 'empty']]]\n"
   ]
  },
  {
   "cell_type": "markdown",
   "id": "102ff34c",
   "metadata": {},
   "source": [
    "Our implementation of this kind of abstract data uses pairs that are two-\n",
    "element `list` values. It is worth noting that we were also able to implement\n",
    "pairs using functions, and we can implement linked lists using any pairs,\n",
    "therefore we could implement linked lists using functions alone.\n",
    "\n",
    "The linked list can store a sequence of values in order, but we have not yet\n",
    "shown that it satisfies the sequence abstraction. Using the abstract data\n",
    "representation we have defined, we can implement the two behaviors that\n",
    "characterize a sequence: length and element selection.\n",
    "\n",
    "\n",
    "​"
   ]
  },
  {
   "cell_type": "code",
   "execution_count": null,
   "id": "3dead3c3",
   "metadata": {},
   "outputs": [],
   "source": [
    ">>> def len_link(s):\n",
    "        \"\"\"Return the length of linked list s.\"\"\"\n",
    "        length = 0\n",
    "        while s != empty:\n",
    "            s, length = rest(s), length + 1\n",
    "        return length\n"
   ]
  },
  {
   "cell_type": "markdown",
   "id": "f5a57a15",
   "metadata": {},
   "source": [
    "​    \n",
    "​"
   ]
  },
  {
   "cell_type": "code",
   "execution_count": null,
   "id": "868469a4",
   "metadata": {},
   "outputs": [],
   "source": [
    ">>> def getitem_link(s, i):\n",
    "        \"\"\"Return the element at index i of linked list s.\"\"\"\n",
    "        while i > 0:\n",
    "            s, i = rest(s), i - 1\n",
    "        return first(s)\n"
   ]
  },
  {
   "cell_type": "markdown",
   "id": "cf6cc317",
   "metadata": {},
   "source": [
    "Now, we can manipulate a linked list as a sequence using these functions. (We\n",
    "cannot yet use the built-in `len` function, element selection syntax, or `for`\n",
    "statement, but we will soon.)\n",
    "\n",
    "\n",
    "​"
   ]
  },
  {
   "cell_type": "code",
   "execution_count": null,
   "id": "364f66e1",
   "metadata": {},
   "outputs": [],
   "source": [
    ">>> len_link(four)\n",
    "4\n",
    ">>> getitem_link(four, 1)\n",
    "2\n"
   ]
  },
  {
   "cell_type": "markdown",
   "id": "756332d4",
   "metadata": {},
   "source": [
    "The series of environment diagrams below illustrate the iterative process by\n",
    "which `getitem_link` finds the element 2 at index 1 in a linked list. Below,\n",
    "we have defined the linked list `four` using Python primitives to simplify the\n",
    "diagrams. This implementation choice violates an abstraction barrier, but\n",
    "allows us to inspect the computational process more easily for this example.\n",
    "\n",
    "def first(s): return s[0] def rest(s): return s[1] def getitem_link(s, i):\n",
    "while i > 0: s, i = rest(s), i - 1 return first(s) four = [1, [2, [3, [4,\n",
    "'empty']]]] getitem_link(four, 1)\n",
    "\n",
    "First, the function `getitem_link` is called, creating a local frame.\n",
    "\n",
    "def first(s): return s[0] def rest(s): return s[1] def getitem_link(s, i):\n",
    "while i > 0: s, i = rest(s), i - 1 return first(s) four = [1, [2, [3, [4,\n",
    "'empty']]]] getitem_link(four, 1)\n",
    "\n",
    "The expression in the `while` header evaluates to true, which causes the\n",
    "assignment statement in the `while` suite to be executed. The function `rest`\n",
    "returns the sublist starting with 2.\n",
    "\n",
    "def first(s): return s[0] def rest(s): return s[1] def getitem_link(s, i):\n",
    "while i > 0: s, i = rest(s), i - 1 return first(s) four = [1, [2, [3, [4,\n",
    "'empty']]]] getitem_link(four, 1)\n",
    "\n",
    "Next, the local name `s` will be updated to refer to the sub-list that begins\n",
    "with the second element of the original list. Evaluating the `while` header\n",
    "expression now yields a false value, and so Python evaluates the expression in\n",
    "the return statement on the final line of `getitem_link`.\n",
    "\n",
    "def first(s): return s[0] def rest(s): return s[1] def getitem_link(s, i):\n",
    "while i > 0: s, i = rest(s), i - 1 return first(s) four = [1, [2, [3, [4,\n",
    "'empty']]]] getitem_link(four, 1)\n",
    "\n",
    "This final environment diagram shows the local frame for the call to `first`,\n",
    "which contains the name `s` bound to that same sub-list. The `first` function\n",
    "selects the value 2 and returns it, which will also be returned from\n",
    "`getitem_link`.\n",
    "\n",
    "This example demonstrates a common pattern of computation with linked lists,\n",
    "where each step in an iteration operates on an increasingly shorter suffix of\n",
    "the original list. This incremental processing to find the length and elements\n",
    "of a linked list does take some time to compute. Python's built-in sequence\n",
    "types are implemented in a different way that does not have a large cost for\n",
    "computing the length of a sequence or retrieving its elements. The details of\n",
    "that representation are beyond the scope of this text.\n",
    "\n",
    "**Recursive manipulation.** Both `len_link` and `getitem_link` are iterative.\n",
    "They peel away each layer of nested pair until the end of the list (in\n",
    "`len_link`) or the desired element (in `getitem_link`) is reached. We can also\n",
    "implement length and element selection using recursion.\n",
    "\n",
    "\n",
    "​"
   ]
  },
  {
   "cell_type": "code",
   "execution_count": null,
   "id": "247d4dab",
   "metadata": {},
   "outputs": [],
   "source": [
    ">>> def len_link_recursive(s):\n",
    "        \"\"\"Return the length of a linked list s.\"\"\"\n",
    "        if s == empty:\n",
    "            return 0\n",
    "        return 1 + len_link_recursive(rest(s))\n"
   ]
  },
  {
   "cell_type": "markdown",
   "id": "14f4c5c7",
   "metadata": {},
   "source": [
    "​    \n",
    "​"
   ]
  },
  {
   "cell_type": "code",
   "execution_count": null,
   "id": "d2f89953",
   "metadata": {},
   "outputs": [],
   "source": [
    ">>> def getitem_link_recursive(s, i):\n",
    "        \"\"\"Return the element at index i of linked list s.\"\"\"\n",
    "        if i == 0:\n",
    "            return first(s)\n",
    "        return getitem_link_recursive(rest(s), i - 1)\n"
   ]
  },
  {
   "cell_type": "markdown",
   "id": "6fdb2435",
   "metadata": {},
   "source": [
    "​    \n",
    "​"
   ]
  },
  {
   "cell_type": "code",
   "execution_count": null,
   "id": "c0252e9f",
   "metadata": {},
   "outputs": [],
   "source": [
    ">>> len_link_recursive(four)\n",
    "4\n",
    ">>> getitem_link_recursive(four, 1)\n",
    "2\n"
   ]
  },
  {
   "cell_type": "markdown",
   "id": "cbc47fdf",
   "metadata": {},
   "source": [
    "These recursive implementations follow the chain of pairs until the end of the\n",
    "list (in `len_link_recursive`) or the desired element (in\n",
    "`getitem_link_recursive`) is reached.\n",
    "\n",
    "Recursion is also useful for transforming and combining linked lists.\n",
    "\n",
    "\n",
    "​"
   ]
  },
  {
   "cell_type": "code",
   "execution_count": null,
   "id": "18e5a6a8",
   "metadata": {},
   "outputs": [],
   "source": [
    ">>> def extend_link(s, t):\n",
    "        \"\"\"Return a list with the elements of s followed by those of t.\"\"\"\n",
    "        assert is_link(s) and is_link(t)\n",
    "        if s == empty:\n",
    "            return t\n",
    "        else:\n",
    "            return link(first(s), extend_link(rest(s), t))\n"
   ]
  },
  {
   "cell_type": "markdown",
   "id": "6245e205",
   "metadata": {},
   "source": [
    "​    \n",
    "​"
   ]
  },
  {
   "cell_type": "code",
   "execution_count": null,
   "id": "7669a07a",
   "metadata": {},
   "outputs": [],
   "source": [
    ">>> extend_link(four, four)\n",
    "[1, [2, [3, [4, [1, [2, [3, [4, 'empty']]]]]]]]\n"
   ]
  },
  {
   "cell_type": "markdown",
   "id": "d7013be3",
   "metadata": {},
   "source": [
    "​    \n",
    "​"
   ]
  },
  {
   "cell_type": "code",
   "execution_count": null,
   "id": "a612798f",
   "metadata": {},
   "outputs": [],
   "source": [
    ">>> def apply_to_all_link(f, s):\n",
    "        \"\"\"Apply f to each element of s.\"\"\"\n",
    "        assert is_link(s)\n",
    "        if s == empty:\n",
    "            return s\n",
    "        else:\n",
    "            return link(f(first(s)), apply_to_all_link(f, rest(s)))\n"
   ]
  },
  {
   "cell_type": "markdown",
   "id": "b279ce9b",
   "metadata": {},
   "source": [
    "​    \n",
    "​"
   ]
  },
  {
   "cell_type": "code",
   "execution_count": null,
   "id": "52c3a519",
   "metadata": {},
   "outputs": [],
   "source": [
    ">>> apply_to_all_link(lambda x: x*x, four)\n",
    "[1, [4, [9, [16, 'empty']]]]\n"
   ]
  },
  {
   "cell_type": "markdown",
   "id": "a5b5bd08",
   "metadata": {},
   "source": [
    "​    \n",
    "​"
   ]
  },
  {
   "cell_type": "code",
   "execution_count": null,
   "id": "0413775b",
   "metadata": {},
   "outputs": [],
   "source": [
    ">>> def keep_if_link(f, s):\n",
    "        \"\"\"Return a list with elements of s for which f(e) is true.\"\"\"\n",
    "        assert is_link(s)\n",
    "        if s == empty:\n",
    "            return s\n",
    "        else:\n",
    "            kept = keep_if_link(f, rest(s))\n",
    "            if f(first(s)):\n",
    "                return link(first(s), kept)\n",
    "            else:\n",
    "                return kept\n"
   ]
  },
  {
   "cell_type": "markdown",
   "id": "e38dbd0c",
   "metadata": {},
   "source": [
    "​    \n",
    "​"
   ]
  },
  {
   "cell_type": "code",
   "execution_count": null,
   "id": "99818d3b",
   "metadata": {},
   "outputs": [],
   "source": [
    ">>> keep_if_link(lambda x: x%2 == 0, four)\n",
    "[2, [4, 'empty']]\n"
   ]
  },
  {
   "cell_type": "markdown",
   "id": "b12298c9",
   "metadata": {},
   "source": [
    "​    \n",
    "​"
   ]
  },
  {
   "cell_type": "code",
   "execution_count": null,
   "id": "b55a204e",
   "metadata": {},
   "outputs": [],
   "source": [
    ">>> def join_link(s, separator):\n",
    "        \"\"\"Return a string of all elements in s separated by separator.\"\"\"\n",
    "        if s == empty:\n",
    "            return \"\"\n",
    "        elif rest(s) == empty:\n",
    "            return str(first(s))\n",
    "        else:\n",
    "            return str(first(s)) + separator + join_link(rest(s), separator)\n"
   ]
  },
  {
   "cell_type": "markdown",
   "id": "949f919f",
   "metadata": {},
   "source": [
    "​    \n",
    "​"
   ]
  },
  {
   "cell_type": "code",
   "execution_count": null,
   "id": "4e316295",
   "metadata": {},
   "outputs": [],
   "source": [
    ">>> join_link(four, \", \")\n",
    "'1, 2, 3, 4'\n"
   ]
  },
  {
   "cell_type": "markdown",
   "id": "663de6a1",
   "metadata": {},
   "source": [
    "**Recursive Construction.** Linked lists are particularly useful when\n",
    "constructing sequences incrementally, a situation that arises often in\n",
    "recursive computations.\n",
    "\n",
    "The `count_partitions` function from Chapter 1 counted the number of ways to\n",
    "partition an integer `n` using parts up to size `m` via a tree-recursive\n",
    "process. With sequences, we can also enumerate these partitions explicitly\n",
    "using a similar process.\n",
    "\n",
    "We follow the same recursive analysis of the problem as we did while counting:\n",
    "partitioning `n` using integers up to `m` involves either"
   ]
  },
  {
   "cell_type": "code",
   "execution_count": null,
   "id": "1b314811",
   "metadata": {},
   "outputs": [],
   "source": [
    "1. partitioning `n-m` using integers up to `m`, or\n",
    "2. partitioning `n` using integers up to `m-1`."
   ]
  },
  {
   "cell_type": "markdown",
   "id": "9ed4aaaf",
   "metadata": {},
   "source": [
    "For base cases, we find that 0 has an empty partition, while partitioning a\n",
    "negative integer or using parts smaller than 1 is impossible.\n",
    "\n",
    "\n",
    "​"
   ]
  },
  {
   "cell_type": "code",
   "execution_count": null,
   "id": "0c8a8979",
   "metadata": {},
   "outputs": [],
   "source": [
    ">>> def partitions(n, m):\n",
    "        \"\"\"Return a linked list of partitions of n using parts of up to m.\n",
    "        Each partition is represented as a linked list.\n",
    "        \"\"\"\n",
    "        if n == 0:\n",
    "            return link(empty, empty) # A list containing the empty partition\n",
    "        elif n < 0 or m == 0:\n",
    "            return empty\n",
    "        else:\n",
    "            using_m = partitions(n-m, m)\n",
    "            with_m = apply_to_all_link(lambda s: link(m, s), using_m)\n",
    "            without_m = partitions(n, m-1)\n",
    "            return extend_link(with_m, without_m)\n"
   ]
  },
  {
   "cell_type": "markdown",
   "id": "8176d34b",
   "metadata": {},
   "source": [
    "In the recursive case, we construct two sublists of partitions. The first uses\n",
    "`m`, and so we prepend `m` to each element of the result `using_m` to form\n",
    "`with_m`.\n",
    "\n",
    "The result of `partitions` is highly nested: a linked list of linked lists,\n",
    "and each linked list is represented as nested pairs that are `list` values.\n",
    "Using `join_link` with appropriate separators, we can display the partitions\n",
    "in a human-readable manner.\n",
    "\n",
    "\n",
    "​"
   ]
  },
  {
   "cell_type": "code",
   "execution_count": null,
   "id": "13fd13ca",
   "metadata": {},
   "outputs": [],
   "source": [
    ">>> def print_partitions(n, m):\n",
    "        lists = partitions(n, m)\n",
    "        strings = apply_to_all_link(lambda s: join_link(s, \" + \"), lists)\n",
    "        print(join_link(strings, \"\\n\"))\n"
   ]
  },
  {
   "cell_type": "markdown",
   "id": "2df9551c",
   "metadata": {},
   "source": [
    "​    \n",
    "​"
   ]
  },
  {
   "cell_type": "code",
   "execution_count": null,
   "id": "67a78500",
   "metadata": {},
   "outputs": [],
   "source": [
    ">>> print_partitions(6, 4)\n",
    "4 + 2\n",
    "4 + 1 + 1\n",
    "3 + 3\n",
    "3 + 2 + 1\n",
    "3 + 1 + 1 + 1\n",
    "2 + 2 + 2\n",
    "2 + 2 + 1 + 1\n",
    "2 + 1 + 1 + 1 + 1\n",
    "1 + 1 + 1 + 1 + 1 + 1\n"
   ]
  },
  {
   "cell_type": "markdown",
   "id": "aab82d6b",
   "metadata": {},
   "source": [
    "_Continue_ : [ 2.4 Mutable Data ](../pages/24-mutable-data.html)\n",
    "\n",
    "## 2.4 Mutable Data\n",
    "\n",
    "We have seen how abstraction is vital in helping us to cope with the\n",
    "complexity of large systems. Effective programming also requires\n",
    "organizational principles that can guide us in formulating the overall design\n",
    "of a program. In particular, we need strategies to help us structure large\n",
    "systems to be modular, meaning that they divide naturally into coherent parts\n",
    "that can be separately developed and maintained.\n",
    "\n",
    "One powerful technique for creating modular programs is to incorporate data\n",
    "that may change state over time. In this way, a single data object can\n",
    "represent something that evolves independently of the rest of the program. The\n",
    "behavior of a changing object may be influenced by its history, just like an\n",
    "entity in the world. Adding state to data is a central ingredient of a\n",
    "paradigm called object-oriented programming.\n",
    "\n",
    "### 2.4.1 The Object Metaphor\n",
    "\n",
    "In the beginning of this text, we distinguished between functions and data:\n",
    "functions performed operations and data were operated upon. When we included\n",
    "function values among our data, we acknowledged that data too can have\n",
    "behavior. Functions could be manipulated as data, but could also be called to\n",
    "perform computation.\n",
    "\n",
    "_Objects_ combine data values with behavior. Objects represent information,\n",
    "but also _behave_ like the things that they represent. The logic of how an\n",
    "object interacts with other objects is bundled along with the information that\n",
    "encodes the object's value. When an object is printed, it knows how to spell\n",
    "itself out in text. If an object is composed of parts, it knows how to reveal\n",
    "those parts on demand. Objects are both information and processes, bundled\n",
    "together to represent the properties, interactions, and behaviors of complex\n",
    "things.\n",
    "\n",
    "Object behavior is implemented in Python through specialized object syntax and\n",
    "associated terminology, which we can introduce by example. A date is a kind of\n",
    "object.\n",
    "\n",
    "\n",
    "​"
   ]
  },
  {
   "cell_type": "code",
   "execution_count": null,
   "id": "5e1d469b",
   "metadata": {},
   "outputs": [],
   "source": [
    ">>> from datetime import date\n"
   ]
  },
  {
   "cell_type": "markdown",
   "id": "ef1aa22f",
   "metadata": {},
   "source": [
    "The name `date` is bound to a _class_. As we have seen, a class represents a\n",
    "kind of value. Individual dates are called _instances_ of that class.\n",
    "Instances can be _constructed_ by calling the class on arguments that\n",
    "characterize the instance.\n",
    "\n",
    "\n",
    "​"
   ]
  },
  {
   "cell_type": "code",
   "execution_count": null,
   "id": "c8e5c1ab",
   "metadata": {},
   "outputs": [],
   "source": [
    ">>> tues = date(2014, 5, 13)\n"
   ]
  },
  {
   "cell_type": "markdown",
   "id": "0e563aa1",
   "metadata": {},
   "source": [
    "While `tues` was constructed from primitive numbers, it behaves like a date.\n",
    "For instance, subtracting it from another date will give a time difference,\n",
    "which we can print.\n",
    "\n",
    "\n",
    "​"
   ]
  },
  {
   "cell_type": "code",
   "execution_count": null,
   "id": "0ba0368a",
   "metadata": {},
   "outputs": [],
   "source": [
    ">>> print(date(2014, 5, 19) - tues)\n",
    "6 days, 0:00:00\n"
   ]
  },
  {
   "cell_type": "markdown",
   "id": "ebe05127",
   "metadata": {},
   "source": [
    "Objects have _attributes_ , which are named values that are part of the\n",
    "object. In Python, like many other programming languages, we use dot notation\n",
    "to designated an attribute of an object.\n",
    "\n",
    "> <expression> . <name>\n",
    "\n",
    "Above, the `<expression>` evaluates to an object, and `<name>` is the name of\n",
    "an attribute for that object.\n",
    "\n",
    "Unlike the names that we have considered so far, these attribute names are not\n",
    "available in the general environment. Instead, attribute names are particular\n",
    "to the object instance preceding the dot.\n",
    "\n",
    "\n",
    "​"
   ]
  },
  {
   "cell_type": "code",
   "execution_count": null,
   "id": "36a98bab",
   "metadata": {},
   "outputs": [],
   "source": [
    ">>> tues.year\n",
    "2014\n"
   ]
  },
  {
   "cell_type": "markdown",
   "id": "e4d29615",
   "metadata": {},
   "source": [
    "Objects also have _methods_ , which are function-valued attributes.\n",
    "Metaphorically, we say that the object \"knows\" how to carry out those methods.\n",
    "By implementation, methods are functions that compute their results from both\n",
    "their arguments and their object. For example, The `strftime` method (a\n",
    "classic function name meant to evoke \"string format of time\") of `tues` takes\n",
    "a single argument that specifies how to display a date (e.g., `%A` means that\n",
    "the day of the week should be spelled out in full).\n",
    "\n",
    "\n",
    "​"
   ]
  },
  {
   "cell_type": "code",
   "execution_count": null,
   "id": "42a4e395",
   "metadata": {},
   "outputs": [],
   "source": [
    ">>> tues.strftime('%A, %B %d')\n",
    "'Tuesday, May 13'\n"
   ]
  },
  {
   "cell_type": "markdown",
   "id": "0269e1bd",
   "metadata": {},
   "source": [
    "Computing the return value of `strftime` requires two inputs: the string that\n",
    "describes the format of the output and the date information bundled into\n",
    "`tues`. Date-specific logic is applied within this method to yield this\n",
    "result. We never stated that the 13th of May, 2014, was a Tuesday, but knowing\n",
    "the corresponding weekday is part of what it means to be a date. By bundling\n",
    "behavior and information together, this Python object offers us a convincing,\n",
    "self-contained abstraction of a date.\n",
    "\n",
    "Dates are objects, but numbers, strings, lists, and ranges are all objects as\n",
    "well. They represent values, but also behave in a manner that befits the\n",
    "values they represent. They also have attributes and methods. For instance,\n",
    "strings have an array of methods that facilitate text processing.\n",
    "\n",
    "\n",
    "​"
   ]
  },
  {
   "cell_type": "code",
   "execution_count": null,
   "id": "92850495",
   "metadata": {},
   "outputs": [],
   "source": [
    ">>> '1234'.isnumeric()\n",
    "True\n",
    ">>> 'rOBERT dE nIRO'.swapcase()\n",
    "'Robert De Niro'\n",
    ">>> 'eyes'.upper().endswith('YES')\n",
    "True\n"
   ]
  },
  {
   "cell_type": "markdown",
   "id": "08054aae",
   "metadata": {},
   "source": [
    "In fact, all values in Python are objects. That is, all values have behavior\n",
    "and attributes. They act like the values they represent.\n",
    "\n",
    "### 2.4.2 Sequence Objects\n",
    "\n",
    "Instances of primitive built-in values such as numbers are _immutable_. The\n",
    "values themselves cannot change over the course of program execution. Lists on\n",
    "the other hand are _mutable_.\n",
    "\n",
    "Mutable objects are used to represent values that change over time. A person\n",
    "is the same person from one day to the next, despite having aged, received a\n",
    "haircut, or otherwise changed in some way. Similarly, an object may have\n",
    "changing properties due to _mutating_ operations. For example, it is possible\n",
    "to change the contents of a list. Most changes are performed by invoking\n",
    "methods on list objects.\n",
    "\n",
    "We can introduce many list modification operations through an example that\n",
    "illustrates the history of playing cards (drastically simplified). Comments in\n",
    "the examples describe the effect of each method invocation.\n",
    "\n",
    "Playing cards were invented in China, perhaps around the 9th century. An early\n",
    "deck had three suits, which corresponded to denominations of money.\n",
    "\n",
    "\n",
    "​"
   ]
  },
  {
   "cell_type": "code",
   "execution_count": null,
   "id": "688c54ae",
   "metadata": {},
   "outputs": [],
   "source": [
    ">>> chinese = ['coin', 'string', 'myriad']  # A list literal\n",
    ">>> suits = chinese                         # Two names refer to the same list\n"
   ]
  },
  {
   "cell_type": "markdown",
   "id": "8f2e435d",
   "metadata": {},
   "source": [
    "As cards migrated to Europe (perhaps through Egypt), only the suit of coins\n",
    "remained in Spanish decks (_oro_).\n",
    "\n",
    "\n",
    "​"
   ]
  },
  {
   "cell_type": "code",
   "execution_count": null,
   "id": "1c3991e1",
   "metadata": {},
   "outputs": [],
   "source": [
    ">>> suits.pop()             # Remove and return the final element\n",
    "'myriad'\n",
    ">>> suits.remove('string')  # Remove the first element that equals the argument\n"
   ]
  },
  {
   "cell_type": "markdown",
   "id": "99a7cb56",
   "metadata": {},
   "source": [
    "Three more suits were added (they evolved in name and design over time),\n",
    "\n",
    "\n",
    "​"
   ]
  },
  {
   "cell_type": "code",
   "execution_count": null,
   "id": "48a6f000",
   "metadata": {},
   "outputs": [],
   "source": [
    ">>> suits.append('cup')              # Add an element to the end\n",
    ">>> suits.extend(['sword', 'club'])  # Add all elements of a sequence to the end\n"
   ]
  },
  {
   "cell_type": "markdown",
   "id": "4bb4492f",
   "metadata": {},
   "source": [
    "and Italians called swords _spades_.\n",
    "\n",
    "\n",
    "​"
   ]
  },
  {
   "cell_type": "code",
   "execution_count": null,
   "id": "41d868b3",
   "metadata": {},
   "outputs": [],
   "source": [
    ">>> suits[2] = 'spade'  # Replace an element\n"
   ]
  },
  {
   "cell_type": "markdown",
   "id": "11814f4b",
   "metadata": {},
   "source": [
    "giving the suits of a traditional Italian deck of cards.\n",
    "\n",
    "\n",
    "​"
   ]
  },
  {
   "cell_type": "code",
   "execution_count": null,
   "id": "04a4c044",
   "metadata": {},
   "outputs": [],
   "source": [
    ">>> suits\n",
    "['coin', 'cup', 'spade', 'club']\n"
   ]
  },
  {
   "cell_type": "markdown",
   "id": "f5e25d39",
   "metadata": {},
   "source": [
    "The French variant used today in the U.S. changes the first two suits:\n",
    "\n",
    "\n",
    "​"
   ]
  },
  {
   "cell_type": "code",
   "execution_count": null,
   "id": "85612928",
   "metadata": {},
   "outputs": [],
   "source": [
    ">>> suits[0:2] = ['heart', 'diamond']  # Replace a slice\n",
    ">>> suits\n",
    "['heart', 'diamond', 'spade', 'club']\n"
   ]
  },
  {
   "cell_type": "markdown",
   "id": "f96a1298",
   "metadata": {},
   "source": [
    "Methods also exist for inserting, sorting, and reversing lists. All of these\n",
    "mutation operations change the value of the list; they do not create new list\n",
    "objects.\n",
    "\n",
    "**Sharing and Identity.** Because we have been changing a single list rather\n",
    "than creating new lists, the object bound to the name `chinese` has also\n",
    "changed, because it is the same list object that was bound to `suits`!\n",
    "\n",
    "\n",
    "​"
   ]
  },
  {
   "cell_type": "code",
   "execution_count": null,
   "id": "7f67a438",
   "metadata": {},
   "outputs": [],
   "source": [
    ">>> chinese  # This name co-refers with \"suits\" to the same changing list\n",
    "['heart', 'diamond', 'spade', 'club']\n"
   ]
  },
  {
   "cell_type": "markdown",
   "id": "eb183d28",
   "metadata": {},
   "source": [
    "This behavior is new. Previously, if a name did not appear in a statement,\n",
    "then its value would not be affected by that statement. With mutable data,\n",
    "methods called on one name can affect another name at the same time.\n",
    "\n",
    "The environment diagram for this example shows how the value bound to\n",
    "`chinese` is changed by statements involving only `suits`. Step through each\n",
    "line of the following example to observe these changes.\n",
    "\n",
    "chinese = ['coin', 'string', 'myriad'] suits = chinese suits.pop()\n",
    "suits.remove('string') suits.append('cup') suits.extend(['sword', 'club'])\n",
    "suits[2] = 'spade' suits[0:2] = ['heart', 'diamond']\n",
    "\n",
    "Lists can be copied using the `list` constructor function. Changes to one list\n",
    "do not affect another, unless they share structure.\n",
    "\n",
    "\n",
    "​"
   ]
  },
  {
   "cell_type": "code",
   "execution_count": null,
   "id": "b433d711",
   "metadata": {},
   "outputs": [],
   "source": [
    ">>> nest = list(suits)  # Bind \"nest\" to a second list with the same elements\n",
    ">>> nest[0] = suits     # Create a nested list\n"
   ]
  },
  {
   "cell_type": "markdown",
   "id": "7b4155e9",
   "metadata": {},
   "source": [
    "According to this environment, changing the list referenced by `suits` will\n",
    "affect the nested list that is the first element of `nest`, but not the other\n",
    "elements.\n",
    "\n",
    "\n",
    "​"
   ]
  },
  {
   "cell_type": "code",
   "execution_count": null,
   "id": "056589e5",
   "metadata": {},
   "outputs": [],
   "source": [
    ">>> suits.insert(2, 'Joker')  # Insert an element at index 2, shifting the rest\n",
    ">>> nest\n",
    "[['heart', 'diamond', 'Joker', 'spade', 'club'], 'diamond', 'spade', 'club']\n"
   ]
  },
  {
   "cell_type": "markdown",
   "id": "24b07710",
   "metadata": {},
   "source": [
    "And likewise, undoing this change in the first element of `nest` will change\n",
    "`suit` as well.\n",
    "\n",
    "\n",
    "​"
   ]
  },
  {
   "cell_type": "code",
   "execution_count": null,
   "id": "bafba15b",
   "metadata": {},
   "outputs": [],
   "source": [
    ">>> nest[0].pop(2)\n",
    "'Joker'\n",
    ">>> suits\n",
    "['heart', 'diamond', 'spade', 'club']\n"
   ]
  },
  {
   "cell_type": "markdown",
   "id": "fac60e3a",
   "metadata": {},
   "source": [
    "Stepping through this example line by line will show the representation of a\n",
    "nested list.\n",
    "\n",
    "suits = ['heart', 'diamond', 'spade', 'club'] nest = list(suits) nest[0] =\n",
    "suits suits.insert(2, 'Joker') joke = nest[0].pop(2)\n",
    "\n",
    "Because two lists may have the same contents but in fact be different lists,\n",
    "we require a means to test whether two objects are the same. Python includes\n",
    "two comparison operators, called `is` and `is not`, that test whether two\n",
    "expressions in fact evaluate to the identical object. Two objects are\n",
    "identical if they are equal in their current value, and any change to one will\n",
    "always be reflected in the other. Identity is a stronger condition than\n",
    "equality.\n",
    "\n",
    "\n",
    "​"
   ]
  },
  {
   "cell_type": "code",
   "execution_count": null,
   "id": "91b41a56",
   "metadata": {},
   "outputs": [],
   "source": [
    ">>> suits is nest[0]\n",
    "True\n",
    ">>> suits is ['heart', 'diamond', 'spade', 'club']\n",
    "False\n",
    ">>> suits == ['heart', 'diamond', 'spade', 'club']\n",
    "True\n"
   ]
  },
  {
   "cell_type": "markdown",
   "id": "f3e3b517",
   "metadata": {},
   "source": [
    "The final two comparisons illustrate the difference between `is` and `==`. The\n",
    "former checks for identity, while the latter checks for the equality of\n",
    "contents.\n",
    "\n",
    "**List comprehensions.** A list comprehension always creates a new list. For\n",
    "example, the `unicodedata` module tracks the official names of every character\n",
    "in the Unicode alphabet. We can look up the characters corresponding to names,\n",
    "including those for card suits.\n",
    "\n",
    "\n",
    "​"
   ]
  },
  {
   "cell_type": "code",
   "execution_count": null,
   "id": "e4fb7887",
   "metadata": {},
   "outputs": [],
   "source": [
    ">>> from unicodedata import lookup\n",
    ">>> [lookup('WHITE ' + s.upper() + ' SUIT') for s in suits]\n",
    "['¡', '¢', '¤', '§']\n"
   ]
  },
  {
   "cell_type": "markdown",
   "id": "08ad8f8f",
   "metadata": {},
   "source": [
    "This resulting list does not share any of its contents with `suits`, and\n",
    "evaluating the list comprehension does not modify the `suits` list.\n",
    "\n",
    "You can read more about the Unicode standard for representing text in the\n",
    "[Unicode section](http://getpython3.com/diveintopython3/strings.html#one-ring-\n",
    "to-rule-them-all) of Dive into Python 3.\n",
    "\n",
    "**Tuples.** A tuple, an instance of the built-in `tuple` type, is an immutable\n",
    "sequence. Tuples are created using a tuple literal that separates element\n",
    "expressions by commas. Parentheses are optional but used commonly in practice.\n",
    "Any objects can be placed within tuples.\n",
    "\n",
    "\n",
    "​"
   ]
  },
  {
   "cell_type": "code",
   "execution_count": null,
   "id": "4b9fe79c",
   "metadata": {},
   "outputs": [],
   "source": [
    ">>> 1, 2 + 3\n",
    "(1, 5)\n",
    ">>> (\"the\", 1, (\"and\", \"only\"))\n",
    "('the', 1, ('and', 'only'))\n",
    ">>> type( (10, 20) )\n",
    "<class 'tuple'>\n"
   ]
  },
  {
   "cell_type": "markdown",
   "id": "f1c6532f",
   "metadata": {},
   "source": [
    "Empty and one-element tuples have special literal syntax.\n",
    "\n",
    "\n",
    "​"
   ]
  },
  {
   "cell_type": "code",
   "execution_count": null,
   "id": "60e6a608",
   "metadata": {},
   "outputs": [],
   "source": [
    ">>> ()    # 0 elements\n",
    "()\n",
    ">>> (10,) # 1 element\n",
    "(10,)\n"
   ]
  },
  {
   "cell_type": "markdown",
   "id": "a19aecc8",
   "metadata": {},
   "source": [
    "Like lists, tuples have a finite length and support element selection. They\n",
    "also have a few methods that are also available for lists, such as `count` and\n",
    "`index`.\n",
    "\n",
    "\n",
    "​"
   ]
  },
  {
   "cell_type": "code",
   "execution_count": null,
   "id": "cfd18c5f",
   "metadata": {},
   "outputs": [],
   "source": [
    ">>> code = (\"up\", \"up\", \"down\", \"down\") + (\"left\", \"right\") * 2\n",
    ">>> len(code)\n",
    "8\n",
    ">>> code[3]\n",
    "'down'\n",
    ">>> code.count(\"down\")\n",
    "2\n",
    ">>> code.index(\"left\")\n",
    "4\n"
   ]
  },
  {
   "cell_type": "markdown",
   "id": "7c448c1e",
   "metadata": {},
   "source": [
    "However, the methods for manipulating the contents of a list are not available\n",
    "for tuples because tuples are immutable.\n",
    "\n",
    "While it is not possible to change which elements are in a tuple, it is\n",
    "possible to change the value of a mutable element contained within a tuple.\n",
    "\n",
    "nest = (10, 20, [30, 40]) nest[2].pop()\n",
    "\n",
    "Tuples are used implicitly in multiple assignment. An assignment of two values\n",
    "to two names creates a two-element tuple and then unpacks it.\n",
    "\n",
    "### 2.4.3 Dictionaries\n",
    "\n",
    "Dictionaries are Python's built-in data type for storing and manipulating\n",
    "correspondence relationships. A dictionary contains key-value pairs, where\n",
    "both the keys and values are objects. The purpose of a dictionary is to\n",
    "provide an abstraction for storing and retrieving values that are indexed not\n",
    "by consecutive integers, but by descriptive keys.\n",
    "\n",
    "Strings commonly serve as keys, because strings are our conventional\n",
    "representation for names of things. This dictionary literal gives the values\n",
    "of various Roman numerals.\n",
    "\n",
    "\n",
    "​"
   ]
  },
  {
   "cell_type": "code",
   "execution_count": null,
   "id": "34e054c5",
   "metadata": {},
   "outputs": [],
   "source": [
    ">>> numerals = {'I': 1.0, 'V': 5, 'X': 10}\n"
   ]
  },
  {
   "cell_type": "markdown",
   "id": "9a18c531",
   "metadata": {},
   "source": [
    "Looking up values by their keys uses the element selection operator that we\n",
    "previously applied to sequences.\n",
    "\n",
    "\n",
    "​"
   ]
  },
  {
   "cell_type": "code",
   "execution_count": null,
   "id": "76cfda2b",
   "metadata": {},
   "outputs": [],
   "source": [
    ">>> numerals['X']\n",
    "10\n"
   ]
  },
  {
   "cell_type": "markdown",
   "id": "42a54645",
   "metadata": {},
   "source": [
    "A dictionary can have at most one value for each key. Adding new key-value\n",
    "pairs and changing the existing value for a key can both be achieved with\n",
    "assignment statements.\n",
    "\n",
    "\n",
    "​"
   ]
  },
  {
   "cell_type": "code",
   "execution_count": null,
   "id": "2370ae5e",
   "metadata": {},
   "outputs": [],
   "source": [
    ">>> numerals['I'] = 1\n",
    ">>> numerals['L'] = 50\n",
    ">>> numerals\n",
    "{'I': 1, 'X': 10, 'L': 50, 'V': 5}\n"
   ]
  },
  {
   "cell_type": "markdown",
   "id": "c5399ec5",
   "metadata": {},
   "source": [
    "Notice that `'L'` was not added to the end of the output above. Dictionaries\n",
    "are unordered collections of key-value pairs. When we print a dictionary, the\n",
    "keys and values are rendered in some order, but as users of the language we\n",
    "cannot predict what that order will be. The order may change when running a\n",
    "program multiple times.\n",
    "\n",
    "Dictionaries can appear in environment diagrams as well.\n",
    "\n",
    "numerals = {'I': 1, 'V': 5, 'X': 10} numerals['L'] = 50\n",
    "\n",
    "The dictionary type also supports various methods of iterating over the\n",
    "contents of the dictionary as a whole. The methods `keys`, `values`, and\n",
    "`items` all return iterable values.\n",
    "\n",
    "\n",
    "​"
   ]
  },
  {
   "cell_type": "code",
   "execution_count": null,
   "id": "f297bd9d",
   "metadata": {},
   "outputs": [],
   "source": [
    ">>> sum(numerals.values())\n",
    "66\n"
   ]
  },
  {
   "cell_type": "markdown",
   "id": "b9c22f28",
   "metadata": {},
   "source": [
    "A list of key-value pairs can be converted into a dictionary by calling the\n",
    "`dict` constructor function.\n",
    "\n",
    "\n",
    "​"
   ]
  },
  {
   "cell_type": "code",
   "execution_count": null,
   "id": "32c8027f",
   "metadata": {},
   "outputs": [],
   "source": [
    ">>> dict([(3, 9), (4, 16), (5, 25)])\n",
    "{3: 9, 4: 16, 5: 25}\n"
   ]
  },
  {
   "cell_type": "markdown",
   "id": "8f1fdbfb",
   "metadata": {},
   "source": [
    "Dictionaries do have some restrictions:\n",
    "\n",
    "  * A key of a dictionary cannot be or contain a mutable value.\n",
    "  * There can be at most one value for a given key.\n",
    "\n",
    "This first restriction is tied to the underlying implementation of\n",
    "dictionaries in Python. The details of this implementation are not a topic of\n",
    "this text. Intuitively, consider that the key tells Python where to find that\n",
    "key-value pair in memory; if the key changes, the location of the pair may be\n",
    "lost. Tuples are commonly used for keys in dictionaries because lists cannot\n",
    "be used.\n",
    "\n",
    "The second restriction is a consequence of the dictionary abstraction, which\n",
    "is designed to store and retrieve values for keys. We can only retrieve _the_\n",
    "value for a key if at most one such value exists in the dictionary.\n",
    "\n",
    "A useful method implemented by dictionaries is `get`, which returns either the\n",
    "value for a key, if the key is present, or a default value. The arguments to\n",
    "`get` are the key and the default value.\n",
    "\n",
    "\n",
    "​"
   ]
  },
  {
   "cell_type": "code",
   "execution_count": null,
   "id": "be7b7ed8",
   "metadata": {},
   "outputs": [],
   "source": [
    ">>> numerals.get('A', 0)\n",
    "0\n",
    ">>> numerals.get('V', 0)\n",
    "5\n"
   ]
  },
  {
   "cell_type": "markdown",
   "id": "632b8dc3",
   "metadata": {},
   "source": [
    "Dictionaries also have a comprehension syntax analogous to those of lists. A\n",
    "key expression and a value expression are separated by a colon. Evaluating a\n",
    "dictionary comprehension creates a new dictionary object.\n",
    "\n",
    "\n",
    "​"
   ]
  },
  {
   "cell_type": "code",
   "execution_count": null,
   "id": "4d8edbbc",
   "metadata": {},
   "outputs": [],
   "source": [
    ">>> {x: x*x for x in range(3,6)}\n",
    "{3: 9, 4: 16, 5: 25}\n"
   ]
  },
  {
   "cell_type": "markdown",
   "id": "613b9d38",
   "metadata": {},
   "source": [
    "### 2.4.4 Local State\n",
    "\n",
    "Lists and dictionaries have _local state_ : they are changing values that have\n",
    "some particular contents at any point in the execution of a program. The word\n",
    "\"state\" implies an evolving process in which that state may change.\n",
    "\n",
    "Functions can also have local state. For instance, let us define a function\n",
    "that models the process of withdrawing money from a bank account. We will\n",
    "create a function called `withdraw`, which takes as its argument an amount to\n",
    "be withdrawn. If there is enough money in the account to accommodate the\n",
    "withdrawal, then `withdraw` will return the balance remaining after the\n",
    "withdrawal. Otherwise, `withdraw` will return the message `'Insufficient\n",
    "funds'`. For example, if we begin with $100 in the account, we would like to\n",
    "obtain the following sequence of return values by calling withdraw:\n",
    "\n",
    "\n",
    "​"
   ]
  },
  {
   "cell_type": "code",
   "execution_count": null,
   "id": "b439b10f",
   "metadata": {},
   "outputs": [],
   "source": [
    ">>> withdraw(25)\n",
    "75\n",
    ">>> withdraw(25)\n",
    "50\n",
    ">>> withdraw(60)\n",
    "'Insufficient funds'\n",
    ">>> withdraw(15)\n",
    "35\n"
   ]
  },
  {
   "cell_type": "markdown",
   "id": "7bd7ebec",
   "metadata": {},
   "source": [
    "Above, the expression `withdraw(25)`, evaluated twice, yields different\n",
    "values. Thus, this user-defined function is non-pure. Calling the function not\n",
    "only returns a value, but also has the side effect of changing the function in\n",
    "some way, so that the next call with the same argument will return a different\n",
    "result. This side effect is a result of `withdraw` making a change to a name-\n",
    "value binding outside of the current frame.\n",
    "\n",
    "For `withdraw` to make sense, it must be created with an initial account\n",
    "balance. The function `make_withdraw` is a higher-order function that takes a\n",
    "starting balance as an argument. The function `withdraw` is its return value.\n",
    "\n",
    "\n",
    "​"
   ]
  },
  {
   "cell_type": "code",
   "execution_count": null,
   "id": "0c2d23be",
   "metadata": {},
   "outputs": [],
   "source": [
    ">>> withdraw = make_withdraw(100)\n"
   ]
  },
  {
   "cell_type": "markdown",
   "id": "18daa3da",
   "metadata": {},
   "source": [
    "An implementation of `make_withdraw` requires a new kind of statement: a\n",
    "`nonlocal` statement. When we call `make_withdraw`, we bind the name `balance`\n",
    "to the initial amount. We then define and return a local function, `withdraw`,\n",
    "which updates and returns the value of `balance` when called.\n",
    "\n",
    "\n",
    "​"
   ]
  },
  {
   "cell_type": "code",
   "execution_count": null,
   "id": "2eea1fb4",
   "metadata": {},
   "outputs": [],
   "source": [
    ">>> def make_withdraw(balance):\n",
    "        \"\"\"Return a withdraw function that draws down balance with each call.\"\"\"\n",
    "        def withdraw(amount):\n",
    "            nonlocal balance                 # Declare the name \"balance\" nonlocal\n",
    "            if amount > balance:\n",
    "                return 'Insufficient funds'\n",
    "            balance = balance - amount       # Re-bind the existing balance name\n",
    "            return balance\n",
    "        return withdraw\n"
   ]
  },
  {
   "cell_type": "markdown",
   "id": "a10feedd",
   "metadata": {},
   "source": [
    "The `nonlocal` statement declares that whenever we change the binding of the\n",
    "name `balance`, the binding is changed in the first frame in which `balance`\n",
    "is already bound. Recall that without the `nonlocal` statement, an assignment\n",
    "statement would always bind a name in the first frame of the current\n",
    "environment. The `nonlocal` statement indicates that the name appears\n",
    "somewhere in the environment other than the first (local) frame or the last\n",
    "(global) frame.\n",
    "\n",
    "The following environment diagrams illustrate the effects of multiple calls to\n",
    "a function created by `make_withdraw`.\n",
    "\n",
    "def make_withdraw(balance): def withdraw(amount): nonlocal balance if amount >\n",
    "balance: return 'Insufficient funds' balance = balance - amount return balance\n",
    "return withdraw wd = make_withdraw(20) wd(5) wd(3)\n",
    "\n",
    "The first def statement has the usual effect: it creates a new user-defined\n",
    "function and binds the name `make_withdraw` to that function in the global\n",
    "frame. The subsequent call to `make_withdraw` creates and returns a locally\n",
    "defined function `withdraw`. The name `balance` is bound in the parent frame\n",
    "of this function. Crucially, there will only be this single binding for the\n",
    "name `balance` throughout the rest of this example.\n",
    "\n",
    "Next, we evaluate an expression that calls this function, bound to the name\n",
    "`wd`, on an amount 5. The body of `withdraw` is executed in a new environment\n",
    "that extends the environment in which `withdraw` was defined. Tracing the\n",
    "effect of evaluating `withdraw` illustrates the effect of a `nonlocal`\n",
    "statement in Python: a name outside of the first local frame can be changed by\n",
    "an assignment statement.\n",
    "\n",
    "def make_withdraw(balance): def withdraw(amount): nonlocal balance if amount >\n",
    "balance: return 'Insufficient funds' balance = balance - amount return balance\n",
    "return withdraw wd = make_withdraw(20) wd(5) wd(3)\n",
    "\n",
    "The `nonlocal` statement changes all of the remaining assignment statements in\n",
    "the definition of `withdraw`. After executing `nonlocal balance`, any\n",
    "assignment statement with `balance` on the left-hand side of `=` will not bind\n",
    "`balance` in the first frame of the current environment. Instead, it will find\n",
    "the first frame in which `balance` was already defined and re-bind the name in\n",
    "that frame. If `balance` has not previously been bound to a value, then the\n",
    "`nonlocal` statement will give an error.\n",
    "\n",
    "By virtue of changing the binding for `balance`, we have changed the\n",
    "`withdraw` function as well. The next time it is called, the name `balance`\n",
    "will evaluate to 15 instead of 20. Hence, when we call `withdraw` a second\n",
    "time, we see that its return value is 12 and not 17\\. The change to `balance`\n",
    "from the first call affects the result of the second call.\n",
    "\n",
    "def make_withdraw(balance): def withdraw(amount): nonlocal balance if amount >\n",
    "balance: return 'Insufficient funds' balance = balance - amount return balance\n",
    "return withdraw wd = make_withdraw(20) wd(5) wd(3)\n",
    "\n",
    "The second call to `withdraw` does create a second local frame, as usual.\n",
    "However, both `withdraw` frames have the same parent. That is, they both\n",
    "extend the environment for `make_withdraw`, which contains the binding for\n",
    "`balance`. Hence, they share that particular name binding. Calling `withdraw`\n",
    "has the side effect of altering the environment that will be extended by\n",
    "future calls to `withdraw`. The `nonlocal` statement allows `withdraw` to\n",
    "change a name binding in the `make_withdraw` frame.\n",
    "\n",
    "Ever since we first encountered nested `def` statements, we have observed that\n",
    "a locally defined function can look up names outside of its local frames. No\n",
    "`nonlocal` statement is required to _access_ a non-local name. By contrast,\n",
    "only after a `nonlocal` statement can a function _change_ the binding of names\n",
    "in these frames.\n",
    "\n",
    "By introducing `nonlocal` statements, we have created a dual role for\n",
    "assignment statements. Either they change local bindings, or they change\n",
    "nonlocal bindings. In fact, assignment statements already had a dual role:\n",
    "they either created new bindings or re-bound existing names. Assignment can\n",
    "also change the contents of lists and dictionaries. The many roles of Python\n",
    "assignment can obscure the effects of executing an assignment statement. It is\n",
    "up to you as a programmer to document your code clearly so that the effects of\n",
    "assignment can be understood by others.\n",
    "\n",
    "**Python Particulars.** This pattern of non-local assignment is a general\n",
    "feature of programming languages with higher-order functions and lexical\n",
    "scope. Most other languages do not require a `nonlocal` statement at all.\n",
    "Instead, non-local assignment is often the default behavior of assignment\n",
    "statements.\n",
    "\n",
    "Python also has an unusual restriction regarding the lookup of names: within\n",
    "the body of a function, all instances of a name must refer to the same frame.\n",
    "As a result, Python cannot look up the value of a name in a non-local frame,\n",
    "then bind that same name in the local frame, because the same name would be\n",
    "accessed in two different frames in the same function. This restriction allows\n",
    "Python to pre-compute which frame contains each name before executing the body\n",
    "of a function. When this restriction is violated, a confusing error message\n",
    "results. To demonstrate, the `make_withdraw` example is repeated below with\n",
    "the `nonlocal` statement removed.\n",
    "\n",
    "def make_withdraw(balance): def withdraw(amount): if amount > balance: return\n",
    "'Insufficient funds' balance = balance - amount return balance return withdraw\n",
    "wd = make_withdraw(20) wd(5)\n",
    "\n",
    "This `UnboundLocalError` appears because `balance` is assigned locally in line\n",
    "5, and so Python assumes that all references to `balance` must appear in the\n",
    "local frame as well. This error occurs _before_ line 5 is ever executed,\n",
    "implying that Python has considered line 5 in some way before executing line\n",
    "\n",
    "3. As we study interpreter design, we will see that pre-computing facts about\n",
    "   a function body before executing it is quite common. In this case, Python's\n",
    "   pre-processing restricted the frame in which `balance` could appear, and thus\n",
    "   prevented the name from being found. Adding a `nonlocal` statement corrects\n",
    "   this error. The `nonlocal` statement did not exist in Python 2.\n",
    "\n",
    "### 2.4.5 The Benefits of Non-Local Assignment\n",
    "\n",
    "Non-local assignment is an important step on our path to viewing a program as\n",
    "a collection of independent and autonomous _objects_ , which interact with\n",
    "each other but each manage their own internal state.\n",
    "\n",
    "In particular, non-local assignment has given us the ability to maintain some\n",
    "state that is local to a function, but evolves over successive calls to that\n",
    "function. The `balance` associated with a particular withdraw function is\n",
    "shared among all calls to that function. However, the binding for balance\n",
    "associated with an instance of withdraw is inaccessible to the rest of the\n",
    "program. Only `wd` is associated with the frame for `make_withdraw` in which\n",
    "it was defined. If `make_withdraw` is called again, then it will create a\n",
    "separate frame with a separate binding for `balance`.\n",
    "\n",
    "We can extend our example to illustrate this point. A second call to\n",
    "`make_withdraw` returns a second `withdraw` function that has a different\n",
    "parent. We bind this second function to the name `wd2` in the global frame.\n",
    "\n",
    "def make_withdraw(balance): def withdraw(amount): nonlocal balance if amount >\n",
    "balance: return 'Insufficient funds' balance = balance - amount return balance\n",
    "return withdraw wd = make_withdraw(20) wd2 = make_withdraw(7) wd2(6) wd(8)\n",
    "\n",
    "Now, we see that there are in fact two bindings for the name `balance` in two\n",
    "different frames, and each `withdraw` function has a different parent. The\n",
    "name `wd` is bound to a function with a balance of 20, while `wd2` is bound to\n",
    "a different function with a balance of 7.\n",
    "\n",
    "Calling `wd2` changes the binding of its non-local `balance` name, but does\n",
    "not affect the function bound to the name `withdraw`. A future call to `wd` is\n",
    "unaffected by the changing balance of `wd2`; its balance is still 20.\n",
    "\n",
    "def make_withdraw(balance): def withdraw(amount): nonlocal balance if amount >\n",
    "balance: return 'Insufficient funds' balance = balance - amount return balance\n",
    "return withdraw wd = make_withdraw(20) wd2 = make_withdraw(7) wd2(6) wd(8)\n",
    "\n",
    "In this way, each instance of `withdraw` maintains its own balance state, but\n",
    "that state is inaccessible to any other function in the program. Viewing this\n",
    "situation at a higher level, we have created an abstraction of a bank account\n",
    "that manages its own internals but behaves in a way that models accounts in\n",
    "the world: it changes over time based on its own history of withdrawal\n",
    "requests.\n",
    "\n",
    "### 2.4.6 The Cost of Non-Local Assignment\n",
    "\n",
    "Our environment model of computation cleanly extends to explain the effects of\n",
    "non-local assignment. However, non-local assignment introduces some important\n",
    "nuances in the way we think about names and values.\n",
    "\n",
    "Previously, our values did not change; only our names and bindings changed.\n",
    "When two names `a` and `b` were both bound to the value 4, it did not matter\n",
    "whether they were bound to the same 4 or different 4's. As far as we could\n",
    "tell, there was only one 4 object that never changed.\n",
    "\n",
    "However, functions with state do not behave this way. When two names `wd` and\n",
    "`wd2` are both bound to a `withdraw` function, it _does_ matter whether they\n",
    "are bound to the same function or different instances of that function.\n",
    "Consider the following example, which contrasts the one we just analyzed. In\n",
    "this case, calling the function named by `wd2` did change the value of the\n",
    "function named by `wd`, because both names refer to the same function.\n",
    "\n",
    "def make_withdraw(balance): def withdraw(amount): nonlocal balance if amount >\n",
    "balance: return 'Insufficient funds' balance = balance - amount return balance\n",
    "return withdraw wd = make_withdraw(12) wd2 = wd wd2(1) wd(1)\n",
    "\n",
    "It is not unusual for two names to co-refer to the same value in the world,\n",
    "and so it is in our programs. But, as values change over time, we must be very\n",
    "careful to understand the effect of a change on other names that might refer\n",
    "to those values.\n",
    "\n",
    "The key to correctly analyzing code with non-local assignment is to remember\n",
    "that only function calls can introduce new frames. Assignment statements\n",
    "always change bindings in existing frames. In this case, unless\n",
    "`make_withdraw` is called twice, there can be only one binding for `balance`.\n",
    "\n",
    "**Sameness and change.** These subtleties arise because, by introducing non-\n",
    "pure functions that change the non-local environment, we have changed the\n",
    "nature of expressions. An expression that contains only pure function calls is\n",
    "_referentially transparent_ ; its value does not change if we substitute one\n",
    "of its subexpression with the value of that subexpression.\n",
    "\n",
    "Re-binding operations violate the conditions of referential transparency\n",
    "because they do more than return a value; they change the environment. When we\n",
    "introduce arbitrary re-binding, we encounter a thorny epistemological issue:\n",
    "what it means for two values to be the same. In our environment model of\n",
    "computation, two separately defined functions are not the same, because\n",
    "changes to one may not be reflected in the other.\n",
    "\n",
    "In general, so long as we never modify data objects, we can regard a compound\n",
    "data object to be precisely the totality of its pieces. For example, a\n",
    "rational number is determined by giving its numerator and its denominator. But\n",
    "this view is no longer valid in the presence of change, where a compound data\n",
    "object has an \"identity\" that is something different from the pieces of which\n",
    "it is composed. A bank account is still \"the same\" bank account even if we\n",
    "change the balance by making a withdrawal; conversely, we could have two bank\n",
    "accounts that happen to have the same balance, but are different objects.\n",
    "\n",
    "Despite the complications it introduces, non-local assignment is a powerful\n",
    "tool for creating modular programs. Different parts of a program, which\n",
    "correspond to different environment frames, can evolve separately throughout\n",
    "program execution. Moreover, using functions with local state, we are able to\n",
    "implement mutable data types. In fact, we can implement abstract data types\n",
    "that are equivalent to the built-in `list` and `dict` types introduced above.\n",
    "\n",
    "### 2.4.7 Implementing Lists and Dictionaries\n",
    "\n",
    "The Python language does not give us access to the implementation of lists,\n",
    "only to the sequence abstraction and mutation methods built into the language.\n",
    "To understand how a mutable list could be represented using functions with\n",
    "local state, we will now develop an implementation of a mutable linked list.\n",
    "\n",
    "We will represent a mutable linked list by a function that has a linked list\n",
    "as its local state. Lists need to have an identity, like any mutable value. In\n",
    "particular, we cannot use `None` to represent an empty mutable list, because\n",
    "two empty lists are not identical values (e.g., appending to one does not\n",
    "append to the other), but `None is None`. On the other hand, two different\n",
    "functions that each have `empty` as their local state will suffice to\n",
    "distinguish two empty lists.\n",
    "\n",
    "If a mutable linked list is a function, what arguments does it take? The\n",
    "answer exhibits a general pattern in programming: the function is a dispatch\n",
    "function and its arguments are first a message, followed by additional\n",
    "arguments to parameterize that method. This message is a string naming what\n",
    "the function should do. Dispatch functions are effectively many functions in\n",
    "one: the message determines the behavior of the function, and the additional\n",
    "arguments are used in that behavior.\n",
    "\n",
    "Our mutable list will respond to five different messages: `len`, `getitem`,\n",
    "`push_first`, `pop_first`, and `str`. The first two implement the behaviors of\n",
    "the sequence abstraction. The next two add or remove the first element of the\n",
    "list. The final message returns a string representation of the whole linked\n",
    "list.\n",
    "\n",
    "\n",
    "​"
   ]
  },
  {
   "cell_type": "code",
   "execution_count": null,
   "id": "b000d591",
   "metadata": {},
   "outputs": [],
   "source": [
    ">>> def mutable_link():\n",
    "        \"\"\"Return a functional implementation of a mutable linked list.\"\"\"\n",
    "        contents = empty\n",
    "        def dispatch(message, value=None):\n",
    "            nonlocal contents\n",
    "            if message == 'len':\n",
    "                return len_link(contents)\n",
    "            elif message == 'getitem':\n",
    "                return getitem_link(contents, value)\n",
    "            elif message == 'push_first':\n",
    "                contents = link(value, contents)\n",
    "            elif message == 'pop_first':\n",
    "                f = first(contents)\n",
    "                contents = rest(contents)\n",
    "                return f\n",
    "            elif message == 'str':\n",
    "                return join_link(contents, \", \")\n",
    "        return dispatch\n"
   ]
  },
  {
   "cell_type": "markdown",
   "id": "c5bb543d",
   "metadata": {},
   "source": [
    "We can also add a convenience function to construct a functionally implemented\n",
    "linked list from any built-in sequence, simply by adding each element in\n",
    "reverse order.\n",
    "\n",
    "\n",
    "​"
   ]
  },
  {
   "cell_type": "code",
   "execution_count": null,
   "id": "cc006695",
   "metadata": {},
   "outputs": [],
   "source": [
    ">>> def to_mutable_link(source):\n",
    "        \"\"\"Return a functional list with the same contents as source.\"\"\"\n",
    "        s = mutable_link()\n",
    "        for element in reversed(source):\n",
    "            s('push_first', element)\n",
    "        return s\n"
   ]
  },
  {
   "cell_type": "markdown",
   "id": "7d9b99cb",
   "metadata": {},
   "source": [
    "In the definition above, the function `reversed` takes and returns an iterable\n",
    "value; it is another example of a function that processes sequences.\n",
    "\n",
    "At this point, we can construct a functionally implemented mutable linked\n",
    "lists. Note that the linked list itself is a function.\n",
    "\n",
    "\n",
    "​"
   ]
  },
  {
   "cell_type": "code",
   "execution_count": null,
   "id": "f92df14b",
   "metadata": {},
   "outputs": [],
   "source": [
    ">>> s = to_mutable_link(suits)\n",
    ">>> type(s)\n",
    "<class 'function'>\n",
    ">>> print(s('str'))\n",
    "heart, diamond, spade, club\n"
   ]
  },
  {
   "cell_type": "markdown",
   "id": "2b3b865f",
   "metadata": {},
   "source": [
    "In addition, we can pass messages to the list `s` that change its contents,\n",
    "for instance removing the first element.\n",
    "\n",
    "\n",
    "​"
   ]
  },
  {
   "cell_type": "code",
   "execution_count": null,
   "id": "102ee5b5",
   "metadata": {},
   "outputs": [],
   "source": [
    ">>> s('pop_first')\n",
    "'heart'\n",
    ">>> print(s('str'))\n",
    "diamond, spade, club\n"
   ]
  },
  {
   "cell_type": "markdown",
   "id": "bcf82b77",
   "metadata": {},
   "source": [
    "In principle, the operations `push_first` and `pop_first` suffice to make\n",
    "arbitrary changes to a list. We can always empty out the list entirely and\n",
    "then replace its old contents with the desired result.\n",
    "\n",
    "**Message passing.** Given some time, we could implement the many useful\n",
    "mutation operations of Python lists, such as `extend` and `insert`. We would\n",
    "have a choice: we could implement them all as functions, which use the\n",
    "existing messages `pop_first` and `push_first` to make all changes.\n",
    "Alternatively, we could add additional `elif` clauses to the body of\n",
    "`dispatch`, each checking for a message (e.g., `'extend'`) and applying the\n",
    "appropriate change to `contents` directly.\n",
    "\n",
    "This second approach, which encapsulates the logic for all operations on a\n",
    "data value within one function that responds to different messages, is a\n",
    "discipline called message passing. A program that uses message passing defines\n",
    "dispatch functions, each of which may have local state, and organizes\n",
    "computation by passing \"messages\" as the first argument to those functions.\n",
    "The messages are strings that correspond to particular behaviors.\n",
    "\n",
    "**Implementing Dictionaries.** We can also implement a value with similar\n",
    "behavior to a dictionary. In this case, we use a list of key-value pairs to\n",
    "store the contents of the dictionary. Each pair is a two-element list.\n",
    "\n",
    "\n",
    "​"
   ]
  },
  {
   "cell_type": "code",
   "execution_count": null,
   "id": "c34004ac",
   "metadata": {},
   "outputs": [],
   "source": [
    ">>> def dictionary():\n",
    "        \"\"\"Return a functional implementation of a dictionary.\"\"\"\n",
    "        records = []\n",
    "        def getitem(key):\n",
    "            matches = [r for r in records if r[0] == key]\n",
    "            if len(matches) == 1:\n",
    "                key, value = matches[0]\n",
    "                return value\n",
    "        def setitem(key, value):\n",
    "            nonlocal records\n",
    "            non_matches = [r for r in records if r[0] != key]\n",
    "            records = non_matches + [[key, value]]\n",
    "        def dispatch(message, key=None, value=None):\n",
    "            if message == 'getitem':\n",
    "                return getitem(key)\n",
    "            elif message == 'setitem':\n",
    "                setitem(key, value)\n",
    "        return dispatch\n"
   ]
  },
  {
   "cell_type": "markdown",
   "id": "eaf2a110",
   "metadata": {},
   "source": [
    "Again, we use the message passing method to organize our implementation. We\n",
    "have supported two messages: `getitem` and `setitem`. To insert a value for a\n",
    "key, we filter out any existing records with the given key, then add one. In\n",
    "this way, we are assured that each key appears only once in records. To look\n",
    "up a value for a key, we filter for the record that matches the given key. We\n",
    "can now use our implementation to store and retrieve values.\n",
    "\n",
    "\n",
    "​"
   ]
  },
  {
   "cell_type": "code",
   "execution_count": null,
   "id": "bc1a25c1",
   "metadata": {},
   "outputs": [],
   "source": [
    ">>> d = dictionary()\n",
    ">>> d('setitem', 3, 9)\n",
    ">>> d('setitem', 4, 16)\n",
    ">>> d('getitem', 3)\n",
    "9\n",
    ">>> d('getitem', 4)\n",
    "16\n"
   ]
  },
  {
   "cell_type": "markdown",
   "id": "9d2b4050",
   "metadata": {},
   "source": [
    "This implementation of a dictionary is _not_ optimized for fast record lookup,\n",
    "because each call must filter through all records. The built-in dictionary\n",
    "type is considerably more efficient. The way in which it is implemented is\n",
    "beyond the scope of this text.\n",
    "\n",
    "### 2.4.8 Dispatch Dictionaries\n",
    "\n",
    "The dispatch function is a general method for implementing a message passing\n",
    "interface for abstract data. To implement message dispatch, we have thus far\n",
    "used conditional statements to compare the message string to a fixed set of\n",
    "known messages.\n",
    "\n",
    "The built-in dictionary data type provides a general method for looking up a\n",
    "value for a key. Instead of using conditionals to implement dispatching, we\n",
    "can use dictionaries with string keys.\n",
    "\n",
    "The mutable `account` data type below is implemented as a dictionary. It has a\n",
    "constructor `account` and selector `check_balance`, as well as functions to\n",
    "`deposit` or `withdraw` funds. Moreover, the local state of the account is\n",
    "stored in the dictionary alongside the functions that implement its behavior.\n",
    "\n",
    "def account(initial_balance): def deposit(amount): dispatch['balance'] +=\n",
    "amount return dispatch['balance'] def withdraw(amount): if amount >\n",
    "dispatch['balance']: return 'Insufficient funds' dispatch['balance'] -= amount\n",
    "return dispatch['balance'] dispatch = {'deposit': deposit, 'withdraw':\n",
    "withdraw, 'balance': initial_balance} return dispatch def withdraw(account,\n",
    "amount): return account['withdraw'](amount) def deposit(account, amount):\n",
    "return account['deposit'](amount) def check_balance(account): return\n",
    "account['balance'] a = account(20) deposit(a, 5) withdraw(a, 17)\n",
    "check_balance(a)\n",
    "\n",
    "The name `dispatch` within the body of the `account` constructor is bound to a\n",
    "dictionary that contains the messages accepted by an account as keys. The\n",
    "_balance_ is a number, while the messages _deposit_ and _withdraw_ are bound\n",
    "to functions. These functions have access to the `dispatch` dictionary, and so\n",
    "they can read and change the balance. By storing the balance in the dispatch\n",
    "dictionary rather than in the `account` frame directly, we avoid the need for\n",
    "`nonlocal` statements in `deposit` and `withdraw`.\n",
    "\n",
    "The operators `+=` and `-=` are shorthand in Python (and many other languages)\n",
    "for combined lookup and re-assignment. The last two lines below are\n",
    "equivalent.\n",
    "\n",
    "\n",
    "​"
   ]
  },
  {
   "cell_type": "code",
   "execution_count": null,
   "id": "8d75d76c",
   "metadata": {},
   "outputs": [],
   "source": [
    ">>> a = 2\n",
    ">>> a = a + 1\n",
    ">>> a += 1\n"
   ]
  },
  {
   "cell_type": "markdown",
   "id": "cc245f42",
   "metadata": {},
   "source": [
    "### 2.4.9 Propagating Constraints\n",
    "\n",
    "Mutable data allows us to simulate systems with change, but also allows us to\n",
    "build new kinds of abstractions. In this extended example, we combine nonlocal\n",
    "assignment, lists, and dictionaries to build a _constraint-based system_ that\n",
    "supports computation in multiple directions. Expressing programs as\n",
    "constraints is a type of _declarative programming_ , in which a programmer\n",
    "declares the structure of a problem to be solved, but abstracts away the\n",
    "details of exactly how the solution to the problem is computed.\n",
    "\n",
    "Computer programs are traditionally organized as one-directional computations,\n",
    "which perform operations on pre-specified arguments to produce desired\n",
    "outputs. On the other hand, we often want to model systems in terms of\n",
    "relations among quantities. For example, we previously considered the ideal\n",
    "gas law, which relates the pressure (`p`), volume (`v`), quantity (`n`), and\n",
    "temperature (`t`) of an ideal gas via Boltzmann's constant (`k`):\n",
    "\n",
    "\n",
    "​"
   ]
  },
  {
   "cell_type": "code",
   "execution_count": null,
   "id": "e7ef6bc1",
   "metadata": {},
   "outputs": [],
   "source": [
    "p * v = n * k * t\n"
   ]
  },
  {
   "cell_type": "markdown",
   "id": "e34de803",
   "metadata": {},
   "source": [
    "Such an equation is not one-directional. Given any four of the quantities, we\n",
    "can use this equation to compute the fifth. Yet translating the equation into\n",
    "a traditional computer language would force us to choose one of the quantities\n",
    "to be computed in terms of the other four. Thus, a function for computing the\n",
    "pressure could not be used to compute the temperature, even though the\n",
    "computations of both quantities arise from the same equation.\n",
    "\n",
    "In this section, we sketch the design of a general model of linear\n",
    "relationships. We define primitive constraints that hold between quantities,\n",
    "such as an `adder(a, b, c)` constraint that enforces the mathematical\n",
    "relationship `a + b = c`.\n",
    "\n",
    "We also define a means of combination, so that primitive constraints can be\n",
    "combined to express more complex relations. In this way, our program resembles\n",
    "a programming language. We combine constraints by constructing a network in\n",
    "which constraints are joined by connectors. A connector is an object that\n",
    "\"holds\" a value and may participate in one or more constraints.\n",
    "\n",
    "For example, we know that the relationship between Fahrenheit and Celsius\n",
    "temperatures is:\n",
    "\n",
    "\n",
    "​"
   ]
  },
  {
   "cell_type": "code",
   "execution_count": null,
   "id": "675464d8",
   "metadata": {},
   "outputs": [],
   "source": [
    "9 * c = 5 * (f - 32)\n"
   ]
  },
  {
   "cell_type": "markdown",
   "id": "34134109",
   "metadata": {},
   "source": [
    "This equation is a complex constraint between `c` and `f`. Such a constraint\n",
    "can be thought of as a network consisting of primitive `adder`, `multiplier`,\n",
    "and `constant` constraints.\n",
    "\n",
    "![](http://www.composingprograms.com/img/constraints.png)\n",
    "\n",
    "In this figure, we see on the left a multiplier box with three terminals,\n",
    "labeled `a`, `b`, and `c`. These connect the multiplier to the rest of the\n",
    "network as follows: The `a` terminal is linked to a connector `celsius`, which\n",
    "will hold the Celsius temperature. The `b` terminal is linked to a connector\n",
    "`w`, which is also linked to a constant box that holds 9. The `c` terminal,\n",
    "which the multiplier box constrains to be the product of `a` and `b`, is\n",
    "linked to the `c` terminal of another multiplier box, whose `b` is connected\n",
    "to a constant 5 and whose `a` is connected to one of the terms in the sum\n",
    "constraint.\n",
    "\n",
    "Computation by such a network proceeds as follows: When a connector is given a\n",
    "value (by the user or by a constraint box to which it is linked), it awakens\n",
    "all of its associated constraints (except for the constraint that just\n",
    "awakened it) to inform them that it has a value. Each awakened constraint box\n",
    "then polls its connectors to see if there is enough information to determine a\n",
    "value for a connector. If so, the box sets that connector, which then awakens\n",
    "all of its associated constraints, and so on. For instance, in conversion\n",
    "between Celsius and Fahrenheit, `w`, `x`, and `y` are immediately set by the\n",
    "constant boxes to 9, 5, and 32, respectively. The connectors awaken the\n",
    "multipliers and the adder, which determine that there is not enough\n",
    "information to proceed. If the user (or some other part of the network) sets\n",
    "the `celsius` connector to a value (say 25), the leftmost multiplier will be\n",
    "awakened, and it will set `u` to `25 * 9 = 225`. Then `u` awakens the second\n",
    "multiplier, which sets `v` to 45, and `v` awakens the adder, which sets the\n",
    "`fahrenheit` connector to 77.\n",
    "\n",
    "**Using the Constraint System.** To use the constraint system to carry out the\n",
    "temperature computation outlined above, we first create two named connectors,\n",
    "`celsius` and `fahrenheit`, by calling the `connector` constructor.\n",
    "\n",
    "\n",
    "​"
   ]
  },
  {
   "cell_type": "code",
   "execution_count": null,
   "id": "a8bb12dc",
   "metadata": {},
   "outputs": [],
   "source": [
    ">>> celsius = connector('Celsius')\n",
    ">>> fahrenheit = connector('Fahrenheit')\n"
   ]
  },
  {
   "cell_type": "markdown",
   "id": "676e1374",
   "metadata": {},
   "source": [
    "Then, we link these connectors into a network that mirrors the figure above.\n",
    "The function `converter` assembles the various connectors and constraints in\n",
    "the network.\n",
    "\n",
    "\n",
    "​"
   ]
  },
  {
   "cell_type": "code",
   "execution_count": null,
   "id": "d9bcb0b1",
   "metadata": {},
   "outputs": [],
   "source": [
    ">>> def converter(c, f):\n",
    "        \"\"\"Connect c to f with constraints to convert from Celsius to Fahrenheit.\"\"\"\n",
    "        u, v, w, x, y = [connector() for _ in range(5)]\n",
    "        multiplier(c, w, u)\n",
    "        multiplier(v, x, u)\n",
    "        adder(v, y, f)\n",
    "        constant(w, 9)\n",
    "        constant(x, 5)\n",
    "        constant(y, 32)\n"
   ]
  },
  {
   "cell_type": "markdown",
   "id": "164889b4",
   "metadata": {},
   "source": [
    "​    \n",
    "​"
   ]
  },
  {
   "cell_type": "code",
   "execution_count": null,
   "id": "33972249",
   "metadata": {},
   "outputs": [],
   "source": [
    ">>> converter(celsius, fahrenheit)\n"
   ]
  },
  {
   "cell_type": "markdown",
   "id": "f1256194",
   "metadata": {},
   "source": [
    "We will use a message passing system to coordinate constraints and connectors.\n",
    "Constraints are dictionaries that do not hold local states themselves. Their\n",
    "responses to messages are non-pure functions that change the connectors that\n",
    "they constrain.\n",
    "\n",
    "Connectors are dictionaries that hold a current value and respond to messages\n",
    "that manipulate that value. Constraints will not change the value of\n",
    "connectors directly, but instead will do so by sending messages, so that the\n",
    "connector can notify other constraints in response to the change. In this way,\n",
    "a connector represents a number, but also encapsulates connector behavior.\n",
    "\n",
    "One message we can send to a connector is to set its value. Here, we (the\n",
    "`'user'`) set the value of `celsius` to 25.\n",
    "\n",
    "\n",
    "​"
   ]
  },
  {
   "cell_type": "code",
   "execution_count": null,
   "id": "961f61eb",
   "metadata": {},
   "outputs": [],
   "source": [
    ">>> celsius['set_val']('user', 25)\n",
    "Celsius = 25\n",
    "Fahrenheit = 77.0\n"
   ]
  },
  {
   "cell_type": "markdown",
   "id": "d29173d0",
   "metadata": {},
   "source": [
    "Not only does the value of `celsius` change to 25, but its value propagates\n",
    "through the network, and so the value of `fahrenheit` is changed as well.\n",
    "These changes are printed because we named these two connectors when we\n",
    "constructed them.\n",
    "\n",
    "Now we can try to set `fahrenheit` to a new value, say 212.\n",
    "\n",
    "\n",
    "​"
   ]
  },
  {
   "cell_type": "code",
   "execution_count": null,
   "id": "f38111ce",
   "metadata": {},
   "outputs": [],
   "source": [
    ">>> fahrenheit['set_val']('user', 212)\n",
    "Contradiction detected: 77.0 vs 212\n"
   ]
  },
  {
   "cell_type": "markdown",
   "id": "7f9fadf9",
   "metadata": {},
   "source": [
    "The connector complains that it has sensed a contradiction: Its value is 77.0,\n",
    "and someone is trying to set it to 212. If we really want to reuse the network\n",
    "with new values, we can tell `celsius` to forget its old value:\n",
    "\n",
    "\n",
    "​"
   ]
  },
  {
   "cell_type": "code",
   "execution_count": null,
   "id": "5d54c69b",
   "metadata": {},
   "outputs": [],
   "source": [
    ">>> celsius['forget']('user')\n",
    "Celsius is forgotten\n",
    "Fahrenheit is forgotten\n"
   ]
  },
  {
   "cell_type": "markdown",
   "id": "c38b2e45",
   "metadata": {},
   "source": [
    "The connector `celsius` finds that the `user`, who set its value originally,\n",
    "is now retracting that value, so `celsius` agrees to lose its value, and it\n",
    "informs the rest of the network of this fact. This information eventually\n",
    "propagates to `fahrenheit`, which now finds that it has no reason for\n",
    "continuing to believe that its own value is 77. Thus, it also gives up its\n",
    "value.\n",
    "\n",
    "Now that `fahrenheit` has no value, we are free to set it to 212:\n",
    "\n",
    "\n",
    "​"
   ]
  },
  {
   "cell_type": "code",
   "execution_count": null,
   "id": "708ef00f",
   "metadata": {},
   "outputs": [],
   "source": [
    ">>> fahrenheit['set_val']('user', 212)\n",
    "Fahrenheit = 212\n",
    "Celsius = 100.0\n"
   ]
  },
  {
   "cell_type": "markdown",
   "id": "0602382d",
   "metadata": {},
   "source": [
    "This new value, when propagated through the network, forces `celsius` to have\n",
    "a value of 100. We have used the very same network to compute `celsius` given\n",
    "`fahrenheit` and to compute `fahrenheit` given `celsius`. This non-\n",
    "directionality of computation is the distinguishing feature of constraint-\n",
    "based systems.\n",
    "\n",
    "**Implementing the Constraint System.** As we have seen, connectors are\n",
    "dictionaries that map message names to function and data values. We will\n",
    "implement connectors that respond to the following messages:\n",
    "\n",
    "  * `connector['set_val'](source, value)` indicates that the `source` is requesting the connector to set its current value to `value`.\n",
    "  * `connector['has_val']()` returns whether the connector already has a value.\n",
    "  * `connector['val']` is the current value of the connector.\n",
    "  * `connector['forget'](source)` tells the connector that the `source` is requesting it to forget its value.\n",
    "  * `connector['connect'](source)` tells the connector to participate in a new constraint, the `source`.\n",
    "\n",
    "Constraints are also dictionaries, which receive information from connectors\n",
    "by means of two messages:\n",
    "\n",
    "  * `constraint['new_val']()` indicates that some connector that is connected to the constraint has a new value.\n",
    "  * `constraint['forget']()` indicates that some connector that is connected to the constraint has forgotten its value.\n",
    "\n",
    "When constraints receive these messages, they propagate them appropriately to\n",
    "other connectors.\n",
    "\n",
    "The `adder` function constructs an adder constraint over three connectors,\n",
    "where the first two must add to the third: `a + b = c`. To support\n",
    "multidirectional constraint propagation, the adder must also specify that it\n",
    "subtracts `a` from `c` to get `b` and likewise subtracts `b` from `c` to get\n",
    "`a`.\n",
    "\n",
    "\n",
    "​"
   ]
  },
  {
   "cell_type": "code",
   "execution_count": null,
   "id": "21acc2a0",
   "metadata": {},
   "outputs": [],
   "source": [
    ">>> from operator import add, sub\n",
    ">>> def adder(a, b, c):\n",
    "        \"\"\"The constraint that a + b = c.\"\"\"\n",
    "        return make_ternary_constraint(a, b, c, add, sub, sub)\n"
   ]
  },
  {
   "cell_type": "markdown",
   "id": "7440a5f6",
   "metadata": {},
   "source": [
    "We would like to implement a generic ternary (three-way) constraint, which\n",
    "uses the three connectors and three functions from `adder` to create a\n",
    "constraint that accepts `new_val` and `forget` messages. The response to\n",
    "messages are local functions, which are placed in a dictionary called\n",
    "`constraint`.\n",
    "\n",
    "\n",
    "​"
   ]
  },
  {
   "cell_type": "code",
   "execution_count": null,
   "id": "db61e467",
   "metadata": {},
   "outputs": [],
   "source": [
    ">>> def make_ternary_constraint(a, b, c, ab, ca, cb):\n",
    "        \"\"\"The constraint that ab(a,b)=c and ca(c,a)=b and cb(c,b) = a.\"\"\"\n",
    "        def new_value():\n",
    "            av, bv, cv = [connector['has_val']() for connector in (a, b, c)]\n",
    "            if av and bv:\n",
    "                c['set_val'](constraint, ab(a['val'], b['val']))\n",
    "            elif av and cv:\n",
    "                b['set_val'](constraint, ca(c['val'], a['val']))\n",
    "            elif bv and cv:\n",
    "                a['set_val'](constraint, cb(c['val'], b['val']))\n",
    "        def forget_value():\n",
    "            for connector in (a, b, c):\n",
    "                connector['forget'](constraint)\n",
    "        constraint = {'new_val': new_value, 'forget': forget_value}\n",
    "        for connector in (a, b, c):\n",
    "            connector['connect'](constraint)\n",
    "        return constraint\n"
   ]
  },
  {
   "cell_type": "markdown",
   "id": "73f6e471",
   "metadata": {},
   "source": [
    "The dictionary called `constraint` is a dispatch dictionary, but also the\n",
    "constraint object itself. It responds to the two messages that constraints\n",
    "receive, but is also passed as the `source` argument in calls to its\n",
    "connectors.\n",
    "\n",
    "The constraint's local function `new_value` is called whenever the constraint\n",
    "is informed that one of its connectors has a value. This function first checks\n",
    "to see if both `a` and `b` have values. If so, it tells `c` to set its value\n",
    "to the return value of function `ab`, which is `add` in the case of an\n",
    "`adder`. The constraint passes _itself_ (`constraint`) as the `source`\n",
    "argument of the connector, which is the adder object. If `a` and `b` do not\n",
    "both have values, then the constraint checks `a` and `c`, and so on.\n",
    "\n",
    "If the constraint is informed that one of its connectors has forgotten its\n",
    "value, it requests that all of its connectors now forget their values. (Only\n",
    "those values that were set by this constraint are actually lost.)\n",
    "\n",
    "A `multiplier` is very similar to an `adder`.\n",
    "\n",
    "\n",
    "​"
   ]
  },
  {
   "cell_type": "code",
   "execution_count": null,
   "id": "30d4c23a",
   "metadata": {},
   "outputs": [],
   "source": [
    ">>> from operator import mul, truediv\n",
    ">>> def multiplier(a, b, c):\n",
    "        \"\"\"The constraint that a * b = c.\"\"\"\n",
    "        return make_ternary_constraint(a, b, c, mul, truediv, truediv)\n"
   ]
  },
  {
   "cell_type": "markdown",
   "id": "c097713a",
   "metadata": {},
   "source": [
    "A constant is a constraint as well, but one that is never sent any messages,\n",
    "because it involves only a single connector that it sets on construction.\n",
    "\n",
    "\n",
    "​"
   ]
  },
  {
   "cell_type": "code",
   "execution_count": null,
   "id": "338187b4",
   "metadata": {},
   "outputs": [],
   "source": [
    ">>> def constant(connector, value):\n",
    "        \"\"\"The constraint that connector = value.\"\"\"\n",
    "        constraint = {}\n",
    "        connector['set_val'](constraint, value)\n",
    "        return constraint\n"
   ]
  },
  {
   "cell_type": "markdown",
   "id": "b70dc599",
   "metadata": {},
   "source": [
    "These three constraints are sufficient to implement our temperature conversion\n",
    "network.\n",
    "\n",
    "**Representing connectors.** A connector is represented as a dictionary that\n",
    "contains a value, but also has response functions with local state. The\n",
    "connector must track the `informant` that gave it its current value, and a\n",
    "list of `constraints` in which it participates.\n",
    "\n",
    "The constructor `connector` has local functions for setting and forgetting\n",
    "values, which are the responses to messages from constraints.\n",
    "\n",
    "\n",
    "​"
   ]
  },
  {
   "cell_type": "code",
   "execution_count": null,
   "id": "fc2f39ee",
   "metadata": {},
   "outputs": [],
   "source": [
    ">>> def connector(name=None):\n",
    "        \"\"\"A connector between constraints.\"\"\"\n",
    "        informant = None\n",
    "        constraints = []\n",
    "        def set_value(source, value):\n",
    "            nonlocal informant\n",
    "            val = connector['val']\n",
    "            if val is None:\n",
    "                informant, connector['val'] = source, value\n",
    "                if name is not None:\n",
    "                    print(name, '=', value)\n",
    "                inform_all_except(source, 'new_val', constraints)\n",
    "            else:\n",
    "                if val != value:\n",
    "                    print('Contradiction detected:', val, 'vs', value)\n",
    "        def forget_value(source):\n",
    "            nonlocal informant\n",
    "            if informant == source:\n",
    "                informant, connector['val'] = None, None\n",
    "                if name is not None:\n",
    "                    print(name, 'is forgotten')\n",
    "                inform_all_except(source, 'forget', constraints)\n",
    "        connector = {'val': None,\n",
    "                     'set_val': set_value,\n",
    "                     'forget': forget_value,\n",
    "                     'has_val': lambda: connector['val'] is not None,\n",
    "                     'connect': lambda source: constraints.append(source)}\n",
    "        return connector\n"
   ]
  },
  {
   "cell_type": "markdown",
   "id": "c1b91f4b",
   "metadata": {},
   "source": [
    "A connector is again a dispatch dictionary for the five messages used by\n",
    "constraints to communicate with connectors. Four responses are functions, and\n",
    "the final response is the value itself.\n",
    "\n",
    "The local function `set_value` is called when there is a request to set the\n",
    "connector's value. If the connector does not currently have a value, it will\n",
    "set its value and remember as `informant` the source constraint that requested\n",
    "the value to be set. Then the connector will notify all of its participating\n",
    "constraints except the constraint that requested the value to be set. This is\n",
    "accomplished using the following iterative function.\n",
    "\n",
    "\n",
    "​"
   ]
  },
  {
   "cell_type": "code",
   "execution_count": null,
   "id": "02b8f6c1",
   "metadata": {},
   "outputs": [],
   "source": [
    ">>> def inform_all_except(source, message, constraints):\n",
    "        \"\"\"Inform all constraints of the message, except source.\"\"\"\n",
    "        for c in constraints:\n",
    "            if c != source:\n",
    "                c[message]()\n"
   ]
  },
  {
   "cell_type": "markdown",
   "id": "d5cf91ca",
   "metadata": {},
   "source": [
    "If a connector is asked to forget its value, it calls the local function\n",
    "`forget-value`, which first checks to make sure that the request is coming\n",
    "from the same constraint that set the value originally. If so, the connector\n",
    "informs its associated constraints about the loss of the value.\n",
    "\n",
    "The response to the message `has_val` indicates whether the connector has a\n",
    "value. The response to the message `connect` adds the source constraint to the\n",
    "list of constraints.\n",
    "\n",
    "The constraint program we have designed introduces many ideas that will appear\n",
    "again in object-oriented programming. Constraints and connectors are both\n",
    "abstractions that are manipulated through messages. When the value of a\n",
    "connector is changed, it is changed via a message that not only changes the\n",
    "value, but validates it (checking the source) and propagates its effects\n",
    "(informing other constraints). In fact, we will use a similar architecture of\n",
    "dictionaries with string-valued keys and functional values to implement an\n",
    "object-oriented system later in this chapter.\n",
    "\n",
    "_Continue_ : [ 2.5 Object-Oriented Programming ](../pages/25-object-oriented-\n",
    "programming.html)\n",
    "\n",
    "## 2.5 Object-Oriented Programming\n",
    "\n",
    "Object-oriented programming (OOP) is a method for organizing programs that\n",
    "brings together many of the ideas introduced in this chapter. Like the\n",
    "functions in data abstraction, classes create abstraction barriers between the\n",
    "use and implementation of data. Like dispatch dictionaries, objects respond to\n",
    "behavioral requests. Like mutable data structures, objects have local state\n",
    "that is not directly accessible from the global environment. The Python object\n",
    "system provides convenient syntax to promote the use of these techniques for\n",
    "organizing programs. Much of this syntax is shared among other object-oriented\n",
    "programming languages.\n",
    "\n",
    "The object system offers more than just convenience. It enables a new metaphor\n",
    "for designing programs in which several independent agents interact within the\n",
    "computer. Each object bundles together local state and behavior in a way that\n",
    "abstracts the complexity of both. Objects communicate with each other, and\n",
    "useful results are computed as a consequence of their interaction. Not only do\n",
    "objects pass messages, they also share behavior among other objects of the\n",
    "same type and inherit characteristics from related types.\n",
    "\n",
    "The paradigm of object-oriented programming has its own vocabulary that\n",
    "supports the object metaphor. We have seen that an object is a data value that\n",
    "has methods and attributes, accessible via dot notation. Every object also has\n",
    "a type, called its _class_. To create new types of data, we implement new\n",
    "classes.\n",
    "\n",
    "### 2.5.1 Objects and Classes\n",
    "\n",
    "A class serves as a template for all objects whose type is that class. Every\n",
    "object is an instance of some particular class. The objects we have used so\n",
    "far all have built-in classes, but new user-defined classes can be created as\n",
    "well. A class definition specifies the attributes and methods shared among\n",
    "objects of that class. We will introduce the class statement by revisiting the\n",
    "example of a bank account.\n",
    "\n",
    "When introducing local state, we saw that bank accounts are naturally modeled\n",
    "as mutable values that have a `balance`. A bank account object should have a\n",
    "`withdraw` method that updates the account balance and returns the requested\n",
    "amount, if it is available. To complete the abstraction: a bank account should\n",
    "be able to return its current `balance`, return the name of the account\n",
    "`holder`, and an amount for `deposit`.\n",
    "\n",
    "An `Account` class allows us to create multiple instances of bank accounts.\n",
    "The act of creating a new object instance is known as _instantiating_ the\n",
    "class. The syntax in Python for instantiating a class is identical to the\n",
    "syntax of calling a function. In this case, we call `Account` with the\n",
    "argument `'Kirk'`, the account holder's name.\n",
    "\n",
    "\n",
    "​"
   ]
  },
  {
   "cell_type": "code",
   "execution_count": null,
   "id": "d8341996",
   "metadata": {},
   "outputs": [],
   "source": [
    ">>> a = Account('Kirk')\n"
   ]
  },
  {
   "cell_type": "markdown",
   "id": "d4c850e9",
   "metadata": {},
   "source": [
    "An _attribute_ of an object is a name-value pair associated with the object,\n",
    "which is accessible via dot notation. The attributes specific to a particular\n",
    "object, as opposed to all objects of a class, are called _instance\n",
    "attributes_. Each `Account` has its own balance and account holder name, which\n",
    "are examples of instance attributes. In the broader programming community,\n",
    "instance attributes may also be called _fields_ , _properties_ , or _instance\n",
    "variables_.\n",
    "\n",
    "\n",
    "​"
   ]
  },
  {
   "cell_type": "code",
   "execution_count": null,
   "id": "7acd1044",
   "metadata": {},
   "outputs": [],
   "source": [
    ">>> a.holder\n",
    "'Kirk'\n",
    ">>> a.balance\n",
    "0\n"
   ]
  },
  {
   "cell_type": "markdown",
   "id": "69b39cce",
   "metadata": {},
   "source": [
    "Functions that operate on the object or perform object-specific computations\n",
    "are called methods. The return values and side effects of a method can depend\n",
    "upon and change other attributes of the object. For example, `deposit` is a\n",
    "method of our `Account` object `a`. It takes one argument, the amount to\n",
    "deposit, changes the `balance` attribute of the object, and returns the\n",
    "resulting balance.\n",
    "\n",
    "\n",
    "​"
   ]
  },
  {
   "cell_type": "code",
   "execution_count": null,
   "id": "74b7ce0b",
   "metadata": {},
   "outputs": [],
   "source": [
    ">>> a.deposit(15)\n",
    "15\n"
   ]
  },
  {
   "cell_type": "markdown",
   "id": "934c2559",
   "metadata": {},
   "source": [
    "We say that methods are _invoked_ on a particular object. As a result of\n",
    "invoking the `withdraw` method, either the withdrawal is approved and the\n",
    "amount is deducted, or the request is declined and the method returns an error\n",
    "message.\n",
    "\n",
    "\n",
    "​"
   ]
  },
  {
   "cell_type": "code",
   "execution_count": null,
   "id": "e2d6e7fd",
   "metadata": {},
   "outputs": [],
   "source": [
    ">>> a.withdraw(10)  # The withdraw method returns the balance after withdrawal\n",
    "5\n",
    ">>> a.balance       # The balance attribute has changed\n",
    "5\n",
    ">>> a.withdraw(10)\n",
    "'Insufficient funds'\n"
   ]
  },
  {
   "cell_type": "markdown",
   "id": "ff94bde9",
   "metadata": {},
   "source": [
    "As illustrated above, the behavior of a method can depend upon the changing\n",
    "attributes of the object. Two calls to `withdraw` with the same argument\n",
    "return different results.\n",
    "\n",
    "### 2.5.2 Defining Classes\n",
    "\n",
    "User-defined classes are created by `class` statements, which consist of a\n",
    "single clause. A class statement defines the class name, then includes a suite\n",
    "of statements to define the attributes of the class:\n",
    "\n",
    "\n",
    "​"
   ]
  },
  {
   "cell_type": "code",
   "execution_count": null,
   "id": "57186353",
   "metadata": {},
   "outputs": [],
   "source": [
    "class <name>:\n",
    "    <suite>\n"
   ]
  },
  {
   "cell_type": "markdown",
   "id": "026d9734",
   "metadata": {},
   "source": [
    "When a class statement is executed, a new class is created and bound to\n",
    "`<name>` in the first frame of the current environment. The suite is then\n",
    "executed. Any names bound within the `<suite>` of a `class` statement, through\n",
    "`def` or assignment statements, create or modify attributes of the class.\n",
    "\n",
    "Classes are typically organized around manipulating instance attributes, which\n",
    "are the name-value pairs associated with each instance of that class. The\n",
    "class specifies the instance attributes of its objects by defining a method\n",
    "for initializing new objects. For example, part of initializing an object of\n",
    "the `Account` class is to assign it a starting balance of 0.\n",
    "\n",
    "The `<suite>` of a `class` statement contains `def` statements that define new\n",
    "methods for objects of that class. The method that initializes objects has a\n",
    "special name in Python, `__init__` (two underscores on each side of the word\n",
    "\"init\"), and is called the _constructor_ for the class.\n",
    "\n",
    "\n",
    "​"
   ]
  },
  {
   "cell_type": "code",
   "execution_count": null,
   "id": "d6e088cc",
   "metadata": {},
   "outputs": [],
   "source": [
    ">>> class Account:\n",
    "        def __init__(self, account_holder):\n",
    "            self.balance = 0\n",
    "            self.holder = account_holder\n"
   ]
  },
  {
   "cell_type": "markdown",
   "id": "fc73c944",
   "metadata": {},
   "source": [
    "The `__init__` method for `Account` has two formal parameters. The first one,\n",
    "`self`, is bound to the newly created `Account` object. The second parameter,\n",
    "`account_holder`, is bound to the argument passed to the class when it is\n",
    "called to be instantiated.\n",
    "\n",
    "The constructor binds the instance attribute name `balance` to 0. It also\n",
    "binds the attribute name `holder` to the value of the name `account_holder`.\n",
    "The formal parameter `account_holder` is a local name in the `__init__`\n",
    "method. On the other hand, the name `holder` that is bound via the final\n",
    "assignment statement persists, because it is stored as an attribute of `self`\n",
    "using dot notation.\n",
    "\n",
    "Having defined the `Account` class, we can instantiate it.\n",
    "\n",
    "\n",
    "​"
   ]
  },
  {
   "cell_type": "code",
   "execution_count": null,
   "id": "0d53848f",
   "metadata": {},
   "outputs": [],
   "source": [
    ">>> a = Account('Kirk')\n"
   ]
  },
  {
   "cell_type": "markdown",
   "id": "71c4ad09",
   "metadata": {},
   "source": [
    "This \"call\" to the `Account` class creates a new object that is an instance of\n",
    "`Account`, then calls the constructor function `__init__` with two arguments:\n",
    "the newly created object and the string `'Kirk'`. By convention, we use the\n",
    "parameter name `self` for the first argument of a constructor, because it is\n",
    "bound to the object being instantiated. This convention is adopted in\n",
    "virtually all Python code.\n",
    "\n",
    "Now, we can access the object's `balance` and `holder` using dot notation.\n",
    "\n",
    "\n",
    "​"
   ]
  },
  {
   "cell_type": "code",
   "execution_count": null,
   "id": "17b16998",
   "metadata": {},
   "outputs": [],
   "source": [
    ">>> a.balance\n",
    "0\n",
    ">>> a.holder\n",
    "'Kirk'\n"
   ]
  },
  {
   "cell_type": "markdown",
   "id": "fb3901ec",
   "metadata": {},
   "source": [
    "**Identity.** Each new account instance has its own balance attribute, the\n",
    "value of which is independent of other objects of the same class.\n",
    "\n",
    "\n",
    "​"
   ]
  },
  {
   "cell_type": "code",
   "execution_count": null,
   "id": "8a6a5cbf",
   "metadata": {},
   "outputs": [],
   "source": [
    ">>> b = Account('Spock')\n",
    ">>> b.balance = 200\n",
    ">>> [acc.balance for acc in (a, b)]\n",
    "[0, 200]\n"
   ]
  },
  {
   "cell_type": "markdown",
   "id": "81514e8a",
   "metadata": {},
   "source": [
    "To enforce this separation, every object that is an instance of a user-defined\n",
    "class has a unique identity. Object identity is compared using the `is` and\n",
    "`is not` operators.\n",
    "\n",
    "\n",
    "​"
   ]
  },
  {
   "cell_type": "code",
   "execution_count": null,
   "id": "f9581337",
   "metadata": {},
   "outputs": [],
   "source": [
    ">>> a is a\n",
    "True\n",
    ">>> a is not b\n",
    "True\n"
   ]
  },
  {
   "cell_type": "markdown",
   "id": "aa0cc0a1",
   "metadata": {},
   "source": [
    "Despite being constructed from identical calls, the objects bound to `a` and\n",
    "`b` are not the same. As usual, binding an object to a new name using\n",
    "assignment does not create a new object.\n",
    "\n",
    "\n",
    "​"
   ]
  },
  {
   "cell_type": "code",
   "execution_count": null,
   "id": "50ab4c59",
   "metadata": {},
   "outputs": [],
   "source": [
    ">>> c = a\n",
    ">>> c is a\n",
    "True\n"
   ]
  },
  {
   "cell_type": "markdown",
   "id": "18238f37",
   "metadata": {},
   "source": [
    "New objects that have user-defined classes are only created when a class (such\n",
    "as `Account`) is instantiated with call expression syntax.\n",
    "\n",
    "**Methods.** Object methods are also defined by a `def` statement in the suite\n",
    "of a `class` statement. Below, `deposit` and `withdraw` are both defined as\n",
    "methods on objects of the `Account` class.\n",
    "\n",
    "\n",
    "​"
   ]
  },
  {
   "cell_type": "code",
   "execution_count": null,
   "id": "59fe8040",
   "metadata": {},
   "outputs": [],
   "source": [
    ">>> class Account:\n",
    "        def __init__(self, account_holder):\n",
    "            self.balance = 0\n",
    "            self.holder = account_holder\n",
    "        def deposit(self, amount):\n",
    "            self.balance = self.balance + amount\n",
    "            return self.balance\n",
    "        def withdraw(self, amount):\n",
    "            if amount > self.balance:\n",
    "                return 'Insufficient funds'\n",
    "            self.balance = self.balance - amount\n",
    "            return self.balance\n"
   ]
  },
  {
   "cell_type": "markdown",
   "id": "28582167",
   "metadata": {},
   "source": [
    "While method definitions do not differ from function definitions in how they\n",
    "are declared, method definitions do have a different effect when executed. The\n",
    "function value that is created by a `def` statement within a `class` statement\n",
    "is bound to the declared name, but bound locally within the class as an\n",
    "attribute. That value is invoked as a method using dot notation from an\n",
    "instance of the class.\n",
    "\n",
    "Each method definition again includes a special first parameter `self`, which\n",
    "is bound to the object on which the method is invoked. For example, let us say\n",
    "that `deposit` is invoked on a particular `Account` object and passed a single\n",
    "argument value: the amount deposited. The object itself is bound to `self`,\n",
    "while the argument is bound to `amount`. All invoked methods have access to\n",
    "the object via the `self` parameter, and so they can all access and manipulate\n",
    "the object's state.\n",
    "\n",
    "To invoke these methods, we again use dot notation, as illustrated below.\n",
    "\n",
    "\n",
    "​"
   ]
  },
  {
   "cell_type": "code",
   "execution_count": null,
   "id": "749bff5a",
   "metadata": {},
   "outputs": [],
   "source": [
    ">>> spock_account = Account('Spock')\n",
    ">>> spock_account.deposit(100)\n",
    "100\n",
    ">>> spock_account.withdraw(90)\n",
    "10\n",
    ">>> spock_account.withdraw(90)\n",
    "'Insufficient funds'\n",
    ">>> spock_account.holder\n",
    "'Spock'\n"
   ]
  },
  {
   "cell_type": "markdown",
   "id": "e8cee9cb",
   "metadata": {},
   "source": [
    "When a method is invoked via dot notation, the object itself (bound to\n",
    "`spock_account`, in this case) plays a dual role. First, it determines what\n",
    "the name `withdraw` means; `withdraw` is not a name in the environment, but\n",
    "instead a name that is local to the `Account` class. Second, it is bound to\n",
    "the first parameter `self` when the `withdraw` method is invoked.\n",
    "\n",
    "### 2.5.3 Message Passing and Dot Expressions\n",
    "\n",
    "Methods, which are defined in classes, and instance attributes, which are\n",
    "typically assigned in constructors, are the fundamental elements of object-\n",
    "oriented programming. These two concepts replicate much of the behavior of a\n",
    "dispatch dictionary in a message passing implementation of a data value.\n",
    "Objects take messages using dot notation, but instead of those messages being\n",
    "arbitrary string-valued keys, they are names local to a class. Objects also\n",
    "have named local state values (the instance attributes), but that state can be\n",
    "accessed and manipulated using dot notation, without having to employ\n",
    "`nonlocal` statements in the implementation.\n",
    "\n",
    "The central idea in message passing was that data values should have behavior\n",
    "by responding to messages that are relevant to the abstract type they\n",
    "represent. Dot notation is a syntactic feature of Python that formalizes the\n",
    "message passing metaphor. The advantage of using a language with a built-in\n",
    "object system is that message passing can interact seamlessly with other\n",
    "language features, such as assignment statements. We do not require different\n",
    "messages to \"get\" or \"set\" the value associated with a local attribute name;\n",
    "the language syntax allows us to use the message name directly.\n",
    "\n",
    "**Dot expressions.** The code fragment `spock_account.deposit` is called a\n",
    "_dot expression_. A dot expression consists of an expression, a dot, and a\n",
    "name:\n",
    "\n",
    "\n",
    "​"
   ]
  },
  {
   "cell_type": "code",
   "execution_count": null,
   "id": "c2ce34aa",
   "metadata": {},
   "outputs": [],
   "source": [
    "<expression> . <name>\n"
   ]
  },
  {
   "cell_type": "markdown",
   "id": "b6aa4d86",
   "metadata": {},
   "source": [
    "The `<expression>` can be any valid Python expression, but the `<name>` must\n",
    "be a simple name (not an expression that evaluates to a name). A dot\n",
    "expression evaluates to the value of the attribute with the given `<name>`,\n",
    "for the object that is the value of the `<expression>`.\n",
    "\n",
    "The built-in function `getattr` also returns an attribute for an object by\n",
    "name. It is the function equivalent of dot notation. Using `getattr`, we can\n",
    "look up an attribute using a string, just as we did with a dispatch\n",
    "dictionary.\n",
    "\n",
    "\n",
    "​"
   ]
  },
  {
   "cell_type": "code",
   "execution_count": null,
   "id": "f39f54a4",
   "metadata": {},
   "outputs": [],
   "source": [
    ">>> getattr(spock_account, 'balance')\n",
    "10\n"
   ]
  },
  {
   "cell_type": "markdown",
   "id": "8cd7831c",
   "metadata": {},
   "source": [
    "We can also test whether an object has a named attribute with `hasattr`.\n",
    "\n",
    "\n",
    "​"
   ]
  },
  {
   "cell_type": "code",
   "execution_count": null,
   "id": "da20441d",
   "metadata": {},
   "outputs": [],
   "source": [
    ">>> hasattr(spock_account, 'deposit')\n",
    "True\n"
   ]
  },
  {
   "cell_type": "markdown",
   "id": "16fa174b",
   "metadata": {},
   "source": [
    "The attributes of an object include all of its instance attributes, along with\n",
    "all of the attributes (including methods) defined in its class. Methods are\n",
    "attributes of the class that require special handling.\n",
    "\n",
    "**Methods and functions.** When a method is invoked on an object, that object\n",
    "is implicitly passed as the first argument to the method. That is, the object\n",
    "that is the value of the `<expression>` to the left of the dot is passed\n",
    "automatically as the first argument to the method named on the right side of\n",
    "the dot expression. As a result, the object is bound to the parameter `self`.\n",
    "\n",
    "To achieve automatic `self` binding, Python distinguishes between _functions_\n",
    ", which we have been creating since the beginning of the text, and _bound\n",
    "methods_ , which couple together a function and the object on which that\n",
    "method will be invoked. A bound method value is already associated with its\n",
    "first argument, the instance on which it was invoked, which will be named\n",
    "`self` when the method is called.\n",
    "\n",
    "We can see the difference in the interactive interpreter by calling `type` on\n",
    "the returned values of dot expressions. As an attribute of a class, a method\n",
    "is just a function, but as an attribute of an instance, it is a bound method:\n",
    "\n",
    "\n",
    "​"
   ]
  },
  {
   "cell_type": "code",
   "execution_count": null,
   "id": "ab54a0e2",
   "metadata": {},
   "outputs": [],
   "source": [
    ">>> type(Account.deposit)\n",
    "<class 'function'>\n",
    ">>> type(spock_account.deposit)\n",
    "<class 'method'>\n"
   ]
  },
  {
   "cell_type": "markdown",
   "id": "c5d5d86a",
   "metadata": {},
   "source": [
    "These two results differ only in the fact that the first is a standard two-\n",
    "argument function with parameters `self` and `amount`. The second is a one-\n",
    "argument method, where the name `self` will be bound to the object named\n",
    "`spock_account` automatically when the method is called, while the parameter\n",
    "`amount` will be bound to the argument passed to the method. Both of these\n",
    "values, whether function values or bound method values, are associated with\n",
    "the same `deposit` function body.\n",
    "\n",
    "We can call `deposit` in two ways: as a function and as a bound method. In the\n",
    "former case, we must supply an argument for the `self` parameter explicitly.\n",
    "In the latter case, the `self` parameter is bound automatically.\n",
    "\n",
    "\n",
    "​"
   ]
  },
  {
   "cell_type": "code",
   "execution_count": null,
   "id": "a4615964",
   "metadata": {},
   "outputs": [],
   "source": [
    ">>> Account.deposit(spock_account, 1001)  # The deposit function takes 2 arguments\n",
    "1011\n",
    ">>> spock_account.deposit(1000)           # The deposit method takes 1 argument\n",
    "2011\n"
   ]
  },
  {
   "cell_type": "markdown",
   "id": "70be0ad0",
   "metadata": {},
   "source": [
    "The function `getattr` behaves exactly like dot notation: if its first\n",
    "argument is an object but the name is a method defined in the class, then\n",
    "`getattr` returns a bound method value. On the other hand, if the first\n",
    "argument is a class, then `getattr` returns the attribute value directly,\n",
    "which is a plain function.\n",
    "\n",
    "**Naming Conventions.** Class names are conventionally written using the\n",
    "CapWords convention (also called CamelCase because the capital letters in the\n",
    "middle of a name look like humps). Method names follow the standard convention\n",
    "of naming functions using lowercased words separated by underscores.\n",
    "\n",
    "In some cases, there are instance variables and methods that are related to\n",
    "the maintenance and consistency of an object that we don't want users of the\n",
    "object to see or use. They are not part of the abstraction defined by a class,\n",
    "but instead part of the implementation. Python's convention dictates that if\n",
    "an attribute name starts with an underscore, it should only be accessed within\n",
    "methods of the class itself, rather than by users of the class.\n",
    "\n",
    "### 2.5.4 Class Attributes\n",
    "\n",
    "Some attribute values are shared across all objects of a given class. Such\n",
    "attributes are associated with the class itself, rather than any individual\n",
    "instance of the class. For instance, let us say that a bank pays interest on\n",
    "the balance of accounts at a fixed interest rate. That interest rate may\n",
    "change, but it is a single value shared across all accounts.\n",
    "\n",
    "Class attributes are created by assignment statements in the suite of a\n",
    "`class` statement, outside of any method definition. In the broader developer\n",
    "community, class attributes may also be called class variables or static\n",
    "variables. The following class statement creates a class attribute for\n",
    "`Account` with the name `interest`.\n",
    "\n",
    "\n",
    "​"
   ]
  },
  {
   "cell_type": "code",
   "execution_count": null,
   "id": "cbdda167",
   "metadata": {},
   "outputs": [],
   "source": [
    ">>> class Account:\n",
    "        interest = 0.02            # A class attribute\n",
    "        def __init__(self, account_holder):\n",
    "            self.balance = 0\n",
    "            self.holder = account_holder\n",
    "        # Additional methods would be defined here\n"
   ]
  },
  {
   "cell_type": "markdown",
   "id": "3ce2e0be",
   "metadata": {},
   "source": [
    "This attribute can still be accessed from any instance of the class.\n",
    "\n",
    "\n",
    "​"
   ]
  },
  {
   "cell_type": "code",
   "execution_count": null,
   "id": "5ea2c37c",
   "metadata": {},
   "outputs": [],
   "source": [
    ">>> spock_account = Account('Spock')\n",
    ">>> kirk_account = Account('Kirk')\n",
    ">>> spock_account.interest\n",
    "0.02\n",
    ">>> kirk_account.interest\n",
    "0.02\n"
   ]
  },
  {
   "cell_type": "markdown",
   "id": "a22a88dd",
   "metadata": {},
   "source": [
    "However, a single assignment statement to a class attribute changes the value\n",
    "of the attribute for all instances of the class.\n",
    "\n",
    "\n",
    "​"
   ]
  },
  {
   "cell_type": "code",
   "execution_count": null,
   "id": "c98ac8ed",
   "metadata": {},
   "outputs": [],
   "source": [
    ">>> Account.interest = 0.04\n",
    ">>> spock_account.interest\n",
    "0.04\n",
    ">>> kirk_account.interest\n",
    "0.04\n"
   ]
  },
  {
   "cell_type": "markdown",
   "id": "c708269c",
   "metadata": {},
   "source": [
    "**Attribute names.** We have introduced enough complexity into our object\n",
    "system that we have to specify how names are resolved to particular\n",
    "attributes. After all, we could easily have a class attribute and an instance\n",
    "attribute with the same name.\n",
    "\n",
    "As we have seen, a dot expression consists of an expression, a dot, and a\n",
    "name:\n",
    "\n",
    "\n",
    "​"
   ]
  },
  {
   "cell_type": "code",
   "execution_count": null,
   "id": "d75b8dba",
   "metadata": {},
   "outputs": [],
   "source": [
    "<expression> . <name>\n"
   ]
  },
  {
   "cell_type": "markdown",
   "id": "ea574aa8",
   "metadata": {},
   "source": [
    "To evaluate a dot expression:"
   ]
  },
  {
   "cell_type": "code",
   "execution_count": null,
   "id": "996ac716",
   "metadata": {},
   "outputs": [],
   "source": [
    "1. Evaluate the `<expression>` to the left of the dot, which yields the _object_ of the dot expression.\n",
    "2. `<name>` is matched against the instance attributes of that object; if an attribute with that name exists, its value is returned.\n",
    "3. If `<name>` does not appear among instance attributes, then `<name>` is looked up in the class, which yields a class attribute value.\n",
    "4. That value is returned unless it is a function, in which case a bound method is returned instead."
   ]
  },
  {
   "cell_type": "markdown",
   "id": "0741ad63",
   "metadata": {},
   "source": [
    "In this evaluation procedure, instance attributes are found before class\n",
    "attributes, just as local names have priority over global in an environment.\n",
    "Methods defined within the class are combined with the object of the dot\n",
    "expression to form a bound method during the fourth step of this evaluation\n",
    "procedure. The procedure for looking up a name in a class has additional\n",
    "nuances that will arise shortly, once we introduce class inheritance.\n",
    "\n",
    "**Attribute assignment.** All assignment statements that contain a dot\n",
    "expression on their left-hand side affect attributes for the object of that\n",
    "dot expression. If the object is an instance, then assignment sets an instance\n",
    "attribute. If the object is a class, then assignment sets a class attribute.\n",
    "As a consequence of this rule, assignment to an attribute of an object cannot\n",
    "affect the attributes of its class. The examples below illustrate this\n",
    "distinction.\n",
    "\n",
    "If we assign to the named attribute `interest` of an account instance, we\n",
    "create a new instance attribute that has the same name as the existing class\n",
    "attribute.\n",
    "\n",
    "\n",
    "​"
   ]
  },
  {
   "cell_type": "code",
   "execution_count": null,
   "id": "3c45ef85",
   "metadata": {},
   "outputs": [],
   "source": [
    ">>> kirk_account.interest = 0.08\n"
   ]
  },
  {
   "cell_type": "markdown",
   "id": "e7ff22e8",
   "metadata": {},
   "source": [
    "and that attribute value will be returned from a dot expression.\n",
    "\n",
    "\n",
    "​"
   ]
  },
  {
   "cell_type": "code",
   "execution_count": null,
   "id": "680ea735",
   "metadata": {},
   "outputs": [],
   "source": [
    ">>> kirk_account.interest\n",
    "0.08\n"
   ]
  },
  {
   "cell_type": "markdown",
   "id": "563fdbc1",
   "metadata": {},
   "source": [
    "However, the class attribute `interest` still retains its original value,\n",
    "which is returned for all other accounts.\n",
    "\n",
    "\n",
    "​"
   ]
  },
  {
   "cell_type": "code",
   "execution_count": null,
   "id": "6318a4c1",
   "metadata": {},
   "outputs": [],
   "source": [
    ">>> spock_account.interest\n",
    "0.04\n"
   ]
  },
  {
   "cell_type": "markdown",
   "id": "56ff1bdc",
   "metadata": {},
   "source": [
    "Changes to the class attribute `interest` will affect `spock_account`, but the\n",
    "instance attribute for `kirk_account` will be unaffected.\n",
    "\n",
    "\n",
    "​"
   ]
  },
  {
   "cell_type": "code",
   "execution_count": null,
   "id": "04d651d7",
   "metadata": {},
   "outputs": [],
   "source": [
    ">>> Account.interest = 0.05  # changing the class attribute\n",
    ">>> spock_account.interest     # changes instances without like-named instance attributes\n",
    "0.05\n",
    ">>> kirk_account.interest     # but the existing instance attribute is unaffected\n",
    "0.08\n"
   ]
  },
  {
   "cell_type": "markdown",
   "id": "21cb67df",
   "metadata": {},
   "source": [
    "### 2.5.5 Inheritance\n",
    "\n",
    "When working in the object-oriented programming paradigm, we often find that\n",
    "different types are related. In particular, we find that similar classes\n",
    "differ in their amount of specialization. Two classes may have similar\n",
    "attributes, but one represents a special case of the other.\n",
    "\n",
    "For example, we may want to implement a checking account, which is different\n",
    "from a standard account. A checking account charges an extra $1 for each\n",
    "withdrawal and has a lower interest rate. Here, we demonstrate the desired\n",
    "behavior.\n",
    "\n",
    "\n",
    "​"
   ]
  },
  {
   "cell_type": "code",
   "execution_count": null,
   "id": "3ad45ea0",
   "metadata": {},
   "outputs": [],
   "source": [
    ">>> ch = CheckingAccount('Spock')\n",
    ">>> ch.interest     # Lower interest rate for checking accounts\n",
    "0.01\n",
    ">>> ch.deposit(20)  # Deposits are the same\n",
    "20\n",
    ">>> ch.withdraw(5)  # withdrawals decrease balance by an extra charge\n",
    "14\n"
   ]
  },
  {
   "cell_type": "markdown",
   "id": "6e5a4de9",
   "metadata": {},
   "source": [
    "A `CheckingAccount` is a specialization of an `Account`. In OOP terminology,\n",
    "the generic account will serve as the base class of `CheckingAccount`, while\n",
    "`CheckingAccount` will be a subclass of `Account`. (The terms _parent class_\n",
    "and _superclass_ are also used for the base class, while _child class_ is also\n",
    "used for the subclass.)\n",
    "\n",
    "A subclass _inherits_ the attributes of its base class, but may _override_\n",
    "certain attributes, including certain methods. With inheritance, we only\n",
    "specify what is different between the subclass and the base class. Anything\n",
    "that we leave unspecified in the subclass is automatically assumed to behave\n",
    "just as it would for the base class.\n",
    "\n",
    "Inheritance also has a role in our object metaphor, in addition to being a\n",
    "useful organizational feature. Inheritance is meant to represent _is-a_\n",
    "relationships between classes, which contrast with _has-a_ relationships. A\n",
    "checking account _is-a_ specific type of account, so having a\n",
    "`CheckingAccount` inherit from `Account` is an appropriate use of inheritance.\n",
    "On the other hand, a bank _has-a_ list of bank accounts that it manages, so\n",
    "neither should inherit from the other. Instead, a list of account objects\n",
    "would be naturally expressed as an instance attribute of a bank object.\n",
    "\n",
    "### 2.5.6 Using Inheritance\n",
    "\n",
    "First, we give a full implementation of the `Account` class, which includes\n",
    "docstrings for the class and its methods.\n",
    "\n",
    "\n",
    "​"
   ]
  },
  {
   "cell_type": "code",
   "execution_count": null,
   "id": "42a55e6b",
   "metadata": {},
   "outputs": [],
   "source": [
    ">>> class Account:\n",
    "        \"\"\"A bank account that has a non-negative balance.\"\"\"\n",
    "        interest = 0.02\n",
    "        def __init__(self, account_holder):\n",
    "            self.balance = 0\n",
    "            self.holder = account_holder\n",
    "        def deposit(self, amount):\n",
    "            \"\"\"Increase the account balance by amount and return the new balance.\"\"\"\n",
    "            self.balance = self.balance + amount\n",
    "            return self.balance\n",
    "        def withdraw(self, amount):\n",
    "            \"\"\"Decrease the account balance by amount and return the new balance.\"\"\"\n",
    "            if amount > self.balance:\n",
    "                return 'Insufficient funds'\n",
    "            self.balance = self.balance - amount\n",
    "            return self.balance\n"
   ]
  },
  {
   "cell_type": "markdown",
   "id": "f55c0287",
   "metadata": {},
   "source": [
    "A full implementation of `CheckingAccount` appears below. We specify\n",
    "inheritance by placing an expression that evaluates to the base class in\n",
    "parentheses after the class name.\n",
    "\n",
    "\n",
    "​"
   ]
  },
  {
   "cell_type": "code",
   "execution_count": null,
   "id": "66ff2bab",
   "metadata": {},
   "outputs": [],
   "source": [
    ">>> class CheckingAccount(Account):\n",
    "        \"\"\"A bank account that charges for withdrawals.\"\"\"\n",
    "        withdraw_charge = 1\n",
    "        interest = 0.01\n",
    "        def withdraw(self, amount):\n",
    "            return Account.withdraw(self, amount + self.withdraw_charge)\n"
   ]
  },
  {
   "cell_type": "markdown",
   "id": "aad7c351",
   "metadata": {},
   "source": [
    "Here, we introduce a class attribute `withdraw_charge` that is specific to the\n",
    "`CheckingAccount` class. We assign a lower value to the `interest` attribute.\n",
    "We also define a new `withdraw` method to override the behavior defined in the\n",
    "`Account` class. With no further statements in the class suite, all other\n",
    "behavior is inherited from the base class `Account`.\n",
    "\n",
    "\n",
    "​"
   ]
  },
  {
   "cell_type": "code",
   "execution_count": null,
   "id": "25822b4a",
   "metadata": {},
   "outputs": [],
   "source": [
    ">>> checking = CheckingAccount('Sam')\n",
    ">>> checking.deposit(10)\n",
    "10\n",
    ">>> checking.withdraw(5)\n",
    "4\n",
    ">>> checking.interest\n",
    "0.01\n"
   ]
  },
  {
   "cell_type": "markdown",
   "id": "82860d9a",
   "metadata": {},
   "source": [
    "The expression `checking.deposit` evaluates to a bound method for making\n",
    "deposits, which was defined in the `Account` class. When Python resolves a\n",
    "name in a dot expression that is not an attribute of the instance, it looks up\n",
    "the name in the class. In fact, the act of \"looking up\" a name in a class\n",
    "tries to find that name in every base class in the inheritance chain for the\n",
    "original object's class. We can define this procedure recursively. To look up\n",
    "a name in a class."
   ]
  },
  {
   "cell_type": "code",
   "execution_count": null,
   "id": "e897559b",
   "metadata": {},
   "outputs": [],
   "source": [
    "1. If it names an attribute in the class, return the attribute value.\n",
    "2. Otherwise, look up the name in the base class, if there is one."
   ]
  },
  {
   "cell_type": "markdown",
   "id": "97a1f139",
   "metadata": {},
   "source": [
    "In the case of `deposit`, Python would have looked for the name first on the\n",
    "instance, and then in the `CheckingAccount` class. Finally, it would look in\n",
    "the `Account` class, where `deposit` is defined. According to our evaluation\n",
    "rule for dot expressions, since `deposit` is a function looked up in the class\n",
    "for the `checking` instance, the dot expression evaluates to a bound method\n",
    "value. That method is invoked with the argument 10, which calls the deposit\n",
    "method with `self` bound to the `checking` object and `amount` bound to 10.\n",
    "\n",
    "The class of an object stays constant throughout. Even though the `deposit`\n",
    "method was found in the `Account` class, `deposit` is called with `self` bound\n",
    "to an instance of `CheckingAccount`, not of `Account`.\n",
    "\n",
    "**Calling ancestors.** Attributes that have been overridden are still\n",
    "accessible via class objects. For instance, we implemented the `withdraw`\n",
    "method of `CheckingAccount` by calling the `withdraw` method of `Account` with\n",
    "an argument that included the `withdraw_charge`.\n",
    "\n",
    "Notice that we called `self.withdraw_charge` rather than the equivalent\n",
    "`CheckingAccount.withdraw_charge`. The benefit of the former over the latter\n",
    "is that a class that inherits from `CheckingAccount` might override the\n",
    "withdrawal charge. If that is the case, we would like our implementation of\n",
    "`withdraw` to find that new value instead of the old one.\n",
    "\n",
    "**Interfaces.** It is extremely common in object-oriented programs that\n",
    "different types of objects will share the same attribute names. An _object\n",
    "interface_ is a collection of attributes and conditions on those attributes.\n",
    "For example, all accounts must have `deposit` and `withdraw` methods that take\n",
    "numerical arguments, as well as a `balance` attribute. The classes `Account`\n",
    "and `CheckingAccount` both implement this interface. Inheritance specifically\n",
    "promotes name sharing in this way. In some programming languages such as Java,\n",
    "interface implementations must be explicitly declared. In others such as\n",
    "Python, Ruby, and Go, any object with the appropriate names implements an\n",
    "interface.\n",
    "\n",
    "The parts of your program that use objects (rather than implementing them) are\n",
    "most robust to future changes if they do not make assumptions about object\n",
    "types, but instead only about their attribute names. That is, they use the\n",
    "object abstraction, rather than assuming anything about its implementation.\n",
    "\n",
    "For example, let us say that we run a lottery, and we wish to deposit $5 into\n",
    "each of a list of accounts. The following implementation does not assume\n",
    "anything about the types of those accounts, and therefore works equally well\n",
    "with any type of object that has a `deposit` method:\n",
    "\n",
    "\n",
    "​"
   ]
  },
  {
   "cell_type": "code",
   "execution_count": null,
   "id": "75a75ee4",
   "metadata": {},
   "outputs": [],
   "source": [
    ">>> def deposit_all(winners, amount=5):\n",
    "        for account in winners:\n",
    "            account.deposit(amount)\n"
   ]
  },
  {
   "cell_type": "markdown",
   "id": "848788d3",
   "metadata": {},
   "source": [
    "The function `deposit_all` above assumes only that each `account` satisfies\n",
    "the account object abstraction, and so it will work with any other account\n",
    "classes that also implement this interface. Assuming a particular class of\n",
    "account would violate the abstraction barrier of the account object\n",
    "abstraction. For example, the following implementation will not necessarily\n",
    "work with new kinds of accounts:\n",
    "\n",
    "\n",
    "​"
   ]
  },
  {
   "cell_type": "code",
   "execution_count": null,
   "id": "26095129",
   "metadata": {},
   "outputs": [],
   "source": [
    ">>> def deposit_all(winners, amount=5):\n",
    "        for account in winners:\n",
    "            Account.deposit(account, amount)\n"
   ]
  },
  {
   "cell_type": "markdown",
   "id": "5c08ab98",
   "metadata": {},
   "source": [
    "We will address this topic in more detail later in the chapter.\n",
    "\n",
    "### 2.5.7 Multiple Inheritance\n",
    "\n",
    "Python supports the concept of a subclass inheriting attributes from multiple\n",
    "base classes, a language feature called _multiple inheritance_.\n",
    "\n",
    "Suppose that we have a `SavingsAccount` that inherits from `Account`, but\n",
    "charges customers a small fee every time they make a deposit.\n",
    "\n",
    "\n",
    "​"
   ]
  },
  {
   "cell_type": "code",
   "execution_count": null,
   "id": "a99b1bb1",
   "metadata": {},
   "outputs": [],
   "source": [
    ">>> class SavingsAccount(Account):\n",
    "        deposit_charge = 2\n",
    "        def deposit(self, amount):\n",
    "            return Account.deposit(self, amount - self.deposit_charge)\n"
   ]
  },
  {
   "cell_type": "markdown",
   "id": "cc537a35",
   "metadata": {},
   "source": [
    "Then, a clever executive conceives of an `AsSeenOnTVAccount` account with the\n",
    "best features of both `CheckingAccount` and `SavingsAccount`: withdrawal fees,\n",
    "deposit fees, and a low interest rate. It's both a checking and a savings\n",
    "account in one! \"If we build it,\" the executive reasons, \"someone will sign up\n",
    "and pay all those fees. We'll even give them a dollar.\"\n",
    "\n",
    "\n",
    "​"
   ]
  },
  {
   "cell_type": "code",
   "execution_count": null,
   "id": "713fb2c6",
   "metadata": {},
   "outputs": [],
   "source": [
    ">>> class AsSeenOnTVAccount(CheckingAccount, SavingsAccount):\n",
    "        def __init__(self, account_holder):\n",
    "            self.holder = account_holder\n",
    "            self.balance = 1           # A free dollar!\n"
   ]
  },
  {
   "cell_type": "markdown",
   "id": "2a4a494b",
   "metadata": {},
   "source": [
    "In fact, this implementation is complete. Both withdrawal and deposits will\n",
    "generate fees, using the function definitions in `CheckingAccount` and\n",
    "`SavingsAccount` respectively.\n",
    "\n",
    "\n",
    "​"
   ]
  },
  {
   "cell_type": "code",
   "execution_count": null,
   "id": "48037b3c",
   "metadata": {},
   "outputs": [],
   "source": [
    ">>> such_a_deal = AsSeenOnTVAccount(\"John\")\n",
    ">>> such_a_deal.balance\n",
    "1\n",
    ">>> such_a_deal.deposit(20)            # $2 fee from SavingsAccount.deposit\n",
    "19\n",
    ">>> such_a_deal.withdraw(5)            # $1 fee from CheckingAccount.withdraw\n",
    "13\n"
   ]
  },
  {
   "cell_type": "markdown",
   "id": "7dd78384",
   "metadata": {},
   "source": [
    "Non-ambiguous references are resolved correctly as expected:\n",
    "\n",
    "\n",
    "​"
   ]
  },
  {
   "cell_type": "code",
   "execution_count": null,
   "id": "2c7cd3a5",
   "metadata": {},
   "outputs": [],
   "source": [
    ">>> such_a_deal.deposit_charge\n",
    "2\n",
    ">>> such_a_deal.withdraw_charge\n",
    "1\n"
   ]
  },
  {
   "cell_type": "markdown",
   "id": "100b34e0",
   "metadata": {},
   "source": [
    "But what about when the reference is ambiguous, such as the reference to the\n",
    "`withdraw` method that is defined in both `Account` and `CheckingAccount`? The\n",
    "figure below depicts an _inheritance graph_ for the `AsSeenOnTVAccount` class.\n",
    "Each arrow points from a subclass to a base class.\n",
    "\n",
    "![](http://www.composingprograms.com/img/multiple_inheritance.png)\n",
    "\n",
    "For a simple \"diamond\" shape like this, Python resolves names from left to\n",
    "right, then upwards. In this example, Python checks for an attribute name in\n",
    "the following classes, in order, until an attribute with that name is found:\n",
    "\n",
    "\n",
    "​"
   ]
  },
  {
   "cell_type": "code",
   "execution_count": null,
   "id": "7cf5062e",
   "metadata": {},
   "outputs": [],
   "source": [
    "AsSeenOnTVAccount, CheckingAccount, SavingsAccount, Account, object\n"
   ]
  },
  {
   "cell_type": "markdown",
   "id": "9451a45b",
   "metadata": {},
   "source": [
    "There is no correct solution to the inheritance ordering problem, as there are\n",
    "cases in which we might prefer to give precedence to certain inherited classes\n",
    "over others. However, any programming language that supports multiple\n",
    "inheritance must select some ordering in a consistent way, so that users of\n",
    "the language can predict the behavior of their programs.\n",
    "\n",
    "**Further reading.** Python resolves this name using a recursive algorithm\n",
    "called the C3 Method Resolution Ordering. The method resolution order of any\n",
    "class can be queried using the `mro` method on all classes.\n",
    "\n",
    "\n",
    "​"
   ]
  },
  {
   "cell_type": "code",
   "execution_count": null,
   "id": "b5351672",
   "metadata": {},
   "outputs": [],
   "source": [
    ">>> [c.__name__ for c in AsSeenOnTVAccount.mro()]\n",
    "['AsSeenOnTVAccount', 'CheckingAccount', 'SavingsAccount', 'Account', 'object']\n"
   ]
  },
  {
   "cell_type": "markdown",
   "id": "abf8787b",
   "metadata": {},
   "source": [
    "The precise algorithm for finding method resolution orderings is not a topic\n",
    "for this text, but is [described by Python's primary author](http://python-\n",
    "history.blogspot.com/2010/06/method-resolution-order.html) with a reference to\n",
    "the original paper.\n",
    "\n",
    "### 2.5.8 The Role of Objects\n",
    "\n",
    "The Python object system is designed to make data abstraction and message\n",
    "passing both convenient and flexible. The specialized syntax of classes,\n",
    "methods, inheritance, and dot expressions all enable us to formalize the\n",
    "object metaphor in our programs, which improves our ability to organize large\n",
    "programs.\n",
    "\n",
    "In particular, we would like our object system to promote a _separation of\n",
    "concerns_ among the different aspects of the program. Each object in a program\n",
    "encapsulates and manages some part of the program's state, and each class\n",
    "statement defines the functions that implement some part of the program's\n",
    "overall logic. Abstraction barriers enforce the boundaries between different\n",
    "aspects of a large program.\n",
    "\n",
    "Object-oriented programming is particularly well-suited to programs that model\n",
    "systems that have separate but interacting parts. For instance, different\n",
    "users interact in a social network, different characters interact in a game,\n",
    "and different shapes interact in a physical simulation. When representing such\n",
    "systems, the objects in a program often map naturally onto objects in the\n",
    "system being modeled, and classes represent their types and relationships.\n",
    "\n",
    "On the other hand, classes may not provide the best mechanism for implementing\n",
    "certain abstractions. Functional abstractions provide a more natural metaphor\n",
    "for representing relationships between inputs and outputs. One should not feel\n",
    "compelled to fit every bit of logic in a program within a class, especially\n",
    "when defining independent functions for manipulating data is more natural.\n",
    "Functions can also enforce a separation of concerns.\n",
    "\n",
    "Multi-paradigm languages such as Python allow programmers to match\n",
    "organizational paradigms to appropriate problems. Learning to identify when to\n",
    "introduce a new class, as opposed to a new function, in order to simplify or\n",
    "modularize a program, is an important design skill in software engineering\n",
    "that deserves careful attention.\n",
    "\n",
    "_Continue_ : [ 2.6 Implementing Classes and Objects\n",
    "\n",
    "](../pages/26-implementing-classes-and-objects.html)\n",
    "\n",
    "## 2.6 Implementing Classes and Objects\n",
    "\n",
    "When working in the object-oriented programming paradigm, we use the object\n",
    "metaphor to guide the organization of our programs. Most logic about how to\n",
    "represent and manipulate data is expressed within class declarations. In this\n",
    "section, we see that classes and objects can themselves be represented using\n",
    "just functions and dictionaries. The purpose of implementing an object system\n",
    "in this way is to illustrate that using the object metaphor does not require a\n",
    "special programming language. Programs can be object-oriented, even in\n",
    "programming languages that do not have a built-in object system.\n",
    "\n",
    "In order to implement objects, we will abandon dot notation (which does\n",
    "require built-in language support), but create dispatch dictionaries that\n",
    "behave in much the same way as the elements of the built-in object system. We\n",
    "have already seen how to implement message-passing behavior through dispatch\n",
    "dictionaries. To implement an object system in full, we send messages between\n",
    "instances, classes, and base classes, all of which are dictionaries that\n",
    "contain attributes.\n",
    "\n",
    "We will not implement the entire Python object system, which includes features\n",
    "that we have not covered in this text (e.g., meta-classes and static methods).\n",
    "We will focus instead on user-defined classes without multiple inheritance and\n",
    "without introspective behavior (such as returning the class of an instance).\n",
    "Our implementation is not meant to follow the precise specification of the\n",
    "Python type system. Instead, it is designed to implement the core\n",
    "functionality that enables the object metaphor.\n",
    "\n",
    "### 2.6.1 Instances\n",
    "\n",
    "We begin with instances. An instance has named attributes, such as the balance\n",
    "of an account, which can be set and retrieved. We implement an instance using\n",
    "a dispatch dictionary that responds to messages that \"get\" and \"set\" attribute\n",
    "values. Attributes themselves are stored in a local dictionary called\n",
    "`attributes`.\n",
    "\n",
    "As we have seen previously in this chapter, dictionaries themselves are\n",
    "abstract data types. We implemented dictionaries with lists, we implemented\n",
    "lists with pairs, and we implemented pairs with functions. As we implement an\n",
    "object system in terms of dictionaries, keep in mind that we could just as\n",
    "well be implementing objects using functions alone.\n",
    "\n",
    "To begin our implementation, we assume that we have a class implementation\n",
    "that can look up any names that are not part of the instance. We pass in a\n",
    "class to `make_instance` as the parameter `cls`.\n",
    "\n",
    "\n",
    "​"
   ]
  },
  {
   "cell_type": "code",
   "execution_count": null,
   "id": "fdf7e676",
   "metadata": {},
   "outputs": [],
   "source": [
    ">>> def make_instance(cls):\n",
    "        \"\"\"Return a new object instance, which is a dispatch dictionary.\"\"\"\n",
    "        def get_value(name):\n",
    "            if name in attributes:\n",
    "                return attributes[name]\n",
    "            else:\n",
    "                value = cls['get'](name)\n",
    "                return bind_method(value, instance)\n",
    "        def set_value(name, value):\n",
    "            attributes[name] = value\n",
    "        attributes = {}\n",
    "        instance = {'get': get_value, 'set': set_value}\n",
    "        return instance\n"
   ]
  },
  {
   "cell_type": "markdown",
   "id": "60ca9f90",
   "metadata": {},
   "source": [
    "The `instance` is a dispatch dictionary that responds to the messages `get`\n",
    "and `set`. The `set` message corresponds to attribute assignment in Python's\n",
    "object system: all assigned attributes are stored directly within the object's\n",
    "local attribute dictionary. In `get`, if `name` does not appear in the local\n",
    "`attributes` dictionary, then it is looked up in the class. If the `value`\n",
    "returned by `cls` is a function, it must be bound to the instance.\n",
    "\n",
    "**Bound method values.** The `get_value` function in `make_instance` finds a\n",
    "named attribute in its class with `get`, then calls `bind_method`. Binding a\n",
    "method only applies to function values, and it creates a bound method value\n",
    "from a function value by inserting the instance as the first argument:\n",
    "\n",
    "\n",
    "​"
   ]
  },
  {
   "cell_type": "code",
   "execution_count": null,
   "id": "7dc9baca",
   "metadata": {},
   "outputs": [],
   "source": [
    ">>> def bind_method(value, instance):\n",
    "        \"\"\"Return a bound method if value is callable, or value otherwise.\"\"\"\n",
    "        if callable(value):\n",
    "            def method(*args):\n",
    "                return value(instance, *args)\n",
    "            return method\n",
    "        else:\n",
    "            return value\n"
   ]
  },
  {
   "cell_type": "markdown",
   "id": "8cabd94c",
   "metadata": {},
   "source": [
    "When a method is called, the first parameter `self` will be bound to the value\n",
    "of `instance` by this definition.\n",
    "\n",
    "### 2.6.2 Classes\n",
    "\n",
    "A class is also an object, both in Python's object system and the system we\n",
    "are implementing here. For simplicity, we say that classes do not themselves\n",
    "have a class. (In Python, classes do have classes; almost all classes share\n",
    "the same class, called `type`.) A class can respond to `get` and `set`\n",
    "messages, as well as the `new` message:\n",
    "\n",
    "\n",
    "​"
   ]
  },
  {
   "cell_type": "code",
   "execution_count": null,
   "id": "19a4c379",
   "metadata": {},
   "outputs": [],
   "source": [
    ">>> def make_class(attributes, base_class=None):\n",
    "        \"\"\"Return a new class, which is a dispatch dictionary.\"\"\"\n",
    "        def get_value(name):\n",
    "            if name in attributes:\n",
    "                return attributes[name]\n",
    "            elif base_class is not None:\n",
    "                return base_class['get'](name)\n",
    "        def set_value(name, value):\n",
    "            attributes[name] = value\n",
    "        def new(*args):\n",
    "            return init_instance(cls, *args)\n",
    "        cls = {'get': get_value, 'set': set_value, 'new': new}\n",
    "        return cls\n"
   ]
  },
  {
   "cell_type": "markdown",
   "id": "284a0491",
   "metadata": {},
   "source": [
    "Unlike an instance, the `get` function for classes does not query its class\n",
    "when an attribute is not found, but instead queries its `base_class`. No\n",
    "method binding is required for classes.\n",
    "\n",
    "**Initialization.** The `new` function in `make_class` calls `init_instance`,\n",
    "which first makes a new instance, then invokes a method called `__init__`.\n",
    "\n",
    "\n",
    "​"
   ]
  },
  {
   "cell_type": "code",
   "execution_count": null,
   "id": "197449ed",
   "metadata": {},
   "outputs": [],
   "source": [
    ">>> def init_instance(cls, *args):\n",
    "        \"\"\"Return a new object with type cls, initialized with args.\"\"\"\n",
    "        instance = make_instance(cls)\n",
    "        init = cls['get']('__init__')\n",
    "        if init:\n",
    "            init(instance, *args)\n",
    "        return instance\n"
   ]
  },
  {
   "cell_type": "markdown",
   "id": "63a91903",
   "metadata": {},
   "source": [
    "This final function completes our object system. We now have instances, which\n",
    "`set` locally but fall back to their classes on `get`. After an instance looks\n",
    "up a name in its class, it binds itself to function values to create methods.\n",
    "Finally, classes can create `new` instances, and they apply their `__init__`\n",
    "constructor function immediately after instance creation.\n",
    "\n",
    "In this object system, the only function that should be called by the user is\n",
    "`make_class`. All other functionality is enabled through message passing.\n",
    "Similarly, Python's object system is invoked via the `class` statement, and\n",
    "all of its other functionality is enabled through dot expressions and calls to\n",
    "classes.\n",
    "\n",
    "### 2.6.3 Using Implemented Objects\n",
    "\n",
    "We now return to use the bank account example from the previous section. Using\n",
    "our implemented object system, we will create an `Account` class, a\n",
    "`CheckingAccount` subclass, and an instance of each.\n",
    "\n",
    "The `Account` class is created through a `make_account_class` function, which\n",
    "has structure similar to a `class` statement in Python, but concludes with a\n",
    "call to `make_class`.\n",
    "\n",
    "\n",
    "​"
   ]
  },
  {
   "cell_type": "code",
   "execution_count": null,
   "id": "ca1c68d4",
   "metadata": {},
   "outputs": [],
   "source": [
    ">>> def make_account_class():\n",
    "        \"\"\"Return the Account class, which has deposit and withdraw methods.\"\"\"\n",
    "        interest = 0.02\n",
    "        def __init__(self, account_holder):\n",
    "            self['set']('holder', account_holder)\n",
    "            self['set']('balance', 0)\n",
    "        def deposit(self, amount):\n",
    "            \"\"\"Increase the account balance by amount and return the new balance.\"\"\"\n",
    "            new_balance = self['get']('balance') + amount\n",
    "            self['set']('balance', new_balance)\n",
    "            return self['get']('balance')\n",
    "        def withdraw(self, amount):\n",
    "            \"\"\"Decrease the account balance by amount and return the new balance.\"\"\"\n",
    "            balance = self['get']('balance')\n",
    "            if amount > balance:\n",
    "                return 'Insufficient funds'\n",
    "            self['set']('balance', balance - amount)\n",
    "            return self['get']('balance')\n",
    "        return make_class(locals())\n"
   ]
  },
  {
   "cell_type": "markdown",
   "id": "d6531b5b",
   "metadata": {},
   "source": [
    "The final call to `locals` returns a dictionary with string keys that contains\n",
    "the name-value bindings in the current local frame.\n",
    "\n",
    "The `Account` class is finally instantiated via assignment.\n",
    "\n",
    "\n",
    "​"
   ]
  },
  {
   "cell_type": "code",
   "execution_count": null,
   "id": "155b306d",
   "metadata": {},
   "outputs": [],
   "source": [
    ">>> Account = make_account_class()\n"
   ]
  },
  {
   "cell_type": "markdown",
   "id": "5f945525",
   "metadata": {},
   "source": [
    "Then, an account instance is created via the `new` message, which requires a\n",
    "name to go with the newly created account.\n",
    "\n",
    "\n",
    "​"
   ]
  },
  {
   "cell_type": "code",
   "execution_count": null,
   "id": "c1292976",
   "metadata": {},
   "outputs": [],
   "source": [
    ">>> kirk_account = Account['new']('Kirk')\n"
   ]
  },
  {
   "cell_type": "markdown",
   "id": "6892870d",
   "metadata": {},
   "source": [
    "Then, `get` messages passed to `kirk_account` retrieve properties and methods.\n",
    "Methods can be called to update the balance of the account.\n",
    "\n",
    "\n",
    "​"
   ]
  },
  {
   "cell_type": "code",
   "execution_count": null,
   "id": "f4f18735",
   "metadata": {},
   "outputs": [],
   "source": [
    ">>> kirk_account['get']('holder')\n",
    "'Kirk'\n",
    ">>> kirk_account['get']('interest')\n",
    "0.02\n",
    ">>> kirk_account['get']('deposit')(20)\n",
    "20\n",
    ">>> kirk_account['get']('withdraw')(5)\n",
    "15\n"
   ]
  },
  {
   "cell_type": "markdown",
   "id": "e33c73cb",
   "metadata": {},
   "source": [
    "As with the Python object system, setting an attribute of an instance does not\n",
    "change the corresponding attribute of its class.\n",
    "\n",
    "\n",
    "​"
   ]
  },
  {
   "cell_type": "code",
   "execution_count": null,
   "id": "9f5b6f3b",
   "metadata": {},
   "outputs": [],
   "source": [
    ">>> kirk_account['set']('interest', 0.04)\n",
    ">>> Account['get']('interest')\n",
    "0.02\n"
   ]
  },
  {
   "cell_type": "markdown",
   "id": "59d4cbe5",
   "metadata": {},
   "source": [
    "**Inheritance.** We can create a subclass `CheckingAccount` by overloading a\n",
    "subset of the class attributes. In this case, we change the `withdraw` method\n",
    "to impose a fee, and we reduce the interest rate.\n",
    "\n",
    "\n",
    "​"
   ]
  },
  {
   "cell_type": "code",
   "execution_count": null,
   "id": "237e0e75",
   "metadata": {},
   "outputs": [],
   "source": [
    ">>> def make_checking_account_class():\n",
    "        \"\"\"Return the CheckingAccount class, which imposes a $1 withdrawal fee.\"\"\"\n",
    "        interest = 0.01\n",
    "        withdraw_fee = 1\n",
    "        def withdraw(self, amount):\n",
    "            fee = self['get']('withdraw_fee')\n",
    "            return Account['get']('withdraw')(self, amount + fee)\n",
    "        return make_class(locals(), Account)\n"
   ]
  },
  {
   "cell_type": "markdown",
   "id": "78048406",
   "metadata": {},
   "source": [
    "In this implementation, we call the `withdraw` function of the base class\n",
    "`Account` from the `withdraw` function of the subclass, as we would in\n",
    "Python's built-in object system. We can create the subclass itself and an\n",
    "instance, as before.\n",
    "\n",
    "\n",
    "​"
   ]
  },
  {
   "cell_type": "code",
   "execution_count": null,
   "id": "a2eace93",
   "metadata": {},
   "outputs": [],
   "source": [
    ">>> CheckingAccount = make_checking_account_class()\n",
    ">>> jack_acct = CheckingAccount['new']('Spock')\n"
   ]
  },
  {
   "cell_type": "markdown",
   "id": "6570013d",
   "metadata": {},
   "source": [
    "Deposits behave identically, as does the constructor function. withdrawals\n",
    "impose the $1 fee from the specialized `withdraw` method, and `interest` has\n",
    "the new lower value from `CheckingAccount`.\n",
    "\n",
    "\n",
    "​"
   ]
  },
  {
   "cell_type": "code",
   "execution_count": null,
   "id": "6367a806",
   "metadata": {},
   "outputs": [],
   "source": [
    ">>> jack_acct['get']('interest')\n",
    "0.01\n",
    ">>> jack_acct['get']('deposit')(20)\n",
    "20\n",
    ">>> jack_acct['get']('withdraw')(5)\n",
    "14\n"
   ]
  },
  {
   "cell_type": "markdown",
   "id": "10c656c1",
   "metadata": {},
   "source": [
    "Our object system built upon dictionaries is quite similar in implementation\n",
    "to the built-in object system in Python. In Python, an instance of any user-\n",
    "defined class has a special attribute `__dict__` that stores the local\n",
    "instance attributes for that object in a dictionary, much like our\n",
    "`attributes` dictionary. Python differs because it distinguishes certain\n",
    "special methods that interact with built-in functions to ensure that those\n",
    "functions behave correctly for arguments of many different types. Functions\n",
    "that operate on different types are the subject of the next section.\n",
    "\n",
    "_Continue_ : [ 2.7 Object Abstraction ](../pages/27-object-abstraction.html)\n",
    "\n",
    "## 2.7 Object Abstraction\n",
    "\n",
    "The object system allows programmers to build and use abstract data\n",
    "representations efficiently. It is also designed to allow multiple\n",
    "representations of abstract data to coexist in the same program.\n",
    "\n",
    "A central concept in object abstraction is a _generic function_ , which is a\n",
    "function that can accept values of multiple different types. We will consider\n",
    "three different techniques for implementing generic functions: shared\n",
    "interfaces, type dispatching, and type coercion. In the process of building up\n",
    "these concepts, we will also discover features of the Python object system\n",
    "that support the creation of generic functions.\n",
    "\n",
    "### 2.7.1 String Conversion\n",
    "\n",
    "To represent data effectively, an object value should behave like the kind of\n",
    "data it is meant to represent, including producing a string representation of\n",
    "itself. String representations of data values are especially important in an\n",
    "interactive language such as Python that automatically displays the string\n",
    "representation of the values of expressions in an interactive session.\n",
    "\n",
    "String values provide a fundamental medium for communicating information among\n",
    "humans. Sequences of characters can be rendered on a screen, printed to paper,\n",
    "read aloud, converted to braille, or broadcast as Morse code. Strings are also\n",
    "fundamental to programming because they can represent Python expressions.\n",
    "\n",
    "Python stipulates that all objects should produce two different string\n",
    "representations: one that is human-interpretable text and one that is a\n",
    "Python-interpretable expression. The constructor function for strings, `str`,\n",
    "returns a human-readable string. Where possible, the `repr` function returns a\n",
    "Python expression that evaluates to an equal object. The docstring for _repr_\n",
    "explains this property:\n",
    "\n",
    "\n",
    "​"
   ]
  },
  {
   "cell_type": "code",
   "execution_count": null,
   "id": "4fa3f247",
   "metadata": {},
   "outputs": [],
   "source": [
    "repr(object) -> string\n",
    "\n",
    "Return the canonical string representation of the object.\n",
    "For most object types, eval(repr(object)) == object.\n"
   ]
  },
  {
   "cell_type": "markdown",
   "id": "89327fd3",
   "metadata": {},
   "source": [
    "The result of calling `repr` on the value of an expression is what Python\n",
    "prints in an interactive session.\n",
    "\n",
    "\n",
    "​"
   ]
  },
  {
   "cell_type": "code",
   "execution_count": null,
   "id": "d8ebee34",
   "metadata": {},
   "outputs": [],
   "source": [
    ">>> 12e12\n",
    "12000000000000.0\n",
    ">>> print(repr(12e12))\n",
    "12000000000000.0\n"
   ]
  },
  {
   "cell_type": "markdown",
   "id": "485e75d0",
   "metadata": {},
   "source": [
    "In cases where no representation exists that evaluates to the original value,\n",
    "Python typically produces a description surrounded by angled brackets.\n",
    "\n",
    "\n",
    "​"
   ]
  },
  {
   "cell_type": "code",
   "execution_count": null,
   "id": "3f57b75f",
   "metadata": {},
   "outputs": [],
   "source": [
    ">>> repr(min)\n",
    "'<built-in function min>'\n"
   ]
  },
  {
   "cell_type": "markdown",
   "id": "f16283eb",
   "metadata": {},
   "source": [
    "The `str` constructor often coincides with `repr`, but provides a more\n",
    "interpretable text representation in some cases. For instance, we see a\n",
    "difference between `str` and `repr` with dates.\n",
    "\n",
    "\n",
    "​"
   ]
  },
  {
   "cell_type": "code",
   "execution_count": null,
   "id": "0badc011",
   "metadata": {},
   "outputs": [],
   "source": [
    ">>> from datetime import date\n",
    ">>> tues = date(2011, 9, 12)\n",
    ">>> repr(tues)\n",
    "'datetime.date(2011, 9, 12)'\n",
    ">>> str(tues)\n",
    "'2011-09-12'\n"
   ]
  },
  {
   "cell_type": "markdown",
   "id": "71e9a4a9",
   "metadata": {},
   "source": [
    "Defining the `repr` function presents a new challenge: we would like it to\n",
    "apply correctly to all data types, even those that did not exist when `repr`\n",
    "was implemented. We would like it to be a generic or _polymorphic function_ ,\n",
    "one that can be applied to many (_poly_) different forms (_morph_) of data.\n",
    "\n",
    "The object system provides an elegant solution in this case: the `repr`\n",
    "function always invokes a method called `__repr__` on its argument.\n",
    "\n",
    "\n",
    "​"
   ]
  },
  {
   "cell_type": "code",
   "execution_count": null,
   "id": "a58fad11",
   "metadata": {},
   "outputs": [],
   "source": [
    ">>> tues.__repr__()\n",
    "'datetime.date(2011, 9, 12)'\n"
   ]
  },
  {
   "cell_type": "markdown",
   "id": "3d5348da",
   "metadata": {},
   "source": [
    "By implementing this same method in user-defined classes, we can extend the\n",
    "applicability of `repr` to any class we create in the future. This example\n",
    "highlights another benefit of dot expressions in general, that they provide a\n",
    "mechanism for extending the domain of existing functions to new object types.\n",
    "\n",
    "The `str` constructor is implemented in a similar manner: it invokes a method\n",
    "called `__str__` on its argument.\n",
    "\n",
    "\n",
    "​"
   ]
  },
  {
   "cell_type": "code",
   "execution_count": null,
   "id": "76e10132",
   "metadata": {},
   "outputs": [],
   "source": [
    ">>> tues.__str__()\n",
    "'2011-09-12'\n"
   ]
  },
  {
   "cell_type": "markdown",
   "id": "788eed01",
   "metadata": {},
   "source": [
    "These polymorphic functions are examples of a more general principle: certain\n",
    "functions should apply to multiple data types. Moreover, one way to create\n",
    "such a function is to use a shared attribute name with a different definition\n",
    "in each class.\n",
    "\n",
    "### 2.7.2 Special Methods\n",
    "\n",
    "In Python, certain _special names_ are invoked by the Python interpreter in\n",
    "special circumstances. For instance, the `__init__` method of a class is\n",
    "automatically invoked whenever an object is constructed. The `__str__` method\n",
    "is invoked automatically when printing, and `__repr__` is invoked in an\n",
    "interactive session to display values.\n",
    "\n",
    "There are special names for many other behaviors in Python. Some of those used\n",
    "most commonly are described below.\n",
    "\n",
    "**True and false values.** We saw previously that numbers in Python have a\n",
    "truth value; more specifically, 0 is a false value and all other numbers are\n",
    "true values. In fact, all objects in Python have a truth value. By default,\n",
    "objects of user-defined classes are considered to be true, but the special\n",
    "`__bool__` method can be used to override this behavior. If an object defines\n",
    "the `__bool__` method, then Python calls that method to determine its truth\n",
    "value.\n",
    "\n",
    "As an example, suppose we want a bank account with 0 balance to be false. We\n",
    "can add a `__bool__` method to the `Account` class to create this behavior.\n",
    "\n",
    "\n",
    "​"
   ]
  },
  {
   "cell_type": "code",
   "execution_count": null,
   "id": "9df8c093",
   "metadata": {},
   "outputs": [],
   "source": [
    ">>> Account.__bool__ = lambda self: self.balance != 0\n"
   ]
  },
  {
   "cell_type": "markdown",
   "id": "e009c891",
   "metadata": {},
   "source": [
    "We can call the `bool` constructor to see the truth value of an object, and we\n",
    "can use any object in a boolean context.\n",
    "\n",
    "\n",
    "​"
   ]
  },
  {
   "cell_type": "code",
   "execution_count": null,
   "id": "c9c1ad90",
   "metadata": {},
   "outputs": [],
   "source": [
    ">>> bool(Account('Jack'))\n",
    "False\n",
    ">>> if not Account('Jack'):\n",
    "        print('Jack has nothing')\n",
    "Jack has nothing\n"
   ]
  },
  {
   "cell_type": "markdown",
   "id": "7faba042",
   "metadata": {},
   "source": [
    "**Sequence operations.** We have seen that we can call the `len` function to\n",
    "determine the length of a sequence.\n",
    "\n",
    "\n",
    "​"
   ]
  },
  {
   "cell_type": "code",
   "execution_count": null,
   "id": "7d959f95",
   "metadata": {},
   "outputs": [],
   "source": [
    ">>> len('Go Bears!')\n",
    "9\n"
   ]
  },
  {
   "cell_type": "markdown",
   "id": "0dac1a4a",
   "metadata": {},
   "source": [
    "The `len` function invokes the `__len__` method of its argument to determine\n",
    "its length. All built-in sequence types implement this method.\n",
    "\n",
    "\n",
    "​"
   ]
  },
  {
   "cell_type": "code",
   "execution_count": null,
   "id": "c1efd80b",
   "metadata": {},
   "outputs": [],
   "source": [
    ">>> 'Go Bears!'.__len__()\n",
    "9\n"
   ]
  },
  {
   "cell_type": "markdown",
   "id": "4da07961",
   "metadata": {},
   "source": [
    "Python uses a sequence's length to determine its truth value, if it does not\n",
    "provide a `__bool__` method. Empty sequences are false, while non-empty\n",
    "sequences are true.\n",
    "\n",
    "\n",
    "​"
   ]
  },
  {
   "cell_type": "code",
   "execution_count": null,
   "id": "ed41f889",
   "metadata": {},
   "outputs": [],
   "source": [
    ">>> bool('')\n",
    "False\n",
    ">>> bool([])\n",
    "False\n",
    ">>> bool('Go Bears!')\n",
    "True\n"
   ]
  },
  {
   "cell_type": "markdown",
   "id": "9287af71",
   "metadata": {},
   "source": [
    "The `__getitem__` method is invoked by the element selection operator, but it\n",
    "can also be invoked directly.\n",
    "\n",
    "\n",
    "​"
   ]
  },
  {
   "cell_type": "code",
   "execution_count": null,
   "id": "3a3c2105",
   "metadata": {},
   "outputs": [],
   "source": [
    ">>> 'Go Bears!'[3]\n",
    "'B'\n",
    ">>> 'Go Bears!'.__getitem__(3)\n",
    "'B'\n"
   ]
  },
  {
   "cell_type": "markdown",
   "id": "bf378123",
   "metadata": {},
   "source": [
    "**Callable objects.** In Python, functions are first-class objects, so they\n",
    "can be passed around as data and have attributes like any other object. Python\n",
    "also allows us to define objects that can be \"called\" like functions by\n",
    "including a `__call__` method. With this method, we can define a class that\n",
    "behaves like a higher-order function.\n",
    "\n",
    "As an example, consider the following higher-order function, which returns a\n",
    "function that adds a constant value to its argument.\n",
    "\n",
    "\n",
    "​"
   ]
  },
  {
   "cell_type": "code",
   "execution_count": null,
   "id": "f463b484",
   "metadata": {},
   "outputs": [],
   "source": [
    ">>> def make_adder(n):\n",
    "        def adder(k):\n",
    "            return n + k\n",
    "        return adder\n"
   ]
  },
  {
   "cell_type": "markdown",
   "id": "8fa33ead",
   "metadata": {},
   "source": [
    "​    \n",
    "​"
   ]
  },
  {
   "cell_type": "code",
   "execution_count": null,
   "id": "1877332b",
   "metadata": {},
   "outputs": [],
   "source": [
    ">>> add_three = make_adder(3)\n",
    ">>> add_three(4)\n",
    "7\n"
   ]
  },
  {
   "cell_type": "markdown",
   "id": "f76a241d",
   "metadata": {},
   "source": [
    "We can create an `Adder` class that defines a `__call__` method to provide the\n",
    "same functionality.\n",
    "\n",
    "\n",
    "​"
   ]
  },
  {
   "cell_type": "code",
   "execution_count": null,
   "id": "27d87681",
   "metadata": {},
   "outputs": [],
   "source": [
    ">>> class Adder(object):\n",
    "        def __init__(self, n):\n",
    "            self.n = n\n",
    "        def __call__(self, k):\n",
    "            return self.n + k\n"
   ]
  },
  {
   "cell_type": "markdown",
   "id": "c2a439ae",
   "metadata": {},
   "source": [
    "​    \n",
    "​"
   ]
  },
  {
   "cell_type": "code",
   "execution_count": null,
   "id": "7c04be5f",
   "metadata": {},
   "outputs": [],
   "source": [
    ">>> add_three_obj = Adder(3)\n",
    ">>> add_three_obj(4)\n",
    "7\n"
   ]
  },
  {
   "cell_type": "markdown",
   "id": "67ad6c80",
   "metadata": {},
   "source": [
    "Here, the `Adder` class behaves like the `make_adder` higher-order function,\n",
    "and the `add_three_obj` object behaves like the `add_three` function. We have\n",
    "further blurred the line between data and functions.\n",
    "\n",
    "**Arithmetic.** Special methods can also define the behavior of built-in\n",
    "operators applied to user-defined objects. In order to provide this\n",
    "generality, Python follows specific protocols to apply each operator. For\n",
    "example, to evaluate expressions that contain the `+` operator, Python checks\n",
    "for special methods on both the left and right operands of the expression.\n",
    "First, Python checks for an `__add__` method on the value of the left operand,\n",
    "then checks for an `__radd__` method on the value of the right operand. If\n",
    "either is found, that method is invoked with the value of the other operand as\n",
    "its argument. Some examples are given in the following sections. For readers\n",
    "interested in further details, the Python documentation describes the\n",
    "exhaustive set of [method names for\n",
    "operators](http://docs.python.org/py3k/reference/datamodel.html#special-\n",
    "method-names). Dive into Python 3 has a chapter on [special method\n",
    "names](http://getpython3.com/diveintopython3/special-method-names.html) that\n",
    "describes how many of these special method names are used.\n",
    "\n",
    "### 2.7.3 Multiple Representations\n",
    "\n",
    "Abstraction barriers allow us to separate the use and representation of data.\n",
    "However, in large programs, it may not always make sense to speak of \"the\n",
    "underlying representation\" for a data type in a program. For one thing, there\n",
    "might be more than one useful representation for a data object, and we might\n",
    "like to design systems that can deal with multiple representations.\n",
    "\n",
    "To take a simple example, complex numbers may be represented in two almost\n",
    "equivalent ways: in rectangular form (real and imaginary parts) and in polar\n",
    "form (magnitude and angle). Sometimes the rectangular form is more appropriate\n",
    "and sometimes the polar form is more appropriate. Indeed, it is perfectly\n",
    "plausible to imagine a system in which complex numbers are represented in both\n",
    "ways, and in which the functions for manipulating complex numbers work with\n",
    "either representation. We implement such a system below. As a side note, we\n",
    "are developing a system that performs arithmetic operations on complex numbers\n",
    "as a simple but unrealistic example of a program that uses generic operations.\n",
    "A [complex number\n",
    "type](http://docs.python.org/py3k/library/stdtypes.html#typesnumeric) is\n",
    "actually built into Python, but for this example we will implement our own.\n",
    "\n",
    "The idea of allowing for multiple representations of data arises regularly.\n",
    "Large software systems are often designed by many people working over extended\n",
    "periods of time, subject to requirements that change over time. In such an\n",
    "environment, it is simply not possible for everyone to agree in advance on\n",
    "choices of data representation. In addition to the data-abstraction barriers\n",
    "that isolate representation from use, we need abstraction barriers that\n",
    "isolate different design choices from each other and permit different choices\n",
    "to coexist in a single program.\n",
    "\n",
    "We will begin our implementation at the highest level of abstraction and work\n",
    "towards concrete representations. A `Complex` number is a `Number`, and\n",
    "numbers can be added or multiplied together. How numbers can be added or\n",
    "multiplied is abstracted by the method names `add` and `mul`.\n",
    "\n",
    "\n",
    "​"
   ]
  },
  {
   "cell_type": "code",
   "execution_count": null,
   "id": "8b11d9d6",
   "metadata": {},
   "outputs": [],
   "source": [
    ">>> class Number:\n",
    "        def __add__(self, other):\n",
    "            return self.add(other)\n",
    "        def __mul__(self, other):\n",
    "            return self.mul(other)\n"
   ]
  },
  {
   "cell_type": "markdown",
   "id": "856766d2",
   "metadata": {},
   "source": [
    "This class requires that Number objects have `add` and `mul` methods, but does\n",
    "not define them. Moreover, it does not have an `__init__` method. The purpose\n",
    "of `Number` is not to be instantiated directly, but instead to serve as a\n",
    "superclass of various specific number classes. Our next task is to define\n",
    "`add` and `mul` appropriately for complex numbers.\n",
    "\n",
    "A complex number can be thought of as a point in two-dimensional space with\n",
    "two orthogonal axes, the real axis and the imaginary axis. From this\n",
    "perspective, the complex number `c = real + imag * i` (where `i * i = -1`) can\n",
    "be thought of as the point in the plane whose horizontal coordinate is `real`\n",
    "and whose vertical coordinate is `imag`. Adding complex numbers involves\n",
    "adding their respective `real` and `imag` coordinates.\n",
    "\n",
    "When multiplying complex numbers, it is more natural to think in terms of\n",
    "representing a complex number in polar form, as a `magnitude` and an `angle`.\n",
    "The product of two complex numbers is the vector obtained by stretching one\n",
    "complex number by a factor of the length of the other, and then rotating it\n",
    "through the angle of the other.\n",
    "\n",
    "The `Complex` class inherits from `Number` and describes arithmetic for\n",
    "complex numbers.\n",
    "\n",
    "\n",
    "​"
   ]
  },
  {
   "cell_type": "code",
   "execution_count": null,
   "id": "307d69f4",
   "metadata": {},
   "outputs": [],
   "source": [
    ">>> class Complex(Number):\n",
    "        def add(self, other):\n",
    "            return ComplexRI(self.real + other.real, self.imag + other.imag)\n",
    "        def mul(self, other):\n",
    "            magnitude = self.magnitude * other.magnitude\n",
    "            return ComplexMA(magnitude, self.angle + other.angle)\n"
   ]
  },
  {
   "cell_type": "markdown",
   "id": "f24d74be",
   "metadata": {},
   "source": [
    "This implementation assumes that two classes exist for complex numbers,\n",
    "corresponding to their two natural representations:\n",
    "\n",
    "  * `ComplexRI` constructs a complex number from real and imaginary parts.\n",
    "  * `ComplexMA` constructs a complex number from a magnitude and angle.\n",
    "\n",
    "**Interfaces.** Object attributes, which are a form of message passing, allows\n",
    "different data types to respond to the same message in different ways. A\n",
    "shared set of messages that elicit similar behavior from different classes is\n",
    "a powerful method of abstraction. An _interface_ is a set of shared attribute\n",
    "names, along with a specification of their behavior. In the case of complex\n",
    "numbers, the interface needed to implement arithmetic consists of four\n",
    "attributes: `real`, `imag`, `magnitude`, and `angle`.\n",
    "\n",
    "For complex arithmetic to be correct, these attributes must be consistent.\n",
    "That is, the rectangular coordinates `(real, imag)` and the polar coordinates\n",
    "`(magnitude, angle)` must describe the same point on the complex plane. The\n",
    "`Complex` class implicitly defines this interface by determining how these\n",
    "attributes are used to `add` and `mul` complex numbers.\n",
    "\n",
    "**Properties.** The requirement that two or more attribute values maintain a\n",
    "fixed relationship with each other is a new problem. One solution is to store\n",
    "attribute values for only one representation and compute the other\n",
    "representation whenever it is needed.\n",
    "\n",
    "Python has a simple feature for computing attributes on the fly from zero-\n",
    "argument functions. The `@property` decorator allows functions to be called\n",
    "without call expression syntax (parentheses following an expression). The\n",
    "`ComplexRI` class stores `real` and `imag` attributes and computes `magnitude`\n",
    "and `angle` on demand.\n",
    "\n",
    "\n",
    "​"
   ]
  },
  {
   "cell_type": "code",
   "execution_count": null,
   "id": "d3f61818",
   "metadata": {},
   "outputs": [],
   "source": [
    ">>> from math import atan2\n",
    ">>> class ComplexRI(Complex):\n",
    "        def __init__(self, real, imag):\n",
    "            self.real = real\n",
    "            self.imag = imag\n",
    "        @property\n",
    "        def magnitude(self):\n",
    "            return (self.real ** 2 + self.imag ** 2) ** 0.5\n",
    "        @property\n",
    "        def angle(self):\n",
    "            return atan2(self.imag, self.real)\n",
    "        def __repr__(self):\n",
    "            return 'ComplexRI({0:g}, {1:g})'.format(self.real, self.imag)\n"
   ]
  },
  {
   "cell_type": "markdown",
   "id": "736f6cad",
   "metadata": {},
   "source": [
    "As a result of this implementation, all four attributes needed for complex\n",
    "arithmetic can be accessed without any call expressions, and changes to `real`\n",
    "or `imag` are reflected in the `magnitude` and `angle`.\n",
    "\n",
    "\n",
    "​"
   ]
  },
  {
   "cell_type": "code",
   "execution_count": null,
   "id": "b2ac5095",
   "metadata": {},
   "outputs": [],
   "source": [
    ">>> ri = ComplexRI(5, 12)\n",
    ">>> ri.real\n",
    "5\n",
    ">>> ri.magnitude\n",
    "13.0\n",
    ">>> ri.real = 9\n",
    ">>> ri.real\n",
    "9\n",
    ">>> ri.magnitude\n",
    "15.0\n"
   ]
  },
  {
   "cell_type": "markdown",
   "id": "2a9f3ccd",
   "metadata": {},
   "source": [
    "Similarly, the `ComplexMA` class stores `magnitude` and `angle`, but computes\n",
    "`real` and `imag` whenever those attributes are looked up.\n",
    "\n",
    "\n",
    "​"
   ]
  },
  {
   "cell_type": "code",
   "execution_count": null,
   "id": "3907e547",
   "metadata": {},
   "outputs": [],
   "source": [
    ">>> from math import sin, cos, pi\n",
    ">>> class ComplexMA(Complex):\n",
    "        def __init__(self, magnitude, angle):\n",
    "            self.magnitude = magnitude\n",
    "            self.angle = angle\n",
    "        @property\n",
    "        def real(self):\n",
    "            return self.magnitude * cos(self.angle)\n",
    "        @property\n",
    "        def imag(self):\n",
    "            return self.magnitude * sin(self.angle)\n",
    "        def __repr__(self):\n",
    "            return 'ComplexMA({0:g}, {1:g} * pi)'.format(self.magnitude, self.angle/pi)\n"
   ]
  },
  {
   "cell_type": "markdown",
   "id": "27988428",
   "metadata": {},
   "source": [
    "Changes to the magnitude or angle are reflected immediately in the `real` and\n",
    "`imag` attributes.\n",
    "\n",
    "\n",
    "​"
   ]
  },
  {
   "cell_type": "code",
   "execution_count": null,
   "id": "2c9a3d08",
   "metadata": {},
   "outputs": [],
   "source": [
    ">>> ma = ComplexMA(2, pi/2)\n",
    ">>> ma.imag\n",
    "2.0\n",
    ">>> ma.angle = pi\n",
    ">>> ma.real\n",
    "-2.0\n"
   ]
  },
  {
   "cell_type": "markdown",
   "id": "1d8a7c6e",
   "metadata": {},
   "source": [
    "Our implementation of complex numbers is now complete. Either class\n",
    "implementing complex numbers can be used for either argument in either\n",
    "arithmetic function in `Complex`.\n",
    "\n",
    "\n",
    "​"
   ]
  },
  {
   "cell_type": "code",
   "execution_count": null,
   "id": "3b0eea38",
   "metadata": {},
   "outputs": [],
   "source": [
    ">>> from math import pi\n",
    ">>> ComplexRI(1, 2) + ComplexMA(2, pi/2)\n",
    "ComplexRI(1, 4)\n",
    ">>> ComplexRI(0, 1) * ComplexRI(0, 1)\n",
    "ComplexMA(1, 1 * pi)\n"
   ]
  },
  {
   "cell_type": "markdown",
   "id": "88d07924",
   "metadata": {},
   "source": [
    "The interface approach to encoding multiple representations has appealing\n",
    "properties. The class for each representation can be developed separately;\n",
    "they must only agree on the names of the attributes they share, as well as any\n",
    "behavior conditions for those attributes. The interface is also _additive_. If\n",
    "another programmer wanted to add a third representation of complex numbers to\n",
    "the same program, they would only have to create another class with the same\n",
    "attributes.\n",
    "\n",
    "Multiple representations of data are closely related to the idea of data\n",
    "abstraction with which we began this chapter. Using data abstraction, we were\n",
    "able to change the implementation of a data type without changing the meaning\n",
    "of the program. With interfaces and message passing, we can have multiple\n",
    "different representations within the same program. In both cases, a set of\n",
    "names and corresponding behavior conditions define the abstraction that\n",
    "enables this flexibility.\n",
    "\n",
    "### 2.7.4 Generic Functions\n",
    "\n",
    "Generic functions are methods or functions that apply to arguments of\n",
    "different types. We have seen many examples already. The `Complex.add` method\n",
    "is generic, because it can take either a `ComplexRI` or `ComplexMA` as the\n",
    "value for `other`. This flexibility was gained by ensuring that both\n",
    "`ComplexRI` and `ComplexMA` share an interface. Using interfaces and message\n",
    "passing is only one of several methods used to implement generic functions. We\n",
    "will consider two others in this section: type dispatching and type coercion.\n",
    "\n",
    "Suppose that, in addition to our complex number classes, we implement a\n",
    "`Rational` class to represent fractions exactly. The `add` and `mul` methods\n",
    "express the same computations as the `add_rational` and `mul_rational`\n",
    "functions from earlier in the chapter.\n",
    "\n",
    "\n",
    "​"
   ]
  },
  {
   "cell_type": "code",
   "execution_count": null,
   "id": "425132f0",
   "metadata": {},
   "outputs": [],
   "source": [
    ">>> from fractions import gcd\n",
    ">>> class Rational(Number):\n",
    "        def __init__(self, numer, denom):\n",
    "            g = gcd(numer, denom)\n",
    "            self.numer = numer // g\n",
    "            self.denom = denom // g\n",
    "        def __repr__(self):\n",
    "            return 'Rational({0}, {1})'.format(self.numer, self.denom)\n",
    "        def add(self, other):\n",
    "            nx, dx = self.numer, self.denom\n",
    "            ny, dy = other.numer, other.denom\n",
    "            return Rational(nx * dy + ny * dx, dx * dy)\n",
    "        def mul(self, other):\n",
    "            numer = self.numer * other.numer\n",
    "            denom = self.denom * other.denom\n",
    "            return Rational(numer, denom)\n"
   ]
  },
  {
   "cell_type": "markdown",
   "id": "325ed363",
   "metadata": {},
   "source": [
    "We have implemented the interface of the `Number` superclass by including\n",
    "`add` and `mul` methods. As a result, we can add and multiply rational numbers\n",
    "using familiar operators.\n",
    "\n",
    "\n",
    "​"
   ]
  },
  {
   "cell_type": "code",
   "execution_count": null,
   "id": "68e2b284",
   "metadata": {},
   "outputs": [],
   "source": [
    ">>> Rational(2, 5) + Rational(1, 10)\n",
    "Rational(1, 2)\n",
    ">>> Rational(1, 4) * Rational(2, 3)\n",
    "Rational(1, 6)\n"
   ]
  },
  {
   "cell_type": "markdown",
   "id": "a93cced6",
   "metadata": {},
   "source": [
    "However, we cannot yet add a rational number to a complex number, although in\n",
    "mathematics such a combination is well-defined. We would like to introduce\n",
    "this cross-type operation in some carefully controlled way, so that we can\n",
    "support it without seriously violating our abstraction barriers. There is a\n",
    "tension between the outcomes we desire: we would like to be able to add a\n",
    "complex number to a rational number, and we would like to do so using a\n",
    "generic `__add__` method that does the right thing with all numeric types. At\n",
    "the same time, we would like to separate the concerns of complex numbers and\n",
    "rational numbers whenever possible, in order to maintain a modular program.\n",
    "\n",
    "**Type dispatching.** One way to implement cross-type operations is to select\n",
    "behavior based on the types of the arguments to a function or method. The idea\n",
    "of type dispatching is to write functions that inspect the type of arguments\n",
    "they receive, then execute code that is appropriate for those types.\n",
    "\n",
    "The built-in function `isinstance` takes an object and a class. It returns\n",
    "true if the object has a class that either is or inherits from the given\n",
    "class.\n",
    "\n",
    "\n",
    "​"
   ]
  },
  {
   "cell_type": "code",
   "execution_count": null,
   "id": "8ea5ed32",
   "metadata": {},
   "outputs": [],
   "source": [
    ">>> c = ComplexRI(1, 1)\n",
    ">>> isinstance(c, ComplexRI)\n",
    "True\n",
    ">>> isinstance(c, Complex)\n",
    "True\n",
    ">>> isinstance(c, ComplexMA)\n",
    "False\n"
   ]
  },
  {
   "cell_type": "markdown",
   "id": "48903123",
   "metadata": {},
   "source": [
    "A simple example of type dispatching is an `is_real` function that uses a\n",
    "different implementation for each type of complex number.\n",
    "\n",
    "\n",
    "​"
   ]
  },
  {
   "cell_type": "code",
   "execution_count": null,
   "id": "58201152",
   "metadata": {},
   "outputs": [],
   "source": [
    ">>> def is_real(c):\n",
    "        \"\"\"Return whether c is a real number with no imaginary part.\"\"\"\n",
    "        if isinstance(c, ComplexRI):\n",
    "            return c.imag == 0\n",
    "        elif isinstance(c, ComplexMA):\n",
    "            return c.angle % pi == 0\n"
   ]
  },
  {
   "cell_type": "markdown",
   "id": "c524b5f8",
   "metadata": {},
   "source": [
    "​    \n",
    "​"
   ]
  },
  {
   "cell_type": "code",
   "execution_count": null,
   "id": "4abbe341",
   "metadata": {},
   "outputs": [],
   "source": [
    ">>> is_real(ComplexRI(1, 1))\n",
    "False\n",
    ">>> is_real(ComplexMA(2, pi))\n",
    "True\n"
   ]
  },
  {
   "cell_type": "markdown",
   "id": "9e4b28e1",
   "metadata": {},
   "source": [
    "Type dispatching is not always performed using `isinstance`. For arithmetic,\n",
    "we will give a `type_tag` attribute to `Rational` and `Complex` instances that\n",
    "has a string value. When two values `x` and `y` have the same `type_tag`, then\n",
    "we can combine them directly with `x.add(y)`. If not, we need a cross-type\n",
    "operation.\n",
    "\n",
    "\n",
    "​"
   ]
  },
  {
   "cell_type": "code",
   "execution_count": null,
   "id": "62b2d20f",
   "metadata": {},
   "outputs": [],
   "source": [
    ">>> Rational.type_tag = 'rat'\n",
    ">>> Complex.type_tag = 'com'\n",
    ">>> Rational(2, 5).type_tag == Rational(1, 2).type_tag\n",
    "True\n",
    ">>> ComplexRI(1, 1).type_tag == ComplexMA(2, pi/2).type_tag\n",
    "True\n",
    ">>> Rational(2, 5).type_tag == ComplexRI(1, 1).type_tag\n",
    "False\n"
   ]
  },
  {
   "cell_type": "markdown",
   "id": "ee2bc927",
   "metadata": {},
   "source": [
    "To combine complex and rational numbers, we write functions that rely on both\n",
    "of their representations simultaneously. Below, we rely on the fact that a\n",
    "`Rational` can be converted approximately to a `float` value that is a real\n",
    "number. The result can be combined with a complex number.\n",
    "\n",
    "\n",
    "​"
   ]
  },
  {
   "cell_type": "code",
   "execution_count": null,
   "id": "4dc39252",
   "metadata": {},
   "outputs": [],
   "source": [
    ">>> def add_complex_and_rational(c, r):\n",
    "        return ComplexRI(c.real + r.numer/r.denom, c.imag)\n"
   ]
  },
  {
   "cell_type": "markdown",
   "id": "fe9561d8",
   "metadata": {},
   "source": [
    "Multiplication involves a similar conversion. In polar form, a real number in\n",
    "the complex plane always has a positive magnitude. The angle 0 indicates a\n",
    "positive number. The angle `pi` indicates a negative number.\n",
    "\n",
    "\n",
    "​"
   ]
  },
  {
   "cell_type": "code",
   "execution_count": null,
   "id": "ca387c21",
   "metadata": {},
   "outputs": [],
   "source": [
    ">>> def mul_complex_and_rational(c, r):\n",
    "        r_magnitude, r_angle = r.numer/r.denom, 0\n",
    "        if r_magnitude < 0:\n",
    "            r_magnitude, r_angle = -r_magnitude, pi\n",
    "        return ComplexMA(c.magnitude * r_magnitude, c.angle + r_angle)\n"
   ]
  },
  {
   "cell_type": "markdown",
   "id": "91a51b3e",
   "metadata": {},
   "source": [
    "Both addition and multiplication are commutative, so swapping the argument\n",
    "order can use the same implementations of these cross-type operations.\n",
    "\n",
    "\n",
    "​"
   ]
  },
  {
   "cell_type": "code",
   "execution_count": null,
   "id": "1b052405",
   "metadata": {},
   "outputs": [],
   "source": [
    ">>> def add_rational_and_complex(r, c):\n",
    "        return add_complex_and_rational(c, r)\n"
   ]
  },
  {
   "cell_type": "markdown",
   "id": "5da14b37",
   "metadata": {},
   "source": [
    "​    \n",
    "​"
   ]
  },
  {
   "cell_type": "code",
   "execution_count": null,
   "id": "938d549b",
   "metadata": {},
   "outputs": [],
   "source": [
    ">>> def mul_rational_and_complex(r, c):\n",
    "        return mul_complex_and_rational(c, r)\n"
   ]
  },
  {
   "cell_type": "markdown",
   "id": "fb140f1b",
   "metadata": {},
   "source": [
    "The role of type dispatching is to ensure that these cross-type operations are\n",
    "used at appropriate times. Below, we rewrite the `Number` superclass to use\n",
    "type dispatching for its `__add__` and `__mul__` methods.\n",
    "\n",
    "We use the `type_tag` attribute to distinguish types of arguments. One could\n",
    "directly use the built-in `isinstance` method as well, but tags simplify the\n",
    "implementation. Using type tags also illustrates that type dispatching is not\n",
    "necessarily linked to the Python object system, but instead a general\n",
    "technique for creating generic functions over heterogeneous domains.\n",
    "\n",
    "The `__add__` method considers two cases. First, if two arguments have the\n",
    "same type tag, then it assumes that `add` method of the first can take the\n",
    "second as an argument. Otherwise, it checks whether a dictionary of cross-type\n",
    "implementations, called `adders`, contains a function that can add arguments\n",
    "of those type tags. If there is such a function, the `cross_apply` method\n",
    "finds and applies it. The `__mul__` method has a similar structure.\n",
    "\n",
    "\n",
    "​"
   ]
  },
  {
   "cell_type": "code",
   "execution_count": null,
   "id": "8e27fa47",
   "metadata": {},
   "outputs": [],
   "source": [
    ">>> class Number:\n",
    "        def __add__(self, other):\n",
    "            if self.type_tag == other.type_tag:\n",
    "                return self.add(other)\n",
    "            elif (self.type_tag, other.type_tag) in self.adders:\n",
    "                return self.cross_apply(other, self.adders)\n",
    "        def __mul__(self, other):\n",
    "            if self.type_tag == other.type_tag:\n",
    "                return self.mul(other)\n",
    "            elif (self.type_tag, other.type_tag) in self.multipliers:\n",
    "                return self.cross_apply(other, self.multipliers)\n",
    "        def cross_apply(self, other, cross_fns):\n",
    "            cross_fn = cross_fns[(self.type_tag, other.type_tag)]\n",
    "            return cross_fn(self, other)\n",
    "        adders = {(\"com\", \"rat\"): add_complex_and_rational,\n",
    "                  (\"rat\", \"com\"): add_rational_and_complex}\n",
    "        multipliers = {(\"com\", \"rat\"): mul_complex_and_rational,\n",
    "                       (\"rat\", \"com\"): mul_rational_and_complex}\n"
   ]
  },
  {
   "cell_type": "markdown",
   "id": "a31dc83b",
   "metadata": {},
   "source": [
    "In this new definition of the `Number` class, all cross-type implementations\n",
    "are indexed by pairs of type tags in the `adders` and `multipliers`\n",
    "dictionaries.\n",
    "\n",
    "This dictionary-based approach to type dispatching is extensible. New\n",
    "subclasses of `Number` could install themselves into the system by declaring a\n",
    "type tag and adding cross-type operations to `Number.adders` and\n",
    "`Number.multipliers`. They could also define their own `adders` and\n",
    "`multipliers` in a subclass.\n",
    "\n",
    "While we have introduced some complexity to the system, we can now mix types\n",
    "in addition and multiplication expressions.\n",
    "\n",
    "\n",
    "​"
   ]
  },
  {
   "cell_type": "code",
   "execution_count": null,
   "id": "76bf0547",
   "metadata": {},
   "outputs": [],
   "source": [
    ">>> ComplexRI(1.5, 0) + Rational(3, 2)\n",
    "ComplexRI(3, 0)\n",
    ">>> Rational(-1, 2) * ComplexMA(4, pi/2)\n",
    "ComplexMA(2, 1.5 * pi)\n"
   ]
  },
  {
   "cell_type": "markdown",
   "id": "8df85ce8",
   "metadata": {},
   "source": [
    "**Coercion.** In the general situation of completely unrelated operations\n",
    "acting on completely unrelated types, implementing explicit cross-type\n",
    "operations, cumbersome though it may be, is the best that one can hope for.\n",
    "Fortunately, we can sometimes do better by taking advantage of additional\n",
    "structure that may be latent in our type system. Often the different data\n",
    "types are not completely independent, and there may be ways by which objects\n",
    "of one type may be viewed as being of another type. This process is called\n",
    "_coercion_. For example, if we are asked to arithmetically combine a rational\n",
    "number with a complex number, we can view the rational number as a complex\n",
    "number whose imaginary part is zero. After doing so, we can use `Complex.add`\n",
    "and `Complex.mul` to combine them.\n",
    "\n",
    "In general, we can implement this idea by designing coercion functions that\n",
    "transform an object of one type into an equivalent object of another type.\n",
    "Here is a typical coercion function, which transforms a rational number to a\n",
    "complex number with zero imaginary part:\n",
    "\n",
    "\n",
    "​"
   ]
  },
  {
   "cell_type": "code",
   "execution_count": null,
   "id": "addb1724",
   "metadata": {},
   "outputs": [],
   "source": [
    ">>> def rational_to_complex(r):\n",
    "        return ComplexRI(r.numer/r.denom, 0)\n"
   ]
  },
  {
   "cell_type": "markdown",
   "id": "6b99827c",
   "metadata": {},
   "source": [
    "The alternative definition of the `Number` class performs cross-type\n",
    "operations by attempting to coerce both arguments to the same type. The\n",
    "`coercions` dictionary indexes all possible coercions by a pair of type tags,\n",
    "indicating that the corresponding value coerces a value of the first type to a\n",
    "value of the second type.\n",
    "\n",
    "It is not generally possible to coerce an arbitrary data object of each type\n",
    "into all other types. For example, there is no way to coerce an arbitrary\n",
    "complex number to a rational number, so there will be no such conversion\n",
    "implementation in the `coercions` dictionary.\n",
    "\n",
    "The `coerce` method returns two values with the same type tag. It inspects the\n",
    "type tags of its arguments, compares them to entries in the `coercions`\n",
    "dictionary, and converts one argument to the type of the other using\n",
    "`coerce_to`. Only one entry in `coercions` is necessary to complete our cross-\n",
    "type arithmetic system, replacing the four cross-type functions in the type-\n",
    "dispatching version of `Number`.\n",
    "\n",
    "\n",
    "​"
   ]
  },
  {
   "cell_type": "code",
   "execution_count": null,
   "id": "48911d73",
   "metadata": {},
   "outputs": [],
   "source": [
    ">>> class Number:\n",
    "        def __add__(self, other):\n",
    "            x, y = self.coerce(other)\n",
    "            return x.add(y)\n",
    "        def __mul__(self, other):\n",
    "            x, y = self.coerce(other)\n",
    "            return x.mul(y)\n",
    "        def coerce(self, other):\n",
    "            if self.type_tag == other.type_tag:\n",
    "                return self, other\n",
    "            elif (self.type_tag, other.type_tag) in self.coercions:\n",
    "                return (self.coerce_to(other.type_tag), other)\n",
    "            elif (other.type_tag, self.type_tag) in self.coercions:\n",
    "                return (self, other.coerce_to(self.type_tag))\n",
    "        def coerce_to(self, other_tag):\n",
    "            coercion_fn = self.coercions[(self.type_tag, other_tag)]\n",
    "            return coercion_fn(self)\n",
    "        coercions = {('rat', 'com'): rational_to_complex}\n"
   ]
  },
  {
   "cell_type": "markdown",
   "id": "c8b04b08",
   "metadata": {},
   "source": [
    "This coercion scheme has some advantages over the method of defining explicit\n",
    "cross-type operations. Although we still need to write coercion functions to\n",
    "relate the types, we need to write only one function for each pair of types\n",
    "rather than a different function for each set of types and each generic\n",
    "operation. What we are counting on here is the fact that the appropriate\n",
    "transformation between types depends only on the types themselves, not on the\n",
    "particular operation to be applied.\n",
    "\n",
    "Further advantages come from extending coercion. Some more sophisticated\n",
    "coercion schemes do not just try to coerce one type into another, but instead\n",
    "may try to coerce two different types each into a third common type. Consider\n",
    "a rhombus and a rectangle: neither is a special case of the other, but both\n",
    "can be viewed as quadrilaterals. Another extension to coercion is iterative\n",
    "coercion, in which one data type is coerced into another via intermediate\n",
    "types. Consider that an integer can be converted into a real number by first\n",
    "converting it into a rational number, then converting that rational number\n",
    "into a real number. Chaining coercion in this way can reduce the total number\n",
    "of coercion functions that are required by a program.\n",
    "\n",
    "Despite its advantages, coercion does have potential drawbacks. For one,\n",
    "coercion functions can lose information when they are applied. In our example,\n",
    "rational numbers are exact representations, but become approximations when\n",
    "they are converted to complex numbers.\n",
    "\n",
    "Some programming languages have automatic coercion systems built in. In fact,\n",
    "early versions of Python had a `__coerce__` special method on objects. In the\n",
    "end, the complexity of the built-in coercion system did not justify its use,\n",
    "and so it was removed. Instead, particular operators apply coercion to their\n",
    "arguments as needed.\n",
    "\n",
    "_Continue_ : [ 2.8 Efficiency ](../pages/28-efficiency.html)\n",
    "\n",
    "## 2.8 Efficiency\n",
    "\n",
    "Decisions of how to represent and process data are often influenced by the\n",
    "efficiency of alternatives. Efficiency refers to the computational resources\n",
    "used by a representation or process, such as how much time and memory are\n",
    "required to compute the result of a function or represent an object. These\n",
    "amounts can vary widely depending on the details of an implementation.\n",
    "\n",
    "### 2.8.1 Measuring Efficiency\n",
    "\n",
    "Measuring exactly how long a program requires to run or how much memory it\n",
    "consumes is challenging, because the results depend upon many details of how a\n",
    "computer is configured. A more reliable way to characterize the efficiency of\n",
    "a program is to measure how many times some event occurs, such as a function\n",
    "call.\n",
    "\n",
    "Let's return to our first tree-recursive function, the `fib` function for\n",
    "computing numbers in the Fibonacci sequence.\n",
    "\n",
    "\n",
    "​"
   ]
  },
  {
   "cell_type": "code",
   "execution_count": null,
   "id": "a3994f86",
   "metadata": {},
   "outputs": [],
   "source": [
    ">>> def fib(n):\n",
    "        if n == 0:\n",
    "            return 0\n",
    "        if n == 1:\n",
    "            return 1\n",
    "        return fib(n-2) + fib(n-1)\n"
   ]
  },
  {
   "cell_type": "markdown",
   "id": "5d1a6fe5",
   "metadata": {},
   "source": [
    "​    \n",
    "​"
   ]
  },
  {
   "cell_type": "code",
   "execution_count": null,
   "id": "20fdf48e",
   "metadata": {},
   "outputs": [],
   "source": [
    ">>> fib(5)\n",
    "5\n"
   ]
  },
  {
   "cell_type": "markdown",
   "id": "d1cedb52",
   "metadata": {},
   "source": [
    "Consider the pattern of computation that results from evaluating `fib(6)`,\n",
    "depicted below. To compute `fib(5)`, we compute `fib(3)` and `fib(4)`. To\n",
    "compute `fib(3)`, we compute `fib(1)` and `fib(2)`. In general, the evolved\n",
    "process looks like a tree. Each blue dot indicates a completed computation of\n",
    "a Fibonacci number in the traversal of this tree.\n",
    "\n",
    "![](http://www.composingprograms.com/img/fib.png)\n",
    "\n",
    "This function is instructive as a prototypical tree recursion, but it is a\n",
    "terribly inefficient way to compute Fibonacci numbers because it does so much\n",
    "redundant computation. The entire computation of `fib(3)` is duplicated.\n",
    "\n",
    "We can measure this inefficiency. The higher-order `count` function returns an\n",
    "equivalent function to its argument that also maintains a `call_count`\n",
    "attribute. In this way, we can inspect just how many times `fib` is called.\n",
    "\n",
    "\n",
    "​"
   ]
  },
  {
   "cell_type": "code",
   "execution_count": null,
   "id": "588e8a9f",
   "metadata": {},
   "outputs": [],
   "source": [
    ">>> def count(f):\n",
    "        def counted(*args):\n",
    "            counted.call_count += 1\n",
    "            return f(*args)\n",
    "        counted.call_count = 0\n",
    "        return counted\n"
   ]
  },
  {
   "cell_type": "markdown",
   "id": "a26f98c5",
   "metadata": {},
   "source": [
    "By counting the number of calls to `fib`, we see that the calls required grows\n",
    "faster than the Fibonacci numbers themselves. This rapid expansion of calls is\n",
    "characteristic of tree-recursive functions.\n",
    "\n",
    "\n",
    "​"
   ]
  },
  {
   "cell_type": "code",
   "execution_count": null,
   "id": "913e5213",
   "metadata": {},
   "outputs": [],
   "source": [
    ">>> fib = count(fib)\n",
    ">>> fib(19)\n",
    "4181\n",
    ">>> fib.call_count\n",
    "13529\n"
   ]
  },
  {
   "cell_type": "markdown",
   "id": "5ab39f4e",
   "metadata": {},
   "source": [
    "**Space.** To understand the space requirements of a function, we must specify\n",
    "generally how memory is used, preserved, and reclaimed in our environment\n",
    "model of computation. In evaluating an expression, the interpreter preserves\n",
    "all _active_ environments and all values and frames referenced by those\n",
    "environments. An environment is active if it provides the evaluation context\n",
    "for some expression being evaluated. An environment becomes inactive whenever\n",
    "the function call for which its first frame was created finally returns.\n",
    "\n",
    "For example, when evaluating `fib`, the interpreter proceeds to compute each\n",
    "value in the order shown previously, traversing the structure of the tree. To\n",
    "do so, it only needs to keep track of those nodes that are above the current\n",
    "node in the tree at any point in the computation. The memory used to evaluate\n",
    "the rest of the branches can be reclaimed because it cannot affect future\n",
    "computation. In general, the space required for tree-recursive functions will\n",
    "be proportional to the maximum depth of the tree.\n",
    "\n",
    "The diagram below depicts the environment created by evaluating `fib(3)`. In\n",
    "the process of evaluating the return expression for the initial application of\n",
    "`fib`, the expression `fib(n-2)` is evaluated, yielding a value of 0. Once\n",
    "this value is computed, the corresponding environment frame (grayed out) is no\n",
    "longer needed: it is not part of an active environment. Thus, a well-designed\n",
    "interpreter can reclaim the memory that was used to store this frame. On the\n",
    "other hand, if the interpreter is currently evaluating `fib(n-1)`, then the\n",
    "environment created by this application of `fib` (in which `n` is 2) is\n",
    "active. In turn, the environment originally created to apply `fib` to 3 is\n",
    "active because its return value has not yet been computed.\n",
    "\n",
    "def fib(n): if n == 0: return 0 if n == 1: return 1 return fib(n-2) + fib(n-1)\n",
    "result = fib(2)\n",
    "\n",
    "The higher-order `count_frames` function tracks `open_count`, the number of\n",
    "calls to the function `f` that have not yet returned. The `max_count`\n",
    "attribute is the maximum value ever attained by `open_count`, and it\n",
    "corresponds to the maximum number of frames that are ever simultaneously\n",
    "active during the course of computation.\n",
    "\n",
    "\n",
    "​"
   ]
  },
  {
   "cell_type": "code",
   "execution_count": null,
   "id": "e4e833ab",
   "metadata": {},
   "outputs": [],
   "source": [
    ">>> def count_frames(f):\n",
    "        def counted(*args):\n",
    "            counted.open_count += 1\n",
    "            counted.max_count = max(counted.max_count, counted.open_count)\n",
    "            result = f(*args)\n",
    "            counted.open_count -= 1\n",
    "            return result\n",
    "        counted.open_count = 0\n",
    "        counted.max_count = 0\n",
    "        return counted\n"
   ]
  },
  {
   "cell_type": "markdown",
   "id": "a4422c3e",
   "metadata": {},
   "source": [
    "​    \n",
    "​"
   ]
  },
  {
   "cell_type": "code",
   "execution_count": null,
   "id": "07422bf0",
   "metadata": {},
   "outputs": [],
   "source": [
    ">>> fib = count_frames(fib)\n",
    ">>> fib(19)\n",
    "4181\n",
    ">>> fib.open_count\n",
    "0\n",
    ">>> fib.max_count\n",
    "19\n",
    ">>> fib(24)\n",
    "46368\n",
    ">>> fib.max_count\n",
    "24\n"
   ]
  },
  {
   "cell_type": "markdown",
   "id": "22ed22fa",
   "metadata": {},
   "source": [
    "To summarize, the space requirement of the `fib` function, measured in active\n",
    "frames, is one less than the input, which tends to be small. The time\n",
    "requirement measured in total recursive calls is larger than the output, which\n",
    "tends to be huge.\n",
    "\n",
    "### 2.8.2 Memoization\n",
    "\n",
    "Tree-recursive computational processes can often be made more efficient\n",
    "through _memoization_ , a powerful technique for increasing the efficiency of\n",
    "recursive functions that repeat computation. A memoized function will store\n",
    "the return value for any arguments it has previously received. A second call\n",
    "to `fib(25)` would not re-compute the return value recursively, but instead\n",
    "return the existing one that has already been constructed.\n",
    "\n",
    "Memoization can be expressed naturally as a higher-order function, which can\n",
    "also be used as a decorator. The definition below creates a _cache_ of\n",
    "previously computed results, indexed by the arguments from which they were\n",
    "computed. The use of a dictionary requires that the argument to the memoized\n",
    "function be immutable.\n",
    "\n",
    "\n",
    "​"
   ]
  },
  {
   "cell_type": "code",
   "execution_count": null,
   "id": "f265c921",
   "metadata": {},
   "outputs": [],
   "source": [
    ">>> def memo(f):\n",
    "        cache = {}\n",
    "        def memoized(n):\n",
    "            if n not in cache:\n",
    "                cache[n] = f(n)\n",
    "            return cache[n]\n",
    "        return memoized\n"
   ]
  },
  {
   "cell_type": "markdown",
   "id": "edcf3300",
   "metadata": {},
   "source": [
    "If we apply `memo` to the recursive computation of Fibonacci numbers, a new\n",
    "pattern of computation evolves, depicted below.\n",
    "\n",
    "![](http://www.composingprograms.com/img/fib_memo.png)\n",
    "\n",
    "In this computation of `fib(5)`, the results for `fib(2)` and `fib(3)` are\n",
    "reused when computing `fib(4)` on the right branch of the tree. As a result,\n",
    "much of the tree-recursive computation is not required at all.\n",
    "\n",
    "Using `count`, we can see that the `fib` function is actually only called once\n",
    "for each unique input to `fib`.\n",
    "\n",
    "\n",
    "​"
   ]
  },
  {
   "cell_type": "code",
   "execution_count": null,
   "id": "4601a451",
   "metadata": {},
   "outputs": [],
   "source": [
    ">>> counted_fib = count(fib)\n",
    ">>> fib  = memo(counted_fib)\n",
    ">>> fib(19)\n",
    "4181\n",
    ">>> counted_fib.call_count\n",
    "20\n",
    ">>> fib(34)\n",
    "5702887\n",
    ">>> counted_fib.call_count\n",
    "35\n"
   ]
  },
  {
   "cell_type": "markdown",
   "id": "4566e112",
   "metadata": {},
   "source": [
    "### 2.8.3 Orders of Growth\n",
    "\n",
    "Processes can differ massively in the rates at which they consume the\n",
    "computational resources of space and time, as the previous examples\n",
    "illustrate. However, exactly determining just how much space or time will be\n",
    "used when calling a function is a very difficult task that depends upon many\n",
    "factors. A useful way to analyze a process is to categorize it along with a\n",
    "group of processes that all have similar requirements. A useful categorization\n",
    "is the _order of growth_ of a process, which expresses in simple terms how the\n",
    "resource requirements of a process grow as a function of the input.\n",
    "\n",
    "As an introduction to orders of growth, we will analyze the function\n",
    "`count_factors` below, which counts the number of integers that evenly divide\n",
    "an input `n`. The function attempts to divide `n` by every integer less than\n",
    "or equal to its square root. The implementation takes advantage of the fact\n",
    "that if $k$ divides $n$ and $k < \\sqrt{n}$ , then there is another factor $j =\n",
    "n / k$ such that $j > \\sqrt{n}$.\n",
    "\n",
    "from math import sqrt def count_factors(n): sqrt_n = sqrt(n) k, factors = 1, 0\n",
    "while k < sqrt_n: if n % k == 0: factors += 2 k += 1 if k * k == n: factors +=\n",
    "1 return factors result = count_factors(576)\n",
    "\n",
    "How much time is required to evaluate `count_factors`? The exact answer will\n",
    "vary on different machines, but we can make some useful general observations\n",
    "about the amount of computation involved. The total number of times this\n",
    "process executes the body of the `while` statement is the greatest integer\n",
    "less than $\\sqrt{n}$. The statements before and after this `while` statement\n",
    "are executed exactly once. So, the total number of statements executed is $w\n",
    "\\cdot \\sqrt{n} + v$, where $w$ is the number of statements in the `while` body\n",
    "and $v$ is the number of statements outside of the `while` statement. Although\n",
    "it isn't exact, this formula generally characterizes how much time will be\n",
    "required to evaluate `count_factors` as a function of the input `n`.\n",
    "\n",
    "A more exact description is difficult to obtain. The constants $w$ and $v$ are\n",
    "not constant at all, because the assignment statements to `factors` are\n",
    "sometimes executed but sometimes not. An order of growth analysis allows us to\n",
    "gloss over such details and instead focus on the general shape of growth. In\n",
    "particular, the order of growth for `count_factors` expresses in precise terms\n",
    "that the amount of time required to compute `count_factors(n)` scales at the\n",
    "rate $\\sqrt{n}$, within a margin of some constant factors.\n",
    "\n",
    "**Theta Notation.** Let $n$ be a parameter that measures the size of the input\n",
    "to some process, and let $R(n)$ be the amount of some resource that the\n",
    "process requires for an input of size $n$. In our previous examples we took\n",
    "$n$ to be the number for which a given function is to be computed, but there\n",
    "are other possibilities. For instance, if our goal is to compute an\n",
    "approximation to the square root of a number, we might take $n$ to be the\n",
    "number of digits of accuracy required.\n",
    "\n",
    "$R(n)$ might measure the amount of memory used, the number of elementary\n",
    "machine steps performed, and so on. In computers that do only a fixed number\n",
    "of steps at a time, the time required to evaluate an expression will be\n",
    "proportional to the number of elementary steps performed in the process of\n",
    "evaluation.\n",
    "\n",
    "We say that $R(n)$ has order of growth $\\Theta(f(n))$, written $R(n) =\n",
    "\\Theta(f(n))$ (pronounced \"theta of $f(n)$\"), if there are positive constants\n",
    "$k_1$ and $k_2$ independent of $n$ such that\n",
    "\n",
    "\\begin{equation*} k_1 \\cdot f(n) \\leq R(n) \\leq k_2 \\cdot f(n) \\end{equation*}\n",
    "\n",
    "for any value of $n$ larger than some minimum $m$. In other words, for large\n",
    "$n$, the value $R(n)$ is always sandwiched between two values that both scale\n",
    "with $f(n)$:\n",
    "\n",
    "  * A lower bound $k_1 \\cdot f(n)$ and\n",
    "  * An upper bound $k_2 \\cdot f(n)$\n",
    "\n",
    "We can apply this definition to show that the number of steps required to\n",
    "evaluate `count_factors(n)` grows as $\\Theta(\\sqrt{n})$ by inspecting the\n",
    "function body.\n",
    "\n",
    "First, we choose $k_1=1$ and $m=0$, so that the lower bound states that\n",
    "`count_factors(n)` requires at least $1 \\cdot \\sqrt{n}$ steps for any $n>0$.\n",
    "There are at least 4 lines executed outside of the `while` statement, each of\n",
    "which takes at least 1 step to execute. There are at least two lines executed\n",
    "within the `while` body, along with the while header itself. All of these\n",
    "require at least one step. The `while` body is evaluated at least $\\sqrt{n}-1$\n",
    "times. Composing these lower bounds, we see that the process requires at least\n",
    "$4 + 3 \\cdot (\\sqrt{n}-1)$ steps, which is always larger than $k_1 \\cdot\n",
    "\\sqrt{n}$.\n",
    "\n",
    "Second, we can verify the upper bound. We assume that any single line in the\n",
    "body of `count_factors` requires at most `p` steps. This assumption isn't true\n",
    "for every line of Python, but does hold in this case. Then, evaluating\n",
    "`count_factors(n)` can require at most $p \\cdot (5 + 4 \\sqrt{n})$, because\n",
    "there are 5 lines outside of the `while` statement and 4 within (including the\n",
    "header). This upper bound holds even if every `if` header evaluates to true.\n",
    "Finally, if we choose $k_2=5p$, then the steps required is always smaller than\n",
    "$k_2 \\cdot \\sqrt{n}$. Our argument is complete.\n",
    "\n",
    "### 2.8.4 Example: Exponentiation\n",
    "\n",
    "Consider the problem of computing the exponential of a given number. We would\n",
    "like a function that takes as arguments a base `b` and a positive integer\n",
    "exponent `n` and computes $b^n$. One way to do this is via the recursive\n",
    "definition\n",
    "\n",
    "\\begin{align*} b^n &= b \\cdot b^{n-1} \\\\\\ b^0 &= 1 \\end{align*}\n",
    "\n",
    "which translates readily into the recursive function\n",
    "\n",
    "\n",
    "​"
   ]
  },
  {
   "cell_type": "code",
   "execution_count": null,
   "id": "d4423420",
   "metadata": {},
   "outputs": [],
   "source": [
    ">>> def exp(b, n):\n",
    "        if n == 0:\n",
    "            return 1\n",
    "        return b * exp(b, n-1)\n"
   ]
  },
  {
   "cell_type": "markdown",
   "id": "af82c058",
   "metadata": {},
   "source": [
    "This is a linear recursive process that requires $\\Theta(n)$ steps and\n",
    "$\\Theta(n)$ space. Just as with factorial, we can readily formulate an\n",
    "equivalent linear iteration that requires a similar number of steps but\n",
    "constant space.\n",
    "\n",
    "\n",
    "​"
   ]
  },
  {
   "cell_type": "code",
   "execution_count": null,
   "id": "444c4377",
   "metadata": {},
   "outputs": [],
   "source": [
    ">>> def exp_iter(b, n):\n",
    "        result = 1\n",
    "        for _ in range(n):\n",
    "            result = result * b\n",
    "        return result\n"
   ]
  },
  {
   "cell_type": "markdown",
   "id": "05202913",
   "metadata": {},
   "source": [
    "We can compute exponentials in fewer steps by using successive squaring. For\n",
    "instance, rather than computing $b^8$ as\n",
    "\n",
    "\\begin{equation*} b \\cdot (b \\cdot (b \\cdot (b \\cdot (b \\cdot (b \\cdot (b\n",
    "\\cdot b)))))) \\end{equation*}\n",
    "\n",
    "we can compute it using three multiplications:\n",
    "\n",
    "\\begin{align*} b^2 &= b \\cdot b \\\\\\ b^4 &= b^2 \\cdot b^2 \\\\\\ b^8 &= b^4 \\cdot\n",
    "b^4 \\end{align*}\n",
    "\n",
    "This method works fine for exponents that are powers of 2. We can also take\n",
    "advantage of successive squaring in computing exponentials in general if we\n",
    "use the recursive rule\n",
    "\n",
    "\\begin{equation*} b^n = \\begin{cases} (b^{\\frac{1}{2} n})^2 & \\text{if $n$ is\n",
    "even} \\\\\\ b \\cdot b^{n-1} & \\text{if $n$ is odd} \\end{cases} \\end{equation*}\n",
    "\n",
    "We can express this method as a recursive function as well:\n",
    "\n",
    "\n",
    "​"
   ]
  },
  {
   "cell_type": "code",
   "execution_count": null,
   "id": "340031f0",
   "metadata": {},
   "outputs": [],
   "source": [
    ">>> def square(x):\n",
    "        return x*x\n"
   ]
  },
  {
   "cell_type": "markdown",
   "id": "6f6829eb",
   "metadata": {},
   "source": [
    "​    \n",
    "​"
   ]
  },
  {
   "cell_type": "code",
   "execution_count": null,
   "id": "578ddab7",
   "metadata": {},
   "outputs": [],
   "source": [
    ">>> def fast_exp(b, n):\n",
    "        if n == 0:\n",
    "            return 1\n",
    "        if n % 2 == 0:\n",
    "            return square(fast_exp(b, n//2))\n",
    "        else:\n",
    "            return b * fast_exp(b, n-1)\n"
   ]
  },
  {
   "cell_type": "markdown",
   "id": "8c009f22",
   "metadata": {},
   "source": [
    "​    \n",
    "​"
   ]
  },
  {
   "cell_type": "code",
   "execution_count": null,
   "id": "5e5ba340",
   "metadata": {},
   "outputs": [],
   "source": [
    ">>> fast_exp(2, 100)\n",
    "1267650600228229401496703205376\n"
   ]
  },
  {
   "cell_type": "markdown",
   "id": "d9b5c059",
   "metadata": {},
   "source": [
    "The process evolved by `fast_exp` grows logarithmically with `n` in both space\n",
    "and number of steps. To see this, observe that computing $b^{2n}$ using\n",
    "`fast_exp` requires only one more multiplication than computing $b^n$. The\n",
    "size of the exponent we can compute therefore doubles (approximately) with\n",
    "every new multiplication we are allowed. Thus, the number of multiplications\n",
    "required for an exponent of `n` grows about as fast as the logarithm of `n`\n",
    "base 2. The process has $\\Theta(\\log n)$ growth. The difference between\n",
    "$\\Theta(\\log n)$ growth and $\\Theta(n)$ growth becomes striking as $n$ becomes\n",
    "large. For example, `fast_exp` for `n` of 1000 requires only 14\n",
    "multiplications instead of 1000.\n",
    "\n",
    "### 2.8.5 Growth Categories\n",
    "\n",
    "Orders of growth are designed to simplify the analysis and comparison of\n",
    "computational processes. Many different processes can all have equivalent\n",
    "orders of growth, which indicates that they scale in similar ways. It is an\n",
    "essential skill of a computer scientist to know and recognize common orders of\n",
    "growth and identify processes of the same order.\n",
    "\n",
    "**Constants.** Constant terms do not affect the order of growth of a process.\n",
    "So, for instance, $\\Theta(n)$ and $\\Theta(500 \\cdot n)$ are the same order of\n",
    "growth. This property follows from the definition of theta notation, which\n",
    "allows us to choose arbitrary constants $k_1$ and $k_2$ (such as\n",
    "$\\frac{1}{500}$) for the upper and lower bounds. For simplicity, constants are\n",
    "always omitted from orders of growth.\n",
    "\n",
    "**Logarithms.** The base of a logarithm does not affect the order of growth of\n",
    "a process. For instance, $\\log_2 n$ and $\\log_{10} n$ are the same order of\n",
    "growth. Changing the base of a logarithm is equivalent to multiplying by a\n",
    "constant factor.\n",
    "\n",
    "**Nesting.** When an inner computational process is repeated for each step in\n",
    "an outer process, then the order of growth of the entire process is a product\n",
    "of the number of steps in the outer and inner processes.\n",
    "\n",
    "For example, the function `overlap` below computes the number of elements in\n",
    "list `a` that also appear in list `b`.\n",
    "\n",
    "\n",
    "​"
   ]
  },
  {
   "cell_type": "code",
   "execution_count": null,
   "id": "83c2689f",
   "metadata": {},
   "outputs": [],
   "source": [
    ">>> def overlap(a, b):\n",
    "        count = 0\n",
    "        for item in a:\n",
    "            if item in b:\n",
    "                count += 1\n",
    "        return count\n"
   ]
  },
  {
   "cell_type": "markdown",
   "id": "2f61e698",
   "metadata": {},
   "source": [
    "​    \n",
    "​"
   ]
  },
  {
   "cell_type": "code",
   "execution_count": null,
   "id": "2d39bc37",
   "metadata": {},
   "outputs": [],
   "source": [
    ">>> overlap([1, 3, 2, 2, 5, 1], [5, 4, 2])\n",
    "3\n"
   ]
  },
  {
   "cell_type": "markdown",
   "id": "002163a1",
   "metadata": {},
   "source": [
    "The `in` operator for lists requires $\\Theta(n)$ time, where $n$ is the length\n",
    "of the list `b`. It is applied $\\Theta(m)$ times, where $m$ is the length of\n",
    "the list `a`. The `item in b` expression is the inner process, and the `for\n",
    "item in a` loop is the outer process. The total order of growth for this\n",
    "function is $\\Theta(m \\cdot n)$.\n",
    "\n",
    "**Lower-order terms.** As the input to a process grows, the fastest growing\n",
    "part of a computation dominates the total resources used. Theta notation\n",
    "captures this intuition. In a sum, all but the fastest growing term can be\n",
    "dropped without changing the order of growth.\n",
    "\n",
    "For instance, consider the `one_more` function that returns how many elements\n",
    "of a list `a` are one more than some other element of `a`. That is, in the\n",
    "list `[3, 14, 15, 9]`, the element 15 is one more than 14, so `one_more` will\n",
    "return 1.\n",
    "\n",
    "\n",
    "​"
   ]
  },
  {
   "cell_type": "code",
   "execution_count": null,
   "id": "d6bd661f",
   "metadata": {},
   "outputs": [],
   "source": [
    ">>> def one_more(a):\n",
    "        return overlap([x-1 for x in a], a)\n"
   ]
  },
  {
   "cell_type": "markdown",
   "id": "64bf55f9",
   "metadata": {},
   "source": [
    "​    \n",
    "​"
   ]
  },
  {
   "cell_type": "code",
   "execution_count": null,
   "id": "19fd80e9",
   "metadata": {},
   "outputs": [],
   "source": [
    ">>> one_more([3, 14, 15, 9])\n",
    "1\n"
   ]
  },
  {
   "cell_type": "markdown",
   "id": "11fd4df8",
   "metadata": {},
   "source": [
    "There are two parts to this computation: the list comprehension and the call\n",
    "to `overlap`. For a list `a` of length $n$, list comprehension requires\n",
    "$\\Theta(n)$ steps, while the call to `overlap` requires $\\Theta(n^2)$ steps.\n",
    "The sum of steps is $\\Theta(n + n^2)$, but this is not the simplest way of\n",
    "expressing the order of growth.\n",
    "\n",
    "$\\Theta(n^2 + k \\cdot n)$ and $\\Theta(n^2)$ are equivalent for any constant\n",
    "$k$ because the $n^2$ term will eventually dominate the total for any $k$. The\n",
    "fact that bounds must hold only for $n$ greater than some minimum $m$\n",
    "establishes this equivalence. For simplicity, lower-order terms are always\n",
    "omitted from orders of growth, and so we will never see a sum within a theta\n",
    "expression.\n",
    "\n",
    "**Common categories.** Given these equivalence properties, a small set of\n",
    "common categories emerge to describe most computational processes. The most\n",
    "common are listed below from slowest to fastest growth, along with\n",
    "descriptions of the growth as the input increases. Examples for each category\n",
    "follow.\n",
    "\n",
    "| **Category** | **Theta Notation** | **Growth Description**                  | **Example** |\n",
    "| ------------ | ------------------ | --------------------------------------- | ----------- |\n",
    "| Constant     | $\\Theta(1)$        | Growth is independent of the input      | `abs`       |\n",
    "| Logarithmic  | $\\Theta(\\log{n})$  | Multiplying input increments resources  | `fast_exp`  |\n",
    "| Linear       | $\\Theta(n)$        | Incrementing input increments resources | `exp`       |\n",
    "| Quadratic    | $\\Theta(n^2)$      | Incrementing input adds n resources     | `one_more`  |\n",
    "| Exponential  | $\\Theta(b^n)$      | Incrementing input multiplies resources | `fib`       |\n",
    "\n",
    "Other categories exist, such as the $\\Theta(\\sqrt{n})$ growth of\n",
    "`count_factors`. However, these categories are particularly common.\n",
    "\n",
    "Exponential growth describes many different orders of growth, because changing\n",
    "the base $b$ does affect the order of growth. For instance, the number of\n",
    "steps in our tree-recursive Fibonacci computation `fib` grows exponentially in\n",
    "its input $n$. In particular, one can show that the nth Fibonacci number is\n",
    "the closest integer to\n",
    "\n",
    "\\begin{equation*} \\frac{\\phi^{n-2}}{\\sqrt{5}} \\end{equation*}\n",
    "\n",
    "where $\\phi$ is the golden ratio:\n",
    "\n",
    "\\begin{equation*} \\phi = \\frac{1 + \\sqrt{5}}{2} \\approx 1.6180 \\end{equation*}\n",
    "\n",
    "We also stated that the number of steps scales with the resulting value, and\n",
    "so the tree-recursive process requires $\\Theta(\\phi^n)$ steps, a function that\n",
    "grows exponentially with $n$.\n",
    "\n",
    "_Continue_ : [ 2.9 Recursive Objects ](../pages/29-recursive-objects.html)\n",
    "\n",
    "## 2.9 Recursive Objects\n",
    "\n",
    "Objects can have other objects as attribute values. When an object of some\n",
    "class has an attribute value of that same class, it is a recursive object.\n",
    "\n",
    "### 2.9.1 Linked List Class\n",
    "\n",
    "A linked list, introduced earlier in this chapter, is composed of a first\n",
    "element and the rest of the list. The rest of a linked list is itself a linked\n",
    "list  a recursive definition. The empty list is a special case of a linked\n",
    "list that has no first element or rest. A linked list is a sequence: it has a\n",
    "finite length and supports element selection by index.\n",
    "\n",
    "We can now implement a class with the same behavior. In this version, we will\n",
    "define its behavior using special method names that allow our class to work\n",
    "with the built-in `len` function and element selection operator (square\n",
    "brackets or `operator.getitem`) in Python. These built-in functions invoke\n",
    "special method names of a class: length is computed by `__len__` and element\n",
    "selection is computed by `__getitem__`. The empty linked list is represented\n",
    "by an empty tuple, which has length 0 and no elements.\n",
    "\n",
    "\n",
    "​"
   ]
  },
  {
   "cell_type": "code",
   "execution_count": null,
   "id": "9939ffa4",
   "metadata": {},
   "outputs": [],
   "source": [
    ">>> class Link:\n",
    "        \"\"\"A linked list with a first element and the rest.\"\"\"\n",
    "        empty = ()\n",
    "        def __init__(self, first, rest=empty):\n",
    "            assert rest is Link.empty or isinstance(rest, Link)\n",
    "            self.first = first\n",
    "            self.rest = rest\n",
    "        def __getitem__(self, i):\n",
    "            if i == 0:\n",
    "                return self.first\n",
    "            else:\n",
    "                return self.rest[i-1]\n",
    "        def __len__(self):\n",
    "            return 1 + len(self.rest)\n"
   ]
  },
  {
   "cell_type": "markdown",
   "id": "1fcc4dde",
   "metadata": {},
   "source": [
    "​    \n",
    "​"
   ]
  },
  {
   "cell_type": "code",
   "execution_count": null,
   "id": "485210d0",
   "metadata": {},
   "outputs": [],
   "source": [
    ">>> s = Link(3, Link(4, Link(5)))\n",
    ">>> len(s)\n",
    "3\n",
    ">>> s[1]\n",
    "4\n"
   ]
  },
  {
   "cell_type": "markdown",
   "id": "5b646083",
   "metadata": {},
   "source": [
    "The definitions of `__len__` and `__getitem__` are in fact recursive. The\n",
    "built-in Python function `len` invokes a method called `__len__` when applied\n",
    "to a user-defined object argument. Likewise, the element selection operator\n",
    "invokes a method called `__getitem__`. Thus, bodies of these two methods will\n",
    "call themselves indirectly. For `__len__`, the base case is reached when\n",
    "`self.rest` evaluates to the empty tuple, `Link.empty`, which has a length of\n",
    "0.\n",
    "\n",
    "The built-in `isinstance` function returns whether the first argument has a\n",
    "type that is or inherits from the second argument. `isinstance(rest, Link)` is\n",
    "true if `rest` is a `Link` instance or an instance of some sub-class of\n",
    "`Link`.\n",
    "\n",
    "Our implementation is complete, but an instance of the `Link` class is\n",
    "currently difficult to inspect. To help with debugging, we can also define a\n",
    "function to convert a `Link` to a string expression.\n",
    "\n",
    "\n",
    "​"
   ]
  },
  {
   "cell_type": "code",
   "execution_count": null,
   "id": "78dcca49",
   "metadata": {},
   "outputs": [],
   "source": [
    ">>> def link_expression(s):\n",
    "        \"\"\"Return a string that would evaluate to s.\"\"\"\n",
    "        if s.rest is Link.empty:\n",
    "            rest = ''\n",
    "        else:\n",
    "            rest = ', ' + link_expression(s.rest)\n",
    "        return 'Link({0}{1})'.format(s.first, rest)\n"
   ]
  },
  {
   "cell_type": "markdown",
   "id": "8751c084",
   "metadata": {},
   "source": [
    "​    \n",
    "​"
   ]
  },
  {
   "cell_type": "code",
   "execution_count": null,
   "id": "c778adf9",
   "metadata": {},
   "outputs": [],
   "source": [
    ">>> link_expression(s)\n",
    "'Link(3, Link(4, Link(5)))'\n"
   ]
  },
  {
   "cell_type": "markdown",
   "id": "ce852eff",
   "metadata": {},
   "source": [
    "This way of displaying an `Link` is so convenient that we would like to use it\n",
    "whenever an `Link` instance is displayed. We can ensure this behavior by\n",
    "setting the `link_expression` function as the value of the special class\n",
    "attribute `__repr__`. Python displays instances of user-defined classes by\n",
    "invoking their `__repr__` method.\n",
    "\n",
    "\n",
    "​"
   ]
  },
  {
   "cell_type": "code",
   "execution_count": null,
   "id": "fd9512dc",
   "metadata": {},
   "outputs": [],
   "source": [
    ">>> Link.__repr__ = link_expression\n",
    ">>> s\n",
    "Link(3, Link(4, Link(5)))\n"
   ]
  },
  {
   "cell_type": "markdown",
   "id": "7cae44e7",
   "metadata": {},
   "source": [
    "The `Link` class has the closure property. Just as an element of a list can\n",
    "itself be a list, a `Link` can contain a `Link` as its `first` element.\n",
    "\n",
    "\n",
    "​"
   ]
  },
  {
   "cell_type": "code",
   "execution_count": null,
   "id": "34b6bda6",
   "metadata": {},
   "outputs": [],
   "source": [
    ">>> s_first = Link(s, Link(6))\n",
    ">>> s_first\n",
    "Link(Link(3, Link(4, Link(5))), Link(6))\n"
   ]
  },
  {
   "cell_type": "markdown",
   "id": "5c58a36d",
   "metadata": {},
   "source": [
    "The `s_first` linked list has only two elements, but its first element is a\n",
    "linked list with three elements.\n",
    "\n",
    "\n",
    "​"
   ]
  },
  {
   "cell_type": "code",
   "execution_count": null,
   "id": "6f066dcd",
   "metadata": {},
   "outputs": [],
   "source": [
    ">>> len(s_first)\n",
    "2\n",
    ">>> len(s_first[0])\n",
    "3\n",
    ">>> s_first[0][2]\n",
    "5\n"
   ]
  },
  {
   "cell_type": "markdown",
   "id": "f58b098c",
   "metadata": {},
   "source": [
    "Recursive functions are particularly well-suited to manipulate linked lists.\n",
    "For instance, the recursive `extend_link` function builds a linked list\n",
    "containing the elements of one `Link` instance `s` followed by the elements of\n",
    "another `Link` instance `t`. Installing this function as the `__add__` method\n",
    "of the `Link` class emulates the addition behavior of a built-in list.\n",
    "\n",
    "\n",
    "​"
   ]
  },
  {
   "cell_type": "code",
   "execution_count": null,
   "id": "a5dc6d10",
   "metadata": {},
   "outputs": [],
   "source": [
    ">>> def extend_link(s, t):\n",
    "        if s is Link.empty:\n",
    "            return t\n",
    "        else:\n",
    "            return Link(s.first, extend_link(s.rest, t))\n",
    ">>> extend_link(s, s)\n",
    "Link(3, Link(4, Link(5, Link(3, Link(4, Link(5))))))\n",
    ">>> Link.__add__ = extend_link\n",
    ">>> s + s\n",
    "Link(3, Link(4, Link(5, Link(3, Link(4, Link(5))))))\n"
   ]
  },
  {
   "cell_type": "markdown",
   "id": "9bd4c1f1",
   "metadata": {},
   "source": [
    "Rather than list comprehensions, one linked list can be generated from another\n",
    "using two higher-order functions: `map_link` and `filter_link`. The `map_link`\n",
    "function defined below applies a function `f` to each element of a linked list\n",
    "`s` and constructs a linked list containing the results.\n",
    "\n",
    "\n",
    "​"
   ]
  },
  {
   "cell_type": "code",
   "execution_count": null,
   "id": "9e99bd81",
   "metadata": {},
   "outputs": [],
   "source": [
    ">>> def map_link(f, s):\n",
    "        if s is Link.empty:\n",
    "            return s\n",
    "        else:\n",
    "            return Link(f(s.first), map_link(f, s.rest))\n",
    ">>> map_link(square, s)\n",
    "Link(9, Link(16, Link(25)))\n"
   ]
  },
  {
   "cell_type": "markdown",
   "id": "f96d2221",
   "metadata": {},
   "source": [
    "The `filter_link` function returns a linked list containing all elements of a\n",
    "linked list `s` for which `f` returns a true value. The combination of\n",
    "`map_link` and `filter_link` can express the same logic as a list\n",
    "comprehension.\n",
    "\n",
    "\n",
    "​"
   ]
  },
  {
   "cell_type": "code",
   "execution_count": null,
   "id": "9a645b7e",
   "metadata": {},
   "outputs": [],
   "source": [
    ">>> def filter_link(f, s):\n",
    "        if s is Link.empty:\n",
    "            return s\n",
    "        else:\n",
    "            filtered = filter_link(f, s.rest)\n",
    "            if f(s.first):\n",
    "                return Link(s.first, filtered)\n",
    "            else:\n",
    "                return filtered\n",
    ">>> odd = lambda x: x % 2 == 1\n",
    ">>> map_link(square, filter_link(odd, s))\n",
    "Link(9, Link(25))\n",
    ">>> [square(x) for x in [3, 4, 5] if odd(x)]\n",
    "[9, 25]\n"
   ]
  },
  {
   "cell_type": "markdown",
   "id": "b01c1abb",
   "metadata": {},
   "source": [
    "The `join_link` function recursively constructs a string that contains the\n",
    "elements of a linked list seperated by some `separator` string. The result is\n",
    "much more compact than the output of `link_expression`.\n",
    "\n",
    "\n",
    "​"
   ]
  },
  {
   "cell_type": "code",
   "execution_count": null,
   "id": "3a94c55d",
   "metadata": {},
   "outputs": [],
   "source": [
    ">>> def join_link(s, separator):\n",
    "        if s is Link.empty:\n",
    "            return \"\"\n",
    "        elif s.rest is Link.empty:\n",
    "            return str(s.first)\n",
    "        else:\n",
    "            return str(s.first) + separator + join_link(s.rest, separator)\n",
    ">>> join_link(s, \", \")\n",
    "'3, 4, 5'\n"
   ]
  },
  {
   "cell_type": "markdown",
   "id": "4875d7d9",
   "metadata": {},
   "source": [
    "**Recursive Construction.** Linked lists are particularly useful when\n",
    "constructing sequences incrementally, a situation that arises often in\n",
    "recursive computations.\n",
    "\n",
    "The `count_partitions` function from Chapter 1 counted the number of ways to\n",
    "partition an integer `n` using parts up to size `m` via a tree-recursive\n",
    "process. With sequences, we can also enumerate these partitions explicitly\n",
    "using a similar process.\n",
    "\n",
    "We follow the same recursive analysis of the problem as we did while counting:\n",
    "partitioning `n` using integers up to `m` involves either"
   ]
  },
  {
   "cell_type": "code",
   "execution_count": null,
   "id": "856d97e2",
   "metadata": {},
   "outputs": [],
   "source": [
    "1. partitioning `n-m` using integers up to `m`, or\n",
    "2. partitioning `n` using integers up to `m-1`."
   ]
  },
  {
   "cell_type": "markdown",
   "id": "b4b4a15e",
   "metadata": {},
   "source": [
    "For base cases, we find that 0 has an empty partition, while partitioning a\n",
    "negative integer or using parts smaller than 1 is impossible.\n",
    "\n",
    "\n",
    "​"
   ]
  },
  {
   "cell_type": "code",
   "execution_count": null,
   "id": "1a114a58",
   "metadata": {},
   "outputs": [],
   "source": [
    ">>> def partitions(n, m):\n",
    "        \"\"\"Return a linked list of partitions of n using parts of up to m.\n",
    "        Each partition is represented as a linked list.\n",
    "        \"\"\"\n",
    "        if n == 0:\n",
    "            return Link(Link.empty) # A list containing the empty partition\n",
    "        elif n < 0 or m == 0:\n",
    "            return Link.empty\n",
    "        else:\n",
    "            using_m = partitions(n-m, m)\n",
    "            with_m = map_link(lambda s: Link(m, s), using_m)\n",
    "            without_m = partitions(n, m-1)\n",
    "            return with_m + without_m\n"
   ]
  },
  {
   "cell_type": "markdown",
   "id": "4f47348e",
   "metadata": {},
   "source": [
    "In the recursive case, we construct two sublists of partitions. The first uses\n",
    "`m`, and so we add `m` to each element of the result `using_m` to form\n",
    "`with_m`.\n",
    "\n",
    "The result of `partitions` is highly nested: a linked list of linked lists.\n",
    "Using `join_link` with appropriate separators, we can display the partitions\n",
    "in a human-readable manner.\n",
    "\n",
    "\n",
    "​"
   ]
  },
  {
   "cell_type": "code",
   "execution_count": null,
   "id": "94f43e65",
   "metadata": {},
   "outputs": [],
   "source": [
    ">>> def print_partitions(n, m):\n",
    "        lists = partitions(n, m)\n",
    "        strings = map_link(lambda s: join_link(s, \" + \"), lists)\n",
    "        print(join_link(strings, \"\\n\"))\n"
   ]
  },
  {
   "cell_type": "markdown",
   "id": "330a16ef",
   "metadata": {},
   "source": [
    "​    \n",
    "​"
   ]
  },
  {
   "cell_type": "code",
   "execution_count": null,
   "id": "f26db62e",
   "metadata": {},
   "outputs": [],
   "source": [
    ">>> print_partitions(6, 4)\n",
    "4 + 2\n",
    "4 + 1 + 1\n",
    "3 + 3\n",
    "3 + 2 + 1\n",
    "3 + 1 + 1 + 1\n",
    "2 + 2 + 2\n",
    "2 + 2 + 1 + 1\n",
    "2 + 1 + 1 + 1 + 1\n",
    "1 + 1 + 1 + 1 + 1 + 1\n"
   ]
  },
  {
   "cell_type": "markdown",
   "id": "b1f1525e",
   "metadata": {},
   "source": [
    "### 2.9.2 Tree Class\n",
    "\n",
    "Trees can also be represented by instances of user-defined classes, rather\n",
    "than nested instances of built-in sequence types. A tree is any data structure\n",
    "that has as an attribute a sequence of branches that are also trees.\n",
    "\n",
    "**Internal values.** Previously, we defined trees in such a way that all\n",
    "values appeared at the leaves of the tree. It is also common to define trees\n",
    "that have internal values at the roots of each subtree. An internal value is\n",
    "called an `label` in the tree. The `Tree` class below represents such trees,\n",
    "in which each tree has a sequence of branches that are also trees.\n",
    "\n",
    "\n",
    "​"
   ]
  },
  {
   "cell_type": "code",
   "execution_count": null,
   "id": "3e81cad8",
   "metadata": {},
   "outputs": [],
   "source": [
    ">>> class Tree:\n",
    "        def __init__(self, label, branches=()):\n",
    "            self.label = label\n",
    "            for branch in branches:\n",
    "                assert isinstance(branch, Tree)\n",
    "            self.branches = branches\n",
    "        def __repr__(self):\n",
    "            if self.branches:\n",
    "                return 'Tree({0}, {1})'.format(self.label, repr(self.branches))\n",
    "            else:\n",
    "                return 'Tree({0})'.format(repr(self.label))\n",
    "        def is_leaf(self):\n",
    "            return not self.branches\n"
   ]
  },
  {
   "cell_type": "markdown",
   "id": "f2f4e23a",
   "metadata": {},
   "source": [
    "The `Tree` class can represent, for instance, the values computed in an\n",
    "expression tree for the recursive implementation of `fib`, the function for\n",
    "computing Fibonacci numbers. The function `fib_tree(n)` below returns a `Tree`\n",
    "that has the nth Fibonacci number as its `label` and a trace of all previously\n",
    "computed Fibonacci numbers within its branches.\n",
    "\n",
    "\n",
    "​"
   ]
  },
  {
   "cell_type": "code",
   "execution_count": null,
   "id": "3f06509e",
   "metadata": {},
   "outputs": [],
   "source": [
    ">>> def fib_tree(n):\n",
    "        if n == 1:\n",
    "            return Tree(0)\n",
    "        elif n == 2:\n",
    "            return Tree(1)\n",
    "        else:\n",
    "            left = fib_tree(n-2)\n",
    "            right = fib_tree(n-1)\n",
    "            return Tree(left.label + right.label, (left, right))\n"
   ]
  },
  {
   "cell_type": "markdown",
   "id": "29204186",
   "metadata": {},
   "source": [
    "​    \n",
    "​"
   ]
  },
  {
   "cell_type": "code",
   "execution_count": null,
   "id": "a2d6cae0",
   "metadata": {},
   "outputs": [],
   "source": [
    ">>> fib_tree(5)\n",
    "Tree(3, (Tree(1, (Tree(0), Tree(1))), Tree(2, (Tree(1), Tree(1, (Tree(0), Tree(1)))))))\n"
   ]
  },
  {
   "cell_type": "markdown",
   "id": "9fd90cdf",
   "metadata": {},
   "source": [
    "Trees represented in this way are also processed using recursive functions.\n",
    "For example, we can sum the labels of a tree. As a base case, we return that\n",
    "an empty branch has no labels.\n",
    "\n",
    "\n",
    "​"
   ]
  },
  {
   "cell_type": "code",
   "execution_count": null,
   "id": "3af9d637",
   "metadata": {},
   "outputs": [],
   "source": [
    ">>> def sum_labels(t):\n",
    "        \"\"\"Sum the labels of a Tree instance, which may be None.\"\"\"\n",
    "        return t.label + sum([sum_labels(b) for b in t.branches])\n"
   ]
  },
  {
   "cell_type": "markdown",
   "id": "4b3e33d2",
   "metadata": {},
   "source": [
    "​    \n",
    "​"
   ]
  },
  {
   "cell_type": "code",
   "execution_count": null,
   "id": "00ad9124",
   "metadata": {},
   "outputs": [],
   "source": [
    ">>> sum_labels(fib_tree(5))\n",
    "10\n"
   ]
  },
  {
   "cell_type": "markdown",
   "id": "599a7ae7",
   "metadata": {},
   "source": [
    "We can also apply `memo` to construct a Fibonacci tree, where repeated\n",
    "subtrees are only created once by the memoized version of `fib_tree`, but are\n",
    "used multiple times as branches of different larger trees.\n",
    "\n",
    "\n",
    "​"
   ]
  },
  {
   "cell_type": "code",
   "execution_count": null,
   "id": "b1f1439d",
   "metadata": {},
   "outputs": [],
   "source": [
    ">>> fib_tree = memo(fib_tree)\n",
    ">>> big_fib_tree = fib_tree(35)\n",
    ">>> big_fib_tree.label\n",
    "5702887\n",
    ">>> big_fib_tree.branches[0] is big_fib_tree.branches[1].branches[1]\n",
    "True\n",
    ">>> sum_labels = memo(sum_labels)\n",
    ">>> sum_labels(big_fib_tree)\n",
    "142587180\n"
   ]
  },
  {
   "cell_type": "markdown",
   "id": "6d794822",
   "metadata": {},
   "source": [
    "The amount of computation time and memory saved by memoization in these cases\n",
    "is substantial. Instead of creating 18,454,929 different instances of the\n",
    "`Tree` class, we now create only 35.\n",
    "\n",
    "### 2.9.3 Sets\n",
    "\n",
    "In addition to the list, tuple, and dictionary, Python has a fourth built-in\n",
    "container type called a `set`. Set literals follow the mathematical notation\n",
    "of elements enclosed in braces. Duplicate elements are removed upon\n",
    "construction. Sets are unordered collections, and so the printed ordering may\n",
    "differ from the element ordering in the set literal.\n",
    "\n",
    "\n",
    "​"
   ]
  },
  {
   "cell_type": "code",
   "execution_count": null,
   "id": "0e2ae2c6",
   "metadata": {},
   "outputs": [],
   "source": [
    ">>> s = {3, 2, 1, 4, 4}\n",
    ">>> s\n",
    "{1, 2, 3, 4}\n"
   ]
  },
  {
   "cell_type": "markdown",
   "id": "26492375",
   "metadata": {},
   "source": [
    "Python sets support a variety of operations, including membership tests,\n",
    "length computation, and the standard set operations of union and intersection\n",
    "\n",
    "\n",
    "​"
   ]
  },
  {
   "cell_type": "code",
   "execution_count": null,
   "id": "55e5bb1c",
   "metadata": {},
   "outputs": [],
   "source": [
    ">>> 3 in s\n",
    "True\n",
    ">>> len(s)\n",
    "4\n",
    ">>> s.union({1, 5})\n",
    "{1, 2, 3, 4, 5}\n",
    ">>> s.intersection({6, 5, 4, 3})\n",
    "{3, 4}\n"
   ]
  },
  {
   "cell_type": "markdown",
   "id": "753fd450",
   "metadata": {},
   "source": [
    "In addition to `union` and `intersection`, Python sets support several other\n",
    "methods. The predicates `isdisjoint`, `issubset`, and `issuperset` provide set\n",
    "comparison. Sets are mutable, and can be changed one element at a time using\n",
    "`add`, `remove`, `discard`, and `pop`. Additional methods provide multi-\n",
    "element mutations, such as `clear` and `update`. The Python [documentation for\n",
    "sets](http://docs.python.org/py3k/library/stdtypes.html#set) should be\n",
    "sufficiently intelligible at this point of the course to fill in the details.\n",
    "\n",
    "**Implementing sets.** Abstractly, a set is a collection of distinct objects\n",
    "that supports membership testing, union, intersection, and adjunction.\n",
    "Adjoining an element and a set returns a new set that contains all of the\n",
    "original set's elements along with the new element, if it is distinct. Union\n",
    "and intersection return the set of elements that appear in either or both\n",
    "sets, respectively. As with any data abstraction, we are free to implement any\n",
    "functions over any representation of sets that provides this collection of\n",
    "behaviors.\n",
    "\n",
    "In the remainder of this section, we consider three different methods of\n",
    "implementing sets that vary in their representation. We will characterize the\n",
    "efficiency of these different representations by analyzing the order of growth\n",
    "of set operations. We will use our `Link` and `Tree` classes from earlier in\n",
    "this section, which allow for simple and elegant recursive solutions for\n",
    "elementary set operations.\n",
    "\n",
    "**Sets as unordered sequences.** One way to represent a set is as a sequence\n",
    "in which no element appears more than once. The empty set is represented by\n",
    "the empty sequence. Membership testing walks recursively through the list.\n",
    "\n",
    "\n",
    "​"
   ]
  },
  {
   "cell_type": "code",
   "execution_count": null,
   "id": "c8370a32",
   "metadata": {},
   "outputs": [],
   "source": [
    ">>> def empty(s):\n",
    "        return s is Link.empty\n"
   ]
  },
  {
   "cell_type": "markdown",
   "id": "5626442e",
   "metadata": {},
   "source": [
    "​    \n",
    "​"
   ]
  },
  {
   "cell_type": "code",
   "execution_count": null,
   "id": "17b8d0ff",
   "metadata": {},
   "outputs": [],
   "source": [
    ">>> def set_contains(s, v):\n",
    "        \"\"\"Return True if and only if set s contains v.\"\"\"\n",
    "        if empty(s):\n",
    "            return False\n",
    "        elif s.first == v:\n",
    "            return True\n",
    "        else:\n",
    "            return set_contains(s.rest, v)\n"
   ]
  },
  {
   "cell_type": "markdown",
   "id": "d985f606",
   "metadata": {},
   "source": [
    "​    \n",
    "​"
   ]
  },
  {
   "cell_type": "code",
   "execution_count": null,
   "id": "d5500d7b",
   "metadata": {},
   "outputs": [],
   "source": [
    ">>> s = Link(4, Link(1, Link(5)))\n",
    ">>> set_contains(s, 2)\n",
    "False\n",
    ">>> set_contains(s, 5)\n",
    "True\n"
   ]
  },
  {
   "cell_type": "markdown",
   "id": "17e83932",
   "metadata": {},
   "source": [
    "This implementation of `set_contains` requires $\\Theta(n)$ time on average to\n",
    "test membership of an element, where $n$ is the size of the set `s`. Using\n",
    "this linear-time function for membership, we can adjoin an element to a set,\n",
    "also in linear time.\n",
    "\n",
    "\n",
    "​"
   ]
  },
  {
   "cell_type": "code",
   "execution_count": null,
   "id": "7fdba1e4",
   "metadata": {},
   "outputs": [],
   "source": [
    ">>> def adjoin_set(s, v):\n",
    "        \"\"\"Return a set containing all elements of s and element v.\"\"\"\n",
    "        if set_contains(s, v):\n",
    "            return s\n",
    "        else:\n",
    "            return Link(v, s)\n"
   ]
  },
  {
   "cell_type": "markdown",
   "id": "0db85202",
   "metadata": {},
   "source": [
    "​    \n",
    "​"
   ]
  },
  {
   "cell_type": "code",
   "execution_count": null,
   "id": "4a1f65ca",
   "metadata": {},
   "outputs": [],
   "source": [
    ">>> t = adjoin_set(s, 2)\n",
    ">>> t\n",
    "Link(2, Link(4, Link(1, Link(5))))\n"
   ]
  },
  {
   "cell_type": "markdown",
   "id": "dba76de1",
   "metadata": {},
   "source": [
    "In designing a representation, one of the issues with which we should be\n",
    "concerned is efficiency. Intersecting two sets `set1` and `set2` also requires\n",
    "membership testing, but this time each element of `set1` must be tested for\n",
    "membership in `set2`, leading to a quadratic order of growth in the number of\n",
    "steps, $\\Theta(n^2)$, for two sets of size $n$.\n",
    "\n",
    "\n",
    "​"
   ]
  },
  {
   "cell_type": "code",
   "execution_count": null,
   "id": "0c811a22",
   "metadata": {},
   "outputs": [],
   "source": [
    ">>> def intersect_set(set1, set2):\n",
    "        \"\"\"Return a set containing all elements common to set1 and set2.\"\"\"\n",
    "        return keep_if_link(set1, lambda v: set_contains(set2, v))\n"
   ]
  },
  {
   "cell_type": "markdown",
   "id": "172e7bf8",
   "metadata": {},
   "source": [
    "​    \n",
    "​"
   ]
  },
  {
   "cell_type": "code",
   "execution_count": null,
   "id": "c57ea1d9",
   "metadata": {},
   "outputs": [],
   "source": [
    ">>> intersect_set(t, apply_to_all_link(s, square))\n",
    "Link(4, Link(1))\n"
   ]
  },
  {
   "cell_type": "markdown",
   "id": "c2597224",
   "metadata": {},
   "source": [
    "When computing the union of two sets, we must be careful not to include any\n",
    "element twice. The `union_set` function also requires a linear number of\n",
    "membership tests, creating a process that also includes $\\Theta(n^2)$ steps.\n",
    "\n",
    "\n",
    "​"
   ]
  },
  {
   "cell_type": "code",
   "execution_count": null,
   "id": "9ae1de07",
   "metadata": {},
   "outputs": [],
   "source": [
    ">>> def union_set(set1, set2):\n",
    "        \"\"\"Return a set containing all elements either in set1 or set2.\"\"\"\n",
    "        set1_not_set2 = keep_if_link(set1, lambda v: not set_contains(set2, v))\n",
    "        return extend_link(set1_not_set2, set2)\n"
   ]
  },
  {
   "cell_type": "markdown",
   "id": "d91e53e4",
   "metadata": {},
   "source": [
    "​    \n",
    "​"
   ]
  },
  {
   "cell_type": "code",
   "execution_count": null,
   "id": "da1703e9",
   "metadata": {},
   "outputs": [],
   "source": [
    ">>> union_set(t, s)\n",
    "Link(2, Link(4, Link(1, Link(5))))\n"
   ]
  },
  {
   "cell_type": "markdown",
   "id": "b31a3658",
   "metadata": {},
   "source": [
    "**Sets as ordered sequences.** One way to speed up our set operations is to\n",
    "change the representation so that the set elements are listed in increasing\n",
    "order. To do this, we need some way to compare two objects so that we can say\n",
    "which is bigger. In Python, many different types of objects can be compared\n",
    "using `<` and `>` operators, but we will concentrate on numbers in this\n",
    "example. We will represent a set of numbers by listing its elements in\n",
    "increasing order.\n",
    "\n",
    "One advantage of ordering shows up in `set_contains`: In checking for the\n",
    "presence of an object, we no longer have to scan the entire set. If we reach a\n",
    "set element that is larger than the item we are looking for, then we know that\n",
    "the item is not in the set:\n",
    "\n",
    "\n",
    "​"
   ]
  },
  {
   "cell_type": "code",
   "execution_count": null,
   "id": "6ed36791",
   "metadata": {},
   "outputs": [],
   "source": [
    ">>> def set_contains(s, v):\n",
    "        if empty(s) or s.first > v:\n",
    "            return False\n",
    "        elif s.first == v:\n",
    "            return True\n",
    "        else:\n",
    "            return set_contains(s.rest, v)\n"
   ]
  },
  {
   "cell_type": "markdown",
   "id": "f3090f95",
   "metadata": {},
   "source": [
    "​    \n",
    "​"
   ]
  },
  {
   "cell_type": "code",
   "execution_count": null,
   "id": "66e42ac5",
   "metadata": {},
   "outputs": [],
   "source": [
    ">>> u = Link(1, Link(4, Link(5)))\n",
    ">>> set_contains(u, 0)\n",
    "False\n",
    ">>> set_contains(u, 4)\n",
    "True\n"
   ]
  },
  {
   "cell_type": "markdown",
   "id": "6d8b99eb",
   "metadata": {},
   "source": [
    "How many steps does this save? In the worst case, the item we are looking for\n",
    "may be the largest one in the set, so the number of steps is the same as for\n",
    "the unordered representation. On the other hand, if we search for items of\n",
    "many different sizes we can expect that sometimes we will be able to stop\n",
    "searching at a point near the beginning of the list and that other times we\n",
    "will still need to examine most of the list. On average we should expect to\n",
    "have to examine about half of the items in the set. Thus, the average number\n",
    "of steps required will be about $\\frac{n}{2}$. This is still $\\Theta(n)$\n",
    "growth, but it does save us some time in practice over the previous\n",
    "implementation.\n",
    "\n",
    "We can obtain a more impressive speedup by re-implementing `intersect_set`. In\n",
    "the unordered representation, this operation required $\\Theta(n^2)$ steps\n",
    "because we performed a complete scan of `set2` for each element of `set1`. But\n",
    "with the ordered representation, we can use a more clever method. We iterate\n",
    "through both sets simultaneously, tracking an element `e1` in `set1` and `e2`\n",
    "in `set2`. When `e1` and `e2` are equal, we include that element in the\n",
    "intersection.\n",
    "\n",
    "Suppose, however, that `e1` is less than `e2`. Since `e2` is smaller than the\n",
    "remaining elements of `set2`, we can immediately conclude that `e1` cannot\n",
    "appear anywhere in the remainder of `set2` and hence is not in the\n",
    "intersection. Thus, we no longer need to consider `e1`; we discard it and\n",
    "proceed to the next element of `set1`. Similar logic advances through the\n",
    "elements of `set2` when `e2 < e1`. Here is the function:\n",
    "\n",
    "\n",
    "​"
   ]
  },
  {
   "cell_type": "code",
   "execution_count": null,
   "id": "ffd9c63c",
   "metadata": {},
   "outputs": [],
   "source": [
    ">>> def intersect_set(set1, set2):\n",
    "        if empty(set1) or empty(set2):\n",
    "            return Link.empty\n",
    "        else:\n",
    "            e1, e2 = set1.first, set2.first\n",
    "            if e1 == e2:\n",
    "                return Link(e1, intersect_set(set1.rest, set2.rest))\n",
    "            elif e1 < e2:\n",
    "                return intersect_set(set1.rest, set2)\n",
    "            elif e2 < e1:\n",
    "                return intersect_set(set1, set2.rest)\n"
   ]
  },
  {
   "cell_type": "markdown",
   "id": "470e2d57",
   "metadata": {},
   "source": [
    "​    \n",
    "​"
   ]
  },
  {
   "cell_type": "code",
   "execution_count": null,
   "id": "c5c7ef1b",
   "metadata": {},
   "outputs": [],
   "source": [
    ">>> intersect_set(s, s.rest)\n",
    "Link(4, Link(5))\n"
   ]
  },
  {
   "cell_type": "markdown",
   "id": "963e9b23",
   "metadata": {},
   "source": [
    "To estimate the number of steps required by this process, observe that in each\n",
    "step we shrink the size of at least one of the sets. Thus, the number of steps\n",
    "required is at most the sum of the sizes of `set1` and `set2`, rather than the\n",
    "product of the sizes, as with the unordered representation. This is\n",
    "$\\Theta(n)$ growth rather than $\\Theta(n^2)$ \\-- a considerable speedup, even\n",
    "for sets of moderate size. For example, the intersection of two sets of size\n",
    "100 will take around 200 steps, rather than 10,000 for the unordered\n",
    "representation.\n",
    "\n",
    "Adjunction and union for sets represented as ordered sequences can also be\n",
    "computed in linear time. These implementations are left as an exercise.\n",
    "\n",
    "**Sets as binary search trees.** We can do better than the ordered-list\n",
    "representation by arranging the set elements in the form of a tree with\n",
    "exactly two branches. The `entry` of the root of the tree holds one element of\n",
    "the set. The entries within the `left` branch include all elements smaller\n",
    "than the one at the root. Entries in the `right` branch include all elements\n",
    "greater than the one at the root. The figure below shows some trees that\n",
    "represent the set `{1, 3, 5, 7, 9, 11}`. The same set may be represented by a\n",
    "tree in a number of different ways. In all binary search trees, all elements\n",
    "in the `left` branch be smaller than the `entry` at the root, and that all\n",
    "elements in the `right` subtree be larger.\n",
    "\n",
    "![](http://www.composingprograms.com/img/set_trees.png)\n",
    "\n",
    "The advantage of the tree representation is this: Suppose we want to check\n",
    "whether a value `v` is contained in a set. We begin by comparing `v` with\n",
    "`entry`. If `v` is less than this, we know that we need only search the `left`\n",
    "subtree; if `v` is greater, we need only search the `right` subtree. Now, if\n",
    "the tree is \"balanced,\" each of these subtrees will be about half the size of\n",
    "the original. Thus, in one step we have reduced the problem of searching a\n",
    "tree of size $n$ to searching a tree of size $\\frac{n}{2}$. Since the size of\n",
    "the tree is halved at each step, we should expect that the number of steps\n",
    "needed to search a tree grows as $\\Theta(\\log n)$. For large sets, this will\n",
    "be a significant speedup over the previous representations. This\n",
    "`set_contains` function exploits the ordering structure of the tree-structured\n",
    "set.\n",
    "\n",
    "\n",
    "​"
   ]
  },
  {
   "cell_type": "code",
   "execution_count": null,
   "id": "5c04febb",
   "metadata": {},
   "outputs": [],
   "source": [
    ">>> def set_contains(s, v):\n",
    "        if s is None:\n",
    "            return False\n",
    "        elif s.entry == v:\n",
    "            return True\n",
    "        elif s.entry < v:\n",
    "            return set_contains(s.right, v)\n",
    "        elif s.entry > v:\n",
    "            return set_contains(s.left, v)\n"
   ]
  },
  {
   "cell_type": "markdown",
   "id": "bd97f2ff",
   "metadata": {},
   "source": [
    "Adjoining an item to a set is implemented similarly and also requires\n",
    "$\\Theta(\\log n)$ steps. To adjoin a value `v`, we compare `v` with `entry` to\n",
    "determine whether `v` should be added to the `right` or to the `left` branch,\n",
    "and having adjoined `v` to the appropriate branch we piece this newly\n",
    "constructed branch together with the original `entry` and the other branch. If\n",
    "`v` is equal to the `entry`, we just return the node. If we are asked to\n",
    "adjoin `v` to an empty tree, we generate a `Tree` that has `v` as the `entry`\n",
    "and empty `right` and `left` branches. Here is the function:\n",
    "\n",
    "\n",
    "​"
   ]
  },
  {
   "cell_type": "code",
   "execution_count": null,
   "id": "8fea1879",
   "metadata": {},
   "outputs": [],
   "source": [
    ">>> def adjoin_set(s, v):\n",
    "        if s is None:\n",
    "            return Tree(v)\n",
    "        elif s.entry == v:\n",
    "            return s\n",
    "        elif s.entry < v:\n",
    "            return Tree(s.entry, s.left, adjoin_set(s.right, v))\n",
    "        elif s.entry > v:\n",
    "            return Tree(s.entry, adjoin_set(s.left, v), s.right)\n"
   ]
  },
  {
   "cell_type": "markdown",
   "id": "831e97e2",
   "metadata": {},
   "source": [
    "​    \n",
    "​"
   ]
  },
  {
   "cell_type": "code",
   "execution_count": null,
   "id": "31ec8019",
   "metadata": {},
   "outputs": [],
   "source": [
    ">>> adjoin_set(adjoin_set(adjoin_set(None, 2), 3), 1)\n",
    "Tree(2, Tree(1), Tree(3))\n"
   ]
  },
  {
   "cell_type": "markdown",
   "id": "399e77bf",
   "metadata": {},
   "source": [
    "Our claim that searching the tree can be performed in a logarithmic number of\n",
    "steps rests on the assumption that the tree is \"balanced,\" i.e., that the left\n",
    "and the right subtree of every tree have approximately the same number of\n",
    "elements, so that each subtree contains about half the elements of its parent.\n",
    "But how can we be certain that the trees we construct will be balanced? Even\n",
    "if we start with a balanced tree, adding elements with `adjoin_set` may\n",
    "produce an unbalanced result. Since the position of a newly adjoined element\n",
    "depends on how the element compares with the items already in the set, we can\n",
    "expect that if we add elements \"randomly\" the tree will tend to be balanced on\n",
    "the average.\n",
    "\n",
    "But this is not a guarantee. For example, if we start with an empty set and\n",
    "adjoin the numbers 1 through 7 in sequence we end up with a highly unbalanced\n",
    "tree in which all the left subtrees are empty, so it has no advantage over a\n",
    "simple ordered list. One way to solve this problem is to define an operation\n",
    "that transforms an arbitrary tree into a balanced tree with the same elements.\n",
    "We can perform this transformation after every few `adjoin_set` operations to\n",
    "keep our set in balance.\n",
    "\n",
    "Intersection and union operations can be performed on tree-structured sets in\n",
    "linear time by converting them to ordered lists and back. The details are left\n",
    "as an exercise.\n",
    "\n",
    "**Python set implementation.** The `set` type that is built into Python does\n",
    "not use any of these representations internally. Instead, Python uses a\n",
    "representation that gives constant-time membership tests and adjoin operations\n",
    "based on a technique called _hashing_ , which is a topic for another course.\n",
    "Built-in Python sets cannot contain mutable data types, such as lists,\n",
    "dictionaries, or other sets. To allow for nested sets, Python also includes a\n",
    "built-in immutable `frozenset` class that shares methods with the `set` class\n",
    "but excludes mutation methods and operators."
   ]
  }
 ],
 "metadata": {
  "kernelspec": {
   "display_name": "Python 3 (ipykernel)",
   "language": "python",
   "name": "python3"
  },
  "language_info": {
   "codemirror_mode": {
    "name": "ipython",
    "version": 3
   },
   "file_extension": ".py",
   "mimetype": "text/x-python",
   "name": "python",
   "nbconvert_exporter": "python",
   "pygments_lexer": "ipython3",
   "version": "3.12.5"
  }
 },
 "nbformat": 4,
 "nbformat_minor": 5
}
