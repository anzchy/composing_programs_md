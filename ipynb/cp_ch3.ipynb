{
 "cells": [
  {
   "cell_type": "markdown",
   "id": "2b2e1633",
   "metadata": {},
   "source": [
    "# Chapter 3: Interpreting Computer Programs\n",
    "\n",
    "## 3.1 Introduction\n",
    "\n",
    "Chapters 1 and 2 describe the close connection between two fundamental\n",
    "elements of programming: functions and data. We saw how functions can be\n",
    "manipulated as data using higher-order functions. We also saw how data can be\n",
    "endowed with behavior using message passing and an object system. We have also\n",
    "studied techniques for organizing large programs, such as functional\n",
    "abstraction, data abstraction, class inheritance, and generic functions. These\n",
    "core concepts constitute a strong foundation upon which to build modular,\n",
    "maintainable, and extensible programs.\n",
    "\n",
    "This chapter focuses on the third fundamental element of programming: programs\n",
    "themselves. A Python program is just a collection of text. Only through the\n",
    "process of interpretation do we perform any meaningful computation based on\n",
    "that text. A programming language like Python is useful because we can define\n",
    "an _interpreter_ , a program that carries out Python's evaluation and\n",
    "execution procedures. It is no exaggeration to regard this as the most\n",
    "fundamental idea in programming, that an interpreter, which determines the\n",
    "meaning of expressions in a programming language, is just another program.\n",
    "\n",
    "To appreciate this point is to change our images of ourselves as programmers.\n",
    "We come to see ourselves as designers of languages, rather than only users of\n",
    "languages designed by others.\n",
    "\n",
    "### 3.1.1 Programming Languages\n",
    "\n",
    "Programming languages vary widely in their syntactic structures, features, and\n",
    "domain of application. Among general purpose programming languages, the\n",
    "constructs of function definition and function application are pervasive. On\n",
    "the other hand, powerful languages exist that do not include an object system,\n",
    "higher-order functions, assignment, or even control constructs such as `while`\n",
    "and `for` statements. As an example of a powerful language with a minimal set\n",
    "of features, we will introduce the\n",
    "[Scheme](https://en.wikipedia.org/wiki/Scheme_\\(programming_language\\))\n",
    "programming language. The subset of Scheme introduced in this text does not\n",
    "allow mutable values at all.\n",
    "\n",
    "In this chapter, we study the design of interpreters and the computational\n",
    "processes that they create when executing programs. The prospect of designing\n",
    "an interpreter for a general programming language may seem daunting. After\n",
    "all, interpreters are programs that can carry out any possible computation,\n",
    "depending on their input. However, many interpreters have an elegant common\n",
    "structure: two mutually recursive functions. The first evaluates expressions\n",
    "in environments; the second applies functions to arguments.\n",
    "\n",
    "These functions are recursive in that they are defined in terms of each other:\n",
    "applying a function requires evaluating the expressions in its body, while\n",
    "evaluating an expression may involve applying one or more functions.\n",
    "\n",
    "_Continue_ : [ 3.2 Functional Programming ](../pages/32-functional-\n",
    "programming.html)\n",
    "\n",
    "## 3.2 Functional Programming\n",
    "\n",
    "The software running on any modern computer is written in a variety of\n",
    "programming languages. There are physical languages, such as the machine\n",
    "languages for particular computers. These languages are concerned with the\n",
    "representation of data and control in terms of individual bits of storage and\n",
    "primitive machine instructions. The machine-language programmer is concerned\n",
    "with using the given hardware to erect systems and utilities for the efficient\n",
    "implementation of resource-limited computations. High-level languages, erected\n",
    "on a machine-language substrate, hide concerns about the representation of\n",
    "data as collections of bits and the representation of programs as sequences of\n",
    "primitive instructions. These languages have means of combination and\n",
    "abstraction, such as function definition, that are appropriate to the larger-\n",
    "scale organization of software systems.\n",
    "\n",
    "In this section, we introduce a high-level programming language that\n",
    "encourages a functional style. Our object of study, a subset of the Scheme\n",
    "language, employs a very similar model of computation to Python's, but uses\n",
    "only expressions (no statements), specializes in symbolic computation, and\n",
    "employs only immutable values.\n",
    "\n",
    "Scheme is a dialect of\n",
    "[Lisp](http://en.wikipedia.org/wiki/Lisp_\\(programming_language\\)), the\n",
    "second-oldest programming language that is still widely used today (after\n",
    "[Fortran](http://en.wikipedia.org/wiki/Fortran)). The community of Lisp\n",
    "programmers has continued to thrive for decades, and new dialects of Lisp such\n",
    "as [Clojure](http://en.wikipedia.org/wiki/Clojure) have some of the fastest\n",
    "growing communities of developers of any modern programming language. To\n",
    "follow along with the examples in this text, you can [download a Scheme\n",
    "interpreter](http://inst.eecs.berkeley.edu/~scheme/).\n",
    "\n",
    "### 3.2.1 Expressions\n",
    "\n",
    "Scheme programs consist of expressions, which are either call expressions or\n",
    "special forms. A call expression consists of an operator expression followed\n",
    "by zero or more operand sub-expressions, as in Python. Both the operator and\n",
    "operand are contained within parentheses:\n",
    "\n",
    "\n",
    "​"
   ]
  },
  {
   "cell_type": "code",
   "execution_count": null,
   "id": "8afc1084",
   "metadata": {},
   "outputs": [],
   "source": [
    "(quotient 10 2)\n"
   ]
  },
  {
   "cell_type": "markdown",
   "id": "02015305",
   "metadata": {},
   "source": [
    "Scheme exclusively uses prefix notation. Operators are often symbols, such as\n",
    "`+` and `*`. Call expressions can be nested, and they may span more than one\n",
    "line:\n",
    "\n",
    "\n",
    "​"
   ]
  },
  {
   "cell_type": "code",
   "execution_count": null,
   "id": "c725ece1",
   "metadata": {},
   "outputs": [],
   "source": [
    "(+ (* 3 5) (- 10 6))\n"
   ]
  },
  {
   "cell_type": "markdown",
   "id": "047ef866",
   "metadata": {},
   "source": [
    "​    \n",
    "​"
   ]
  },
  {
   "cell_type": "code",
   "execution_count": null,
   "id": "8e2634b2",
   "metadata": {},
   "outputs": [],
   "source": [
    "(+ (* 3\n",
    "      (+ (* 2 4)\n",
    "         (+ 3 5)))\n",
    "   (+ (- 10 7)\n",
    "      6))\n"
   ]
  },
  {
   "cell_type": "markdown",
   "id": "ace6f168",
   "metadata": {},
   "source": [
    "As in Python, Scheme expressions may be primitives or combinations. Number\n",
    "literals are primitives, while call expressions are combined forms that\n",
    "include arbitrary sub-expressions. The evaluation procedure of call\n",
    "expressions matches that of Python: first the operator and operand expressions\n",
    "are evaluated, and then the function that is the value of the operator is\n",
    "applied to the arguments that are the values of the operands.\n",
    "\n",
    "The `if` expression in Scheme is a _special form_ , meaning that while it\n",
    "looks syntactically like a call expression, it has a different evaluation\n",
    "procedure. The general form of an `if` expression is:\n",
    "\n",
    "\n",
    "​"
   ]
  },
  {
   "cell_type": "code",
   "execution_count": null,
   "id": "4c5399bf",
   "metadata": {},
   "outputs": [],
   "source": [
    "(if <predicate> <consequent> <alternative>)\n"
   ]
  },
  {
   "cell_type": "markdown",
   "id": "5a911fbe",
   "metadata": {},
   "source": [
    "To evaluate an `if` expression, the interpreter starts by evaluating the\n",
    "`<predicate>` part of the expression. If the `<predicate>` evaluates to a true\n",
    "value, the interpreter then evaluates the `<consequent>` and returns its\n",
    "value. Otherwise it evaluates the `<alternative>` and returns its value.\n",
    "\n",
    "Numerical values can be compared using familiar comparison operators, but\n",
    "prefix notation is used in this case as well:\n",
    "\n",
    "\n",
    "​"
   ]
  },
  {
   "cell_type": "code",
   "execution_count": null,
   "id": "1753fc83",
   "metadata": {},
   "outputs": [],
   "source": [
    "(>= 2 1)\n"
   ]
  },
  {
   "cell_type": "markdown",
   "id": "145008e0",
   "metadata": {},
   "source": [
    "The boolean values `#t` (or `true`) and `#f` (or `false`) in Scheme can be\n",
    "combined with boolean special forms, which have evaluation procedures similar\n",
    "to those in Python.\n",
    "\n",
    ">   * `(and <e1> ... <en>)` The interpreter evaluates the expressions `<e>`\n",
    ">     one at a time, in left-to-right order. If any `<e>` evaluates to `false`,\n",
    ">     the value of the `and` expression is `false`, and the rest of the `<e>`'s\n",
    ">     are not evaluated. If all `<e>`'s evaluate to true values, the value of the\n",
    ">     `and` expression is the value of the last one.\n",
    ">   * `(or <e1> ... <en>)` The interpreter evaluates the expressions `<e>` one\n",
    ">     at a time, in left-to-right order. If any `<e>` evaluates to a true value,\n",
    ">     that value is returned as the value of the `or` expression, and the rest of\n",
    ">     the `<e>`'s are not evaluated. If all `<e>`'s evaluate to `false`, the value\n",
    ">     of the `or` expression is `false`.\n",
    ">   * `(not <e>)` The value of a not expression is `true` when the expression\n",
    ">     `<e>` evaluates to `false`, and `false` otherwise.\n",
    "\n",
    "### 3.2.2 Definitions\n",
    "\n",
    "Values can be named using the `define` special form:\n",
    "\n",
    "\n",
    "​"
   ]
  },
  {
   "cell_type": "code",
   "execution_count": null,
   "id": "0000355d",
   "metadata": {},
   "outputs": [],
   "source": [
    "(define pi 3.14)\n",
    "(* pi 2)\n"
   ]
  },
  {
   "cell_type": "markdown",
   "id": "7432263d",
   "metadata": {},
   "source": [
    "New functions (called _procedures_ in Scheme) can be defined using a second\n",
    "version of the `define` special form. For example, to define squaring, we\n",
    "write:\n",
    "\n",
    "\n",
    "​"
   ]
  },
  {
   "cell_type": "code",
   "execution_count": null,
   "id": "deea73d2",
   "metadata": {},
   "outputs": [],
   "source": [
    "(define (square x) (* x x))\n"
   ]
  },
  {
   "cell_type": "markdown",
   "id": "e77e6a96",
   "metadata": {},
   "source": [
    "The general form of a procedure definition is:\n",
    "\n",
    "\n",
    "​"
   ]
  },
  {
   "cell_type": "code",
   "execution_count": null,
   "id": "92521638",
   "metadata": {},
   "outputs": [],
   "source": [
    "(define (<name> <formal parameters>) <body>)\n"
   ]
  },
  {
   "cell_type": "markdown",
   "id": "143cb837",
   "metadata": {},
   "source": [
    "The `<name>` is a symbol to be associated with the procedure definition in the\n",
    "environment. The `<formal parameters>` are the names used within the body of\n",
    "the procedure to refer to the corresponding arguments of the procedure. The\n",
    "`<body>` is an expression that will yield the value of the procedure\n",
    "application when the formal parameters are replaced by the actual arguments to\n",
    "which the procedure is applied. The `<name>` and the `<formal parameters>` are\n",
    "grouped within parentheses, just as they would be in an actual call to the\n",
    "procedure being defined.\n",
    "\n",
    "Having defined square, we can now use it in call expressions:\n",
    "\n",
    "\n",
    "​"
   ]
  },
  {
   "cell_type": "code",
   "execution_count": null,
   "id": "206d8609",
   "metadata": {},
   "outputs": [],
   "source": [
    "(square 21)\n"
   ]
  },
  {
   "cell_type": "markdown",
   "id": "347dbe4f",
   "metadata": {},
   "source": [
    "​    \n",
    "​"
   ]
  },
  {
   "cell_type": "code",
   "execution_count": null,
   "id": "8bd6ee36",
   "metadata": {},
   "outputs": [],
   "source": [
    "(square (+ 2 5))\n"
   ]
  },
  {
   "cell_type": "markdown",
   "id": "871f69d4",
   "metadata": {},
   "source": [
    "​    \n",
    "​"
   ]
  },
  {
   "cell_type": "code",
   "execution_count": null,
   "id": "27ad31dd",
   "metadata": {},
   "outputs": [],
   "source": [
    "(square (square 3))\n"
   ]
  },
  {
   "cell_type": "markdown",
   "id": "b389aaa8",
   "metadata": {},
   "source": [
    "User-defined functions can take multiple arguments and include special forms:\n",
    "\n",
    "\n",
    "​"
   ]
  },
  {
   "cell_type": "code",
   "execution_count": null,
   "id": "903dc508",
   "metadata": {},
   "outputs": [],
   "source": [
    "(define (average x y)\n",
    "  (/ (+ x y) 2))\n"
   ]
  },
  {
   "cell_type": "markdown",
   "id": "ba2a2c9e",
   "metadata": {},
   "source": [
    "​    \n",
    "​"
   ]
  },
  {
   "cell_type": "code",
   "execution_count": null,
   "id": "87bf38f7",
   "metadata": {},
   "outputs": [],
   "source": [
    "(average 1 3)\n"
   ]
  },
  {
   "cell_type": "markdown",
   "id": "ed9acb09",
   "metadata": {},
   "source": [
    "​    \n",
    "​"
   ]
  },
  {
   "cell_type": "code",
   "execution_count": null,
   "id": "2412510e",
   "metadata": {},
   "outputs": [],
   "source": [
    "(define (abs x)\n",
    "    (if (< x 0)\n",
    "        (- x)\n",
    "        x))\n"
   ]
  },
  {
   "cell_type": "markdown",
   "id": "a879e7af",
   "metadata": {},
   "source": [
    "​    \n",
    "​"
   ]
  },
  {
   "cell_type": "code",
   "execution_count": null,
   "id": "951c6d19",
   "metadata": {},
   "outputs": [],
   "source": [
    "(abs -3)\n"
   ]
  },
  {
   "cell_type": "markdown",
   "id": "15cab8e3",
   "metadata": {},
   "source": [
    "Scheme supports local definitions with the same lexical scoping rules as\n",
    "Python. Below, we define an iterative procedure for computing square roots\n",
    "using nested definitions and recursion:\n",
    "\n",
    "\n",
    "​"
   ]
  },
  {
   "cell_type": "code",
   "execution_count": null,
   "id": "cf20f14d",
   "metadata": {},
   "outputs": [],
   "source": [
    "(define (sqrt x)\n",
    "  (define (good-enough? guess)\n",
    "    (< (abs (- (square guess) x)) 0.001))\n",
    "  (define (improve guess)\n",
    "    (average guess (/ x guess)))\n",
    "  (define (sqrt-iter guess)\n",
    "    (if (good-enough? guess)\n",
    "        guess\n",
    "        (sqrt-iter (improve guess))))\n",
    "  (sqrt-iter 1.0))\n",
    "(sqrt 9)\n"
   ]
  },
  {
   "cell_type": "markdown",
   "id": "9edba14c",
   "metadata": {},
   "source": [
    "Anonymous functions are created using the `lambda` special form. `Lambda` is\n",
    "used to create procedures in the same way as `define`, except that no name is\n",
    "specified for the procedure:\n",
    "\n",
    "\n",
    "​"
   ]
  },
  {
   "cell_type": "code",
   "execution_count": null,
   "id": "97b8a1ee",
   "metadata": {},
   "outputs": [],
   "source": [
    "(lambda (<formal-parameters>) <body>)\n"
   ]
  },
  {
   "cell_type": "markdown",
   "id": "9fbb5e3c",
   "metadata": {},
   "source": [
    "The resulting procedure is just as much a procedure as one that is created\n",
    "using `define`. The only difference is that it has not been associated with\n",
    "any name in the environment. In fact, the following expressions are\n",
    "equivalent:\n",
    "\n",
    "\n",
    "​"
   ]
  },
  {
   "cell_type": "code",
   "execution_count": null,
   "id": "02ed2350",
   "metadata": {},
   "outputs": [],
   "source": [
    "(define (plus4 x) (+ x 4))\n",
    "(define plus4 (lambda (x) (+ x 4)))\n"
   ]
  },
  {
   "cell_type": "markdown",
   "id": "0936987d",
   "metadata": {},
   "source": [
    "Like any expression that has a procedure as its value, a lambda expression can\n",
    "be used as the operator in a call expression:\n",
    "\n",
    "\n",
    "​"
   ]
  },
  {
   "cell_type": "code",
   "execution_count": null,
   "id": "7438148f",
   "metadata": {},
   "outputs": [],
   "source": [
    "((lambda (x y z) (+ x y (square z))) 1 2 3)\n"
   ]
  },
  {
   "cell_type": "markdown",
   "id": "0b534e96",
   "metadata": {},
   "source": [
    "### 3.2.3 Compound values\n",
    "\n",
    "Pairs are built into the Scheme language. For historical reasons, pairs are\n",
    "created with the `cons` built-in function, and the elements of a pair are\n",
    "accessed with `car` and `cdr`:\n",
    "\n",
    "\n",
    "​"
   ]
  },
  {
   "cell_type": "code",
   "execution_count": null,
   "id": "89135fce",
   "metadata": {},
   "outputs": [],
   "source": [
    "(define x (cons 1 2))\n"
   ]
  },
  {
   "cell_type": "markdown",
   "id": "02b46ab5",
   "metadata": {},
   "source": [
    "​    \n",
    "​"
   ]
  },
  {
   "cell_type": "code",
   "execution_count": null,
   "id": "07d4a849",
   "metadata": {},
   "outputs": [],
   "source": [
    "x\n"
   ]
  },
  {
   "cell_type": "markdown",
   "id": "7990e21e",
   "metadata": {},
   "source": [
    "​    \n",
    "​"
   ]
  },
  {
   "cell_type": "code",
   "execution_count": null,
   "id": "4f225139",
   "metadata": {},
   "outputs": [],
   "source": [
    "(car x)\n"
   ]
  },
  {
   "cell_type": "markdown",
   "id": "5d46c3f2",
   "metadata": {},
   "source": [
    "​    \n",
    "​"
   ]
  },
  {
   "cell_type": "code",
   "execution_count": null,
   "id": "691cabd7",
   "metadata": {},
   "outputs": [],
   "source": [
    "(cdr x)\n"
   ]
  },
  {
   "cell_type": "markdown",
   "id": "4d638998",
   "metadata": {},
   "source": [
    "Recursive lists are also built into the language, using pairs. A special value\n",
    "denoted `nil` or `'()` represents the empty list. A recursive list value is\n",
    "rendered by placing its elements within parentheses, separated by spaces:\n",
    "\n",
    "\n",
    "​"
   ]
  },
  {
   "cell_type": "code",
   "execution_count": null,
   "id": "1b0c8b4d",
   "metadata": {},
   "outputs": [],
   "source": [
    "(cons 1\n",
    "      (cons 2\n",
    "            (cons 3\n",
    "                  (cons 4 nil))))\n"
   ]
  },
  {
   "cell_type": "markdown",
   "id": "150a7fdc",
   "metadata": {},
   "source": [
    "​    \n",
    "​"
   ]
  },
  {
   "cell_type": "code",
   "execution_count": null,
   "id": "9be649f7",
   "metadata": {},
   "outputs": [],
   "source": [
    "(list 1 2 3 4)\n"
   ]
  },
  {
   "cell_type": "markdown",
   "id": "fef93dd0",
   "metadata": {},
   "source": [
    "​    \n",
    "​"
   ]
  },
  {
   "cell_type": "code",
   "execution_count": null,
   "id": "c0611635",
   "metadata": {},
   "outputs": [],
   "source": [
    "(define one-through-four (list 1 2 3 4))\n"
   ]
  },
  {
   "cell_type": "markdown",
   "id": "f47a6f86",
   "metadata": {},
   "source": [
    "​    \n",
    "​"
   ]
  },
  {
   "cell_type": "code",
   "execution_count": null,
   "id": "3bbebef1",
   "metadata": {},
   "outputs": [],
   "source": [
    "(car one-through-four)\n"
   ]
  },
  {
   "cell_type": "markdown",
   "id": "5c566a35",
   "metadata": {},
   "source": [
    "​    \n",
    "​"
   ]
  },
  {
   "cell_type": "code",
   "execution_count": null,
   "id": "e7ea3a96",
   "metadata": {},
   "outputs": [],
   "source": [
    "(cdr one-through-four)\n"
   ]
  },
  {
   "cell_type": "markdown",
   "id": "489d6340",
   "metadata": {},
   "source": [
    "​    \n",
    "​"
   ]
  },
  {
   "cell_type": "code",
   "execution_count": null,
   "id": "207d5013",
   "metadata": {},
   "outputs": [],
   "source": [
    "(car (cdr one-through-four))\n"
   ]
  },
  {
   "cell_type": "markdown",
   "id": "9df6e4c0",
   "metadata": {},
   "source": [
    "​    \n",
    "​"
   ]
  },
  {
   "cell_type": "code",
   "execution_count": null,
   "id": "cc92d715",
   "metadata": {},
   "outputs": [],
   "source": [
    "(cons 10 one-through-four)\n"
   ]
  },
  {
   "cell_type": "markdown",
   "id": "da567807",
   "metadata": {},
   "source": [
    "​    \n",
    "​"
   ]
  },
  {
   "cell_type": "code",
   "execution_count": null,
   "id": "b7ef1f9e",
   "metadata": {},
   "outputs": [],
   "source": [
    "(cons 5 one-through-four)\n"
   ]
  },
  {
   "cell_type": "markdown",
   "id": "f54febb3",
   "metadata": {},
   "source": [
    "Whether a list is empty can be determined using the primitive `null?`\n",
    "predicate. Using it, we can define the standard sequence operations for\n",
    "computing `length` and selecting elements:\n",
    "\n",
    "\n",
    "​"
   ]
  },
  {
   "cell_type": "code",
   "execution_count": null,
   "id": "2c3b3706",
   "metadata": {},
   "outputs": [],
   "source": [
    "(define (length items)\n",
    "  (if (null? items)\n",
    "      0\n",
    "      (+ 1 (length (cdr items)))))\n",
    "(define (getitem items n)\n",
    "  (if (= n 0)\n",
    "      (car items)\n",
    "      (getitem (cdr items) (- n 1))))\n",
    "(define squares (list 1 4 9 16 25))\n"
   ]
  },
  {
   "cell_type": "markdown",
   "id": "d4ba1ebf",
   "metadata": {},
   "source": [
    "​    \n",
    "​"
   ]
  },
  {
   "cell_type": "code",
   "execution_count": null,
   "id": "0bf71490",
   "metadata": {},
   "outputs": [],
   "source": [
    "(length squares)\n"
   ]
  },
  {
   "cell_type": "markdown",
   "id": "c25f4c3b",
   "metadata": {},
   "source": [
    "​    \n",
    "​"
   ]
  },
  {
   "cell_type": "code",
   "execution_count": null,
   "id": "19f3c023",
   "metadata": {},
   "outputs": [],
   "source": [
    "(getitem squares 3)\n"
   ]
  },
  {
   "cell_type": "markdown",
   "id": "79405ddd",
   "metadata": {},
   "source": [
    "### 3.2.4 Symbolic Data\n",
    "\n",
    "All the compound data objects we have used so far were constructed ultimately\n",
    "from numbers. One of Scheme's strengths is working with arbitrary symbols as\n",
    "data.\n",
    "\n",
    "In order to manipulate symbols we need a new element in our language: the\n",
    "ability to _quote_ a data object. Suppose we want to construct the list `(a\n",
    "b)`. We can't accomplish this with `(list a b)`, because this expression\n",
    "constructs a list of the values of `a` and `b` rather than the symbols\n",
    "themselves. In Scheme, we refer to the symbols `a` and `b` rather than their\n",
    "values by preceding them with a single quotation mark:\n",
    "\n",
    "\n",
    "​"
   ]
  },
  {
   "cell_type": "code",
   "execution_count": null,
   "id": "23f984f1",
   "metadata": {},
   "outputs": [],
   "source": [
    "(define a 1)\n",
    "(define b 2)\n"
   ]
  },
  {
   "cell_type": "markdown",
   "id": "c16a0212",
   "metadata": {},
   "source": [
    "​    \n",
    "​"
   ]
  },
  {
   "cell_type": "code",
   "execution_count": null,
   "id": "7efe3502",
   "metadata": {},
   "outputs": [],
   "source": [
    "(list a b)\n"
   ]
  },
  {
   "cell_type": "markdown",
   "id": "8ec43f4a",
   "metadata": {},
   "source": [
    "​    \n",
    "​"
   ]
  },
  {
   "cell_type": "code",
   "execution_count": null,
   "id": "905daadc",
   "metadata": {},
   "outputs": [],
   "source": [
    "(list 'a 'b)\n"
   ]
  },
  {
   "cell_type": "markdown",
   "id": "ea0f6cc6",
   "metadata": {},
   "source": [
    "​    \n",
    "​"
   ]
  },
  {
   "cell_type": "code",
   "execution_count": null,
   "id": "cc715fba",
   "metadata": {},
   "outputs": [],
   "source": [
    "(list 'a b)\n"
   ]
  },
  {
   "cell_type": "markdown",
   "id": "e520d7ae",
   "metadata": {},
   "source": [
    "In Scheme, any expression that is not evaluated is said to be _quoted_. This\n",
    "notion of quotation is derived from a classic philosophical distinction\n",
    "between a thing, such as a dog, which runs around and barks, and the word\n",
    "\"dog\" that is a linguistic construct for designating such things. When we use\n",
    "\"dog\" in quotation marks, we do not refer to some dog in particular but\n",
    "instead to a word. In language, quotation allow us to talk about language\n",
    "itself, and so it is in Scheme:\n",
    "\n",
    "\n",
    "​"
   ]
  },
  {
   "cell_type": "code",
   "execution_count": null,
   "id": "b484d18c",
   "metadata": {},
   "outputs": [],
   "source": [
    "(list 'define 'list)\n"
   ]
  },
  {
   "cell_type": "markdown",
   "id": "ca975f37",
   "metadata": {},
   "source": [
    "Quotation also allows us to type in compound objects, using the conventional\n",
    "printed representation for lists:\n",
    "\n",
    "\n",
    "​"
   ]
  },
  {
   "cell_type": "code",
   "execution_count": null,
   "id": "27bb3355",
   "metadata": {},
   "outputs": [],
   "source": [
    "(car '(a b c))\n"
   ]
  },
  {
   "cell_type": "markdown",
   "id": "e556bf7d",
   "metadata": {},
   "source": [
    "​    \n",
    "​"
   ]
  },
  {
   "cell_type": "code",
   "execution_count": null,
   "id": "f8242c07",
   "metadata": {},
   "outputs": [],
   "source": [
    "(cdr '(a b c))\n"
   ]
  },
  {
   "cell_type": "markdown",
   "id": "7573f9b4",
   "metadata": {},
   "source": [
    "The full Scheme language contains additional features, such as mutation\n",
    "operations, vectors, and maps. However, the subset we have introduced so far\n",
    "provides a rich functional programming language capable of implementing many\n",
    "of the ideas we have discussed so far in this text.\n",
    "\n",
    "### 3.2.5 Turtle graphics\n",
    "\n",
    "The implementation of Scheme that serves as a companion to this text includes\n",
    "Turtle graphics, an illustrating environment developed as part of the Logo\n",
    "language (another Lisp dialect). This turtle begins in the center of a canvas,\n",
    "moves and turns based on procedures, and draws lines behind it as it moves.\n",
    "While the turtle was invented to engage children in the act of programming, it\n",
    "remains an engaging graphical tool for even advanced programmers.\n",
    "\n",
    "At any moment during the course of executing a Scheme program, the turtle has\n",
    "a position and heading on the canvas. Single-argument procedures such as\n",
    "`forward` and `right` change the position and heading of the turtle. Common\n",
    "procedures have abbreviations: `forward` can also be called as `fd`, etc. The\n",
    "`begin` special form in Scheme allows a single expression to include multiple\n",
    "sub-expressions. This form is useful for issuing multiple commands:\n",
    "\n",
    "\n",
    "​"
   ]
  },
  {
   "cell_type": "code",
   "execution_count": null,
   "id": "a7eb281f",
   "metadata": {},
   "outputs": [],
   "source": [
    "> (define (repeat k fn) (if (> k 0)\n",
    "                            (begin (fn) (repeat (- k 1) fn))\n",
    "                            nil))\n",
    "> (repeat 5\n",
    "          (lambda () (fd 100)\n",
    "                     (repeat 5\n",
    "                             (lambda () (fd 20) (rt 144)))\n",
    "                     (rt 144)))\n",
    "nil\n"
   ]
  },
  {
   "cell_type": "markdown",
   "id": "381f218b",
   "metadata": {},
   "source": [
    "![](http://www.composingprograms.com/img/star.png)\n",
    "\n",
    "The full repertoire of Turtle procedures is also built into Python as the\n",
    "[turtle library module](http://docs.python.org/py3k/library/turtle.html).\n",
    "\n",
    "As a final example, Scheme can express recursive drawings using its turtle\n",
    "graphics in a remarkably compact form. Sierpinski's triangle is a fractal that\n",
    "draws each triangle as three neighboring triangles that have vertexes at the\n",
    "midpoints of the legs of the triangle that contains them. It can be drawn to a\n",
    "finite recursive depth by this Scheme program:\n",
    "\n",
    "\n",
    "​"
   ]
  },
  {
   "cell_type": "code",
   "execution_count": null,
   "id": "c90bd238",
   "metadata": {},
   "outputs": [],
   "source": [
    "> (define (repeat k fn)\n",
    "    (if (> k 0)\n",
    "        (begin (fn) (repeat (- k 1) fn))\n",
    "        nil))\n",
    "\n",
    "> (define (tri fn)\n",
    "    (repeat 3 (lambda () (fn) (lt 120))))\n",
    "\n",
    "> (define (sier d k)\n",
    "    (tri (lambda ()\n",
    "           (if (= k 1) (fd d) (leg d k)))))\n",
    "\n",
    "> (define (leg d k)\n",
    "    (sier (/ d 2) (- k 1))\n",
    "    (penup)\n",
    "    (fd d)\n",
    "    (pendown))\n"
   ]
  },
  {
   "cell_type": "markdown",
   "id": "1c8a947f",
   "metadata": {},
   "source": [
    "The `triangle` procedure is a general method for repeating a drawing procedure\n",
    "three times with a left turn following each repetition. The `sier` procedure\n",
    "takes a length `d` and a recursive depth `k`. It draws a plain triangle if the\n",
    "depth is 1, and otherwise draws a triangle made up of calls to `leg`. The\n",
    "`leg` procedure draws a single leg of a recursive Sierpinski triangle by a\n",
    "recursive call to `sier` that fills the first half of the length of the leg,\n",
    "then by moving the turtle to the next vertex. The procedures `penup` and\n",
    "`pendown` stop the turtle from drawing as it moves by lifting its pen up and\n",
    "the placing it down again. The mutual recursion between `sier` and `leg`\n",
    "yields this result:\n",
    "\n",
    "\n",
    "​"
   ]
  },
  {
   "cell_type": "code",
   "execution_count": null,
   "id": "06b68453",
   "metadata": {},
   "outputs": [],
   "source": [
    "> (sier 400 6)\n"
   ]
  },
  {
   "cell_type": "markdown",
   "id": "9c04d74e",
   "metadata": {},
   "source": [
    "![](http://www.composingprograms.com/img/sier.png)\n",
    "\n",
    "_Continue_ : [ 3.3 Exceptions ](../pages/33-exceptions.html)\n",
    "\n",
    "## 3.3 Exceptions\n",
    "\n",
    "Programmers must be always mindful of possible errors that may arise in their\n",
    "programs. Examples abound: a function may not receive arguments that it is\n",
    "designed to accept, a necessary resource may be missing, or a connection\n",
    "across a network may be lost. When designing a program, one must anticipate\n",
    "the exceptional circumstances that may arise and take appropriate measures to\n",
    "handle them.\n",
    "\n",
    "There is no single correct approach to handling errors in a program. Programs\n",
    "designed to provide some persistent service like a web server should be robust\n",
    "to errors, logging them for later consideration but continuing to service new\n",
    "requests as long as possible. On the other hand, the Python interpreter\n",
    "handles errors by terminating immediately and printing an error message, so\n",
    "that programmers can address issues as soon as they arise. In any case,\n",
    "programmers must make conscious choices about how their programs should react\n",
    "to exceptional conditions.\n",
    "\n",
    "_Exceptions_ , the topic of this section, provides a general mechanism for\n",
    "adding error-handling logic to programs. _Raising an exception_ is a technique\n",
    "for interrupting the normal flow of execution in a program, signaling that\n",
    "some exceptional circumstance has arisen, and returning directly to an\n",
    "enclosing part of the program that was designated to react to that\n",
    "circumstance. The Python interpreter raises an exception each time it detects\n",
    "an error in an expression or statement. Users can also raise exceptions with\n",
    "`raise` and `assert` statements.\n",
    "\n",
    "**Raising exceptions.** An exception is a object instance with a class that\n",
    "inherits, either directly or indirectly, from the `BaseException` class. The\n",
    "`assert` statement introduced in Chapter 1 raises an exception with the class\n",
    "`AssertionError`. In general, any exception instance can be raised with the\n",
    "`raise` statement. The general form of raise statements are described in the\n",
    "[Python docs](http://docs.python.org/py3k/reference/simple_stmts.html#raise).\n",
    "The most common use of `raise` constructs an exception instance and raises it.\n",
    "\n",
    "\n",
    "​"
   ]
  },
  {
   "cell_type": "code",
   "execution_count": null,
   "id": "fe83367e",
   "metadata": {},
   "outputs": [],
   "source": [
    ">>> raise Exception('An error occurred')\n",
    "Traceback (most recent call last):\n",
    "  File \"<stdin>\", line 1, in <module>\n",
    "Exception: an error occurred\n"
   ]
  },
  {
   "cell_type": "markdown",
   "id": "6589aea9",
   "metadata": {},
   "source": [
    "When an exception is raised, no further statements in the current block of\n",
    "code are executed. Unless the exception is _handled_ (described below), the\n",
    "interpreter will return directly to the interactive read-eval-print loop, or\n",
    "terminate entirely if Python was started with a file argument. In addition,\n",
    "the interpreter will print a _stack backtrace_ , which is a structured block\n",
    "of text that describes the nested set of active function calls in the branch\n",
    "of execution in which the exception was raised. In the example above, the file\n",
    "name `<stdin>` indicates that the exception was raised by the user in an\n",
    "interactive session, rather than from code in a file.\n",
    "\n",
    "**Handling exceptions.** An exception can be handled by an enclosing `try`\n",
    "statement. A `try` statement consists of multiple clauses; the first begins\n",
    "with `try` and the rest begin with `except`:\n",
    "\n",
    "\n",
    "​"
   ]
  },
  {
   "cell_type": "code",
   "execution_count": null,
   "id": "389d4fe1",
   "metadata": {},
   "outputs": [],
   "source": [
    "try:\n",
    "    <try suite>\n",
    "except <exception class> as <name>:\n",
    "    <except suite>\n",
    "...\n"
   ]
  },
  {
   "cell_type": "markdown",
   "id": "eeef8c5e",
   "metadata": {},
   "source": [
    "The `<try suite>` is always executed immediately when the `try` statement is\n",
    "executed. Suites of the `except` clauses are only executed when an exception\n",
    "is raised during the course of executing the `<try suite>`. Each `except`\n",
    "clause specifies the particular class of exception to handle. For instance, if\n",
    "the `<exception class>` is `AssertionError`, then any instance of a class\n",
    "inheriting from `AssertionError` that is raised during the course of executing\n",
    "the `<try suite>` will be handled by the following `<except suite>`. Within\n",
    "the `<except suite>`, the identifier `<name>` is bound to the exception object\n",
    "that was raised, but this binding does not persist beyond the `<except\n",
    "suite>`.\n",
    "\n",
    "For example, we can handle a `ZeroDivisionError` exception using a `try`\n",
    "statement that binds the name `x` to 0 when the exception is raised.\n",
    "\n",
    "\n",
    "​"
   ]
  },
  {
   "cell_type": "code",
   "execution_count": null,
   "id": "1d2a3a99",
   "metadata": {},
   "outputs": [],
   "source": [
    ">>> try:\n",
    "        x = 1/0\n",
    "    except ZeroDivisionError as e:\n",
    "        print('handling a', type(e))\n",
    "        x = 0\n",
    "handling a <class 'ZeroDivisionError'>\n",
    ">>> x\n",
    "0\n"
   ]
  },
  {
   "cell_type": "markdown",
   "id": "d000eaec",
   "metadata": {},
   "source": [
    "A `try` statement will handle exceptions that occur within the body of a\n",
    "function that is applied (either directly or indirectly) within the `<try\n",
    "suite>`. When an exception is raised, control jumps directly to the body of\n",
    "the `<except suite>` of the most recent `try` statement that handles that type\n",
    "of exception.\n",
    "\n",
    "\n",
    "​"
   ]
  },
  {
   "cell_type": "code",
   "execution_count": null,
   "id": "b37fa9f3",
   "metadata": {},
   "outputs": [],
   "source": [
    ">>> def invert(x):\n",
    "        result = 1/x  # Raises a ZeroDivisionError if x is 0\n",
    "        print('Never printed if x is 0')\n",
    "        return result\n"
   ]
  },
  {
   "cell_type": "markdown",
   "id": "a8732eff",
   "metadata": {},
   "source": [
    "​    \n",
    "​"
   ]
  },
  {
   "cell_type": "code",
   "execution_count": null,
   "id": "535b25e4",
   "metadata": {},
   "outputs": [],
   "source": [
    ">>> def invert_safe(x):\n",
    "        try:\n",
    "            return invert(x)\n",
    "        except ZeroDivisionError as e:\n",
    "            return str(e)\n"
   ]
  },
  {
   "cell_type": "markdown",
   "id": "1a6c8dd5",
   "metadata": {},
   "source": [
    "​    \n",
    "​"
   ]
  },
  {
   "cell_type": "code",
   "execution_count": null,
   "id": "0f9a83ac",
   "metadata": {},
   "outputs": [],
   "source": [
    ">>> invert_safe(2)\n",
    "Never printed if x is 0\n",
    "0.5\n",
    ">>> invert_safe(0)\n",
    "'division by zero'\n"
   ]
  },
  {
   "cell_type": "markdown",
   "id": "b438e6c9",
   "metadata": {},
   "source": [
    "This example illustrates that the `print` expression in `invert` is never\n",
    "evaluated, and instead control is transferred to the suite of the `except`\n",
    "clause in `invert_safe`. Coercing the `ZeroDivisionError` `e` to a string\n",
    "gives the human-interpretable string returned by `invert_safe`: `'division by\n",
    "zero'`.\n",
    "\n",
    "### 3.3.1 Exception Objects\n",
    "\n",
    "Exception objects themselves can have attributes, such as the error message\n",
    "stated in an `assert` statement and information about where in the course of\n",
    "execution the exception was raised. User-defined exception classes can have\n",
    "additional attributes.\n",
    "\n",
    "In Chapter 1, we implemented Newton's method to find the zeros of arbitrary\n",
    "functions. The following example defines an exception class that returns the\n",
    "best guess discovered in the course of iterative improvement whenever a\n",
    "`ValueError` occurs. A math domain error (a type of `ValueError`) is raised\n",
    "when `sqrt` is applied to a negative number. This exception is handled by\n",
    "raising an `IterImproveError` that stores the most recent guess from Newton's\n",
    "method as an attribute.\n",
    "\n",
    "First, we define a new class that inherits from `Exception`.\n",
    "\n",
    "\n",
    "​"
   ]
  },
  {
   "cell_type": "code",
   "execution_count": null,
   "id": "909d3aa8",
   "metadata": {},
   "outputs": [],
   "source": [
    ">>> class IterImproveError(Exception):\n",
    "        def __init__(self, last_guess):\n",
    "            self.last_guess = last_guess\n"
   ]
  },
  {
   "cell_type": "markdown",
   "id": "8cf9c181",
   "metadata": {},
   "source": [
    "Next, we define a version of `improve`, our generic iterative improvement\n",
    "algorithm. This version handles any `ValueError` by raising an\n",
    "`IterImproveError` that stores the most recent guess. As before, `improve`\n",
    "takes as arguments two functions, each of which takes a single numerical\n",
    "argument. The `update` function returns new guesses, while the `done` function\n",
    "returns a boolean indicating that improvement has converged to a correct\n",
    "value.\n",
    "\n",
    "\n",
    "​"
   ]
  },
  {
   "cell_type": "code",
   "execution_count": null,
   "id": "0e8f1e19",
   "metadata": {},
   "outputs": [],
   "source": [
    ">>> def improve(update, done, guess=1, max_updates=1000):\n",
    "        k = 0\n",
    "        try:\n",
    "            while not done(guess) and k < max_updates:\n",
    "                guess = update(guess)\n",
    "                k = k + 1\n",
    "            return guess\n",
    "        except ValueError:\n",
    "            raise IterImproveError(guess)\n"
   ]
  },
  {
   "cell_type": "markdown",
   "id": "397cd0b1",
   "metadata": {},
   "source": [
    "Finally, we define `find_zero`, which returns the result of `improve` applied\n",
    "to a Newton update function returned by `newton_update`, which is defined in\n",
    "Chapter 1 and requires no changes for this example. This version of\n",
    "`find_zero` handles an `IterImproveError` by returning its last guess.\n",
    "\n",
    "\n",
    "​"
   ]
  },
  {
   "cell_type": "code",
   "execution_count": null,
   "id": "f6ea6870",
   "metadata": {},
   "outputs": [],
   "source": [
    ">>> def find_zero(f, guess=1):\n",
    "        def done(x):\n",
    "            return f(x) == 0\n",
    "        try:\n",
    "            return improve(newton_update(f), done, guess)\n",
    "        except IterImproveError as e:\n",
    "            return e.last_guess\n"
   ]
  },
  {
   "cell_type": "markdown",
   "id": "77bfa04b",
   "metadata": {},
   "source": [
    "Consider applying `find_zero` to find the zero of the function $2x^2 +\n",
    "\\sqrt{x}$. This function has a zero at 0, but evaluating it on any negative\n",
    "number will raise a `ValueError`. Our Chapter 1 implementation of Newton's\n",
    "Method would raise that error and fail to return any guess of the zero. Our\n",
    "revised implementation returns the last guess found before the error.\n",
    "\n",
    "\n",
    "​"
   ]
  },
  {
   "cell_type": "code",
   "execution_count": null,
   "id": "f18a1682",
   "metadata": {},
   "outputs": [],
   "source": [
    ">>> from math import sqrt\n",
    ">>> find_zero(lambda x: 2*x*x + sqrt(x))\n",
    "-0.030211203830201594\n"
   ]
  },
  {
   "cell_type": "markdown",
   "id": "ecb0e0a6",
   "metadata": {},
   "source": [
    "Although this approximation is still far from the correct answer of 0, some\n",
    "applications would prefer this coarse approximation to a `ValueError`.\n",
    "\n",
    "Exceptions are another technique that help us as programs to separate the\n",
    "concerns of our program into modular parts. In this example, Python's\n",
    "exception mechanism allowed us to separate the logic for iterative\n",
    "improvement, which appears unchanged in the suite of the `try` clause, from\n",
    "the logic for handling errors, which appears in `except` clauses. We will also\n",
    "find that exceptions are a useful feature when implementing interpreters in\n",
    "Python.\n",
    "\n",
    "_Continue_ : [ 3.4 Interpreters for Languages with Combination\n",
    "\n",
    "](../pages/34-interpreters-for-languages-with-combination.html)\n",
    "\n",
    "## 3.4 Interpreters for Languages with Combination\n",
    "\n",
    "We now embark on a tour of the technology by which languages are established\n",
    "in terms of other languages. _Metalinguistic abstraction_  establishing new\n",
    "languages  plays an important role in all branches of engineering design. It\n",
    "is particularly important to computer programming, because in programming not\n",
    "only can we formulate new languages but we can also implement these languages\n",
    "by constructing interpreters. An interpreter for a programming language is a\n",
    "function that, when applied to an expression of the language, performs the\n",
    "actions required to evaluate that expression.\n",
    "\n",
    "We will first define an interpreter for a language that is a limited subset of\n",
    "Scheme, called Calculator. Then, we will develop a sketch of an interpreter\n",
    "for Scheme as a whole. The interpreter we create will be complete in the sense\n",
    "that it will allow us to write fully general programs in Scheme. To do so, it\n",
    "will implement the same environment model of evaluation that we introduced for\n",
    "Python programs in Chapter 1.\n",
    "\n",
    "Many of the examples in this section are contained in the companion [Scheme-\n",
    "Syntax Calculator example](../examples/scalc/scalc.html), as they are too\n",
    "complex to fit naturally in the format of this text.\n",
    "\n",
    "### 3.4.1 A Scheme-Syntax Calculator\n",
    "\n",
    "The Scheme-Syntax Calculator (or simply Calculator) is an expression language\n",
    "for the arithmetic operations of addition, subtraction, multiplication, and\n",
    "division. Calculator shares Scheme's call expression syntax and operator\n",
    "behavior. Addition (`+`) and multiplication (`*`) operations each take an\n",
    "arbitrary number of arguments:\n",
    "\n",
    "\n",
    "​"
   ]
  },
  {
   "cell_type": "code",
   "execution_count": null,
   "id": "26955456",
   "metadata": {},
   "outputs": [],
   "source": [
    "> (+ 1 2 3 4)\n",
    "10\n",
    "> (+)\n",
    "0\n",
    "> (* 1 2 3 4)\n",
    "24\n",
    "> (*)\n",
    "1\n"
   ]
  },
  {
   "cell_type": "markdown",
   "id": "111099af",
   "metadata": {},
   "source": [
    "Subtraction (`-`) has two behaviors. With one argument, it negates the\n",
    "argument. With at least two arguments, it subtracts all but the first from the\n",
    "first. Division (`/`) has a similar pair of two behaviors: compute the\n",
    "multiplicative inverse of a single argument or divide all but the first into\n",
    "the first:\n",
    "\n",
    "\n",
    "​"
   ]
  },
  {
   "cell_type": "code",
   "execution_count": null,
   "id": "fc3bc705",
   "metadata": {},
   "outputs": [],
   "source": [
    "> (- 10 1 2 3)\n",
    "4\n",
    "> (- 3)\n",
    "-3\n",
    "> (/ 15 12)\n",
    "1.25\n",
    "> (/ 30 5 2)\n",
    "3\n",
    "> (/ 10)\n",
    "0.1\n"
   ]
  },
  {
   "cell_type": "markdown",
   "id": "f871313b",
   "metadata": {},
   "source": [
    "A call expression is evaluated by evaluating its operand sub-expressions, then\n",
    "applying the operator to the resulting arguments:\n",
    "\n",
    "\n",
    "​"
   ]
  },
  {
   "cell_type": "code",
   "execution_count": null,
   "id": "dd5c608c",
   "metadata": {},
   "outputs": [],
   "source": [
    "> (- 100 (* 7 (+ 8 (/ -12 -3))))\n",
    "16.0\n"
   ]
  },
  {
   "cell_type": "markdown",
   "id": "f4af5d87",
   "metadata": {},
   "source": [
    "We will implement an interpreter for the Calculator language in Python. That\n",
    "is, we will write a Python program that takes string lines as input and\n",
    "returns the result of evaluating those lines as a Calculator expression. Our\n",
    "interpreter will raise an appropriate exception if the calculator expression\n",
    "is not well formed.\n",
    "\n",
    "### 3.4.2 Expression Trees\n",
    "\n",
    "Until this point in the course, expression trees have been conceptual entities\n",
    "to which we have referred in describing the process of evaluation; we have\n",
    "never before explicitly represented expression trees as data in our programs.\n",
    "In order to write an interpreter, we must operate on expressions as data.\n",
    "\n",
    "A primitive expression is just a number or a string in Calculator: either an\n",
    "`int` or `float` or an operator symbol. All combined expressions are call\n",
    "expressions. A call expression is a Scheme list with a first element (the\n",
    "operator) followed by zero or more operand expressions.\n",
    "\n",
    "**Scheme Pairs.** In Scheme, lists are nested pairs, but not all pairs are\n",
    "lists. To represent Scheme pairs and lists in Python, we will define a class\n",
    "`Pair` that is similar to the `Rlist` class earlier in the chapter. The\n",
    "implementation appears in\n",
    "[scheme_reader](../examples/scalc/scheme_reader.py.html).\n",
    "\n",
    "The empty list is represented by an object called `nil`, which is an instance\n",
    "of the class `nil`. We assume that only one `nil` instance will ever be\n",
    "created.\n",
    "\n",
    "The `Pair` class and `nil` object are Scheme values represented in Python.\n",
    "They have `repr` strings that are Python expressions and `str` strings that\n",
    "are Scheme expressions.\n",
    "\n",
    "\n",
    "​"
   ]
  },
  {
   "cell_type": "code",
   "execution_count": null,
   "id": "9b538cfb",
   "metadata": {},
   "outputs": [],
   "source": [
    ">>> s = Pair(1, Pair(2, nil))\n",
    ">>> s\n",
    "Pair(1, Pair(2, nil))\n",
    ">>> print(s)\n",
    "(1 2)\n"
   ]
  },
  {
   "cell_type": "markdown",
   "id": "9ccd8cbc",
   "metadata": {},
   "source": [
    "They implement the basic Python sequence interface of length and element\n",
    "selection, as well as a `map` method that returns a Scheme list.\n",
    "\n",
    "\n",
    "​"
   ]
  },
  {
   "cell_type": "code",
   "execution_count": null,
   "id": "c69bfe86",
   "metadata": {},
   "outputs": [],
   "source": [
    ">>> len(s)\n",
    "2\n",
    ">>> s[1]\n",
    "2\n",
    ">>> print(s.map(lambda x: x+4))\n",
    "(5 6)\n"
   ]
  },
  {
   "cell_type": "markdown",
   "id": "1bbbf519",
   "metadata": {},
   "source": [
    "**Nested Lists.** Nested pairs can represent lists, but the elements of a list\n",
    "can also be lists themselves. Pairs are therefore sufficient to represent\n",
    "Scheme expressions, which are in fact nested lists.\n",
    "\n",
    "\n",
    "​"
   ]
  },
  {
   "cell_type": "code",
   "execution_count": null,
   "id": "65b0f8e2",
   "metadata": {},
   "outputs": [],
   "source": [
    ">>> expr = Pair('+', Pair(Pair('*', Pair(3, Pair(4, nil))), Pair(5, nil)))\n",
    ">>> print(expr)\n",
    "(+ (* 3 4) 5)\n",
    ">>> print(expr.second.first)\n",
    "(* 3 4)\n",
    ">>> expr.second.first.second.first\n",
    "3\n"
   ]
  },
  {
   "cell_type": "markdown",
   "id": "a7397b68",
   "metadata": {},
   "source": [
    "This example demonstrates that all Calculator expressions are nested Scheme\n",
    "lists. Our Calculator interpreter will read in nested Scheme lists, convert\n",
    "them into expression trees represented as nested `Pair` instances (_Parsing\n",
    "expressions_ below), and then evaluate the expression trees to produce values\n",
    "(_Calculator evaluation_ below).\n",
    "\n",
    "### 3.4.3 Parsing Expressions\n",
    "\n",
    "Parsing is the process of generating expression trees from raw text input. A\n",
    "parser is a composition of two components: a lexical analyzer and a syntactic\n",
    "analyzer. First, the _lexical analyzer_ partitions the input string into\n",
    "_tokens_ , which are the minimal syntactic units of the language such as names\n",
    "and symbols. Second, the _syntactic analyzer_ constructs an expression tree\n",
    "from this sequence of tokens. The sequence of tokens produced by the lexical\n",
    "analyzer is consumed by the syntactic analyzer.\n",
    "\n",
    "**Lexical analysis.** The component that interprets a string as a token\n",
    "sequence is called a _tokenizer_ or _lexical analyzer_. In our implementation,\n",
    "the tokenizer is a function called `tokenize_line` in\n",
    "[scheme_tokens](../examples/scalc/scheme_tokens.py.html). Scheme tokens are\n",
    "delimited by white space, parentheses, dots, or single quotation marks.\n",
    "Delimiters are tokens, as are symbols and numerals. The tokenizer analyzes a\n",
    "line character by character, validating the format of symbols and numerals.\n",
    "\n",
    "Tokenizing a well-formed Calculator expression separates all symbols and\n",
    "delimiters, but identifies multi-character numbers (e.g., 2.3) and converts\n",
    "them into numeric types.\n",
    "\n",
    "\n",
    "​"
   ]
  },
  {
   "cell_type": "code",
   "execution_count": null,
   "id": "b236b2e5",
   "metadata": {},
   "outputs": [],
   "source": [
    ">>> tokenize_line('(+ 1 (* 2.3 45))')\n",
    "['(', '+', 1, '(', '*', 2.3, 45, ')', ')']\n"
   ]
  },
  {
   "cell_type": "markdown",
   "id": "3adf4129",
   "metadata": {},
   "source": [
    "Lexical analysis is an iterative process, and it can be applied to each line\n",
    "of an input program in isolation.\n",
    "\n",
    "**Syntactic analysis.** The component that interprets a token sequence as an\n",
    "expression tree is called a _syntactic analyzer_. Syntactic analysis is a\n",
    "tree-recursive process, and it must consider an entire expression that may\n",
    "span multiple lines.\n",
    "\n",
    "Syntactic analysis is implemented by the `scheme_read` function in\n",
    "[scheme_reader](../examples/scalc/scheme_reader.py.html). It is tree-recursive\n",
    "because analyzing a sequence of tokens often involves analyzing a subsequence\n",
    "of those tokens into a subexpression, which itself serves as a branch (e.g.,\n",
    "operand) of a larger expression tree. Recursion generates the hierarchical\n",
    "structures consumed by the evaluator.\n",
    "\n",
    "The `scheme_read` function expects its input `src` to be a `Buffer` instance\n",
    "that gives access to a sequence of tokens. A `Buffer`, defined in the\n",
    "[buffer](../examples/scalc/buffer.py.html) module, collects tokens that span\n",
    "multiple lines into a single object that can be analyzed syntactically.\n",
    "\n",
    "\n",
    "​"
   ]
  },
  {
   "cell_type": "code",
   "execution_count": null,
   "id": "abba0072",
   "metadata": {},
   "outputs": [],
   "source": [
    ">>> lines = ['(+ 1', '   (* 2.3 45))']\n",
    ">>> expression = scheme_read(Buffer(tokenize_lines(lines)))\n",
    ">>> expression\n",
    "Pair('+', Pair(1, Pair(Pair('*', Pair(2.3, Pair(45, nil))), nil)))\n",
    ">>> print(expression)\n",
    "(+ 1 (* 2.3 45))\n"
   ]
  },
  {
   "cell_type": "markdown",
   "id": "02b9d941",
   "metadata": {},
   "source": [
    "The `scheme_read` function first checks for various base cases, including\n",
    "empty input (which raises an end-of-file exception, called `EOFError` in\n",
    "Python) and primitive expressions. A recursive call to `read_tail` is invoked\n",
    "whenever a `(` token indicates the beginning of a list.\n",
    "\n",
    "The `read_tail` function continues to read from the same input `src`, but\n",
    "expects to be called after a list has begun. Its base cases are an empty input\n",
    "(an error) or a closing parenthesis that terminates the list. Its recursive\n",
    "call reads the first element of the list with `scheme_read`, reads the rest of\n",
    "the list with `read_tail`, and then returns a list represented as a `Pair`.\n",
    "\n",
    "This implementation of `scheme_read` can read well-formed Scheme lists, which\n",
    "are all we need for the Calculator language. Parsing dotted lists and quoted\n",
    "forms is left as an exercise.\n",
    "\n",
    "Informative syntax errors improve the usability of an interpreter\n",
    "substantially. The `SyntaxError` exceptions that are raised include a\n",
    "description of the problem encountered.\n",
    "\n",
    "### 3.4.4 Calculator Evaluation\n",
    "\n",
    "The [scalc](../examples/scalc/scalc.py.html) module implements an evaluator\n",
    "for the Calculator language. The `calc_eval` function takes an expression as\n",
    "an argument and returns its value. Definitions of the helper functions\n",
    "`simplify`, `reduce`, and `as_scheme_list` appear in the model and are used\n",
    "below.\n",
    "\n",
    "For Calculator, the only two legal syntactic forms of expressions are numbers\n",
    "and call expressions, which are `Pair` instances representing well-formed\n",
    "Scheme lists. Numbers are _self-evaluating_ ; they can be returned directly\n",
    "from `calc_eval`. Call expressions require function application.\n",
    "\n",
    "\n",
    "​"
   ]
  },
  {
   "cell_type": "code",
   "execution_count": null,
   "id": "31c08348",
   "metadata": {},
   "outputs": [],
   "source": [
    ">>> def calc_eval(exp):\n",
    "        \"\"\"Evaluate a Calculator expression.\"\"\"\n",
    "        if type(exp) in (int, float):\n",
    "            return simplify(exp)\n",
    "        elif isinstance(exp, Pair):\n",
    "            arguments = exp.second.map(calc_eval)\n",
    "            return simplify(calc_apply(exp.first, arguments))\n",
    "        else:\n",
    "            raise TypeError(exp + ' is not a number or call expression')\n"
   ]
  },
  {
   "cell_type": "markdown",
   "id": "956b3e56",
   "metadata": {},
   "source": [
    "Call expressions are evaluated by first recursively mapping the `calc_eval`\n",
    "function to the list of operands, which computes a list of `arguments`. Then,\n",
    "the operator is applied to those arguments in a second function, `calc_apply`.\n",
    "\n",
    "The Calculator language is simple enough that we can easily express the logic\n",
    "of applying each operator in the body of a single function. In `calc_apply`,\n",
    "each conditional clause corresponds to applying one operator.\n",
    "\n",
    "\n",
    "​"
   ]
  },
  {
   "cell_type": "code",
   "execution_count": null,
   "id": "d029acff",
   "metadata": {},
   "outputs": [],
   "source": [
    ">>> def calc_apply(operator, args):\n",
    "        \"\"\"Apply the named operator to a list of args.\"\"\"\n",
    "        if not isinstance(operator, str):\n",
    "            raise TypeError(str(operator) + ' is not a symbol')\n",
    "        if operator == '+':\n",
    "            return reduce(add, args, 0)\n",
    "        elif operator == '-':\n",
    "            if len(args) == 0:\n",
    "                raise TypeError(operator + ' requires at least 1 argument')\n",
    "            elif len(args) == 1:\n",
    "                return -args.first\n",
    "            else:\n",
    "                return reduce(sub, args.second, args.first)\n",
    "        elif operator == '*':\n",
    "            return reduce(mul, args, 1)\n",
    "        elif operator == '/':\n",
    "            if len(args) == 0:\n",
    "                raise TypeError(operator + ' requires at least 1 argument')\n",
    "            elif len(args) == 1:\n",
    "                return 1/args.first\n",
    "            else:\n",
    "                return reduce(truediv, args.second, args.first)\n",
    "        else:\n",
    "            raise TypeError(operator + ' is an unknown operator')\n"
   ]
  },
  {
   "cell_type": "markdown",
   "id": "d884eef0",
   "metadata": {},
   "source": [
    "Above, each suite computes the result of a different operator or raises an\n",
    "appropriate `TypeError` when the wrong number of arguments is given. The\n",
    "`calc_apply` function can be applied directly, but it must be passed a list of\n",
    "_values_ as arguments rather than a list of operand expressions.\n",
    "\n",
    "\n",
    "​"
   ]
  },
  {
   "cell_type": "code",
   "execution_count": null,
   "id": "3a5dc126",
   "metadata": {},
   "outputs": [],
   "source": [
    ">>> calc_apply('+', as_scheme_list(1, 2, 3))\n",
    "6\n",
    ">>> calc_apply('-', as_scheme_list(10, 1, 2, 3))\n",
    "4\n",
    ">>> calc_apply('*', nil)\n",
    "1\n",
    ">>> calc_apply('*', as_scheme_list(1, 2, 3, 4, 5))\n",
    "120\n",
    ">>> calc_apply('/', as_scheme_list(40, 5))\n",
    "8.0\n"
   ]
  },
  {
   "cell_type": "markdown",
   "id": "1e7c3fd5",
   "metadata": {},
   "source": [
    "The role of `calc_eval` is to make proper calls to `calc_apply` by first\n",
    "computing the value of operand sub-expressions before passing them as\n",
    "arguments to `calc_apply`. Thus, `calc_eval` can accept a nested expression.\n",
    "\n",
    "\n",
    "​"
   ]
  },
  {
   "cell_type": "code",
   "execution_count": null,
   "id": "166cac01",
   "metadata": {},
   "outputs": [],
   "source": [
    ">>> print(exp)\n",
    "(+ (* 3 4) 5)\n",
    ">>> calc_eval(exp)\n",
    "17\n"
   ]
  },
  {
   "cell_type": "markdown",
   "id": "30fae3e7",
   "metadata": {},
   "source": [
    "The structure of `calc_eval` is an example of dispatching on type: the form of\n",
    "the expression. The first form of expression is a number, which requires no\n",
    "additional evaluation step. In general, primitive expressions that do not\n",
    "require an additional evaluation step are called _self-evaluating_. The only\n",
    "self-evaluating expressions in our Calculator language are numbers, but a\n",
    "general programming language might also include strings, boolean values, etc.\n",
    "\n",
    "**Read-eval-print loops.** A typical approach to interacting with an\n",
    "interpreter is through a read-eval-print loop, or REPL, which is a mode of\n",
    "interaction that reads an expression, evaluates it, and prints the result for\n",
    "the user. The Python interactive session is an example of such a loop.\n",
    "\n",
    "An implementation of a REPL can be largely independent of the interpreter it\n",
    "uses. The function `read_eval_print_loop` below buffers input from the user,\n",
    "constructs an expression using the language-specific `scheme_read` function,\n",
    "then prints the result of applying `calc_eval` to that expression.\n",
    "\n",
    "\n",
    "​"
   ]
  },
  {
   "cell_type": "code",
   "execution_count": null,
   "id": "2f2a70e7",
   "metadata": {},
   "outputs": [],
   "source": [
    ">>> def read_eval_print_loop():\n",
    "        \"\"\"Run a read-eval-print loop for calculator.\"\"\"\n",
    "        while True:\n",
    "            src = buffer_input()\n",
    "            while src.more_on_line:\n",
    "                expression = scheme_read(src)\n",
    "                print(calc_eval(expression))\n"
   ]
  },
  {
   "cell_type": "markdown",
   "id": "63cc7fdb",
   "metadata": {},
   "source": [
    "This version of `read_eval_print_loop` contains all of the essential\n",
    "components of an interactive interface. An example session would look like:\n",
    "\n",
    "\n",
    "​"
   ]
  },
  {
   "cell_type": "code",
   "execution_count": null,
   "id": "72d63678",
   "metadata": {},
   "outputs": [],
   "source": [
    "> (* 1 2 3)\n",
    "6\n",
    "> (+)\n",
    "0\n",
    "> (+ 2 (/ 4 8))\n",
    "2.5\n",
    "> (+ 2 2) (* 3 3)\n",
    "4\n",
    "9\n",
    "> (+ 1\n",
    "     (- 23)\n",
    "     (* 4 2.5))\n",
    "-12\n"
   ]
  },
  {
   "cell_type": "markdown",
   "id": "2086d1b5",
   "metadata": {},
   "source": [
    "This loop implementation has no mechanism for termination or error handling.\n",
    "We can improve the interface by reporting errors to the user. We can also\n",
    "allow the user to exit the loop by signalling a keyboard interrupt\n",
    "(`Control-C` on UNIX) or end-of-file exception (`Control-D` on UNIX). To\n",
    "enable these improvements, we place the original suite of the `while`\n",
    "statement within a `try` statement. The first `except` clause handles\n",
    "`SyntaxError` and `ValueError` exceptions raised by `scheme_read` as well as\n",
    "`TypeError` and `ZeroDivisionError` exceptions raised by `calc_eval`.\n",
    "\n",
    "\n",
    "​"
   ]
  },
  {
   "cell_type": "code",
   "execution_count": null,
   "id": "89866fe7",
   "metadata": {},
   "outputs": [],
   "source": [
    ">>> def read_eval_print_loop():\n",
    "        \"\"\"Run a read-eval-print loop for calculator.\"\"\"\n",
    "        while True:\n",
    "            try:\n",
    "                src = buffer_input()\n",
    "                while src.more_on_line:\n",
    "                    expression = scheme_read(src)\n",
    "                    print(calc_eval(expression))\n",
    "            except (SyntaxError, TypeError, ValueError, ZeroDivisionError) as err:\n",
    "                print(type(err).__name__ + ':', err)\n",
    "            except (KeyboardInterrupt, EOFError):  # <Control>-D, etc.\n",
    "                print('Calculation completed.')\n",
    "                return\n"
   ]
  },
  {
   "cell_type": "markdown",
   "id": "bd072e52",
   "metadata": {},
   "source": [
    "This loop implementation reports errors without exiting the loop. Rather than\n",
    "exiting the program on an error, restarting the loop after an error message\n",
    "lets users revise their expressions. Upon importing the `readline` module,\n",
    "users can even recall their previous inputs using the up arrow or `Control-P`.\n",
    "The final result provides an informative error reporting interface:\n",
    "\n",
    "\n",
    "​"
   ]
  },
  {
   "cell_type": "code",
   "execution_count": null,
   "id": "3cd1fe72",
   "metadata": {},
   "outputs": [],
   "source": [
    "> )\n",
    "SyntaxError: unexpected token: )\n",
    "> 2.3.4\n",
    "ValueError: invalid numeral: 2.3.4\n",
    "> +\n",
    "TypeError: + is not a number or call expression\n",
    "> (/ 5)\n",
    "TypeError: / requires exactly 2 arguments\n",
    "> (/ 1 0)\n",
    "ZeroDivisionError: division by zero\n"
   ]
  },
  {
   "cell_type": "markdown",
   "id": "68211fde",
   "metadata": {},
   "source": [
    "As we generalize our interpreter to new languages other than Calculator, we\n",
    "will see that the `read_eval_print_loop` is parameterized by a parsing\n",
    "function, an evaluation function, and the exception types handled by the `try`\n",
    "statement. Beyond these changes, all REPLs can be implemented using the same\n",
    "structure.\n",
    "\n",
    "_Continue_ : [ 3.5 Interpreters for Languages with Abstraction\n",
    "\n",
    "](../pages/35-interpreters-for-languages-with-abstraction.html)\n",
    "\n",
    "## 3.5 Interpreters for Languages with Abstraction\n",
    "\n",
    "The Calculator language provides a means of combination through nested call\n",
    "expressions. However, there is no way to define new operators, give names to\n",
    "values, or express general methods of computation. Calculator does not support\n",
    "abstraction in any way. As a result, it is not a particularly powerful or\n",
    "general programming language. We now turn to the task of defining a general\n",
    "programming language that supports abstraction by binding names to values and\n",
    "defining new operations.\n",
    "\n",
    "Unlike the previous section, which presented a complete interpreter as Python\n",
    "source code, this section takes a descriptive approach. The companion project\n",
    "asks you to implement the ideas presented here by building a fully functional\n",
    "Scheme interpreter.\n",
    "\n",
    "### 3.5.1 Structure\n",
    "\n",
    "This section describes the general structure of a Scheme interpreter.\n",
    "Completing that project will produce a working implementation of the\n",
    "interpreter described here.\n",
    "\n",
    "An interpreter for Scheme can share much of the same structure as the\n",
    "Calculator interpreter. A parser produces an expression that is interpreted by\n",
    "an evaluator. The evaluation function inspects the form of an expression, and\n",
    "for call expressions it calls a function to apply a procedure to some\n",
    "arguments. Much of the difference in evaluators is associated with special\n",
    "forms, user-defined functions, and implementing the environment model of\n",
    "computation.\n",
    "\n",
    "**Parsing.** The [scheme_reader](../examples/scalc/scheme_reader.py.html) and\n",
    "[scheme_tokens](../examples/scalc/scheme_tokens.py.html) modules from the\n",
    "Calculator interpreter are nearly sufficient to parse any valid Scheme\n",
    "expression. However, it does not yet support quotation or dotted lists. A full\n",
    "Scheme interpreter should be able to parse the following input expression.\n",
    "\n",
    "\n",
    "​"
   ]
  },
  {
   "cell_type": "code",
   "execution_count": null,
   "id": "5b100cf8",
   "metadata": {},
   "outputs": [],
   "source": [
    ">>> read_line(\"(car '(1 . 2))\")\n",
    "Pair('car', Pair(Pair('quote', Pair(Pair(1, 2), nil)), nil))\n"
   ]
  },
  {
   "cell_type": "markdown",
   "id": "7cd285d1",
   "metadata": {},
   "source": [
    "Your first task in implementing the Scheme interpreter will be to extend\n",
    "[scheme_reader](../examples/scalc/scheme_reader.py.html) to correctly parse\n",
    "dotted lists and quotation.\n",
    "\n",
    "**Evaluation.** Scheme is evaluated one expression at a time. A skeleton\n",
    "implementation of the evaluator is defined in `scheme.py` of the companion\n",
    "project. Each expression returned from `scheme_read` is passed to the\n",
    "`scheme_eval` function, which evaluates an expression `expr` in the current\n",
    "environment `env`.\n",
    "\n",
    "The `scheme_eval` function evaluates the different forms of expressions in\n",
    "Scheme: primitives, special forms, and call expressions. The form of a\n",
    "combination in Scheme can be determined by inspecting its first element. Each\n",
    "special form has its own evaluation rule. A simplified implementation of\n",
    "`scheme_eval` appears below. Some error checking and special form handling has\n",
    "been removed in order to focus our discussion. A complete implementation\n",
    "appears in the companion project.\n",
    "\n",
    "\n",
    "​"
   ]
  },
  {
   "cell_type": "code",
   "execution_count": null,
   "id": "183eed2b",
   "metadata": {},
   "outputs": [],
   "source": [
    ">>> def scheme_eval(expr, env):\n",
    "        \"\"\"Evaluate Scheme expression expr in environment env.\"\"\"\n",
    "        if scheme_symbolp(expr):\n",
    "            return env[expr]\n",
    "        elif scheme_atomp(expr):\n",
    "            return expr\n",
    "        first, rest = expr.first, expr.second\n",
    "        if first == \"lambda\":\n",
    "            return do_lambda_form(rest, env)\n",
    "        elif first == \"define\":\n",
    "            do_define_form(rest, env)\n",
    "            return None\n",
    "        else:\n",
    "            procedure = scheme_eval(first, env)\n",
    "            args = rest.map(lambda operand: scheme_eval(operand, env))\n",
    "            return scheme_apply(procedure, args, env)\n"
   ]
  },
  {
   "cell_type": "markdown",
   "id": "96dcef23",
   "metadata": {},
   "source": [
    "**Procedure application.** The final case above invokes a second process,\n",
    "procedure application, that is implemented by the function `scheme_apply`. The\n",
    "procedure application process in Scheme is considerably more general than the\n",
    "`calc_apply` function in Calculator. It applies two kinds of arguments: a\n",
    "`PrimtiveProcedure` or a `LambdaProcedure`. A `PrimitiveProcedure` is\n",
    "implemented in Python; it has an instance attribute `fn` that is bound to a\n",
    "Python function. In addition, it may or may not require access to the current\n",
    "environment. This Python function is called whenever the procedure is applied.\n",
    "\n",
    "A `LambdaProcedure` is implemented in Scheme. It has a `body` attribute that\n",
    "is a Scheme expression, evaluated whenever the procedure is applied. To apply\n",
    "the procedure to a list of arguments, the body expression is evaluated in a\n",
    "new environment. To construct this environment, a new frame is added to the\n",
    "environment, in which the formal parameters of the procedure are bound to the\n",
    "arguments. The body is evaluated using `scheme_eval`.\n",
    "\n",
    "**Eval/apply recursion.** The functions that implement the evaluation process,\n",
    "`scheme_eval` and `scheme_apply`, are mutually recursive. Evaluation requires\n",
    "application whenever a call expression is encountered. Application uses\n",
    "evaluation to evaluate operand expressions into arguments, as well as to\n",
    "evaluate the body of user-defined procedures. The general structure of this\n",
    "mutually recursive process appears in interpreters quite generally: evaluation\n",
    "is defined in terms of application and application is defined in terms of\n",
    "evaluation.\n",
    "\n",
    "This recursive cycle ends with language primitives. Evaluation has a base case\n",
    "that is evaluating a primitive expression. Some special forms also constitute\n",
    "base cases without recursive calls. Function application has a base case that\n",
    "is applying a primitive procedure. This mutually recursive structure, between\n",
    "an eval function that processes expression forms and an apply function that\n",
    "processes functions and their arguments, constitutes the essence of the\n",
    "evaluation process.\n",
    "\n",
    "### 3.5.2 Environments\n",
    "\n",
    "Now that we have described the structure of our Scheme interpreter, we turn to\n",
    "implementing the `Frame` class that forms environments. Each `Frame` instance\n",
    "represents an environment in which symbols are bound to values. A frame has a\n",
    "dictionary of `bindings`, as well as a `parent` frame that is `None` for the\n",
    "global frame.\n",
    "\n",
    "Bindings are not accessed directly, but instead through two `Frame` methods:\n",
    "`lookup` and `define`. The first implements the look-up procedure of the\n",
    "environment model of computation described in Chapter 1. A symbol is matched\n",
    "against the `bindings` of the current frame. If it is found, the value to\n",
    "which it is bound is returned. If it is not found, look-up proceeds to the\n",
    "`parent` frame. On the other hand, the `define` method always binds a symbol\n",
    "to a value in the current frame.\n",
    "\n",
    "The implementation of `lookup` and the use of `define` are left as exercises.\n",
    "As an illustration of their use, consider the following example Scheme\n",
    "program:\n",
    "\n",
    "\n",
    "​"
   ]
  },
  {
   "cell_type": "code",
   "execution_count": null,
   "id": "b40ed294",
   "metadata": {},
   "outputs": [],
   "source": [
    "(define (factorial n)\n",
    "  (if (= n 0) 1 (* n (factorial (- n 1)))))\n"
   ]
  },
  {
   "cell_type": "markdown",
   "id": "d7bd5ba1",
   "metadata": {},
   "source": [
    "​    \n",
    "​"
   ]
  },
  {
   "cell_type": "code",
   "execution_count": null,
   "id": "5b9b5669",
   "metadata": {},
   "outputs": [],
   "source": [
    "(factorial 5)\n"
   ]
  },
  {
   "cell_type": "markdown",
   "id": "19ea1b6a",
   "metadata": {},
   "source": [
    "The first input expression is a `define` special form, evaluated by the\n",
    "`do_define_form` Python function. Defining a function has several steps:"
   ]
  },
  {
   "cell_type": "code",
   "execution_count": null,
   "id": "aa1f66b0",
   "metadata": {},
   "outputs": [],
   "source": [
    "1. Check the format of the expression to ensure that it is a well-formed Scheme list with at least two elements following the keyword `define`.\n",
    "2. Analyze the first element, in this case a `Pair`, to find the function name `factorial` and formal parameter list `(n)`.\n",
    "3. Create a `LambdaProcedure` with the supplied formal parameters, body, and parent environment.\n",
    "4. Bind the symbol `factorial` to this function, in the first frame of the current environment. In this case, the environment consists only of the global frame."
   ]
  },
  {
   "cell_type": "markdown",
   "id": "f1dc99d2",
   "metadata": {},
   "source": [
    "The second input is a call expression. The `procedure` passed to\n",
    "`scheme_apply` is the `LambdaProcedure` just created and bound to the symbol\n",
    "`factorial`. The `args` passed is a one-element Scheme list `(5)`. To apply\n",
    "the procedure, a new frame is created that extends the global frame (the\n",
    "parent environment of the `factorial` procedure). In this frame, the symbol\n",
    "`n` is bound to the value 5. Then, the body of `factorial` is evaluated in\n",
    "that environment, and its value is returned.\n",
    "\n",
    "### 3.5.3 Data as Programs\n",
    "\n",
    "In thinking about a program that evaluates Scheme expressions, an analogy\n",
    "might be helpful. One operational view of the meaning of a program is that a\n",
    "program is a description of an abstract machine. For example, consider again\n",
    "this procedure to compute factorials:\n",
    "\n",
    "\n",
    "​"
   ]
  },
  {
   "cell_type": "code",
   "execution_count": null,
   "id": "dd9ba25e",
   "metadata": {},
   "outputs": [],
   "source": [
    "(define (factorial n)\n",
    "  (if (= n 0) 1 (* n (factorial (- n 1)))))\n"
   ]
  },
  {
   "cell_type": "markdown",
   "id": "34d0c005",
   "metadata": {},
   "source": [
    "We could express an equivalent program in Python as well, using a conditional\n",
    "expression.\n",
    "\n",
    "\n",
    "​"
   ]
  },
  {
   "cell_type": "code",
   "execution_count": null,
   "id": "606753c0",
   "metadata": {},
   "outputs": [],
   "source": [
    ">>> def factorial(n):\n",
    "        return 1 if n == 1 else n * factorial(n - 1)"
   ]
  },
  {
   "cell_type": "markdown",
   "id": "db6fb193",
   "metadata": {},
   "source": [
    "We may regard this program as the description of a machine containing parts\n",
    "that decrement, multiply, and test for equality, together with a two-position\n",
    "switch and another factorial machine. (The factorial machine is infinite\n",
    "because it contains another factorial machine within it.) The figure below is\n",
    "a flow diagram for the factorial machine, showing how the parts are wired\n",
    "together.\n",
    "\n",
    "![](http://www.composingprograms.com/img/factorial_machine.png)\n",
    "\n",
    "In a similar way, we can regard the Scheme interpreter as a very special\n",
    "machine that takes as input a description of a machine. Given this input, the\n",
    "interpreter configures itself to emulate the machine described. For example,\n",
    "if we feed our evaluator the definition of factorial the evaluator will be\n",
    "able to compute factorials.\n",
    "\n",
    "From this perspective, our Scheme interpreter is seen to be a universal\n",
    "machine. It mimics other machines when these are described as Scheme programs.\n",
    "It acts as a bridge between the data objects that are manipulated by our\n",
    "programming language and the programming language itself. Image that a user\n",
    "types a Scheme expression into our running Scheme interpreter. From the\n",
    "perspective of the user, an input expression such as `(+ 2 2)` is an\n",
    "expression in the programming language, which the interpreter should evaluate.\n",
    "From the perspective of the Scheme interpreter, however, the expression is\n",
    "simply a sentence of words that is to be manipulated according to a well-\n",
    "defined set of rules.\n",
    "\n",
    "That the user's programs are the interpreter's data need not be a source of\n",
    "confusion. In fact, it is sometimes convenient to ignore this distinction, and\n",
    "to give the user the ability to explicitly evaluate a data object as an\n",
    "expression. In Scheme, we use this facility whenever employing the `run`\n",
    "procedure. Similar functions exist in Python: the `eval` function will\n",
    "evaluate a Python expression and the `exec` function will execute a Python\n",
    "statement. Thus,\n",
    "\n",
    "\n",
    "​"
   ]
  },
  {
   "cell_type": "code",
   "execution_count": null,
   "id": "3e746e61",
   "metadata": {},
   "outputs": [],
   "source": [
    ">>> eval('2+2')\n",
    "4\n"
   ]
  },
  {
   "cell_type": "markdown",
   "id": "9bd0db98",
   "metadata": {},
   "source": [
    "and\n",
    "\n",
    "\n",
    "​"
   ]
  },
  {
   "cell_type": "code",
   "execution_count": null,
   "id": "225b23d8",
   "metadata": {},
   "outputs": [],
   "source": [
    ">>> 2+2\n",
    "4"
   ]
  },
  {
   "cell_type": "markdown",
   "id": "550260ff",
   "metadata": {},
   "source": [
    "both return the same result. Evaluating expressions that are constructed as a\n",
    "part of execution is a common and powerful feature in dynamic programming\n",
    "languages. In few languages is this practice as common as in Scheme, but the\n",
    "ability to construct and evaluate expressions during the course of execution\n",
    "of a program can prove to be a valuable tool for any programmer."
   ]
  }
 ],
 "metadata": {},
 "nbformat": 4,
 "nbformat_minor": 5
}
