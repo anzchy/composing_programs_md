{
 "cells": [
  {
   "cell_type": "markdown",
   "id": "8bed0e1a",
   "metadata": {},
   "source": [
    "# Chapter 4: Data Processing\n",
    "\n",
    "## 4.1 Introduction\n",
    "\n",
    "Modern computers can process vast amounts of data representing many aspects of\n",
    "the world. From these big data sets, we can learn about human behavior in\n",
    "unprecedented ways: how language is used, what photos are taken, what topics\n",
    "are discussed, and how people engage with their surroundings. To process large\n",
    "data sets efficiently, programs are organized into pipelines of manipulations\n",
    "on sequential streams of data. In this chapter, we consider a suite of\n",
    "techniques process and manipulate sequential data streams efficiently.\n",
    "\n",
    "In Chapter 2, we introduced a sequence interface, implemented in Python by\n",
    "built-in data types such as `list` and `range`. In this chapter, we extend the\n",
    "concept of sequential data to include collections that have unbounded or even\n",
    "infinite size. Two mathematical examples of infinite sequences are the\n",
    "positive integers and the Fibonacci numbers. Sequential data sets of unbounded\n",
    "length also appear in other computational domains. For instance, the sequence\n",
    "of telephone calls sent through a cell tower, the sequence of mouse movements\n",
    "made by a computer user, and the sequence of acceleration measurements from\n",
    "sensors on an aircraft all continue to grow as the world evolves.\n",
    "\n",
    "_Continue_ : [ 4.2 Implicit Sequences ](../pages/42-implicit-sequences.html)\n",
    "\n",
    "## 4.2 Implicit Sequences\n",
    "\n",
    "A sequence can be represented without each element being stored explicitly in\n",
    "the memory of the computer. That is, we can construct an object that provides\n",
    "access to all of the elements of some sequential dataset without computing the\n",
    "value of each element in advance. Instead, we compute elements on demand.\n",
    "\n",
    "An example of this idea arises in the `range` container type introduced in\n",
    "Chapter 2. A `range` represents a consecutive, bounded sequence of integers.\n",
    "However, it is not the case that each element of that sequence is represented\n",
    "explicitly in memory. Instead, when an element is requested from a `range`, it\n",
    "is computed. Hence, we can represent very large ranges of integers without\n",
    "using large blocks of memory. Only the end points of the range are stored as\n",
    "part of the `range` object.\n",
    "\n",
    "\n",
    "​"
   ]
  },
  {
   "cell_type": "code",
   "execution_count": null,
   "id": "c85dcee6",
   "metadata": {},
   "outputs": [],
   "source": [
    ">>> r = range(10000, 1000000000)\n",
    ">>> r[45006230]\n",
    "45016230\n"
   ]
  },
  {
   "cell_type": "markdown",
   "id": "504d3a5e",
   "metadata": {},
   "source": [
    "In this example, not all 999,990,000 integers in this range are stored when\n",
    "the range instance is constructed. Instead, the range object adds the first\n",
    "element 10,000 to the index 45,006,230 to produce the element 45,016,230.\n",
    "Computing values on demand, rather than retrieving them from an existing\n",
    "representation, is an example of _lazy_ computation. In computer science,\n",
    "_lazy computation_ describes any program that delays the computation of a\n",
    "value until that value is needed.\n",
    "\n",
    "### 4.2.1 Iterators\n",
    "\n",
    "Python and many other programming languages provide a unified way to process\n",
    "elements of a container value sequentially, called an iterator. An _iterator_\n",
    "is an object that provides sequential access to values, one by one.\n",
    "\n",
    "The iterator abstraction has two components: a mechanism for retrieving the\n",
    "next element in the sequence being processed and a mechanism for signaling\n",
    "that the end of the sequence has been reached and no further elements remain.\n",
    "For any container, such as a list or range, an iterator can be obtained by\n",
    "calling the built-in `iter` function. The contents of the iterator can be\n",
    "accessed by calling the built-in `next` function.\n",
    "\n",
    "\n",
    "​"
   ]
  },
  {
   "cell_type": "code",
   "execution_count": null,
   "id": "16563389",
   "metadata": {},
   "outputs": [],
   "source": [
    ">>> primes = [2, 3, 5, 7]\n",
    ">>> type(primes)\n",
    ">>> iterator = iter(primes)\n",
    ">>> type(iterator)\n",
    ">>> next(iterator)\n",
    "2\n",
    ">>> next(iterator)\n",
    "3\n",
    ">>> next(iterator)\n",
    "5\n"
   ]
  },
  {
   "cell_type": "markdown",
   "id": "927d46ff",
   "metadata": {},
   "source": [
    "The way that Python signals that there are no more values available is to\n",
    "raise a `StopIteration` exception when `next` is called. This exception can be\n",
    "handled using a `try` statement.\n",
    "\n",
    "\n",
    "​"
   ]
  },
  {
   "cell_type": "code",
   "execution_count": null,
   "id": "7d7394ad",
   "metadata": {},
   "outputs": [],
   "source": [
    ">>> next(iterator)\n",
    "7\n",
    ">>> next(iterator)\n",
    "Traceback (most recent call last):\n",
    "  File \"<stdin>\", line 1, in <module>\n",
    "StopIteration\n",
    ">>> try:\n",
    "        next(iterator)\n",
    "    except StopIteration:\n",
    "        print('No more values')\n",
    "No more values\n"
   ]
  },
  {
   "cell_type": "markdown",
   "id": "d8f3c20e",
   "metadata": {},
   "source": [
    "An iterator maintains local state to represent its position in a sequence.\n",
    "Each time `next` is called, that position advances. Two separate iterators can\n",
    "track two different positions in the same sequence. However, two names for the\n",
    "same iterator will share a position, because they share the same value.\n",
    "\n",
    "\n",
    "​"
   ]
  },
  {
   "cell_type": "code",
   "execution_count": null,
   "id": "ac09c5bb",
   "metadata": {},
   "outputs": [],
   "source": [
    ">>> r = range(3, 13)\n",
    ">>> s = iter(r)  # 1st iterator over r\n",
    ">>> next(s)\n",
    "3\n",
    ">>> next(s)\n",
    "4\n",
    ">>> t = iter(r)  # 2nd iterator over r\n",
    ">>> next(t)\n",
    "3\n",
    ">>> next(t)\n",
    "4\n",
    ">>> u = t        # Alternate name for the 2nd iterator\n",
    ">>> next(u)\n",
    "5\n",
    ">>> next(u)\n",
    "6\n"
   ]
  },
  {
   "cell_type": "markdown",
   "id": "1ed6ee82",
   "metadata": {},
   "source": [
    "Advancing the second iterator does not affect the first. Since the last value\n",
    "returned from the first iterator was 4, it is positioned to return 5 next. On\n",
    "the other hand, the second iterator is positioned to return 7 next.\n",
    "\n",
    "\n",
    "​"
   ]
  },
  {
   "cell_type": "code",
   "execution_count": null,
   "id": "390ef422",
   "metadata": {},
   "outputs": [],
   "source": [
    ">>> next(s)\n",
    "5\n",
    ">>> next(t)\n",
    "7\n"
   ]
  },
  {
   "cell_type": "markdown",
   "id": "75aadfb7",
   "metadata": {},
   "source": [
    "Calling `iter` on an iterator will return that iterator, not a copy. This\n",
    "behavior is included in Python so that a programmer can call `iter` on a value\n",
    "to get an iterator without having to worry about whether it is an iterator or\n",
    "a container.\n",
    "\n",
    "\n",
    "​"
   ]
  },
  {
   "cell_type": "code",
   "execution_count": null,
   "id": "472af7a7",
   "metadata": {},
   "outputs": [],
   "source": [
    ">>> v = iter(t)  # Another alterante name for the 2nd iterator\n",
    ">>> next(v)\n",
    "8\n",
    ">>> next(u)\n",
    "9\n",
    ">>> next(t)\n",
    "10\n"
   ]
  },
  {
   "cell_type": "markdown",
   "id": "d04b00b4",
   "metadata": {},
   "source": [
    "The usefulness of iterators is derived from the fact that the underlying\n",
    "series of data for an iterator may not be represented explicitly in memory. An\n",
    "iterator provides a mechanism for considering each of a series of values in\n",
    "turn, but all of those elements do not need to be stored simultaneously.\n",
    "Instead, when the next element is requested from an iterator, that element may\n",
    "be computed on demand instead of being retrieved from an existing memory\n",
    "source.\n",
    "\n",
    "Ranges are able to compute the elements of a sequence lazily because the\n",
    "sequence represented is uniform, and any element is easy to compute from the\n",
    "starting and ending bounds of the range. Iterators allow for lazy generation\n",
    "of a much broader class of underlying sequential datasets, because they do not\n",
    "need to provide access to arbitrary elements of the underlying series.\n",
    "Instead, iterators are only required to compute the next element of the\n",
    "series, in order, each time another element is requested. While not as\n",
    "flexible as accessing arbitrary elements of a sequence (called _random\n",
    "access_), _sequential access_ to sequential data is often sufficient for data\n",
    "processing applications.\n",
    "\n",
    "### 4.2.2 Iterables\n",
    "\n",
    "Any value that can produce iterators is called an _iterable_ value. In Python,\n",
    "an iterable value is anything that can be passed to the built-in `iter`\n",
    "function. Iterables include sequence values such as strings and tuples, as\n",
    "well as other containers such as sets and dictionaries. Iterators are also\n",
    "iterables, because they can be passed to the `iter` function.\n",
    "\n",
    "Even unordered collections such as dictionaries must define an ordering over\n",
    "their contents when they produce iterators. Dictionaries and sets are\n",
    "unordered because the programmer has no control over the order of iteration,\n",
    "but Python does guarantee certain properties about their order in its\n",
    "specification.\n",
    "\n",
    "TODO block quote\n",
    "\n",
    "\n",
    "​"
   ]
  },
  {
   "cell_type": "code",
   "execution_count": null,
   "id": "8569371c",
   "metadata": {},
   "outputs": [],
   "source": [
    ">>> d = {'one': 1, 'two': 2, 'three': 3}\n",
    ">>> d\n",
    "{'one': 1, 'three': 3, 'two': 2}\n",
    ">>> k = iter(d)\n",
    ">>> next(k)\n",
    "'one'\n",
    ">>> next(k)\n",
    "'three'\n",
    ">>> v = iter(d.values())\n",
    ">>> next(v)\n",
    "1\n",
    ">>> next(v)\n",
    "3\n"
   ]
  },
  {
   "cell_type": "markdown",
   "id": "db6c0d1f",
   "metadata": {},
   "source": [
    "If a dictionary changes in structure because a key is added or removed, then\n",
    "all iterators become invalid and future iterators may exhibit arbitrary\n",
    "changes to the order their contents. On the other hand, changing the value of\n",
    "an existing key does not change the order of the contents or invalidate\n",
    "iterators.\n",
    "\n",
    "\n",
    "​"
   ]
  },
  {
   "cell_type": "code",
   "execution_count": null,
   "id": "54daf819",
   "metadata": {},
   "outputs": [],
   "source": [
    ">>> d.pop('two')\n",
    "2\n",
    ">>> next(k)\n",
    "       \n",
    "RuntimeError: dictionary changed size during iteration\n",
    "Traceback (most recent call last):\n"
   ]
  },
  {
   "cell_type": "markdown",
   "id": "60a5c2c0",
   "metadata": {},
   "source": [
    "### 4.2.3 Built-in Iterators\n",
    "\n",
    "Several built-in functions take as arguments iterable values and return\n",
    "iterators. These functions are used extensively for lazy sequence processing.\n",
    "\n",
    "The `map` function is lazy: calling it does not perform the computation\n",
    "required to compute elements of its result. Instead, an iterator object is\n",
    "created that can return results if queried using `next`. We can observe this\n",
    "fact in the following example, in which the call to `print` is delayed until\n",
    "the corresponding element is requested from the `doubled` iterator.\n",
    "\n",
    "\n",
    "​"
   ]
  },
  {
   "cell_type": "code",
   "execution_count": null,
   "id": "768f0e7d",
   "metadata": {},
   "outputs": [],
   "source": [
    ">>> def double_and_print(x):\n",
    "        print('***', x, '=>', 2*x, '***')\n",
    "        return 2*x\n",
    ">>> s = range(3, 7)\n",
    ">>> doubled = map(double_and_print, s)  # double_and_print not yet called\n",
    ">>> next(doubled)                       # double_and_print called once\n",
    "*** 3 => 6 ***\n",
    "6\n",
    ">>> next(doubled)                       # double_and_print called again\n",
    "*** 4 => 8 ***\n",
    "8\n",
    ">>> list(doubled)                       # double_and_print called twice more\n",
    "*** 5 => 10 ***\n",
    "*** 6 => 12 ***\n",
    "[10, 12]\n"
   ]
  },
  {
   "cell_type": "markdown",
   "id": "d661466a",
   "metadata": {},
   "source": [
    "The `filter` function returns an iterator over, `zip`, and `reversed`\n",
    "functions also return iterators.\n",
    "\n",
    "TODO demonstrate these values\n",
    "\n",
    "### 4.2.4 For Statements\n",
    "\n",
    "The `for` statement in Python operates on iterators. Objects are _iterable_\n",
    "(an interface) if they have an `__iter__` method that returns an _iterator_.\n",
    "Iterable objects can be the value of the `<expression>` in the header of a\n",
    "`for` statement:\n",
    "\n",
    "\n",
    "​"
   ]
  },
  {
   "cell_type": "code",
   "execution_count": null,
   "id": "d96cbde5",
   "metadata": {},
   "outputs": [],
   "source": [
    "for <name> in <expression>:\n",
    "    <suite>\n"
   ]
  },
  {
   "cell_type": "markdown",
   "id": "43fd9574",
   "metadata": {},
   "source": [
    "To execute a `for` statement, Python evaluates the header `<expression>`,\n",
    "which must yield an iterable value. Then, the `__iter__` method is invoked on\n",
    "that value. Until a `StopIteration` exception is raised, Python repeatedly\n",
    "invokes the `__next__` method on that iterator and binds the result to the\n",
    "`<name>` in the `for` statement. Then, it executes the `<suite>`.\n",
    "\n",
    "\n",
    "​"
   ]
  },
  {
   "cell_type": "code",
   "execution_count": null,
   "id": "b4234cab",
   "metadata": {},
   "outputs": [],
   "source": [
    ">>> counts = [1, 2, 3]\n",
    ">>> for item in counts:\n",
    "        print(item)\n",
    "1\n",
    "2\n",
    "3\n"
   ]
  },
  {
   "cell_type": "markdown",
   "id": "3ded553a",
   "metadata": {},
   "source": [
    "In the above example, the `counts` list returns an iterator from its\n",
    "`__iter__()` method. The `for` statement then calls that iterator's\n",
    "`__next__()` method repeatedly, and assigns the returned value to `item` each\n",
    "time. This process continues until the iterator raises a `StopIteration`\n",
    "exception, at which point execution of the `for` statement concludes.\n",
    "\n",
    "With our knowledge of iterators, we can implement the execution rule of a\n",
    "`for` statement in terms of `while`, assignment, and `try` statements.\n",
    "\n",
    "\n",
    "​"
   ]
  },
  {
   "cell_type": "code",
   "execution_count": null,
   "id": "45635f9e",
   "metadata": {},
   "outputs": [],
   "source": [
    ">>> items = counts.__iter__()\n",
    ">>> try:\n",
    "        while True:\n",
    "            item = items.__next__()\n",
    "            print(item)\n",
    "    except StopIteration:\n",
    "        pass\n",
    "1\n",
    "2\n",
    "3\n"
   ]
  },
  {
   "cell_type": "markdown",
   "id": "9d96abe0",
   "metadata": {},
   "source": [
    "Above, the iterator returned by invoking the `__iter__` method of `counts` is\n",
    "bound to a name `items` so that it can be queried for each element in turn.\n",
    "The handling clause for the `StopIteration` exception does nothing, but\n",
    "handling the exception provides a control mechanism for exiting the `while`\n",
    "loop.\n",
    "\n",
    "To use an iterator in a for loop, the iterator must also have an `__iter__`\n",
    "method. The Iterator types\n",
    "<http://docs.python.org/3/library/stdtypes.html#iterator-types> `_ section of\n",
    "the Python docs suggest that an iterator have an ``__iter__` method that\n",
    "returns the iterator itself, so that all iterators are iterable.\n",
    "\n",
    "### 4.2.5 Generators and Yield Statements\n",
    "\n",
    "The `Letters` and `Positives` objects above require us to introduce a new\n",
    "field `self.current` into our object to keep track of progress through the\n",
    "sequence. With simple sequences like those shown above, this can be done\n",
    "easily. With complex sequences, however, it can be quite difficult for the\n",
    "`__next__` method to save its place in the calculation. Generators allow us to\n",
    "define more complicated iterations by leveraging the features of the Python\n",
    "interpreter.\n",
    "\n",
    "A _generator_ is an iterator returned by a special class of function called a\n",
    "_generator function_. Generator functions are distinguished from regular\n",
    "functions in that rather than containing `return` statements in their body,\n",
    "they use `yield` statement to return elements of a series.\n",
    "\n",
    "Generators do not use attributes of an object to track their progress through\n",
    "a series. Instead, they control the execution of the generator function, which\n",
    "runs until the next `yield` statement is executed each time the generator's\n",
    "`__next__` method is invoked. The `Letters` iterator can be implemented much\n",
    "more compactly using a generator function.\n",
    "\n",
    "\n",
    "​"
   ]
  },
  {
   "cell_type": "code",
   "execution_count": null,
   "id": "77b09075",
   "metadata": {},
   "outputs": [],
   "source": [
    ">>> def letters_generator():\n",
    "        current = 'a'\n",
    "        while current <= 'd':\n",
    "            yield current\n",
    "            current = chr(ord(current)+1)\n"
   ]
  },
  {
   "cell_type": "markdown",
   "id": "2071246b",
   "metadata": {},
   "source": [
    "​    \n",
    "​"
   ]
  },
  {
   "cell_type": "code",
   "execution_count": null,
   "id": "fdac42dc",
   "metadata": {},
   "outputs": [],
   "source": [
    ">>> for letter in letters_generator():\n",
    "        print(letter)\n",
    "a\n",
    "b\n",
    "c\n",
    "d\n"
   ]
  },
  {
   "cell_type": "markdown",
   "id": "95ed0f7c",
   "metadata": {},
   "source": [
    "Even though we never explicitly defined `__iter__` or `__next__` methods, the\n",
    "`yield` statement indicates that we are defining a generator function. When\n",
    "called, a generator function doesn't return a particular yielded value, but\n",
    "instead a `generator` (which is a type of iterator) that itself can return the\n",
    "yielded values. A generator object has `__iter__` and `__next__` methods, and\n",
    "each call to `__next__` continues execution of the generator function from\n",
    "wherever it left off previously until another `yield` statement is executed.\n",
    "\n",
    "The first time `__next__` is called, the program executes statements from the\n",
    "body of the `letters_generator` function until it encounters the `yield`\n",
    "statement. Then, it pauses and returns the value of `current`. `yield`\n",
    "statements do not destroy the newly created environment, they preserve it for\n",
    "later. When `__next__` is called again, execution resumes where it left off.\n",
    "The values of `current` and of any other bound names in the scope of\n",
    "`letters_generator` are preserved across subsequent calls to `__next__`.\n",
    "\n",
    "We can walk through the generator by manually calling `____next__()`:\n",
    "\n",
    "\n",
    "​"
   ]
  },
  {
   "cell_type": "code",
   "execution_count": null,
   "id": "8395f510",
   "metadata": {},
   "outputs": [],
   "source": [
    ">>> letters = letters_generator()\n",
    ">>> type(letters)\n",
    "<class 'generator'>\n",
    ">>> letters.__next__()\n",
    "'a'\n",
    ">>> letters.__next__()\n",
    "'b'\n",
    ">>> letters.__next__()\n",
    "'c'\n",
    ">>> letters.__next__()\n",
    "'d'\n",
    ">>> letters.__next__()\n",
    "Traceback (most recent call last):\n",
    "  File \"<stdin>\", line 1, in <module>\n",
    "StopIteration\n"
   ]
  },
  {
   "cell_type": "markdown",
   "id": "49568282",
   "metadata": {},
   "source": [
    "The generator does not start executing any of the body statements of its\n",
    "generator function until the first time `__next__` is invoked. The generator\n",
    "raises a `StopIteration` exception whenever its generator function returns.\n",
    "\n",
    "### 4.2.6 Iterable Interface\n",
    "\n",
    "An object is iterable if it returns an iterator when its `__iter__` method is\n",
    "invoked. Iterable values represent data collections, and they provide a fixed\n",
    "representation that may produce more than one iterator.\n",
    "\n",
    "For example, an instance of the `Letters` class below represents a sequence of\n",
    "consecutive letters. Each time its `__iter__` method is invoked, a new\n",
    "`LetterIter` instance is constructed, which allows for sequential access to\n",
    "the contents of the sequence.\n",
    "\n",
    "\n",
    "​"
   ]
  },
  {
   "cell_type": "code",
   "execution_count": null,
   "id": "e5bf4ce9",
   "metadata": {},
   "outputs": [],
   "source": [
    ">>> class Letters:\n",
    "        def __init__(self, start='a', end='e'):\n",
    "            self.start = start\n",
    "            self.end = end\n",
    "        def __iter__(self):\n",
    "            return LetterIter(self.start, self.end)\n"
   ]
  },
  {
   "cell_type": "markdown",
   "id": "62216cc7",
   "metadata": {},
   "source": [
    "The built-in `iter` function invokes the `__iter__` method on its argument. In\n",
    "the sequence of expressions below, two iterators derived from the same\n",
    "iterable sequence independently yield letters in sequence.\n",
    "\n",
    "\n",
    "​"
   ]
  },
  {
   "cell_type": "code",
   "execution_count": null,
   "id": "7a605ca5",
   "metadata": {},
   "outputs": [],
   "source": [
    ">>> b_to_k = Letters('b', 'k')\n",
    ">>> first_iterator = b_to_k.__iter__()\n",
    ">>> next(first_iterator)\n",
    "'b'\n",
    ">>> next(first_iterator)\n",
    "'c'\n",
    ">>> second_iterator = iter(b_to_k)\n",
    ">>> second_iterator.__next__()\n",
    "'b'\n",
    ">>> first_iterator.__next__()\n",
    "'d'\n",
    ">>> first_iterator.__next__()\n",
    "'e'\n",
    ">>> second_iterator.__next__()\n",
    "'c'\n",
    ">>> second_iterator.__next__()\n",
    "'d'\n"
   ]
  },
  {
   "cell_type": "markdown",
   "id": "b19bb7a3",
   "metadata": {},
   "source": [
    "The iterable `Letters` instance `b_to_k` and the `LetterIter` iterator\n",
    "instances `first_iterator` and `second_iterator` are different in that the\n",
    "`Letters` instance does not change, while the iterator instances do change\n",
    "with each call to `next` (or equivalently, each invocation of `__next__`). The\n",
    "iterator tracks progress through sequential data, while an iterable represents\n",
    "the data itself.\n",
    "\n",
    "Many built-in functions in Python take iterable arguments and return\n",
    "iterators. The `map` function, for example, takes a function and an iterable.\n",
    "It returns an iterator over the result of applying the function argument to\n",
    "each element in the iterable argument.\n",
    "\n",
    "\n",
    "​"
   ]
  },
  {
   "cell_type": "code",
   "execution_count": null,
   "id": "abba5378",
   "metadata": {},
   "outputs": [],
   "source": [
    ">>> caps = map(lambda x: x.upper(), b_to_k)\n",
    ">>> next(caps)\n",
    "'B'\n",
    ">>> next(caps)\n",
    "'C'\n"
   ]
  },
  {
   "cell_type": "markdown",
   "id": "cb2bd60b",
   "metadata": {},
   "source": [
    "### 4.2.7 Creating Iterables with Yield\n",
    "\n",
    "In Python, iterators only make a single pass over the elements of an\n",
    "underlying series. After that pass, the iterator will continue to raise a\n",
    "`StopIteration` exception when `__next__` is invoked. Many applications\n",
    "require iteration over elements multiple times. For example, we have to\n",
    "iterate over a list many times in order to enumerate all pairs of elements.\n",
    "\n",
    "\n",
    "​"
   ]
  },
  {
   "cell_type": "code",
   "execution_count": null,
   "id": "2bb06ef0",
   "metadata": {},
   "outputs": [],
   "source": [
    ">>> def all_pairs(s):\n",
    "        for item1 in s:\n",
    "            for item2 in s:\n",
    "                yield (item1, item2)\n"
   ]
  },
  {
   "cell_type": "markdown",
   "id": "22f93caa",
   "metadata": {},
   "source": [
    "​    \n",
    "​"
   ]
  },
  {
   "cell_type": "code",
   "execution_count": null,
   "id": "57d47d6b",
   "metadata": {},
   "outputs": [],
   "source": [
    ">>> list(all_pairs([1, 2, 3]))\n",
    "[(1, 1), (1, 2), (1, 3), (2, 1), (2, 2), (2, 3), (3, 1), (3, 2), (3, 3)]\n"
   ]
  },
  {
   "cell_type": "markdown",
   "id": "1206ad63",
   "metadata": {},
   "source": [
    "Sequences are not themselves iterators, but instead _iterable_ objects. The\n",
    "iterable interface in Python consists of a single message, `__iter__`, that\n",
    "returns an iterator. The built-in sequence types in Python return new\n",
    "instances of iterators when their `__iter__` methods are invoked. If an\n",
    "iterable object returns a fresh instance of an iterator each time `__iter__`\n",
    "is called, then it can be iterated over multiple times.\n",
    "\n",
    "New iterable classes can be defined by implementing the iterable interface.\n",
    "For example, the _iterable_ `LettersWithYield` class below returns a new\n",
    "iterator over letters each time `__iter__` is invoked.\n",
    "\n",
    "\n",
    "​"
   ]
  },
  {
   "cell_type": "code",
   "execution_count": null,
   "id": "b94b83cd",
   "metadata": {},
   "outputs": [],
   "source": [
    ">>> class LettersWithYield:\n",
    "        def __init__(self, start='a', end='e'):\n",
    "            self.start = start\n",
    "            self.end = end\n",
    "        def __iter__(self):\n",
    "            next_letter = self.start\n",
    "            while next_letter < self.end:\n",
    "                yield next_letter\n",
    "                next_letter = chr(ord(next_letter)+1)\n"
   ]
  },
  {
   "cell_type": "markdown",
   "id": "029d6e22",
   "metadata": {},
   "source": [
    "The `__iter__` method is a generator function; it returns a generator object\n",
    "that yields the letters `'a'` through `'d'` and then stops. Each time we\n",
    "invoke this method, a new generator starts a fresh pass through the sequential\n",
    "data.\n",
    "\n",
    "\n",
    "​"
   ]
  },
  {
   "cell_type": "code",
   "execution_count": null,
   "id": "9474ba54",
   "metadata": {},
   "outputs": [],
   "source": [
    ">>> letters = LettersWithYield()\n",
    ">>> list(all_pairs(letters))[:5]\n",
    "[('a', 'a'), ('a', 'b'), ('a', 'c'), ('a', 'd'), ('b', 'a')]\n"
   ]
  },
  {
   "cell_type": "markdown",
   "id": "fc6e9b8c",
   "metadata": {},
   "source": [
    "### 4.2.8 Iterator Interface\n",
    "\n",
    "The Python iterator interface is defined using a method called `__next__` that\n",
    "returns the next element of some underlying sequential series that it\n",
    "represents. In response to invoking `__next__`, an iterator can perform\n",
    "arbitrary computation in order to either retrieve or compute the next element.\n",
    "Calls to `__next__` make a mutating change to the iterator: they advance the\n",
    "position of the iterator. Hence, multiple calls to `__next__` will return\n",
    "sequential elements of an underlying series. Python signals that the end of an\n",
    "underlying series has been reached by raising a `StopIteration` exception\n",
    "during a call to `__next__`.\n",
    "\n",
    "The `LetterIter` class below iterates over an underlying series of letters\n",
    "from some `start` letter up to but not including some `end` letter. The\n",
    "instance attribute `next_letter` stores the next letter to be returned. The\n",
    "`__next__` method returns this letter and uses it to compute a new\n",
    "`next_letter`.\n",
    "\n",
    "\n",
    "​"
   ]
  },
  {
   "cell_type": "code",
   "execution_count": null,
   "id": "324e3279",
   "metadata": {},
   "outputs": [],
   "source": [
    ">>> class LetterIter:\n",
    "        \"\"\"An iterator over letters of the alphabet in ASCII order.\"\"\"\n",
    "        def __init__(self, start='a', end='e'):\n",
    "            self.next_letter = start\n",
    "            self.end = end\n",
    "        def __next__(self):\n",
    "            if self.next_letter == self.end:\n",
    "                raise StopIteration\n",
    "            letter = self.next_letter\n",
    "            self.next_letter = chr(ord(letter)+1)\n",
    "            return letter\n"
   ]
  },
  {
   "cell_type": "markdown",
   "id": "fcfd85af",
   "metadata": {},
   "source": [
    "Using this class, we can access letters in sequence using either the\n",
    "`__next__` method or the built-in `next` function, which invokes `__next__` on\n",
    "its argument.\n",
    "\n",
    "\n",
    "​"
   ]
  },
  {
   "cell_type": "code",
   "execution_count": null,
   "id": "8a897ac6",
   "metadata": {},
   "outputs": [],
   "source": [
    ">>> letter_iter = LetterIter()\n",
    ">>> letter_iter.__next__()\n",
    "'a'\n",
    ">>> letter_iter.__next__()\n",
    "'b'\n",
    ">>> next(letter_iter)\n",
    "'c'\n",
    ">>> letter_iter.__next__()\n",
    "'d'\n",
    ">>> letter_iter.__next__()\n",
    "Traceback (most recent call last):\n",
    "  File \"<stdin>\", line 1, in <module>\n",
    "  File \"<stdin>\", line 12, in next\n",
    "StopIteration\n"
   ]
  },
  {
   "cell_type": "markdown",
   "id": "4e15b338",
   "metadata": {},
   "source": [
    "Iterators are mutable: they track the position in some underlying sequence of\n",
    "values as they progress. When the end is reached, the iterator is used up. A\n",
    "`LetterIter` instance can only be iterated through once. After its\n",
    "`__next__()` method raises a `StopIteration` exception, it continues to do so\n",
    "from then on. Typically, an iterator is not reset; instead a new instance is\n",
    "created to start a new iteration.\n",
    "\n",
    "Iterators also allow us to represent infinite series by implementing a\n",
    "`__next__` method that never raises a `StopIteration` exception. For example,\n",
    "the `Positives` class below iterates over the infinite series of positive\n",
    "integers. The built-in `next` function in Python invokes the `__next__` method\n",
    "on its argument.\n",
    "\n",
    "\n",
    "​"
   ]
  },
  {
   "cell_type": "code",
   "execution_count": null,
   "id": "e380658a",
   "metadata": {},
   "outputs": [],
   "source": [
    ">>> class Positives:\n",
    "        def __init__(self):\n",
    "            self.next_positive = 1;\n",
    "        def __next__(self):\n",
    "            result = self.next_positive\n",
    "            self.next_positive += 1\n",
    "            return result\n",
    ">>> p = Positives()\n",
    ">>> next(p)\n",
    "1\n",
    ">>> next(p)\n",
    "2\n",
    ">>> next(p)\n",
    "3\n"
   ]
  },
  {
   "cell_type": "markdown",
   "id": "f9ace4c3",
   "metadata": {},
   "source": [
    "### 4.2.9 Streams\n",
    "\n",
    "TODO\n",
    "\n",
    "### 4.2.10 Python Streams\n",
    "\n",
    "_Streams_ offer another way to represent sequential data implicitly. A stream\n",
    "is a lazily computed linked list. Like the `Link` class from Chapter 2, a\n",
    "`Stream` instance responds to requests for its `first` element and the `rest`\n",
    "of the stream. Like an `Link`, the `rest` of a `Stream` is itself a `Stream`.\n",
    "Unlike an `Link`, the `rest` of a stream is only computed when it is looked\n",
    "up, rather than being stored in advance. That is, the `rest` of a stream is\n",
    "computed lazily.\n",
    "\n",
    "To achieve this lazy evaluation, a stream stores a function that computes the\n",
    "rest of the stream. Whenever this function is called, its returned value is\n",
    "cached as part of the stream in an attribute called `_rest`, named with an\n",
    "underscore to indicate that it should not be accessed directly.\n",
    "\n",
    "The accessible attribute `rest` is a property method that returns the rest of\n",
    "the stream, computing it if necessary. With this design, a stream stores _how\n",
    "to compute_ the rest of the stream, rather than always storing the rest\n",
    "explicitly.\n",
    "\n",
    "\n",
    "​"
   ]
  },
  {
   "cell_type": "code",
   "execution_count": null,
   "id": "41850f11",
   "metadata": {},
   "outputs": [],
   "source": [
    ">>> class Stream:\n",
    "        \"\"\"A lazily computed linked list.\"\"\"\n",
    "        class empty:\n",
    "            def __repr__(self):\n",
    "                return 'Stream.empty'\n",
    "        empty = empty()\n",
    "        def __init__(self, first, compute_rest=lambda: empty):\n",
    "            assert callable(compute_rest), 'compute_rest must be callable.'\n",
    "            self.first = first\n",
    "            self._compute_rest = compute_rest\n",
    "        @property\n",
    "        def rest(self):\n",
    "            \"\"\"Return the rest of the stream, computing it if necessary.\"\"\"\n",
    "            if self._compute_rest is not None:\n",
    "                self._rest = self._compute_rest()\n",
    "                self._compute_rest = None\n",
    "            return self._rest\n",
    "        def __repr__(self):\n",
    "            return 'Stream({0}, <...>)'.format(repr(self.first))\n"
   ]
  },
  {
   "cell_type": "markdown",
   "id": "450ff00d",
   "metadata": {},
   "source": [
    "A linked list is defined using a nested expression. For example, we can create\n",
    "an `Link` that represents the elements 1 then 5 as follows:\n",
    "\n",
    "\n",
    "​"
   ]
  },
  {
   "cell_type": "code",
   "execution_count": null,
   "id": "d1dac96b",
   "metadata": {},
   "outputs": [],
   "source": [
    ">>> r = Link(1, Link(2+3, Link(9)))\n"
   ]
  },
  {
   "cell_type": "markdown",
   "id": "8585bfba",
   "metadata": {},
   "source": [
    "Likewise, we can create a `Stream` representing the same series. The `Stream`\n",
    "does not actually compute the second element 5 until the rest of the stream is\n",
    "requested. We achieve this effect by creating anonymous functions.\n",
    "\n",
    "\n",
    "​"
   ]
  },
  {
   "cell_type": "code",
   "execution_count": null,
   "id": "d04b1ead",
   "metadata": {},
   "outputs": [],
   "source": [
    ">>> s = Stream(1, lambda: Stream(2+3, lambda: Stream(9)))\n"
   ]
  },
  {
   "cell_type": "markdown",
   "id": "28bf5ae5",
   "metadata": {},
   "source": [
    "Here, 1 is the first element of the stream, and the `lambda` expression that\n",
    "follows returns a function for computing the rest of the stream.\n",
    "\n",
    "Accessing the elements of linked list `r` and stream `s` proceed similarly.\n",
    "However, while 5 is stored within `r`, it is computed on demand for `s` via\n",
    "addition, the first time that it is requested.\n",
    "\n",
    "\n",
    "​"
   ]
  },
  {
   "cell_type": "code",
   "execution_count": null,
   "id": "6f62a728",
   "metadata": {},
   "outputs": [],
   "source": [
    ">>> r.first\n",
    "1\n",
    ">>> s.first\n",
    "1\n",
    ">>> r.rest.first\n",
    "5\n",
    ">>> s.rest.first\n",
    "5\n",
    ">>> r.rest\n",
    "Link(5, Link(9))\n",
    ">>> s.rest\n",
    "Stream(5, <...>)\n"
   ]
  },
  {
   "cell_type": "markdown",
   "id": "cf9639b7",
   "metadata": {},
   "source": [
    "While the `rest` of `r` is a two-element linked list, the `rest` of `s`\n",
    "includes a function to compute the rest; the fact that it will return the\n",
    "empty stream may not yet have been discovered.\n",
    "\n",
    "When a `Stream` instance is constructed, the field `self._rest` is `None`,\n",
    "signifying that the rest of the `Stream` has not yet been computed. When the\n",
    "`rest` attribute is requested via a dot expression, the `rest` property method\n",
    "is invoked, which triggers computation with `self._rest =\n",
    "self._compute_rest()`. Because of the caching mechanism within a `Stream`, the\n",
    "`compute_rest` function is only ever called once, then discarded.\n",
    "\n",
    "The essential properties of a `compute_rest` function are that it takes no\n",
    "arguments, and it returns a `Stream` or `Stream.empty`.\n",
    "\n",
    "Lazy evaluation gives us the ability to represent infinite sequential datasets\n",
    "using streams. For example, we can represent increasing integers, starting at\n",
    "any `first` value.\n",
    "\n",
    "\n",
    "​"
   ]
  },
  {
   "cell_type": "code",
   "execution_count": null,
   "id": "f1ff3447",
   "metadata": {},
   "outputs": [],
   "source": [
    ">>> def integer_stream(first):\n",
    "        def compute_rest():\n",
    "            return integer_stream(first+1)\n",
    "        return Stream(first, compute_rest)\n"
   ]
  },
  {
   "cell_type": "markdown",
   "id": "a3ebe184",
   "metadata": {},
   "source": [
    "​    \n",
    "​"
   ]
  },
  {
   "cell_type": "code",
   "execution_count": null,
   "id": "52c15cb3",
   "metadata": {},
   "outputs": [],
   "source": [
    ">>> positives = integer_stream(1)\n",
    ">>> positives\n",
    "Stream(1, <...>)\n",
    ">>> positives.first\n",
    "1\n"
   ]
  },
  {
   "cell_type": "markdown",
   "id": "4697347d",
   "metadata": {},
   "source": [
    "When `integer_stream` is called for the first time, it returns a stream whose\n",
    "`first` is the first integer in the sequence. However, `integer_stream` is\n",
    "actually recursive because this stream's `compute_rest` calls `integer_stream`\n",
    "again, with an incremented argument. We say that `integer_stream` is lazy\n",
    "because the recursive call to `integer_stream` is only made whenever the\n",
    "`rest` of an integer stream is requested.\n",
    "\n",
    "\n",
    "​"
   ]
  },
  {
   "cell_type": "code",
   "execution_count": null,
   "id": "0e5c5e1e",
   "metadata": {},
   "outputs": [],
   "source": [
    ">>> positives.first\n",
    "1\n",
    ">>> positives.rest.first\n",
    "2\n",
    ">>> positives.rest.rest\n",
    "Stream(3, <...>)\n"
   ]
  },
  {
   "cell_type": "markdown",
   "id": "c0edcd44",
   "metadata": {},
   "source": [
    "The same higher-order functions that manipulate sequences -- `map` and\n",
    "`filter` \\-- also apply to streams, although their implementations must change\n",
    "to apply their argument functions lazily. The function `map_stream` maps a\n",
    "function over a stream, which produces a new stream. The locally defined\n",
    "`compute_rest` function ensures that the function will be mapped onto the rest\n",
    "of the stream whenever the rest is computed.\n",
    "\n",
    "\n",
    "​"
   ]
  },
  {
   "cell_type": "code",
   "execution_count": null,
   "id": "b4268f72",
   "metadata": {},
   "outputs": [],
   "source": [
    ">>> def map_stream(fn, s):\n",
    "        if s is Stream.empty:\n",
    "            return s\n",
    "        def compute_rest():\n",
    "            return map_stream(fn, s.rest)\n",
    "        return Stream(fn(s.first), compute_rest)\n"
   ]
  },
  {
   "cell_type": "markdown",
   "id": "dd20c24f",
   "metadata": {},
   "source": [
    "A stream can be filtered by defining a `compute_rest` function that applies\n",
    "the filter function to the rest of the stream. If the filter function rejects\n",
    "the first element of the stream, the rest is computed immediately. Because\n",
    "`filter_stream` is recursive, the rest may be computed multiple times until a\n",
    "valid `first` element is found.\n",
    "\n",
    "\n",
    "​"
   ]
  },
  {
   "cell_type": "code",
   "execution_count": null,
   "id": "c1e12115",
   "metadata": {},
   "outputs": [],
   "source": [
    ">>> def filter_stream(fn, s):\n",
    "        if s is Stream.empty:\n",
    "            return s\n",
    "        def compute_rest():\n",
    "            return filter_stream(fn, s.rest)\n",
    "        if fn(s.first):\n",
    "            return Stream(s.first, compute_rest)\n",
    "        else:\n",
    "            return compute_rest()\n"
   ]
  },
  {
   "cell_type": "markdown",
   "id": "5c23886a",
   "metadata": {},
   "source": [
    "The `map_stream` and `filter_stream` functions exhibit a common pattern in\n",
    "stream processing: a locally defined `compute_rest` function recursively\n",
    "applies a processing function to the rest of the stream whenever the rest is\n",
    "computed.\n",
    "\n",
    "To inspect the contents of a stream, we can coerce up to the first `k`\n",
    "elements to a Python `list`.\n",
    "\n",
    "\n",
    "​"
   ]
  },
  {
   "cell_type": "code",
   "execution_count": null,
   "id": "6751a2fc",
   "metadata": {},
   "outputs": [],
   "source": [
    ">>> def first_k_as_list(s, k):\n",
    "        first_k = []\n",
    "        while s is not Stream.empty and k > 0:\n",
    "            first_k.append(s.first)\n",
    "            s, k = s.rest, k-1\n",
    "        return first_k\n"
   ]
  },
  {
   "cell_type": "markdown",
   "id": "95954c8a",
   "metadata": {},
   "source": [
    "These convenience functions allow us to verify our `map_stream` implementation\n",
    "with a simple example that squares the integers from 3 to 7.\n",
    "\n",
    "\n",
    "​"
   ]
  },
  {
   "cell_type": "code",
   "execution_count": null,
   "id": "0e54b055",
   "metadata": {},
   "outputs": [],
   "source": [
    ">>> s = integer_stream(3)\n",
    ">>> s\n",
    "Stream(3, <...>)\n",
    ">>> m = map_stream(lambda x: x*x, s)\n",
    ">>> m\n",
    "Stream(9, <...>)\n",
    ">>> first_k_as_list(m, 5)\n",
    "[9, 16, 25, 36, 49]\n"
   ]
  },
  {
   "cell_type": "markdown",
   "id": "9aea8a13",
   "metadata": {},
   "source": [
    "We can use our `filter_stream` function to define a stream of prime numbers\n",
    "using the sieve of Eratosthenes, which filters a stream of integers to remove\n",
    "all numbers that are multiples of its first element. By successively filtering\n",
    "with each prime, all composite numbers are removed from the stream.\n",
    "\n",
    "\n",
    "​"
   ]
  },
  {
   "cell_type": "code",
   "execution_count": null,
   "id": "4b7c0194",
   "metadata": {},
   "outputs": [],
   "source": [
    ">>> def primes(pos_stream):\n",
    "        def not_divible(x):\n",
    "            return x % pos_stream.first != 0\n",
    "        def compute_rest():\n",
    "            return primes(filter_stream(not_divible, pos_stream.rest))\n",
    "        return Stream(pos_stream.first, compute_rest)\n"
   ]
  },
  {
   "cell_type": "markdown",
   "id": "fc2557fd",
   "metadata": {},
   "source": [
    "By truncating the `primes` stream, we can enumerate any prefix of the prime\n",
    "numbers.\n",
    "\n",
    "\n",
    "​"
   ]
  },
  {
   "cell_type": "code",
   "execution_count": null,
   "id": "3e584827",
   "metadata": {},
   "outputs": [],
   "source": [
    ">>> prime_numbers = primes(integer_stream(2))\n",
    ">>> first_k_as_list(prime_numbers, 7)\n",
    "[2, 3, 5, 7, 11, 13, 17]\n"
   ]
  },
  {
   "cell_type": "markdown",
   "id": "f3905ede",
   "metadata": {},
   "source": [
    "Streams contrast with iterators in that they can be passed to pure functions\n",
    "multiple times and yield the same result each time. The primes stream is not\n",
    "\"used up\" by converting it to a list. That is, the `first` element of\n",
    "`prime_numbers` is still 2 after converting the prefix of the stream to a\n",
    "list.\n",
    "\n",
    "\n",
    "​"
   ]
  },
  {
   "cell_type": "code",
   "execution_count": null,
   "id": "8c25d7ac",
   "metadata": {},
   "outputs": [],
   "source": [
    ">>> prime_numbers.first\n",
    "2\n"
   ]
  },
  {
   "cell_type": "markdown",
   "id": "6e89973c",
   "metadata": {},
   "source": [
    "Just as linked lists provide a simple implementation of the sequence\n",
    "abstraction, streams provide a simple, functional, recursive data structure\n",
    "that implements lazy evaluation through the use of higher-order functions.\n",
    "\n",
    "_Continue_ : [ 4.3 Declarative Programming ](../pages/43-declarative-\n",
    "programming.html)\n",
    "\n",
    "## 4.3 Declarative Programming\n",
    "\n",
    "In addition to streams, data values are often stored in large repositories\n",
    "called databases. A database consists of a data store containing the data\n",
    "values along with an interface for retrieving and transforming those values.\n",
    "Each value stored in a database is called a _record_. Records with similar\n",
    "structure are grouped into tables. Records are retrieved and transformed using\n",
    "queries, which are statements in a query language. By far the most ubiquitous\n",
    "query language in use today is called Structured Query Language or SQL\n",
    "(pronounced \"sequel\").\n",
    "\n",
    "SQL is an example of a declarative programming language. Statements do not\n",
    "describe computations directly, but instead describe the desired result of\n",
    "some computation. It is the role of the _query interpreter_ of the database\n",
    "system to design and perform a computational process to produce such a result.\n",
    "\n",
    "This interaction differs substantially from the procedural programming\n",
    "paradigm of Python or Scheme. In Python, computational processes are described\n",
    "directly by the programmer. A declarative language abstracts away procedural\n",
    "details, instead focusing on the form of the result.\n",
    "\n",
    "### 4.3.1 Tables\n",
    "\n",
    "The SQL language is standardized, but most database systems implement some\n",
    "custom variant of the language that is endowed with proprietary features. In\n",
    "this text, we will describe a small subset of SQL as it is implemented in\n",
    "[Sqlite](http://sqlite.org). You can follow along by [downloading\n",
    "Sqlite](http://sqlite.org/download.html) or by using this [online SQL\n",
    "interpreter](http://kripken.github.io/sql.js/GUI/).\n",
    "\n",
    "A table, also called a _relation_ , has a fixed number of named and typed\n",
    "columns. Each row of a table represents a data record and has one value for\n",
    "each column. For example, a table of cities might have columns `latitude`\n",
    "`longitude` that both hold numeric values, as well as a column `name` that\n",
    "holds a string. Each row would represent a city location position by its\n",
    "latitude and longitude values.\n",
    "\n",
    "| **Latitude** | **Longitude** | **Name**    |\n",
    "| ------------ | ------------- | ----------- |\n",
    "| 38           | 122           | Berkeley    |\n",
    "| 42           | 71            | Cambridge   |\n",
    "| 45           | 93            | Minneapolis |\n",
    "\n",
    "A table with a single row can be created in the SQL language using a `select`\n",
    "statement, in which the row values are separated by commas and the column\n",
    "names follow the keyword \"as\". All SQL statements end in a semicolon.\n",
    "\n",
    "\n",
    "​"
   ]
  },
  {
   "cell_type": "code",
   "execution_count": null,
   "id": "25c325b0",
   "metadata": {},
   "outputs": [],
   "source": [
    "sqlite> select 38 as latitude, 122 as longitude, \"Berkeley\" as name;\n",
    "38|122|Berkeley\n"
   ]
  },
  {
   "cell_type": "markdown",
   "id": "abecdff7",
   "metadata": {},
   "source": [
    "The second line is the output, which includes one line per row with columns\n",
    "separated by a vertical bar.\n",
    "\n",
    "A multi-line table can be constructed by union, which combines the rows of two\n",
    "tables. The column names of the left table are used in the constructed table.\n",
    "Spacing within a line does not affect the result.\n",
    "\n",
    "\n",
    "​"
   ]
  },
  {
   "cell_type": "code",
   "execution_count": null,
   "id": "39892945",
   "metadata": {},
   "outputs": [],
   "source": [
    "sqlite> select 38 as latitude, 122 as longitude, \"Berkeley\" as name union\n",
    "   ...> select 42,             71,               \"Cambridge\"        union\n",
    "   ...> select 45,             93,               \"Minneapolis\";\n",
    "38|122|Berkeley\n",
    "42|71|Cambridge\n",
    "45|93|Minneapolis\n"
   ]
  },
  {
   "cell_type": "markdown",
   "id": "ab4861a4",
   "metadata": {},
   "source": [
    "A table can be given a name using a `create table` statement. While this\n",
    "statement can also be used to create empty tables, we will focus on the form\n",
    "that gives a name to an existing table defined by a `select` statement.\n",
    "\n",
    "\n",
    "​"
   ]
  },
  {
   "cell_type": "code",
   "execution_count": null,
   "id": "5ad2a64b",
   "metadata": {},
   "outputs": [],
   "source": [
    "sqlite> create table cities as\n",
    "   ...>    select 38 as latitude, 122 as longitude, \"Berkeley\" as name union\n",
    "   ...>    select 42,             71,               \"Cambridge\"        union\n",
    "   ...>    select 45,             93,               \"Minneapolis\";\n"
   ]
  },
  {
   "cell_type": "markdown",
   "id": "ebf948f4",
   "metadata": {},
   "source": [
    "Once a table is named, that name can be used in a `from` clause within a\n",
    "`select` statement. All columns of a table can be displayed using the special\n",
    "`select *` form.\n",
    "\n",
    "\n",
    "​"
   ]
  },
  {
   "cell_type": "code",
   "execution_count": null,
   "id": "54bdb671",
   "metadata": {},
   "outputs": [],
   "source": [
    "sqlite> select * from cities;\n",
    "38|122|Berkeley\n",
    "42|71|Cambridge\n",
    "45|93|Minneapolis\n"
   ]
  },
  {
   "cell_type": "markdown",
   "id": "a8dc79e3",
   "metadata": {},
   "source": [
    "### 4.3.2 Select Statements\n",
    "\n",
    "A `select` statement defines a new table either by listing the values in a\n",
    "single row or, more commonly, by projecting an existing table using a `from`\n",
    "clause:\n",
    "\n",
    "\n",
    "​"
   ]
  },
  {
   "cell_type": "code",
   "execution_count": null,
   "id": "750a5316",
   "metadata": {},
   "outputs": [],
   "source": [
    "select [column description] from [existing table name]\n"
   ]
  },
  {
   "cell_type": "markdown",
   "id": "02c018fd",
   "metadata": {},
   "source": [
    "The columns of the resulting table are described by a comma-separated list of\n",
    "expressions that are each evaluated for each row of the existing input table.\n",
    "\n",
    "For example, we can create a two-column table that describes each city by how\n",
    "far north or south it is of Berkeley. Each degree of latitude measures 60\n",
    "nautical miles to the north.\n",
    "\n",
    "\n",
    "​"
   ]
  },
  {
   "cell_type": "code",
   "execution_count": null,
   "id": "df507348",
   "metadata": {},
   "outputs": [],
   "source": [
    "sqlite> select name, 60*abs(latitude-38) from cities;\n",
    "Berkeley|0\n",
    "Cambridge|240\n",
    "Minneapolis|420\n"
   ]
  },
  {
   "cell_type": "markdown",
   "id": "97efac56",
   "metadata": {},
   "source": [
    "Column descriptions are expressions in a language that shares many properties\n",
    "with Python: infix operators such as + and %, built-in functions such as `abs`\n",
    "and `round`, and parentheses that describe evaluation order. Names in these\n",
    "expressions, such as `latitude` above, evaluate to the column value in the row\n",
    "being projected.\n",
    "\n",
    "Optionally, each expression can be followed by the keyword `as` and a column\n",
    "name. When the entire table is given a name, it is often helpful to give each\n",
    "column a name so that it can be referenced in future `select` statements.\n",
    "Columns described by a simple name are named automatically.\n",
    "\n",
    "\n",
    "​"
   ]
  },
  {
   "cell_type": "code",
   "execution_count": null,
   "id": "c156e3c2",
   "metadata": {},
   "outputs": [],
   "source": [
    "sqlite> create table distances as\n",
    "   ...>   select name, 60*abs(latitude-38) as distance from cities;\n",
    "sqlite> select distance/5, name from distances;\n",
    "0|Berkeley\n",
    "48|Cambridge\n",
    "84|Minneapolis\n"
   ]
  },
  {
   "cell_type": "markdown",
   "id": "6bc36658",
   "metadata": {},
   "source": [
    "**Where Clauses.** A `select` statement can also include a `where` clause with\n",
    "a filtering expression. This expression filters the rows that are projected.\n",
    "Only a row for which the filtering expression evaluates to a true value will\n",
    "be used to produce a row in the resulting table.\n",
    "\n",
    "\n",
    "​"
   ]
  },
  {
   "cell_type": "code",
   "execution_count": null,
   "id": "41934ffb",
   "metadata": {},
   "outputs": [],
   "source": [
    "sqlite> create table cold as\n",
    "   ...>   select name from cities where latitude > 43;\n",
    "sqlite> select name, \"is cold!\" from cold;\n",
    "Minneapolis|is cold!\n"
   ]
  },
  {
   "cell_type": "markdown",
   "id": "51dbf5b7",
   "metadata": {},
   "source": [
    "**Order Clauses.** A `select` statement can also express an ordering over the\n",
    "resulting table. An `order` clause contains an ordering expression that is\n",
    "evaluated for each unfiltered row. The resulting values of this expression are\n",
    "used as a sorting criterion for the result table.\n",
    "\n",
    "\n",
    "​"
   ]
  },
  {
   "cell_type": "code",
   "execution_count": null,
   "id": "cd2aecab",
   "metadata": {},
   "outputs": [],
   "source": [
    "sqlite> select distance, name from distances order by -distance;\n",
    "84|Minneapolis\n",
    "48|Cambridge\n",
    "0|Berkeley\n"
   ]
  },
  {
   "cell_type": "markdown",
   "id": "d1983b03",
   "metadata": {},
   "source": [
    "The combination of these features allows a `select` statement to express a\n",
    "wide range of projections of an input table into a related output table.\n",
    "\n",
    "### 4.3.3 Joins\n",
    "\n",
    "Databases typically contain multiple tables, and queries can require\n",
    "information contained within different tables to compute a desired result. For\n",
    "instance, we may have a second table describing the mean daily high\n",
    "temperature of different cities.\n",
    "\n",
    "\n",
    "​"
   ]
  },
  {
   "cell_type": "code",
   "execution_count": null,
   "id": "258a68bc",
   "metadata": {},
   "outputs": [],
   "source": [
    "sqlite> create table temps as\n",
    "   ...>   select \"Berkeley\" as city, 68 as temp union\n",
    "   ...>   select \"Chicago\"         , 59         union\n",
    "   ...>   select \"Minneapolis\"     , 55;\n"
   ]
  },
  {
   "cell_type": "markdown",
   "id": "5673dc32",
   "metadata": {},
   "source": [
    "Data are combined by _joining_ multiple tables together into one, a\n",
    "fundamental operation in database systems. There are many methods of joining,\n",
    "all closely related, but we will focus on just one method in this text. When\n",
    "tables are joined, the resulting table contains a new row for each combination\n",
    "of rows in the input tables. If two tables are joined and the left table has\n",
    "$m$ rows and the right table has $n$ rows, then the joined table will have $m\n",
    "\\cdot n$ rows. Joins are expressed in SQL by separating table names by commas\n",
    "in the `from` clause of a `select` statement.\n",
    "\n",
    "\n",
    "​"
   ]
  },
  {
   "cell_type": "code",
   "execution_count": null,
   "id": "4c1e7ac2",
   "metadata": {},
   "outputs": [],
   "source": [
    "sqlite> select * from cities, temps;\n",
    "38|122|Berkeley|Berkeley|68\n",
    "38|122|Berkeley|Chicago|59\n",
    "38|122|Berkeley|Minneapolis|55\n",
    "42|71|Cambridge|Berkeley|68\n",
    "42|71|Cambridge|Chicago|59\n",
    "42|71|Cambridge|Minneapolis|55\n",
    "45|93|Minneapolis|Berkeley|68\n",
    "45|93|Minneapolis|Chicago|59\n",
    "45|93|Minneapolis|Minneapolis|55\n"
   ]
  },
  {
   "cell_type": "markdown",
   "id": "3f67efba",
   "metadata": {},
   "source": [
    "Joins are typically accompanied by a `where` clause that expresses a\n",
    "relationship between the two tables. For example, if we wanted to collect data\n",
    "into a table that would allow us to correlate latitude and temperature, we\n",
    "would select rows from the join where the same city is mentioned in each.\n",
    "Within the `cities` table, the city name is stored in a column called `name`.\n",
    "Within the `temps` table, the city name is stored in a column called `city`.\n",
    "The `where` clause can select for rows in the joined table in which these\n",
    "values are equal. In SQL, numeric equality is tested with a single `=` symbol.\n",
    "\n",
    "\n",
    "​"
   ]
  },
  {
   "cell_type": "code",
   "execution_count": null,
   "id": "45be64ff",
   "metadata": {},
   "outputs": [],
   "source": [
    "sqlite> select name, latitude, temp from cities, temps where name = city;\n",
    "Berkeley|38|68\n",
    "Minneapolis|45|55\n"
   ]
  },
  {
   "cell_type": "markdown",
   "id": "50806fd1",
   "metadata": {},
   "source": [
    "Tables may have overlapping column names, and so we need a method for\n",
    "disambiguating column names by table. A table may also be joined with itself,\n",
    "and so we need a method for disambiguating tables. To do so, SQL allows us to\n",
    "give aliases to tables within a `from` clause using the keyword `as` and to\n",
    "refer to a column within a particular table using a dot expression. The\n",
    "following `select` statement computes the temperature difference between pairs\n",
    "of unequal cities. The alphabetical ordering constraint in the `where` clause\n",
    "ensures that each pair will only appear once in the result.\n",
    "\n",
    "\n",
    "​"
   ]
  },
  {
   "cell_type": "code",
   "execution_count": null,
   "id": "7448644f",
   "metadata": {},
   "outputs": [],
   "source": [
    "sqlite> select a.city, b.city, a.temp - b.temp\n",
    "   ...>        from temps as a, temps as b where a.city < b.city;\n",
    "Berkeley|Chicago|10\n",
    "Berkeley|Minneapolis|15\n",
    "Chicago|Minneapolis|5\n"
   ]
  },
  {
   "cell_type": "markdown",
   "id": "e90b7545",
   "metadata": {},
   "source": [
    "Our two means of combining tables in SQL, join and union, allow for a great\n",
    "deal of expressive power in the language.\n",
    "\n",
    "### 4.3.4 Interpreting SQL\n",
    "\n",
    "In order to create an interpreter for the subset of SQL we have introduced so\n",
    "far, we need to create a representation for tables, a parser for statements\n",
    "written as text, and an evaluator for parsed statements. The\n",
    "[sql](http://composingprograms.com/examples/sql/sql_exec.py) interpreter\n",
    "example includes all of these components, providing a simple but functional\n",
    "demonstration of a declarative language interpreter.\n",
    "\n",
    "In this implementation, each table has its own a class, and each row in a\n",
    "table is represented by an instance of its table's class. A row has one\n",
    "attribute per column in the table, and a table is a sequence of rows.\n",
    "\n",
    "The class for a table is created using the\n",
    "[namedtuple](https://docs.python.org/3/library/collections.html#collections.namedtuple)\n",
    "function in the `collections` package of the Python standard library, which\n",
    "returns a new sub-class of `tuple` that gives names to each element in the\n",
    "tuple.\n",
    "\n",
    "Consider the `cities` table from the previous section, repeated below.\n",
    "\n",
    "\n",
    "​"
   ]
  },
  {
   "cell_type": "code",
   "execution_count": null,
   "id": "0d3022d5",
   "metadata": {},
   "outputs": [],
   "source": [
    "sqlite> create table cities as\n",
    "   ...>    select 38 as latitude, 122 as longitude, \"Berkeley\" as name union\n",
    "   ...>    select 42,             71,               \"Cambridge\"        union\n",
    "   ...>    select 45,             93,               \"Minneapolis\";\n"
   ]
  },
  {
   "cell_type": "markdown",
   "id": "bd0842ba",
   "metadata": {},
   "source": [
    "The following Python statements construct a representation for this table.\n",
    "\n",
    "\n",
    "​"
   ]
  },
  {
   "cell_type": "code",
   "execution_count": null,
   "id": "68491277",
   "metadata": {},
   "outputs": [],
   "source": [
    ">>> from collections import namedtuple\n",
    ">>> CitiesRow = namedtuple(\"Row\", [\"latitude\", \"longitude\", \"name\"])\n",
    ">>> cities = [CitiesRow(38, 122, \"Berkeley\"),\n",
    "              CitiesRow(42,  71, \"Cambridge\"),\n",
    "              CitiesRow(43,  93, \"Minneapolis\")]\n"
   ]
  },
  {
   "cell_type": "markdown",
   "id": "9074d071",
   "metadata": {},
   "source": [
    "The result of a `select` statement can be interpreted using sequence\n",
    "operations. Consider the `distances` table from the previous section, repeated\n",
    "below.\n",
    "\n",
    "\n",
    "​"
   ]
  },
  {
   "cell_type": "code",
   "execution_count": null,
   "id": "da2a5243",
   "metadata": {},
   "outputs": [],
   "source": [
    "sqlite> create table distances as\n",
    "   ...>   select name, 60*abs(latitude-38) as distance from cities;\n",
    "sqlite> select distance/5, name from distances;\n",
    "0|Berkeley\n",
    "48|Cambridge\n",
    "84|Minneapolis\n"
   ]
  },
  {
   "cell_type": "markdown",
   "id": "119da293",
   "metadata": {},
   "source": [
    "This table is generated from the `name` and `latitude` columns of the `cities`\n",
    "table. This resulting table can be generated by mapping a function over the\n",
    "rows of the input table, a function that returns a `DistancesRow` for each\n",
    "`CitiesRow`.\n",
    "\n",
    "\n",
    "​"
   ]
  },
  {
   "cell_type": "code",
   "execution_count": null,
   "id": "64ae1a93",
   "metadata": {},
   "outputs": [],
   "source": [
    ">>> DistancesRow = namedtuple(\"Row\", [\"name\", \"distance\"])\n",
    ">>> def select(cities_row):\n",
    "        latitude, longitude, name = cities_row\n",
    "        return DistancesRow(name, 60*abs(latitude-38))\n",
    ">>> distances = list(map(select, cities))\n",
    ">>> for row in distances:\n",
    "        print(row)\n",
    "Row(name='Berkeley', distance=0)\n",
    "Row(name='Cambridge', distance=240)\n",
    "Row(name='Minneapolis', distance=300)\n"
   ]
  },
  {
   "cell_type": "markdown",
   "id": "e5ef06b6",
   "metadata": {},
   "source": [
    "The design of our SQL interpreter generalizes this approach. A `select`\n",
    "statement is represented as an instance of a class `Select` that is\n",
    "constructed from the clauses of the select statement.\n",
    "\n",
    "\n",
    "​"
   ]
  },
  {
   "cell_type": "code",
   "execution_count": null,
   "id": "7e078722",
   "metadata": {},
   "outputs": [],
   "source": [
    ">>> class Select:\n",
    "        \"\"\"select [columns] from [tables] where [condition] order by [order].\"\"\"\n",
    "        def __init__(self, columns, tables, condition, order):\n",
    "            self.columns = columns\n",
    "            self.tables = tables\n",
    "            self.condition = condition\n",
    "            self.order = order\n",
    "            self.make_row = create_make_row(self.columns)\n",
    "        def execute(self, env):\n",
    "            \"\"\"Join, filter, sort, and map rows from tables to columns.\"\"\"\n",
    "            from_rows = join(self.tables, env)\n",
    "            filtered_rows = filter(self.filter, from_rows)\n",
    "            ordered_rows = self.sort(filtered_rows)\n",
    "            return map(self.make_row, ordered_rows)\n",
    "        def filter(self, row):\n",
    "            if self.condition:\n",
    "                return eval(self.condition, row)\n",
    "            else:\n",
    "                return True\n",
    "        def sort(self, rows):\n",
    "            if self.order:\n",
    "                return sorted(rows, key=lambda r: eval(self.order, r))\n",
    "            else:\n",
    "                return rows\n"
   ]
  },
  {
   "cell_type": "markdown",
   "id": "552c3f72",
   "metadata": {},
   "source": [
    "The `execute` method joins input tables, filters and orders the resulting\n",
    "rows, then maps a function called `make_row` over those resulting rows. The\n",
    "`make_row` function is created in the `Select` constructor by a call to\n",
    "`create_make_row`, a higher-order function that creates a new class for the\n",
    "resulting table and defines how to project an input row to an output row. (A\n",
    "version of this function with more error handling and special cases appears in\n",
    "[sql](http://composingprograms.com/examples/sql/sql_exec.py).)\n",
    "\n",
    "\n",
    "​"
   ]
  },
  {
   "cell_type": "code",
   "execution_count": null,
   "id": "629e1e49",
   "metadata": {},
   "outputs": [],
   "source": [
    ">>> def create_make_row(description):\n",
    "        \"\"\"Return a function from an input environment (dict) to an output row.\n",
    "        description -- a comma-separated list of [expression] as [column name]\n",
    "        \"\"\"\n",
    "        columns = description.split(\", \")\n",
    "        expressions, names = [], []\n",
    "        for column in columns:\n",
    "            if \" as \" in column:\n",
    "                expression, name = column.split(\" as \")\n",
    "            else:\n",
    "                expression, name = column, column\n",
    "            expressions.append(expression)\n",
    "            names.append(name)\n",
    "        row = namedtuple(\"Row\", names)\n",
    "        return lambda env: row(*[eval(e, env) for e in expressions])\n"
   ]
  },
  {
   "cell_type": "markdown",
   "id": "3dba7b6a",
   "metadata": {},
   "source": [
    "Finally, we need to define the `join` function that creates the input rows.\n",
    "Given an `env` dictionary contains existing tables (lists of rows) keyed by\n",
    "their name, the `join` function groups together all combinations of rows in\n",
    "the input tables using the\n",
    "[product](https://docs.python.org/3/library/itertools.html#itertools.product)\n",
    "function in the `itertools` package. It maps a function called `make_env` over\n",
    "the joined rows, a function that converts each combination of rows into a\n",
    "dictionary so that it can be used to evaluate expressions. (A version of this\n",
    "function with more error handling and special cases appears in\n",
    "[sql](http://composingprograms.com/examples/sql/sql_exec.py).)\n",
    "\n",
    "\n",
    "​"
   ]
  },
  {
   "cell_type": "code",
   "execution_count": null,
   "id": "256817dc",
   "metadata": {},
   "outputs": [],
   "source": [
    ">>> from itertools import product\n",
    ">>> def join(tables, env):\n",
    "        \"\"\"Return an iterator over dictionaries from names to values in a row.\n",
    "        tables -- a comma-separate sequences of table names\n",
    "        env    -- a dictionary from global names to tables\n",
    "        \"\"\"\n",
    "        names = tables.split(\", \")\n",
    "        joined_rows = product(*[env[name] for name in names])\n",
    "        return map(lambda rows: make_env(rows, names), joined_rows)\n",
    ">>> def make_env(rows, names):\n",
    "        \"\"\"Create an environment of names bound to values.\"\"\"\n",
    "        env = dict(zip(names, rows))\n",
    "        for row in rows:\n",
    "            for name in row._fields:\n",
    "                env[name] = getattr(row, name)\n",
    "        return env\n"
   ]
  },
  {
   "cell_type": "markdown",
   "id": "9cb4e296",
   "metadata": {},
   "source": [
    "Above, `row._fields` evaluates to the column names of the table containing the\n",
    "`row`. The `_fields` attribute exists because the type of `row` is a\n",
    "`namedtuple` class.\n",
    "\n",
    "Our interpreter is complete enough to execute `select` statements. For\n",
    "instance, we can compute the latitude distance from Berkeley for all other\n",
    "cities, ordered by their longitude.\n",
    "\n",
    "\n",
    "​"
   ]
  },
  {
   "cell_type": "code",
   "execution_count": null,
   "id": "1798651d",
   "metadata": {},
   "outputs": [],
   "source": [
    ">>> env = {\"cities\": cities}\n",
    ">>> select = Select(\"name, 60*abs(latitude-38) as distance\",\n",
    "                    \"cities\", \"name != 'Berkeley'\", \"-longitude\")\n",
    ">>> for row in select.execute(env):\n",
    "        print(row)\n",
    "Row(name='Minneapolis', distance=300)\n",
    "Row(name='Cambridge', distance=240)\n"
   ]
  },
  {
   "cell_type": "markdown",
   "id": "fc43ba7c",
   "metadata": {},
   "source": [
    "The example above is equivalent to the following SQL statement.\n",
    "\n",
    "\n",
    "​"
   ]
  },
  {
   "cell_type": "code",
   "execution_count": null,
   "id": "83d8c909",
   "metadata": {},
   "outputs": [],
   "source": [
    "sqlite> select name, 60*abs(latitude-38) as distance\n",
    "   ...>        from cities where name != \"Berkeley\" order by -longitude;\n",
    "Minneapolis|420\n",
    "Cambridge|240\n"
   ]
  },
  {
   "cell_type": "markdown",
   "id": "01e6bccd",
   "metadata": {},
   "source": [
    "We can also store this resulting table in the environment and join it with the\n",
    "`cities` table, retrieving the longitude for each city.\n",
    "\n",
    "\n",
    "​"
   ]
  },
  {
   "cell_type": "code",
   "execution_count": null,
   "id": "d472600c",
   "metadata": {},
   "outputs": [],
   "source": [
    ">>> env[\"distances\"] = list(select.execute(env))\n",
    ">>> joined = Select(\"cities.name as name, distance, longitude\", \"cities, distances\",\n",
    "                    \"cities.name == distances.name\", None)\n",
    ">>> for row in joined.execute(env):\n",
    "        print(row)\n",
    "Row(name='Cambridge', distance=240, longitude=71)\n",
    "Row(name='Minneapolis', distance=300, longitude=93)\n"
   ]
  },
  {
   "cell_type": "markdown",
   "id": "54fa5c68",
   "metadata": {},
   "source": [
    "The example above is equivalent to the following SQL statement.\n",
    "\n",
    "\n",
    "​"
   ]
  },
  {
   "cell_type": "code",
   "execution_count": null,
   "id": "fe29ccd8",
   "metadata": {},
   "outputs": [],
   "source": [
    "sqlite> select cities.name as name, distance, longitude\n",
    "   ...>        from cities, distances where cities.name = distances.name;\n",
    "Cambridge|240|71\n",
    "Minneapolis|420|93\n"
   ]
  },
  {
   "cell_type": "markdown",
   "id": "5442d4f0",
   "metadata": {},
   "source": [
    "The full [sql](http://composingprograms.com/examples/sql/sql_exec.py) example\n",
    "program also contains a simple parser for `select` statements, as well as\n",
    "`execute` methods for `create table` and `union`. The interpreter can\n",
    "correctly execute all SQL statements included within the text so far. While\n",
    "this simple interpreter only implements a small amount of the full Structured\n",
    "Query Language, its structure demonstrates the relationship between sequence\n",
    "processing operations and query languages.\n",
    "\n",
    "**Query Plans.** Declarative languages describe the form of a result, but do\n",
    "not explicitly describe how that result should be computed. This interpreter\n",
    "always joins, filters, orders, and then projects the input rows in order to\n",
    "compute the result rows. However, more efficient ways to compute the same\n",
    "result may exist, and query interpreters are free to choose among them.\n",
    "Choosing efficient procedures for computing query results is a core feature of\n",
    "database systems.\n",
    "\n",
    "For example, consider the final select statement above. Rather than computing\n",
    "the join of `cities` and `distances` and then filtering the result, the same\n",
    "result may be computed by first sorting both tables by the `name` column and\n",
    "then joining only the rows that have the same name in a linear pass through\n",
    "the sorted tables. When tables are large, efficiency gains from query plan\n",
    "selection can be substantial.\n",
    "\n",
    "### 4.3.5 Recursive Select Statements\n",
    "\n",
    "Select statements can optionally include a `with` clause that generates and\n",
    "names additional tables used in computing the final result. The full syntax of\n",
    "a select statement, not including unions, has the following form:\n",
    "\n",
    "\n",
    "​"
   ]
  },
  {
   "cell_type": "code",
   "execution_count": null,
   "id": "71da429d",
   "metadata": {},
   "outputs": [],
   "source": [
    "with [tables] select [columns] from [names] where [condition] order by [order]\n"
   ]
  },
  {
   "cell_type": "markdown",
   "id": "9842b860",
   "metadata": {},
   "source": [
    "We have already demonstrated the allowed values for `[columns]` and `[names]`.\n",
    "`[condition]` and `[order]` are expressions that can be evaluated for an input\n",
    "row. The `[tables]` portion is a comma-separated list of table descriptions of\n",
    "the form:\n",
    "\n",
    "\n",
    "​"
   ]
  },
  {
   "cell_type": "code",
   "execution_count": null,
   "id": "56a22e08",
   "metadata": {},
   "outputs": [],
   "source": [
    "[table name]([column names]) as ([select statement])\n"
   ]
  },
  {
   "cell_type": "markdown",
   "id": "f5341ec6",
   "metadata": {},
   "source": [
    "Any `select` statement can be used to describe a table within `[tables]`.\n",
    "\n",
    "For instance, the `with` clause below declares a table `states` containing\n",
    "cities and their states. The `select` statement computes pairs of cities\n",
    "within the same state.\n",
    "\n",
    "\n",
    "​"
   ]
  },
  {
   "cell_type": "code",
   "execution_count": null,
   "id": "5af0f357",
   "metadata": {},
   "outputs": [],
   "source": [
    "sqlite> with\n",
    "   ...>   states(city, state) as (\n",
    "   ...>     select \"Berkeley\",  \"California\"    union\n",
    "   ...>     select \"Boston\",    \"Massachusetts\" union\n",
    "   ...>     select \"Cambridge\", \"Massachusetts\" union\n",
    "   ...>     select \"Chicago\",   \"Illinois\"      union\n",
    "   ...>     select \"Pasadena\",  \"California\"\n",
    "   ...>   )\n",
    "   ...> select a.city, b.city, a.state from states as a, states as b\n",
    "   ...>        where a.state = b.state and a.city < b.city;\n",
    "Berkeley|Pasadena|California\n",
    "Boston|Cambridge|Massachusetts\n"
   ]
  },
  {
   "cell_type": "markdown",
   "id": "00cf6437",
   "metadata": {},
   "source": [
    "A table defined within a `with` clause may have a single recursive case that\n",
    "defines output rows in terms of other output rows. For example, the `with`\n",
    "clause below defines a table of integers from 5 to 15, of which the odd values\n",
    "are selected and squared.\n",
    "\n",
    "\n",
    "​"
   ]
  },
  {
   "cell_type": "code",
   "execution_count": null,
   "id": "08a32aad",
   "metadata": {},
   "outputs": [],
   "source": [
    "sqlite> with\n",
    "   ...>   ints(n) as (\n",
    "   ...>     select 5 union\n",
    "   ...>     select n+1 from ints where n < 15\n",
    "   ...>   )\n",
    "   ...> select n, n*n from ints where n % 2 = 1;\n",
    "5|25\n",
    "7|49\n",
    "9|81\n",
    "11|121\n",
    "13|169\n",
    "15|225\n"
   ]
  },
  {
   "cell_type": "markdown",
   "id": "c3c849e1",
   "metadata": {},
   "source": [
    "Multiple tables can be defined in a `with` clause, separated by commas. The\n",
    "example below computes all Pythagorean triples from a table of integers, their\n",
    "squares, and the sums of pairs of squares. A Pythagorean triple consists of\n",
    "integers $a$, $b$, and $c$ such that $a^2 + b^2 = c^2$.\n",
    "\n",
    "\n",
    "​"
   ]
  },
  {
   "cell_type": "code",
   "execution_count": null,
   "id": "c7a94c21",
   "metadata": {},
   "outputs": [],
   "source": [
    "sqlite> with\n",
    "   ...>   ints(n) as (\n",
    "   ...>     select 1 union select n+1 from ints where n < 20\n",
    "   ...>   ),\n",
    "   ...>   squares(x, xx) as (\n",
    "   ...>     select n, n*n from ints\n",
    "   ...>   ),\n",
    "   ...>   sum_of_squares(a, b, sum) as (\n",
    "   ...>     select a.x, b.x, a.xx + b.xx\n",
    "   ...>            from squares as a, squares as b where a.x < b.x\n",
    "   ...>   )\n",
    "   ...> select a, b, x from squares, sum_of_squares where sum = xx;\n",
    "3|4|5\n",
    "6|8|10\n",
    "5|12|13\n",
    "9|12|15\n",
    "8|15|17\n",
    "12|16|20\n"
   ]
  },
  {
   "cell_type": "markdown",
   "id": "b1145fd9",
   "metadata": {},
   "source": [
    "Designing recursive queries involves ensuring that the appropriate information\n",
    "is available in each input row to compute a result row. To compute Fibonacci\n",
    "numbers, for example, the input row needs not only the current but also the\n",
    "previous element in order to compute the next element.\n",
    "\n",
    "\n",
    "​"
   ]
  },
  {
   "cell_type": "code",
   "execution_count": null,
   "id": "769301e2",
   "metadata": {},
   "outputs": [],
   "source": [
    "sqlite> with\n",
    "   ...>   fib(previous, current) as (\n",
    "   ...>     select 0, 1 union\n",
    "   ...>     select current, previous+current from fib\n",
    "   ...>     where current <= 100\n",
    "   ...>   )\n",
    "   ...> select previous from fib;\n",
    "0\n",
    "1\n",
    "1\n",
    "2\n",
    "3\n",
    "5\n",
    "8\n",
    "13\n",
    "21\n",
    "34\n",
    "55\n",
    "89\n"
   ]
  },
  {
   "cell_type": "markdown",
   "id": "b2960836",
   "metadata": {},
   "source": [
    "These examples demonstrate that recursion is a powerful means of combination,\n",
    "even in declarative languages.\n",
    "\n",
    "**Building strings**. Two strings can be concatenated into a longer string\n",
    "using the `||` operator in SQL.\n",
    "\n",
    "\n",
    "​"
   ]
  },
  {
   "cell_type": "code",
   "execution_count": null,
   "id": "1d5dc892",
   "metadata": {},
   "outputs": [],
   "source": [
    "sqlite> with wall(n) as (\n",
    "  ....>   select 99 union select 98 union select 97\n",
    "  ....> )\n",
    "  ....> select n || \" bottles\" from wall;\n",
    "99 bottles\n",
    "98 bottles\n",
    "97 bottles\n"
   ]
  },
  {
   "cell_type": "markdown",
   "id": "ef5cfb4e",
   "metadata": {},
   "source": [
    "This feature can be used to construct sentences by concatenating phrases. For\n",
    "example, one way to construct an English sentence is to concatenate a subject\n",
    "noun phrase, a verb, and an object noun phrase.\n",
    "\n",
    "\n",
    "​"
   ]
  },
  {
   "cell_type": "code",
   "execution_count": null,
   "id": "da567b5e",
   "metadata": {},
   "outputs": [],
   "source": [
    "sqlite> create table nouns as\n",
    "  ....>   select \"the dog\" as phrase union\n",
    "  ....>   select \"the cat\"           union\n",
    "  ....>   select \"the bird\";\n",
    "sqlite> select subject.phrase || \" chased \" || object.phrase\n",
    "  ....>        from nouns as subject, nouns as object\n",
    "  ....>        where subject.phrase != object.phrase;\n",
    "the bird chased the cat\n",
    "the bird chased the dog\n",
    "the cat chased the bird\n",
    "the cat chased the dog\n",
    "the dog chased the bird\n",
    "the dog chased the cat\n"
   ]
  },
  {
   "cell_type": "markdown",
   "id": "510ae418",
   "metadata": {},
   "source": [
    "As an exercise, use a recursive local table to generate sentences such as,\n",
    "\"the dog that chased the cat that chased the bird also chased the bird.\"\n",
    "\n",
    "### 4.3.6 Aggregation and Grouping\n",
    "\n",
    "The `select` statements introduced so far can join, project, and manipulate\n",
    "individual rows. In addition, a `select` statement can perform aggregation\n",
    "operations over multiple rows. The aggregate functions `max`, `min`, `count`,\n",
    "and `sum` return the maximum, minimum, number, and sum of the values in a\n",
    "column. Multiple aggregate functions can be applied to the same set of rows by\n",
    "defining more than one column. Only columns that are included by the `where`\n",
    "clause are considered in the aggreagation.\n",
    "\n",
    "\n",
    "​"
   ]
  },
  {
   "cell_type": "code",
   "execution_count": null,
   "id": "9b27ffa8",
   "metadata": {},
   "outputs": [],
   "source": [
    "sqlite> create table animals as\n",
    "  ....>   select \"dog\" as name, 4 as legs, 20 as weight union\n",
    "  ....>   select \"cat\"        , 4        , 10           union\n",
    "  ....>   select \"ferret\"     , 4        , 10           union\n",
    "  ....>   select \"t-rex\"      , 2        , 12000        union\n",
    "  ....>   select \"penguin\"    , 2        , 10           union\n",
    "  ....>   select \"bird\"       , 2        , 6;\n",
    "sqlite> select max(legs) from animals;\n",
    "4\n",
    "sqlite> select sum(weight) from animals;\n",
    "12056\n",
    "sqlite> select min(legs), max(weight) from animals where name <> \"t-rex\";\n",
    "2|20\n"
   ]
  },
  {
   "cell_type": "markdown",
   "id": "8a85262e",
   "metadata": {},
   "source": [
    "The `distinct` keyword ensures that no repeated values in a column are\n",
    "included in the aggregation. Only two distinct values of `legs` appear in the\n",
    "`animals` table. The special `count(*)` syntax counts the number of rows.\n",
    "\n",
    "\n",
    "​"
   ]
  },
  {
   "cell_type": "code",
   "execution_count": null,
   "id": "31ead14b",
   "metadata": {},
   "outputs": [],
   "source": [
    "sqlite> select count(legs) from animals;\n",
    "6\n",
    "sqlite> select count(*) from animals;\n",
    "6\n",
    "sqlite> select count(distinct legs) from animals;\n",
    "2\n"
   ]
  },
  {
   "cell_type": "markdown",
   "id": "86e7fc05",
   "metadata": {},
   "source": [
    "Each of these `select` statements has produced a table with a single row. The\n",
    "`group by` and `having` clauses of a `select` statement are used to partition\n",
    "rows into groups and select only a subset of the groups. Any aggregate\n",
    "functions in the `having` clause or column description will apply to each\n",
    "group independently, rather than the entire set of rows in the table.\n",
    "\n",
    "For example, to compute the maximum weight of both a four-legged and a two-\n",
    "legged animal from this table, the first statement below groups together dogs\n",
    "and cats as one group and birds as a separate group. The result indicates that\n",
    "the maximum weight for a two-legged animal is 3 (the bird) and for a four-\n",
    "legged animal is 20 (the dog). The second query lists the values in the `legs`\n",
    "column for which there are at least two distinct names.\n",
    "\n",
    "\n",
    "​"
   ]
  },
  {
   "cell_type": "code",
   "execution_count": null,
   "id": "9aa54fa9",
   "metadata": {},
   "outputs": [],
   "source": [
    "sqlite> select legs, max(weight) from animals group by legs;\n",
    "2|12000\n",
    "4|20\n",
    "sqlite> select weight from animals group by weight having count(*)>1;\n",
    "10\n"
   ]
  },
  {
   "cell_type": "markdown",
   "id": "2f4b5980",
   "metadata": {},
   "source": [
    "Multiple columns and full expressions can appear in the `group by` clause, and\n",
    "groups will be formed for every unique combination of values that result.\n",
    "Typically, the expression used for grouping also appears in the column\n",
    "description, so that it is easy to identify which result row resulted from\n",
    "each group.\n",
    "\n",
    "\n",
    "​"
   ]
  },
  {
   "cell_type": "code",
   "execution_count": null,
   "id": "8a7a00a7",
   "metadata": {},
   "outputs": [],
   "source": [
    "sqlite> select max(name) from animals group by legs, weight order by name;\n",
    "bird\n",
    "dog\n",
    "ferret\n",
    "penguin\n",
    "t-rex\n",
    "sqlite> select max(name), legs, weight from animals group by legs, weight\n",
    "  ....>   having max(weight) < 100;\n",
    "bird|2|6\n",
    "penguin|2|10\n",
    "ferret|4|10\n",
    "dog|4|20\n",
    "sqlite> select count(*), weight/legs from animals group by weight/legs;\n",
    "2|2\n",
    "1|3\n",
    "2|5\n",
    "1|6000\n"
   ]
  },
  {
   "cell_type": "markdown",
   "id": "042eef69",
   "metadata": {},
   "source": [
    "A `having` clause can contain the same filtering as a `where` clause, but can\n",
    "also include calls to aggregate functions. For the fastest execution and\n",
    "clearest use of the language, a condition that filters individual rows based\n",
    "on their contents should appear in a `where` clause, while a `having` clause\n",
    "should be used only when aggregation is required in the condition (such as\n",
    "specifying a minimum `count` for a group).\n",
    "\n",
    "When using a `group by` clause, column descriptions can contain expressions\n",
    "that do not aggregate. In some cases, the SQL interpreter will choose the\n",
    "value from a row that corresponds to another column that includes aggregation.\n",
    "For example, the following statement gives the `name` of an animal with\n",
    "maximal `weight`.\n",
    "\n",
    "\n",
    "​"
   ]
  },
  {
   "cell_type": "code",
   "execution_count": null,
   "id": "94477641",
   "metadata": {},
   "outputs": [],
   "source": [
    "sqlite> select name, max(weight) from animals;\n",
    "t-rex|12000\n",
    "sqlite> select name, legs, max(weight) from animals group by legs;\n",
    "t-rex|2|12000\n",
    "dog|4|20\n"
   ]
  },
  {
   "cell_type": "markdown",
   "id": "7283c5ef",
   "metadata": {},
   "source": [
    "However, whenever the row that corresponds to aggregation is unclear (for\n",
    "instance, when aggregating with `count` instead of `max`), the value chosen\n",
    "may be arbitrary. For the clearest and most predictable use of the language, a\n",
    "`select` statement that includes a `group by` clause should include at least\n",
    "one aggregate column and only include non-aggregate columns if their contents\n",
    "is predictable from the aggregation.\n",
    "\n",
    "_Continue_ : [ 4.4 Logic Programming ](../pages/44-logic-programming.html)\n",
    "\n",
    "## 4.4 Logic Programming\n",
    "\n",
    "In this section, we introduce a declarative query language called `logic`,\n",
    "designed specifically for this text. It is based upon\n",
    "[Prolog](http://en.wikipedia.org/wiki/Prolog) and the declarative language in\n",
    "[Structure and Interpretation of Computer\n",
    "Programs](http://mitpress.mit.edu/sicp/full-text/book/book-\n",
    "Z-H-29.html#%_sec_4.4.1). Data records are expressed as Scheme lists, and\n",
    "queries are expressed as Scheme values. The\n",
    "[logic](http://composingprograms.com/examples/logic/logic.py.html) interpreter\n",
    "is a complete implementation that depends upon the Scheme project of the\n",
    "previous chapter.\n",
    "\n",
    "### 4.4.1 Facts and Queries\n",
    "\n",
    "Databases store records that represent facts in the system. The purpose of the\n",
    "query interpreter is to retrieve collections of facts drawn directly from\n",
    "database records, as well as to deduce new facts from the database using\n",
    "logical inference. A `fact` statement in the `logic` language consists of one\n",
    "or more lists following the keyword `fact`. A simple fact is a single list. A\n",
    "dog breeder with an interest in U.S. Presidents might record the genealogy of\n",
    "her collection of dogs using the `logic` language as follows:\n",
    "\n",
    "\n",
    "​"
   ]
  },
  {
   "cell_type": "code",
   "execution_count": null,
   "id": "3f5ed3eb",
   "metadata": {},
   "outputs": [],
   "source": [
    "(fact (parent abraham barack))\n",
    "(fact (parent abraham clinton))\n",
    "(fact (parent delano herbert))\n",
    "(fact (parent fillmore abraham))\n",
    "(fact (parent fillmore delano))\n",
    "(fact (parent fillmore grover))\n",
    "(fact (parent eisenhower fillmore))\n"
   ]
  },
  {
   "cell_type": "markdown",
   "id": "59e0aa84",
   "metadata": {},
   "source": [
    "Each fact is not a procedure application, as in a Scheme expression, but\n",
    "instead a _relation_ that is declared. \"The dog Abraham is the parent of\n",
    "Barack,\" declares the first fact. Relation types do not need to be defined in\n",
    "advance. Relations are not applied, but instead matched to queries.\n",
    "\n",
    "A query also consists of one or more lists, but begins with the keyword\n",
    "`query`. A query may contain variables, which are symbols that begin with a\n",
    "question mark. Variables are matched to facts by the query interpreter:\n",
    "\n",
    "\n",
    "​"
   ]
  },
  {
   "cell_type": "code",
   "execution_count": null,
   "id": "049f49e3",
   "metadata": {},
   "outputs": [],
   "source": [
    "(query (parent abraham ?child))\n"
   ]
  },
  {
   "cell_type": "markdown",
   "id": "ec0b9e6e",
   "metadata": {},
   "source": [
    "The query interpreter responds with `Success!` to indicate that the query\n",
    "matches some fact. The following lines show substitutions of the variable\n",
    "`?child` that match the query to the facts in the database.\n",
    "\n",
    "**Compound facts.** Facts may also contain variables as well as multiple sub-\n",
    "expressions. A multi-expression fact begins with a conclusion, followed by\n",
    "hypotheses. For the conclusion to be true, all of the hypotheses must be\n",
    "satisfied:\n",
    "\n",
    "\n",
    "​"
   ]
  },
  {
   "cell_type": "code",
   "execution_count": null,
   "id": "8f5e77fc",
   "metadata": {},
   "outputs": [],
   "source": [
    "(fact <conclusion> <hypothesis0> <hypothesis1> ... <hypothesisN>)\n"
   ]
  },
  {
   "cell_type": "markdown",
   "id": "fdb3bcc7",
   "metadata": {},
   "source": [
    "For example, facts about children can be declared based on the facts about\n",
    "parents already in the database:\n",
    "\n",
    "\n",
    "​"
   ]
  },
  {
   "cell_type": "code",
   "execution_count": null,
   "id": "e7e14a12",
   "metadata": {},
   "outputs": [],
   "source": [
    "(fact (child ?c ?p) (parent ?p ?c))\n"
   ]
  },
  {
   "cell_type": "markdown",
   "id": "44a7d833",
   "metadata": {},
   "source": [
    "The fact above can be read as: \"`?c` is the child of `?p`, provided that `?p`\n",
    "is the parent of `?c`.\" A query can now refer to this fact:\n",
    "\n",
    "\n",
    "​"
   ]
  },
  {
   "cell_type": "code",
   "execution_count": null,
   "id": "1eebc3a4",
   "metadata": {},
   "outputs": [],
   "source": [
    "(query (child ?child fillmore))\n"
   ]
  },
  {
   "cell_type": "markdown",
   "id": "1aaef965",
   "metadata": {},
   "source": [
    "The query above requires the query interpreter to combine the fact that\n",
    "defines `child` with the various parent facts about `fillmore`. The user of\n",
    "the language does not need to know how this information is combined, but only\n",
    "that the result has a particular form. It is up to the query interpreter to\n",
    "prove that `(child abraham fillmore)` is true, given the available facts.\n",
    "\n",
    "A query is not required to include variables; it may simply verify a fact:\n",
    "\n",
    "\n",
    "​"
   ]
  },
  {
   "cell_type": "code",
   "execution_count": null,
   "id": "6d5b91b3",
   "metadata": {},
   "outputs": [],
   "source": [
    "(query (child herbert delano))\n"
   ]
  },
  {
   "cell_type": "markdown",
   "id": "74f4d049",
   "metadata": {},
   "source": [
    "A query that does not match any facts will return failure:\n",
    "\n",
    "\n",
    "​"
   ]
  },
  {
   "cell_type": "code",
   "execution_count": null,
   "id": "fd85596a",
   "metadata": {},
   "outputs": [],
   "source": [
    "(query (child eisenhower ?parent))\n"
   ]
  },
  {
   "cell_type": "markdown",
   "id": "e8266ceb",
   "metadata": {},
   "source": [
    "**Negation.** We can check if some query does not match any fact by using the\n",
    "special keyword `not`:\n",
    "\n",
    "\n",
    "​"
   ]
  },
  {
   "cell_type": "code",
   "execution_count": null,
   "id": "0b231ec5",
   "metadata": {},
   "outputs": [],
   "source": [
    "(query (not <relation>))\n"
   ]
  },
  {
   "cell_type": "markdown",
   "id": "9a0ab4fe",
   "metadata": {},
   "source": [
    "This query succeeds if `<relation>` fails, and fails if `<relation>` succeeds.\n",
    "This idea is known as _negation as failure_.\n",
    "\n",
    "\n",
    "​"
   ]
  },
  {
   "cell_type": "code",
   "execution_count": null,
   "id": "4d191c6a",
   "metadata": {},
   "outputs": [],
   "source": [
    "(query (not (parent abraham clinton)))\n"
   ]
  },
  {
   "cell_type": "markdown",
   "id": "5782400b",
   "metadata": {},
   "source": [
    "​    \n",
    "​"
   ]
  },
  {
   "cell_type": "code",
   "execution_count": null,
   "id": "d2d8927b",
   "metadata": {},
   "outputs": [],
   "source": [
    "(query (not (parent abraham barack)))\n"
   ]
  },
  {
   "cell_type": "markdown",
   "id": "4a7413c8",
   "metadata": {},
   "source": [
    "Sometimes, negation as failure may be counterintuitive to how one might expect\n",
    "negation to work. Think about the result of the following query:\n",
    "\n",
    "\n",
    "​"
   ]
  },
  {
   "cell_type": "code",
   "execution_count": null,
   "id": "57e874c1",
   "metadata": {},
   "outputs": [],
   "source": [
    "(query (not (parent abraham ?who)))\n"
   ]
  },
  {
   "cell_type": "markdown",
   "id": "036c50d8",
   "metadata": {},
   "source": [
    "Why does this query fail? Surely there are many symbols that could be bound to\n",
    "`?who` for which this should hold. However, the steps for negation indicate\n",
    "that we first inspect the relation `(parent abraham ?who)`. This relation\n",
    "succeeds, since `?who` can be bound to either `barack` or `clinton`. Because\n",
    "this relation succeeds, the negation of this relation must fail.\n",
    "\n",
    "### 4.4.2 Recursive Facts\n",
    "\n",
    "The `logic` language also allows recursive facts. That is, the conclusion of a\n",
    "fact may depend upon a hypothesis that contains the same symbols. For\n",
    "instance, the ancestor relation is defined with two facts. Some `?a` is an\n",
    "ancestor of `?y` if it is a parent of `?y` or if it is the parent of an\n",
    "ancestor of `?y`:\n",
    "\n",
    "\n",
    "​"
   ]
  },
  {
   "cell_type": "code",
   "execution_count": null,
   "id": "ae418594",
   "metadata": {},
   "outputs": [],
   "source": [
    "(fact (ancestor ?a ?y) (parent ?a ?y))\n",
    "(fact (ancestor ?a ?y) (parent ?a ?z) (ancestor ?z ?y))\n"
   ]
  },
  {
   "cell_type": "markdown",
   "id": "259aa6bc",
   "metadata": {},
   "source": [
    "A single query can then list all ancestors of `herbert`:\n",
    "\n",
    "\n",
    "​"
   ]
  },
  {
   "cell_type": "code",
   "execution_count": null,
   "id": "5c3a0b8c",
   "metadata": {},
   "outputs": [],
   "source": [
    "(query (ancestor ?a herbert))\n"
   ]
  },
  {
   "cell_type": "markdown",
   "id": "906109ab",
   "metadata": {},
   "source": [
    "**Compound queries.** A query may have multiple subexpressions, in which case\n",
    "all must be satisfied simultaneously by an assignment of symbols to variables.\n",
    "If a variable appears more than once in a query, then it must take the same\n",
    "value in each context. The following query finds ancestors of both `herbert`\n",
    "and `barack`:\n",
    "\n",
    "\n",
    "​"
   ]
  },
  {
   "cell_type": "code",
   "execution_count": null,
   "id": "0559081d",
   "metadata": {},
   "outputs": [],
   "source": [
    "(query (ancestor ?a barack) (ancestor ?a herbert))\n"
   ]
  },
  {
   "cell_type": "markdown",
   "id": "b2fa3014",
   "metadata": {},
   "source": [
    "Recursive facts may require long chains of inference to match queries to\n",
    "existing facts in a database. For instance, to prove the fact `(ancestor\n",
    "fillmore herbert)`, we must prove each of the following facts in succession:\n",
    "\n",
    "\n",
    "​"
   ]
  },
  {
   "cell_type": "code",
   "execution_count": null,
   "id": "88ce9dfc",
   "metadata": {},
   "outputs": [],
   "source": [
    "(parent delano herbert)       ; (1), a simple fact\n",
    "(ancestor delano herbert)     ; (2), from (1) and the 1st ancestor fact\n",
    "(parent fillmore delano)      ; (3), a simple fact\n",
    "(ancestor fillmore herbert)   ; (4), from (2), (3), & the 2nd ancestor fact\n"
   ]
  },
  {
   "cell_type": "markdown",
   "id": "1be6d274",
   "metadata": {},
   "source": [
    "In this way, a single fact can imply a large number of additional facts, or\n",
    "even infinitely many, as long as the query interpreter is able to discover\n",
    "them.\n",
    "\n",
    "**Hierarchical facts.** Thus far, each fact and query expression has been a\n",
    "list of symbols. In addition, fact and query lists can contain lists,\n",
    "providing a way to represent hierarchical data. The color of each dog may be\n",
    "stored along with the name an additional record:\n",
    "\n",
    "\n",
    "​"
   ]
  },
  {
   "cell_type": "code",
   "execution_count": null,
   "id": "2565faa2",
   "metadata": {},
   "outputs": [],
   "source": [
    "(fact (dog (name abraham) (color white)))\n",
    "(fact (dog (name barack) (color tan)))\n",
    "(fact (dog (name clinton) (color white)))\n",
    "(fact (dog (name delano) (color white)))\n",
    "(fact (dog (name eisenhower) (color tan)))\n",
    "(fact (dog (name fillmore) (color brown)))\n",
    "(fact (dog (name grover) (color tan)))\n",
    "(fact (dog (name herbert) (color brown)))\n"
   ]
  },
  {
   "cell_type": "markdown",
   "id": "1f8c5486",
   "metadata": {},
   "source": [
    "Queries can articulate the full structure of hierarchical facts, or they can\n",
    "match variables to whole lists:\n",
    "\n",
    "\n",
    "​"
   ]
  },
  {
   "cell_type": "code",
   "execution_count": null,
   "id": "2c2f9336",
   "metadata": {},
   "outputs": [],
   "source": [
    "(query (dog (name clinton) (color ?color)))\n"
   ]
  },
  {
   "cell_type": "markdown",
   "id": "d9199f8a",
   "metadata": {},
   "source": [
    "​    \n",
    "​"
   ]
  },
  {
   "cell_type": "code",
   "execution_count": null,
   "id": "481b40d4",
   "metadata": {},
   "outputs": [],
   "source": [
    "(query (dog (name clinton) ?info))\n"
   ]
  },
  {
   "cell_type": "markdown",
   "id": "c8815ced",
   "metadata": {},
   "source": [
    "Much of the power of a database lies in the ability of the query interpreter\n",
    "to join together multiple kinds of facts in a single query. The following\n",
    "query finds all pairs of dogs for which one is the ancestor of the other and\n",
    "they share a color:\n",
    "\n",
    "\n",
    "​"
   ]
  },
  {
   "cell_type": "code",
   "execution_count": null,
   "id": "860f5e19",
   "metadata": {},
   "outputs": [],
   "source": [
    "(query (dog (name ?name) (color ?color))\n",
    "       (ancestor ?ancestor ?name)\n",
    "       (dog (name ?ancestor) (color ?color)))\n"
   ]
  },
  {
   "cell_type": "markdown",
   "id": "6c32cb5e",
   "metadata": {},
   "source": [
    "Variables can refer to lists in hierarchical records, but also using dot\n",
    "notation. A variable following a dot matches the rest of the list of a fact.\n",
    "Dotted lists can appear in either facts or queries. The following example\n",
    "constructs pedigrees of dogs by listing their chain of ancestry. Young\n",
    "`barack` follows a venerable line of presidential pups:\n",
    "\n",
    "\n",
    "​"
   ]
  },
  {
   "cell_type": "code",
   "execution_count": null,
   "id": "77bfcc21",
   "metadata": {},
   "outputs": [],
   "source": [
    "(fact (pedigree ?name) (dog (name ?name) . ?details))\n",
    "(fact (pedigree ?child ?parent . ?rest)\n",
    "      (parent ?parent ?child)\n",
    "      (pedigree ?parent . ?rest))\n"
   ]
  },
  {
   "cell_type": "markdown",
   "id": "fea94c80",
   "metadata": {},
   "source": [
    "​    \n",
    "​"
   ]
  },
  {
   "cell_type": "code",
   "execution_count": null,
   "id": "dea8fcdf",
   "metadata": {},
   "outputs": [],
   "source": [
    "(query (pedigree barack . ?lineage))\n"
   ]
  },
  {
   "cell_type": "markdown",
   "id": "89d5b315",
   "metadata": {},
   "source": [
    "Declarative or logical programming can express relationships among facts with\n",
    "remarkable efficiency. For example, if we wish to express that two lists can\n",
    "append to form a longer list with the elements of the first, followed by the\n",
    "elements of the second, we state two rules. First, a base case declares that\n",
    "appending an empty list to any list gives that list:\n",
    "\n",
    "\n",
    "​"
   ]
  },
  {
   "cell_type": "code",
   "execution_count": null,
   "id": "a1d4c1bc",
   "metadata": {},
   "outputs": [],
   "source": [
    "(fact (append-to-form () ?x ?x))\n"
   ]
  },
  {
   "cell_type": "markdown",
   "id": "b773788f",
   "metadata": {},
   "source": [
    "Second, a recursive fact declares that a list with first element `?a` and rest\n",
    "`?r` appends to a list `?y` to form a list with first element `?a` and some\n",
    "appended rest `?z`. For this relation to hold, it must be the case that `?r`\n",
    "and `?y` append to form `?z`:\n",
    "\n",
    "\n",
    "​"
   ]
  },
  {
   "cell_type": "code",
   "execution_count": null,
   "id": "b261f49a",
   "metadata": {},
   "outputs": [],
   "source": [
    "(fact (append-to-form (?a . ?r) ?y (?a . ?z)) (append-to-form ?r ?y ?z))\n"
   ]
  },
  {
   "cell_type": "markdown",
   "id": "be18a89f",
   "metadata": {},
   "source": [
    "Using these two facts, the query interpreter can compute the result of\n",
    "appending any two lists together:\n",
    "\n",
    "\n",
    "​"
   ]
  },
  {
   "cell_type": "code",
   "execution_count": null,
   "id": "0cc18ee1",
   "metadata": {},
   "outputs": [],
   "source": [
    "(query (append-to-form (a b c) (d e) ?result))\n"
   ]
  },
  {
   "cell_type": "markdown",
   "id": "7e626ae8",
   "metadata": {},
   "source": [
    "In addition, it can compute all possible pairs of lists `?left` and `?right`\n",
    "that can append to form the list `(a b c d e)`:\n",
    "\n",
    "\n",
    "​"
   ]
  },
  {
   "cell_type": "code",
   "execution_count": null,
   "id": "bd8bec84",
   "metadata": {},
   "outputs": [],
   "source": [
    "(query (append-to-form ?left ?right (a b c d e)))\n"
   ]
  },
  {
   "cell_type": "markdown",
   "id": "bbbbf082",
   "metadata": {},
   "source": [
    "Although it may appear that our query interpreter is quite intelligent, we\n",
    "will see that it finds these combinations through one simple operation\n",
    "repeated many times: that of matching two lists that contain variables in an\n",
    "environment.\n",
    "\n",
    "_Continue_ : [ 4.5 Unification ](../pages/45-unification.html)\n",
    "\n",
    "## 4.5 Unification\n",
    "\n",
    "This section describes an implementation of the query interpreter that\n",
    "performs inference in the `logic` language. The interpreter is a general\n",
    "problem solver, but has substantial limitations on the scale and type of\n",
    "problems it can solve. More sophisticated logical programming languages exist,\n",
    "but the construction of efficient inference procedures remains an active\n",
    "research topic in computer science.\n",
    "\n",
    "The fundamental operation performed by the query interpreter is called\n",
    "_unification_. Unification is a general method of matching a query to a fact,\n",
    "each of which may contain variables. The query interpreter applies this\n",
    "operation repeatedly, first to match the original query to conclusions of\n",
    "facts, and then to match the hypotheses of facts to other conclusions in the\n",
    "database. In doing so, the query interpreter performs a search through the\n",
    "space of all facts related to a query. If it finds a way to support that query\n",
    "with an assignment of values to variables, it returns that assignment as a\n",
    "successful result.\n",
    "\n",
    "### 4.5.1 Pattern Matching\n",
    "\n",
    "In order to return simple facts that match a query, the interpreter must match\n",
    "a query that contains variables with a fact that does not. For example, the\n",
    "query `(query (parent abraham ?child))` and the fact `(fact (parent abraham\n",
    "barack))` match, if the variable `?child` takes the value `barack`.\n",
    "\n",
    "In general, a pattern matches some expression (a possibly nested Scheme list)\n",
    "if there is a binding of variable names to values such that substituting those\n",
    "values into the pattern yields the expression.\n",
    "\n",
    "For example, the expression `((a b) c (a b))` matches the pattern `(?x c ?x)`\n",
    "with variable `?x` bound to value `(a b)`. The same expression matches the\n",
    "pattern `((a ?y) ?z (a b))` with variable `?y` bound to `b` and `?z` bound to\n",
    "`c`.\n",
    "\n",
    "### 4.5.2 Representing Facts and Queries\n",
    "\n",
    "The following examples can be replicated by importing the provided\n",
    "[logic](http://composingprograms.com/examples/logic/logic.py.html) example\n",
    "program.\n",
    "\n",
    "\n",
    "​"
   ]
  },
  {
   "cell_type": "code",
   "execution_count": null,
   "id": "66315210",
   "metadata": {},
   "outputs": [],
   "source": [
    ">>> from logic import *\n"
   ]
  },
  {
   "cell_type": "markdown",
   "id": "1ae4d328",
   "metadata": {},
   "source": [
    "Both queries and facts are represented as Scheme lists in the logic language,\n",
    "using the same `Pair` class and `nil` object in the previous chapter. For\n",
    "example, the query expression `(?x c ?x)` is represented as nested `Pair`\n",
    "instances.\n",
    "\n",
    "\n",
    "​"
   ]
  },
  {
   "cell_type": "code",
   "execution_count": null,
   "id": "8524df37",
   "metadata": {},
   "outputs": [],
   "source": [
    ">>> read_line(\"(?x c ?x)\")\n",
    "Pair('?x', Pair('c', Pair('?x', nil)))\n"
   ]
  },
  {
   "cell_type": "markdown",
   "id": "de3391c5",
   "metadata": {},
   "source": [
    "As in the Scheme project, an environment that binds symbols to values is\n",
    "represented with an instance of the `Frame` class, which has an attribute\n",
    "called `bindings`.\n",
    "\n",
    "The function that performs pattern matching in the `logic` language is called\n",
    "`unify`. It takes two inputs, `e` and `f`, as well as an environment `env`\n",
    "that records the bindings of variables to values.\n",
    "\n",
    "\n",
    "​"
   ]
  },
  {
   "cell_type": "code",
   "execution_count": null,
   "id": "2950ae21",
   "metadata": {},
   "outputs": [],
   "source": [
    ">>> e = read_line(\"((a b) c (a b))\")\n",
    ">>> f = read_line(\"(?x c ?x)\")\n",
    ">>> env = Frame(None)\n",
    ">>> unify(e, f, env)\n",
    "True\n",
    ">>> env.bindings\n",
    "{'?x': Pair('a', Pair('b', nil))}\n",
    ">>> print(env.lookup('?x'))\n",
    "(a b)\n"
   ]
  },
  {
   "cell_type": "markdown",
   "id": "043718ba",
   "metadata": {},
   "source": [
    "Above, the return value of `True` from `unify` indicates that the pattern `f`\n",
    "was able to match the expression `e`. The result of unification is recorded in\n",
    "the binding in `env` of `?x` to `(a b)`.\n",
    "\n",
    "### 4.5.3 The Unification Algorithm\n",
    "\n",
    "Unification is a generalization of pattern matching that attempts to find a\n",
    "mapping between two expressions that may both contain variables. The `unify`\n",
    "function implements unification via a recursive process, which performs\n",
    "unification on corresponding parts of two expressions until a contradiction is\n",
    "reached or a viable binding to all variables can be established.\n",
    "\n",
    "Let us begin with an example. The pattern `(?x ?x)` can match the pattern `((a\n",
    "?y c) (a b ?z))` because there is an expression with no variables that matches\n",
    "both: `((a b c) (a b c))`. Unification identifies this solution via the\n",
    "following steps:"
   ]
  },
  {
   "cell_type": "code",
   "execution_count": null,
   "id": "630b26fa",
   "metadata": {},
   "outputs": [],
   "source": [
    "1. To match the first element of each pattern, the variable `?x` is bound to the expression `(a ?y c)`.\n",
    "2. To match the second element of each pattern, first the variable `?x` is replaced by its value. Then, `(a ?y c)` is matched to `(a b ?z)` by binding `?y` to `b` and `?z` to `c`."
   ]
  },
  {
   "cell_type": "markdown",
   "id": "1dc769e8",
   "metadata": {},
   "source": [
    "As a result, the bindings placed in the environment passed to `unify` contain\n",
    "entries for `?x`, `?y`, and `?z`:\n",
    "\n",
    "\n",
    "​"
   ]
  },
  {
   "cell_type": "code",
   "execution_count": null,
   "id": "3393c885",
   "metadata": {},
   "outputs": [],
   "source": [
    ">>> e = read_line(\"(?x ?x)\")\n",
    ">>> f = read_line(\" ((a ?y c) (a b ?z))\")\n",
    ">>> env = Frame(None)\n",
    ">>> unify(e, f, env)\n",
    "True\n",
    ">>> env.bindings\n",
    "{'?z': 'c', '?y': 'b', '?x': Pair('a', Pair('?y', Pair('c', nil)))}\n"
   ]
  },
  {
   "cell_type": "markdown",
   "id": "b1da4903",
   "metadata": {},
   "source": [
    "The result of unification may bind a variable to an expression that also\n",
    "contains variables, as we see above with `?x` bound to `(a ?y c)`. The `bind`\n",
    "function recursively and repeatedly binds all variables to their values in an\n",
    "expression until no bound variables remain.\n",
    "\n",
    "\n",
    "​"
   ]
  },
  {
   "cell_type": "code",
   "execution_count": null,
   "id": "f9bb69ee",
   "metadata": {},
   "outputs": [],
   "source": [
    ">>> print(bind(e, env))\n",
    "((a b c) (a b c))\n"
   ]
  },
  {
   "cell_type": "markdown",
   "id": "3ea1d4a9",
   "metadata": {},
   "source": [
    "In general, unification proceeds by checking several conditions. The\n",
    "implementation of `unify` directly follows the description below."
   ]
  },
  {
   "cell_type": "code",
   "execution_count": null,
   "id": "5b52b562",
   "metadata": {},
   "outputs": [],
   "source": [
    "1. Both inputs `e` and `f` are replaced by their values if they are variables.\n",
    "2. If `e` and `f` are equal, unification succeeds.\n",
    "3. If `e` is a variable, unification succeeds and `e` is bound to `f`.\n",
    "4. If `f` is a variable, unification succeeds and `f` is bound to `e`.\n",
    "5. If neither is a variable, both are not lists, and they are not equal, then `e` and `f` cannot be unified, and so unification fails.\n",
    "6. If none of these cases holds, then `e` and `f` are both pairs, and so unification is performed on both their first and second corresponding elements.\n"
   ]
  },
  {
   "cell_type": "markdown",
   "id": "0cef4f75",
   "metadata": {},
   "source": [
    "​"
   ]
  },
  {
   "cell_type": "code",
   "execution_count": null,
   "id": "229531e8",
   "metadata": {},
   "outputs": [],
   "source": [
    ">>> def unify(e, f, env):\n",
    "        \"\"\"Destructively extend ENV so as to unify (make equal) e and f, returning\n",
    "        True if this succeeds and False otherwise.  ENV may be modified in either\n",
    "        case (its existing bindings are never changed).\"\"\"\n",
    "        e = lookup(e, env)\n",
    "        f = lookup(f, env)\n",
    "        if e == f:\n",
    "            return True\n",
    "        elif isvar(e):\n",
    "            env.define(e, f)\n",
    "            return True\n",
    "        elif isvar(f):\n",
    "            env.define(f, e)\n",
    "            return True\n",
    "        elif scheme_atomp(e) or scheme_atomp(f):\n",
    "            return False\n",
    "        else:\n",
    "            return unify(e.first, f.first, env) and unify(e.second, f.second, env)\n"
   ]
  },
  {
   "cell_type": "markdown",
   "id": "c7f2b7a6",
   "metadata": {},
   "source": [
    "### 4.5.4 Proofs\n",
    "\n",
    "One way to think about the `logic` language is as a prover of assertions in a\n",
    "formal system. Each stated fact establishes an axiom in a formal system, and\n",
    "each query must be established by the query interpreter from these axioms.\n",
    "That is, each query asserts that there is some assignment to its variables\n",
    "such that all of its sub-expressions simultaneously follow from the facts of\n",
    "the system. The role of the query interpreter is to verify that this is so.\n",
    "\n",
    "For instance, given the set of facts about dogs, we may assert that there is\n",
    "some common ancestor of Clinton and a tan dog. The query interpreter only\n",
    "outputs `Success!` if it is able to establish that this assertion is true. As\n",
    "a byproduct, it informs us of the name of that common ancestor and the tan\n",
    "dog:\n",
    "\n",
    "\n",
    "​"
   ]
  },
  {
   "cell_type": "code",
   "execution_count": null,
   "id": "c2d63935",
   "metadata": {},
   "outputs": [],
   "source": [
    "(fact (parent abraham barack))\n",
    "(fact (parent abraham clinton))\n",
    "(fact (parent delano herbert))\n",
    "(fact (parent fillmore abraham))\n",
    "(fact (parent fillmore delano))\n",
    "(fact (parent fillmore grover))\n",
    "(fact (parent eisenhower fillmore))\n",
    "\n",
    "(fact (ancestor ?a ?y) (parent ?a ?y))\n",
    "(fact (ancestor ?a ?y) (parent ?a ?z) (ancestor ?z ?y))\n",
    "\n",
    "(fact (dog (name abraham) (color white)))\n",
    "(fact (dog (name barack) (color tan)))\n",
    "(fact (dog (name clinton) (color white)))\n",
    "(fact (dog (name delano) (color white)))\n",
    "(fact (dog (name eisenhower) (color tan)))\n",
    "(fact (dog (name fillmore) (color brown)))\n",
    "(fact (dog (name grover) (color tan)))\n",
    "(fact (dog (name herbert) (color brown)))\n"
   ]
  },
  {
   "cell_type": "markdown",
   "id": "3f87037c",
   "metadata": {},
   "source": [
    "​    \n",
    "​"
   ]
  },
  {
   "cell_type": "code",
   "execution_count": null,
   "id": "3c6c5fe5",
   "metadata": {},
   "outputs": [],
   "source": [
    "(query (ancestor ?a clinton)\n",
    "       (ancestor ?a ?brown-dog)\n",
    "       (dog (name ?brown-dog) (color brown)))\n"
   ]
  },
  {
   "cell_type": "markdown",
   "id": "d8af37b4",
   "metadata": {},
   "source": [
    "Each of the three assignments shown in the result is a trace of a larger proof\n",
    "that the query is true given the facts. A full proof would include all of the\n",
    "facts that were used, for instance including `(parent abraham clinton)` and\n",
    "`(parent fillmore abraham)`.\n",
    "\n",
    "### 4.5.5 Search\n",
    "\n",
    "In order to establish a query from the facts already established in the\n",
    "system, the query interpreter performs a search in the space of all possible\n",
    "facts. Unification is the primitive operation that pattern matches two\n",
    "expressions. The _search procedure_ in a query interpreter chooses what\n",
    "expressions to unify in order to find a set of facts that chain together to\n",
    "establishes the query.\n",
    "\n",
    "The recursive `search` function implements the search procedure for the\n",
    "`logic` language. It takes as input the Scheme list of `clauses` in the query,\n",
    "an environment `env` containing current bindings of symbols to values\n",
    "(initially empty), and the `depth` of the chain of rules that have been\n",
    "chained together already.\n",
    "\n",
    "\n",
    "​"
   ]
  },
  {
   "cell_type": "code",
   "execution_count": null,
   "id": "ed99f5f6",
   "metadata": {},
   "outputs": [],
   "source": [
    ">>> def search(clauses, env, depth):\n",
    "        \"\"\"Search for an application of rules to establish all the CLAUSES,\n",
    "        non-destructively extending the unifier ENV.  Limit the search to\n",
    "        the nested application of DEPTH rules.\"\"\"\n",
    "        if clauses is nil:\n",
    "            yield env\n",
    "        elif DEPTH_LIMIT is None or depth <= DEPTH_LIMIT:\n",
    "            if clauses.first.first in ('not', '~'):\n",
    "                clause = ground(clauses.first.second, env)\n",
    "                try:\n",
    "                    next(search(clause, glob, 0))\n",
    "                except StopIteration:\n",
    "                    env_head = Frame(env)\n",
    "                    for result in search(clauses.second, env_head, depth+1):\n",
    "                        yield result\n",
    "            else:\n",
    "                for fact in facts:\n",
    "                    fact = rename_variables(fact, get_unique_id())\n",
    "                    env_head = Frame(env)\n",
    "                    if unify(fact.first, clauses.first, env_head):\n",
    "                        for env_rule in search(fact.second, env_head, depth+1):\n",
    "                            for result in search(clauses.second, env_rule, depth+1):\n",
    "                                yield result\n"
   ]
  },
  {
   "cell_type": "markdown",
   "id": "6e6b4cb9",
   "metadata": {},
   "source": [
    "The search to satisfy all clauses simultaneously begins with the first clause.\n",
    "In the special case where our first clause is negated, rather than trying to\n",
    "unify the first clause of the query with a fact, we check that there is no\n",
    "such unification possible through a recursive call to `search`. If this\n",
    "recursive call yields nothing, we continue the search process with the rest of\n",
    "our clauses. If unification is possible, we fail immediately.\n",
    "\n",
    "If our first clause is not negated, then for each fact in the database,\n",
    "`search` attempts to unify the first clause of the fact with the first clause\n",
    "of the query. Unification is performed in a new environment `env_head`. As a\n",
    "side effect of unification, variables are bound to values in `env_head`.\n",
    "\n",
    "If unification is successful, then the clause matches the conclusion of the\n",
    "current rule. The following `for` statement attempts to establish the\n",
    "hypotheses of the rule, so that the conclusion can be established. It is here\n",
    "that the hypotheses of a recursive rule would be passed recursively to\n",
    "`search` in order to be established.\n",
    "\n",
    "Finally, for every successful search of `fact.second`, the resulting\n",
    "environment is bound to `env_rule`. Given these bindings of values to\n",
    "variables, the final `for` statement searches to establish the rest of the\n",
    "clauses in the initial query. Any successful result is returned via the inner\n",
    "`yield` statement.\n",
    "\n",
    "**Unique names.** Unification assumes that no variable is shared among both\n",
    "`e` and `f`. However, we often reuse variable names in the facts and queries\n",
    "of the `logic` language. We would not like to confuse an `?x` in one fact with\n",
    "an `?x` in another; these variables are unrelated. To ensure that names are\n",
    "not confused, before a fact is passed into unify, its variable names are\n",
    "replaced by unique names using `rename_variables` by appending a unique\n",
    "integer for the fact.\n",
    "\n",
    "\n",
    "​"
   ]
  },
  {
   "cell_type": "code",
   "execution_count": null,
   "id": "30b363b5",
   "metadata": {},
   "outputs": [],
   "source": [
    ">>> def rename_variables(expr, n):\n",
    "        \"\"\"Rename all variables in EXPR with an identifier N.\"\"\"\n",
    "        if isvar(expr):\n",
    "            return expr + '_' + str(n)\n",
    "        elif scheme_pairp(expr):\n",
    "            return Pair(rename_variables(expr.first, n),\n",
    "                        rename_variables(expr.second, n))\n",
    "        else:\n",
    "            return expr\n"
   ]
  },
  {
   "cell_type": "markdown",
   "id": "f7617713",
   "metadata": {},
   "source": [
    "The remaining details, including the user interface to the `logic` language\n",
    "and the definition of various helper functions, appears in the\n",
    "[logic](http://composingprograms.com/examples/logic/logic.py.html) example.\n",
    "\n",
    "_Continue_ : [ 4.6 Distributed Computing ](../pages/46-distributed-\n",
    "computing.html)\n",
    "\n",
    "## 4.6 Distributed Computing\n",
    "\n",
    "Large-scale data processing applications often coordinate effort among\n",
    "multiple computers. A distributed computing application is one in which\n",
    "multiple interconnected but independent computers coordinate to perform a\n",
    "joint computation.\n",
    "\n",
    "Different computers are independent in the sense that they do not directly\n",
    "share memory. Instead, they communicate with each other using _messages_ ,\n",
    "information transferred from one computer to another over a network.\n",
    "\n",
    "### 4.6.1 Messages\n",
    "\n",
    "Messages sent between computers are sequences of bytes. The purpose of a\n",
    "message varies; messages can request data, send data, or instruct another\n",
    "computer to evaluate a procedure call. In all cases, the sending computer must\n",
    "encode information in a way that the receiving computer can decode and\n",
    "correctly interpret. To do so, computers adopt a message protocol that endows\n",
    "meaning to sequences of bytes.\n",
    "\n",
    "A _message protocol_ is a set of rules for encoding and interpreting messages.\n",
    "Both the sending and receiving computers must agree on the semantics of a\n",
    "message to enable successful communication. Many message protocols specify\n",
    "that a message conform to a particular format in which certain bits at fixed\n",
    "positions indicate fixed conditions. Others use special bytes or byte\n",
    "sequences to delimit parts of the message, much as punctuation delimits sub-\n",
    "expressions in the syntax of a programming language.\n",
    "\n",
    "Message protocols are not particular programs or software libraries. Instead,\n",
    "they are rules that can be applied by a variety of programs, even written in\n",
    "different programming languages. As a result, computers with vastly different\n",
    "software systems can participate in the same distributed system, simply by\n",
    "conforming to the message protocols that govern the system.\n",
    "\n",
    "**The TCP/IP Protocols**. On the Internet, messages are transferred from one\n",
    "machine to another using the [Internet\n",
    "Protocol](http://en.wikipedia.org/wiki/Internet_Protocol) (IP), which\n",
    "specifies how to transfer _packets_ of data among different networks to allow\n",
    "global Internet communication. IP was designed under the assumption that\n",
    "networks are inherently unreliable at any point and dynamic in structure.\n",
    "Moreover, it does not assume that any central tracking or monitoring of\n",
    "communication exists. Each packet contains a header containing the destination\n",
    "IP address, along with other information. All packets are forwarded throughout\n",
    "the network toward the destination using simple routing rules on a best-effort\n",
    "basis.\n",
    "\n",
    "This design imposes constraints on communication. Packets transferred using\n",
    "modern IP implementations (IPv4 and IPv6) have a maximum size of 65,535 bytes.\n",
    "Larger data values must be split among multiple packets. The IP does not\n",
    "guarantee that packets will be received in the same order that they were sent.\n",
    "Some packets may be lost, and some packets may be transmitted multiple times.\n",
    "\n",
    "The [Transmission Control\n",
    "Protocol](http://en.wikipedia.org/wiki/Transmission_Control_Protocol) is an\n",
    "abstraction defined in terms of the IP that provides reliable, ordered\n",
    "transmission of arbitrarily large byte streams. The protocol provides this\n",
    "guarantee by correctly ordering packets transferred by the IP, removing\n",
    "duplicates, and requesting retransmission of lost packets. This improved\n",
    "reliability comes at the expense of latency, the time required to send a\n",
    "message from one point to another.\n",
    "\n",
    "The TCP breaks a stream of data into _TCP segments_ , each of which includes a\n",
    "portion of the data preceded by a header that contains sequence and state\n",
    "information to support reliable, ordered transmission of data. Some TCP\n",
    "segments do not include data at all, but instead establish or terminate a\n",
    "connection between two computers.\n",
    "\n",
    "Establishing a connection between two computers `A` and `B` proceeds in three\n",
    "steps:"
   ]
  },
  {
   "cell_type": "code",
   "execution_count": null,
   "id": "3601b899",
   "metadata": {},
   "outputs": [],
   "source": [
    "1. `A` sends a request to a _port_ of `B` to establish a TCP connection, providing a _port number_ to which to send the response.\n",
    "2. `B` sends a response to the port specified by `A` and waits for its response to be acknowledged.\n",
    "3. `A` sends an acknowledgment response, verifying that data can be transferred in both directions."
   ]
  },
  {
   "cell_type": "markdown",
   "id": "f4bc1ab4",
   "metadata": {},
   "source": [
    "After this three-step \"handshake\", the TCP connection is established, and `A`\n",
    "and `B` can send data to each other. Terminating a TCP connection proceeds as\n",
    "a sequence of steps in which both the client and server request and\n",
    "acknowledge the end of the connection.\n",
    "\n",
    "### 4.6.2 Client/Server Architecture\n",
    "\n",
    "The client/server architecture is a way to dispense a service from a central\n",
    "source. A _server_ provides a service and multiple _clients_ communicate with\n",
    "the server to consume that service. In this architecture, clients and servers\n",
    "have different roles. The server's role is to respond to service requests from\n",
    "clients, while a client's role is to issue requests and make use of the\n",
    "server's response in order to perform some task. The diagram below illustrates\n",
    "the architecture.\n",
    "\n",
    "![](http://www.composingprograms.com/img/clientserver.png)\n",
    "\n",
    "The most influential use of the model is the modern World Wide Web. When a web\n",
    "browser displays the contents of a web page, several programs running on\n",
    "independent computers interact using the client/server architecture. This\n",
    "section describes the process of requesting a web page in order to illustrate\n",
    "central ideas in client/server distributed systems.\n",
    "\n",
    "**Roles**. The web browser application on a Web user's computer has the role\n",
    "of the client when requesting a web page. When requesting the content from a\n",
    "domain name on the Internet, such as www.nytimes.com, it must communicate with\n",
    "at least two different servers.\n",
    "\n",
    "The client first requests the Internet Protocol (IP) address of the computer\n",
    "located at that name from a Domain Name Server (DNS). A DNS provides the\n",
    "service of mapping domain names to IP addresses, which are numerical\n",
    "identifiers of machines on the Internet. Python can make such a request\n",
    "directly using the `socket` module.\n",
    "\n",
    "\n",
    "​"
   ]
  },
  {
   "cell_type": "code",
   "execution_count": null,
   "id": "fa445dbe",
   "metadata": {},
   "outputs": [],
   "source": [
    ">>> from socket import gethostbyname\n",
    ">>> gethostbyname('www.nytimes.com')\n",
    "'170.149.172.130'\n"
   ]
  },
  {
   "cell_type": "markdown",
   "id": "872b2ef3",
   "metadata": {},
   "source": [
    "The client then requests the contents of the web page from the web server\n",
    "located at that IP address. The response in this case is an\n",
    "[HTML](http://en.wikipedia.org/wiki/HTML) document that contains headlines and\n",
    "article excerpts of the day's news, as well as expressions that indicate how\n",
    "the web browser client should lay out that contents on the user's screen.\n",
    "Python can make the two requests required to retrieve this content using the\n",
    "`urllib.request` module.\n",
    "\n",
    "\n",
    "​"
   ]
  },
  {
   "cell_type": "code",
   "execution_count": null,
   "id": "67dbacab",
   "metadata": {},
   "outputs": [],
   "source": [
    ">>> from urllib.request import urlopen\n",
    ">>> response = urlopen('http://www.nytimes.com').read()\n",
    ">>> response[:15]\n",
    "b'<!DOCTYPE html>'\n"
   ]
  },
  {
   "cell_type": "markdown",
   "id": "19c9370d",
   "metadata": {},
   "source": [
    "Upon receiving this response, the browser issues additional requests for\n",
    "images, videos, and other auxiliary components of the page. These requests are\n",
    "initiated because the original HTML document contains addresses of additional\n",
    "content and a description of how they embed into the page.\n",
    "\n",
    "**An HTTP Request**. The Hypertext Transfer Protocol (HTTP) is a protocol\n",
    "implemented using TCP that governs communication for the World Wide Web (WWW).\n",
    "It assumes a client/server architecture between a web browser and a web\n",
    "server. HTTP specifies the format of messages exchanged between browsers and\n",
    "servers. All web browsers use the HTTP format to request pages from a web\n",
    "server, and all web servers use the HTTP format to send back their responses.\n",
    "\n",
    "HTTP requests have several types, the most common of which is a `GET` request\n",
    "for a specific web page. A `GET` request specifies a location. For instance,\n",
    "typing the address `http://en.wikipedia.org/wiki/UC_Berkeley` into a web\n",
    "browser issues an HTTP `GET` request to port 80 of the web server at\n",
    "`en.wikipedia.org` for the contents at location `/wiki/UC_Berkeley`.\n",
    "\n",
    "The server sends back an HTTP response:\n",
    "\n",
    "\n",
    "​"
   ]
  },
  {
   "cell_type": "code",
   "execution_count": null,
   "id": "575c9d2c",
   "metadata": {},
   "outputs": [],
   "source": [
    "HTTP/1.1 200 OK\n",
    "Date: Mon, 23 May 2011 22:38:34 GMT\n",
    "Server: Apache/1.3.3.7 (Unix) (Red-Hat/Linux)\n",
    "Last-Modified: Wed, 08 Jan 2011 23:11:55 GMT\n",
    "Content-Type: text/html; charset=UTF-8\n",
    "\n",
    "... web page content ...\n"
   ]
  },
  {
   "cell_type": "markdown",
   "id": "12d0f628",
   "metadata": {},
   "source": [
    "On the first line, the text `200 OK` indicates that there were no errors in\n",
    "responding to the request. The subsequent lines of the header give information\n",
    "about the server, the date, and the type of content being sent back.\n",
    "\n",
    "If you have typed in a wrong web address, or clicked on a broken link, you may\n",
    "have seen a message such as this error:\n",
    "\n",
    "\n",
    "​"
   ]
  },
  {
   "cell_type": "code",
   "execution_count": null,
   "id": "0d735e2d",
   "metadata": {},
   "outputs": [],
   "source": [
    "404 Error File Not Found\n"
   ]
  },
  {
   "cell_type": "markdown",
   "id": "598e48a5",
   "metadata": {},
   "source": [
    "It means that the server sent back an HTTP header that started:\n",
    "\n",
    "\n",
    "​"
   ]
  },
  {
   "cell_type": "code",
   "execution_count": null,
   "id": "67937b96",
   "metadata": {},
   "outputs": [],
   "source": [
    "HTTP/1.1 404 Not Found\n"
   ]
  },
  {
   "cell_type": "markdown",
   "id": "3cd0ecbb",
   "metadata": {},
   "source": [
    "The numbers 200 and 404 are HTTP response codes. A fixed set of response codes\n",
    "is a common feature of a message protocol. Designers of protocols attempt to\n",
    "anticipate common messages that will be sent via the protocol and assign fixed\n",
    "codes to reduce transmission size and establish a common message semantics. In\n",
    "the HTTP protocol, the 200 response code indicates success, while 404\n",
    "indicates an error that a resource was not found. A variety of other [response\n",
    "codes](http://en.wikipedia.org/wiki/List_of_HTTP_status_codes) exist in the\n",
    "HTTP 1.1 standard as well.\n",
    "\n",
    "**Modularity**. The concepts of _client_ and _server_ are powerful\n",
    "abstractions. A server provides a service, possibly to multiple clients\n",
    "simultaneously, and a client consumes that service. The clients do not need to\n",
    "know the details of how the service is provided, or how the data they are\n",
    "receiving is stored or calculated, and the server does not need to know how\n",
    "its responses are going to be used.\n",
    "\n",
    "On the web, we think of clients and servers as being on different machines,\n",
    "but even systems on a single machine can have client/server architectures. For\n",
    "example, signals from input devices on a computer need to be generally\n",
    "available to programs running on the computer. The programs are clients,\n",
    "consuming mouse and keyboard input data. The operating system's device drivers\n",
    "are the servers, taking in physical signals and serving them up as usable\n",
    "input. In addition, the central processing unit (CPU) and the specialized\n",
    "graphical processing unit (GPU) often participate in a client/server\n",
    "architecture with the CPU as the client and the GPU as a server of images.\n",
    "\n",
    "A drawback of client/server systems is that the server is a single point of\n",
    "failure. It is the only component with the ability to dispense the service.\n",
    "There can be any number of clients, which are interchangeable and can come and\n",
    "go as necessary.\n",
    "\n",
    "Another drawback of client-server systems is that computing resources become\n",
    "scarce if there are too many clients. Clients increase the demand on the\n",
    "system without contributing any computing resources.\n",
    "\n",
    "### 4.6.3 Peer-to-Peer Systems\n",
    "\n",
    "The client/server model is appropriate for service-oriented situations.\n",
    "However, there are other computational goals for which a more equal division\n",
    "of labor is a better choice. The term _peer-to-peer_ is used to describe\n",
    "distributed systems in which labor is divided among all the components of the\n",
    "system. All the computers send and receive data, and they all contribute some\n",
    "processing power and memory. As a distributed system increases in size, its\n",
    "capacity of computational resources increases. In a peer-to-peer system, all\n",
    "components of the system contribute some processing power and memory to a\n",
    "distributed computation.\n",
    "\n",
    "Division of labor among all participants is the identifying characteristic of\n",
    "a peer-to-peer system. This means that peers need to be able to communicate\n",
    "with each other reliably. In order to make sure that messages reach their\n",
    "intended destinations, peer-to-peer systems need to have an organized network\n",
    "structure. The components in these systems cooperate to maintain enough\n",
    "information about the locations of other components to send messages to\n",
    "intended destinations.\n",
    "\n",
    "In some peer-to-peer systems, the job of maintaining the health of the network\n",
    "is taken on by a set of specialized components. Such systems are not pure\n",
    "peer-to-peer systems, because they have different types of components that\n",
    "serve different functions. The components that support a peer-to-peer network\n",
    "act like scaffolding: they help the network stay connected, they maintain\n",
    "information about the locations of different computers, and they help\n",
    "newcomers take their place within their neighborhood.\n",
    "\n",
    "The most common applications of peer-to-peer systems are data transfer and\n",
    "data storage. For data transfer, each computer in the system contributes to\n",
    "send data over the network. If the destination computer is in a particular\n",
    "computer's neighborhood, that computer helps send data along. For data\n",
    "storage, the data set may be too large to fit on any single computer, or too\n",
    "valuable to store on just a single computer. Each computer stores a small\n",
    "portion of the data, and there may be multiple copies of the same data spread\n",
    "over different computers. When a computer fails, the data that was on it can\n",
    "be restored from other copies and put back when a replacement arrives.\n",
    "\n",
    "Skype, the voice- and video-chat service, is an example of a data transfer\n",
    "application with a peer-to-peer architecture. When two people on different\n",
    "computers are having a Skype conversation, their communications are\n",
    "transmitted through a peer-to-peer network. This network is composed of other\n",
    "computers running the Skype application. Each computer knows the location of a\n",
    "few other computers in its neighborhood. A computer helps send a packet to its\n",
    "destination by passing it on a neighbor, which passes it on to some other\n",
    "neighbor, and so on, until the packet reaches its intended destination. Skype\n",
    "is not a pure peer-to-peer system. A scaffolding network of _supernodes_ is\n",
    "responsible for logging-in and logging-out users, maintaining information\n",
    "about the locations of their computers, and modifying the network structure\n",
    "when users enter and exit.\n",
    "\n",
    "_Continue_ : [ 4.7 Distributed Data Processing ](../pages/47-distributed-data-\n",
    "processing.html)\n",
    "\n",
    "## 4.7 Distributed Data Processing\n",
    "\n",
    "Distributed systems are often used to collect, access, and manipulate large\n",
    "data sets. For example, the database systems described earlier in the chapter\n",
    "can operate over datasets that are stored across multiple machines. No single\n",
    "machine may contain the data necessary to respond to a query, and so\n",
    "communication is required to service requests.\n",
    "\n",
    "This section investigates a typical big data processing scenario in which a\n",
    "data set too large to be processed by a single machine is instead distributed\n",
    "among many machines, each of which process a portion of the dataset. The\n",
    "result of processing must often be aggregated across machines, so that results\n",
    "from one machine's computation can be combined with others. To coordinate this\n",
    "distributed data processing, we will discuss a programming framework called\n",
    "[MapReduce](http://en.wikipedia.org/wiki/MapReduce).\n",
    "\n",
    "Creating a distributed data processing application with MapReduce combines\n",
    "many of the ideas presented throughout this text. An application is expressed\n",
    "in terms of pure functions that are used to _map_ over a large dataset and\n",
    "then to _reduce_ the mapped sequences of values into a final result.\n",
    "\n",
    "Familiar concepts from functional programming are used to maximal advantage in\n",
    "a MapReduce program. MapReduce requires that the functions used to map and\n",
    "reduce the data be pure functions. In general, a program expressed only in\n",
    "terms of pure functions has considerable flexibility in how it is executed.\n",
    "Sub-expressions can be computed in arbitrary order and in parallel without\n",
    "affecting the final result. A MapReduce application evaluates many pure\n",
    "functions in parallel, reordering computations to be executed efficiently in a\n",
    "distributed system.\n",
    "\n",
    "The principal advantage of MapReduce is that it enforces a separation of\n",
    "concerns between two parts of a distributed data processing application:"
   ]
  },
  {
   "cell_type": "code",
   "execution_count": null,
   "id": "caebad89",
   "metadata": {},
   "outputs": [],
   "source": [
    "1. The map and reduce functions that process data and combine results.\n",
    "2. The communication and coordination between machines."
   ]
  },
  {
   "cell_type": "markdown",
   "id": "8b5effa0",
   "metadata": {},
   "source": [
    "The coordination mechanism handles many issues that arise in distributed\n",
    "computing, such as machine failures, network failures, and progress\n",
    "monitoring. While managing these issues introduces some complexity in a\n",
    "MapReduce application, none of that complexity is exposed to the application\n",
    "developer. Instead, building a MapReduce application only requires specifying\n",
    "the map and reduce functions in (1) above; the challenges of distributed\n",
    "computation are hidden via abstraction.\n",
    "\n",
    "### 4.7.1 MapReduce\n",
    "\n",
    "The MapReduce framework assumes as input a large, unordered stream of input\n",
    "values of an arbitrary type. For instance, each input may be a line of text in\n",
    "some vast corpus. Computation proceeds in three steps."
   ]
  },
  {
   "cell_type": "code",
   "execution_count": null,
   "id": "96650e4e",
   "metadata": {},
   "outputs": [],
   "source": [
    "1. A map function is applied to each input, which outputs zero or more intermediate key-value pairs of an arbitrary type.\n",
    "2. All intermediate key-value pairs are grouped by key, so that pairs with the same key can be reduced together.\n",
    "3. A reduce function combines the values for a given key `k`; it outputs zero or more values, which are each associated with `k` in the final output."
   ]
  },
  {
   "cell_type": "markdown",
   "id": "5403370a",
   "metadata": {},
   "source": [
    "To perform this computation, the MapReduce framework creates tasks (perhaps on\n",
    "different machines) that perform various roles in the computation. A _map\n",
    "task_ applies the map function to some subset of the input data and outputs\n",
    "intermediate key-value pairs. A _reduce_ task sorts and groups key-value pairs\n",
    "by key, then applies the reduce function to the values for each key. All\n",
    "communication between map and reduce tasks is handled by the framework, as is\n",
    "the task of grouping intermediate key-value pairs by key.\n",
    "\n",
    "In order to utilize multiple machines in a MapReduce application, multiple\n",
    "mappers run in parallel in a _map phase_ , and multiple reducers run in\n",
    "parallel in a _reduce phase_. In between these phases, the _sort phase_ groups\n",
    "together key-value pairs by sorting them, so that all key-value pairs with the\n",
    "same key are adjacent.\n",
    "\n",
    "Consider the problem of counting the vowels in a corpus of text. We can solve\n",
    "this problem using the MapReduce framework with an appropriate choice of map\n",
    "and reduce functions. The map function takes as input a line of text and\n",
    "outputs key-value pairs in which the key is a vowel and the value is a count.\n",
    "Zero counts are omitted from the output:\n",
    "\n",
    "\n",
    "​"
   ]
  },
  {
   "cell_type": "code",
   "execution_count": null,
   "id": "255fd26a",
   "metadata": {},
   "outputs": [],
   "source": [
    "def count_vowels(line):\n",
    "    \"\"\"A map function that counts the vowels in a line.\"\"\"\n",
    "    for vowel in 'aeiou':\n",
    "        count = line.count(vowel)\n",
    "        if count > 0:\n",
    "            emit(vowel, count)\n"
   ]
  },
  {
   "cell_type": "markdown",
   "id": "f85695b5",
   "metadata": {},
   "source": [
    "The reduce function is the built-in sum functions in Python, which takes as\n",
    "input an iterator over values (all values for a given key) and returns their\n",
    "sum.\n",
    "\n",
    "### 4.7.2 Local Implementation\n",
    "\n",
    "To specify a MapReduce application, we require an implementation of the\n",
    "MapReduce framework into which we can insert map and reduce functions. In the\n",
    "following section, we will use the open-source\n",
    "[Hadoop](http://en.wikipedia.org/wiki/Hadoop) implementation. In this section,\n",
    "we develop a minimal implementation using built-in tools of the Unix operating\n",
    "system.\n",
    "\n",
    "The Unix operating system creates an abstraction barrier between user programs\n",
    "and the underlying hardware of a computer. It provides a mechanism for\n",
    "programs to communicate with each other, in particular by allowing one program\n",
    "to consume the output of another. In their seminal text on Unix programming,\n",
    "Kernigham and Pike assert that, \"\"The power of a system comes more from the\n",
    "relationships among programs than from the programs themselves.\"\n",
    "\n",
    "A Python source file can be converted into a Unix program by adding a comment\n",
    "to the first line indicating that the program should be executed using the\n",
    "Python 3 interpreter. The input to a Unix program is an iterable object called\n",
    "_standard input_ and accessed as `sys.stdin`. Iterating over this object\n",
    "yields string-valued lines of text. The output of a Unix program is called\n",
    "_standard output_ and accessed as `sys.stdout`. The built-in `print` function\n",
    "writes a line of text to standard output. The following Unix program writes\n",
    "each line of its input to its output, in reverse:\n",
    "\n",
    "\n",
    "​"
   ]
  },
  {
   "cell_type": "code",
   "execution_count": null,
   "id": "ff257113",
   "metadata": {},
   "outputs": [],
   "source": [
    "#!/usr/bin/env python3\n",
    "\n",
    "import sys\n",
    "\n",
    "for line in sys.stdin:\n",
    "    print(line.strip('\\n')[::-1])\n"
   ]
  },
  {
   "cell_type": "markdown",
   "id": "816b4fd4",
   "metadata": {},
   "source": [
    "If we save this program to a file called `rev.py`, we can execute it as a Unix\n",
    "program. First, we need to tell the operating system that we have created an\n",
    "executable program:\n",
    "\n",
    "\n",
    "​"
   ]
  },
  {
   "cell_type": "code",
   "execution_count": null,
   "id": "2c865422",
   "metadata": {},
   "outputs": [],
   "source": [
    "$ chmod u+x rev.py\n"
   ]
  },
  {
   "cell_type": "markdown",
   "id": "1136a85a",
   "metadata": {},
   "source": [
    "Next, we can pass input into this program. Input to a program can come from\n",
    "another program. This effect is achieved using the `|` symbol (called \"pipe\")\n",
    "which channels the output of the program before the pipe into the program\n",
    "after the pipe. The program `nslookup` outputs the host name of an IP address\n",
    "(in this case for the New York Times):\n",
    "\n",
    "\n",
    "​"
   ]
  },
  {
   "cell_type": "code",
   "execution_count": null,
   "id": "0d542ea7",
   "metadata": {},
   "outputs": [],
   "source": [
    "$ nslookup 170.149.172.130 | ./rev.py\n",
    "moc.semityn.www\n"
   ]
  },
  {
   "cell_type": "markdown",
   "id": "e813d0b0",
   "metadata": {},
   "source": [
    "The `cat` program outputs the contents of files. Thus, the `rev.py` program\n",
    "can be used to reverse the contents of the `rev.py` file:\n",
    "\n",
    "\n",
    "​"
   ]
  },
  {
   "cell_type": "code",
   "execution_count": null,
   "id": "6ac1720b",
   "metadata": {},
   "outputs": [],
   "source": [
    "$ cat rev.py | ./rev.py\n",
    "3nohtyp vne/nib/rsu/!#\n",
    "\n",
    "sys tropmi\n",
    "\n",
    ":nidts.sys ni enil rof\n",
    ")]1-::[)'n\\'(pirts.enil(tnirp\n"
   ]
  },
  {
   "cell_type": "markdown",
   "id": "9cf2941f",
   "metadata": {},
   "source": [
    "These tools are enough for us to implement a basic MapReduce framework. This\n",
    "version has only a single map task and single reduce task, which are both Unix\n",
    "programs implemented in Python. We run an entire MapReduce application using\n",
    "the following command:\n",
    "\n",
    "\n",
    "​"
   ]
  },
  {
   "cell_type": "code",
   "execution_count": null,
   "id": "6b59cbca",
   "metadata": {},
   "outputs": [],
   "source": [
    "$ cat input | ./mapper.py | sort | ./reducer.py\n"
   ]
  },
  {
   "cell_type": "markdown",
   "id": "6b61d77a",
   "metadata": {},
   "source": [
    "The `mapper.py` and `reducer.py` programs must implement the map function and\n",
    "reduce function, along with some simple input and output behavior. For\n",
    "instance, in order to implement the vowel counting application described\n",
    "above, we would write the following `count_vowels_mapper.py` program:\n",
    "\n",
    "\n",
    "​"
   ]
  },
  {
   "cell_type": "code",
   "execution_count": null,
   "id": "991b8b0c",
   "metadata": {},
   "outputs": [],
   "source": [
    "#!/usr/bin/env python3\n",
    "\n",
    "import sys\n",
    "from mr import emit\n",
    "\n",
    "def count_vowels(line):\n",
    "    \"\"\"A map function that counts the vowels in a line.\"\"\"\n",
    "    for vowel in 'aeiou':\n",
    "        count = line.count(vowel)\n",
    "        if count > 0:\n",
    "            emit(vowel, count)\n",
    "\n",
    "for line in sys.stdin:\n",
    "    count_vowels(line)\n"
   ]
  },
  {
   "cell_type": "markdown",
   "id": "3e55f0e4",
   "metadata": {},
   "source": [
    "In addition, we would write the following `sum_reducer.py` program:\n",
    "\n",
    "\n",
    "​"
   ]
  },
  {
   "cell_type": "code",
   "execution_count": null,
   "id": "ef15171d",
   "metadata": {},
   "outputs": [],
   "source": [
    "#!/usr/bin/env python3\n",
    "\n",
    "import sys\n",
    "from mr import values_by_key, emit\n",
    "\n",
    "for key, value_iterator in values_by_key(sys.stdin):\n",
    "    emit(key, sum(value_iterator))\n"
   ]
  },
  {
   "cell_type": "markdown",
   "id": "52db777f",
   "metadata": {},
   "source": [
    "The [mr module](../examples/mapreduce/mr.py) is a companion module to this\n",
    "text that provides the functions `emit` to emit a key-value pair and\n",
    "`group_values_by_key` to group together values that have the same key. This\n",
    "module also includes an interface to the Hadoop distributed implementation of\n",
    "MapReduce.\n",
    "\n",
    "Finally, assume that we have the following input file called `haiku.txt`:\n",
    "\n",
    "\n",
    "​"
   ]
  },
  {
   "cell_type": "code",
   "execution_count": null,
   "id": "f901e47b",
   "metadata": {},
   "outputs": [],
   "source": [
    "Google MapReduce\n",
    "Is a Big Data framework\n",
    "For batch processing\n"
   ]
  },
  {
   "cell_type": "markdown",
   "id": "b5303d03",
   "metadata": {},
   "source": [
    "Local execution using Unix pipes gives us the count of each vowel in the\n",
    "haiku:\n",
    "\n",
    "\n",
    "​"
   ]
  },
  {
   "cell_type": "code",
   "execution_count": null,
   "id": "8611e30a",
   "metadata": {},
   "outputs": [],
   "source": [
    "$ cat haiku.txt | ./count_vowels_mapper.py | sort | ./sum_reducer.py\n",
    "'a'   6\n",
    "'e'   5\n",
    "'i'   2\n",
    "'o'   5\n",
    "'u'   1\n"
   ]
  },
  {
   "cell_type": "markdown",
   "id": "7997742c",
   "metadata": {},
   "source": [
    "### 4.7.3 Distributed Implementation\n",
    "\n",
    "[Hadoop](http://en.wikipedia.org/wiki/Hadoop) is the name of an open-source\n",
    "implementation of the MapReduce framework that executes MapReduce applications\n",
    "on a cluster of machines, distributing input data and computation for\n",
    "efficient parallel processing. Its streaming interface allows arbitrary Unix\n",
    "programs to define the map and reduce functions. In fact, our\n",
    "`count_vowels_mapper.py` and `sum_reducer.py` can be used directly with a\n",
    "Hadoop installation to compute vowel counts on large text corpora.\n",
    "\n",
    "Hadoop offers several advantages over our simplistic local MapReduce\n",
    "implementation. The first is speed: map and reduce functions are applied in\n",
    "parallel using different tasks on different machines running simultaneously.\n",
    "The second is fault tolerance: when a task fails for any reason, its result\n",
    "can be recomputed by another task in order to complete the overall\n",
    "computation. The third is monitoring: the framework provides a user interface\n",
    "for tracking the progress of a MapReduce application.\n",
    "\n",
    "In order to run the vowel counting application using the provided\n",
    "`mapreduce.py` module, install Hadoop, change the assignment statement of\n",
    "`HADOOP` to the root of your local installation, copy a collection of text\n",
    "files into the Hadoop distributed file system, and then run:\n",
    "\n",
    "\n",
    "​"
   ]
  },
  {
   "cell_type": "code",
   "execution_count": null,
   "id": "9b54fc48",
   "metadata": {},
   "outputs": [],
   "source": [
    "$ python3 mr.py run count_vowels_mapper.py sum_reducer.py [input] [output]\n"
   ]
  },
  {
   "cell_type": "markdown",
   "id": "c6c38d38",
   "metadata": {},
   "source": [
    "where `[input]` and `[output]` are directories in the Hadoop file system.\n",
    "\n",
    "For more information on the Hadoop streaming interface and use of the system,\n",
    "consult the [Hadoop Streaming\n",
    "Documentation](http://hadoop.apache.org/docs/stable/streaming.html).\n",
    "\n",
    "_Continue_ : [ 4.8 Parallel Computing ](../pages/48-parallel-computing.html)\n",
    "\n",
    "## 4.8 Parallel Computing\n",
    "\n",
    "From the 1970s through the mid-2000s, the speed of individual processor cores\n",
    "grew at an exponential rate. Much of this increase in speed was accomplished\n",
    "by increasing the _clock frequency_ , the rate at which a processor performs\n",
    "basic operations. In the mid-2000s, however, this exponential increase came to\n",
    "an abrupt end, due to power and thermal constraints, and the speed of\n",
    "individual processor cores has increased much more slowly since then. Instead,\n",
    "CPU manufacturers began to place multiple cores in a single processor,\n",
    "enabling more operations to be performed concurrently.\n",
    "\n",
    "Parallelism is not a new concept. Large-scale parallel machines have been used\n",
    "for decades, primarily for scientific computing and data analysis. Even in\n",
    "personal computers with a single processor core, operating systems and\n",
    "interpreters have provided the abstraction of concurrency. This is done\n",
    "through _context switching_ , or rapidly switching between different tasks\n",
    "without waiting for them to complete. Thus, multiple programs can run on the\n",
    "same machine concurrently, even if it only has a single processing core.\n",
    "\n",
    "Given the current trend of increasing the number of processor cores,\n",
    "individual applications must now take advantage of parallelism in order to run\n",
    "faster. Within a single program, computation must be arranged so that as much\n",
    "work can be done in parallel as possible. However, parallelism introduces new\n",
    "challenges in writing correct code, particularly in the presence of shared,\n",
    "mutable state.\n",
    "\n",
    "For problems that can be solved efficiently in the functional model, with no\n",
    "shared mutable state, parallelism poses few problems. Pure functions provide\n",
    "_referential transparency_ , meaning that expressions can be replaced with\n",
    "their values, and vice versa, without affecting the behavior of a program.\n",
    "This enables expressions that do not depend on each other to be evaluated in\n",
    "parallel. As discussed in the previous section, the MapReduce framework allows\n",
    "functional programs to be specified and run in parallel with minimal\n",
    "programmer effort.\n",
    "\n",
    "Unfortunately, not all problems can be solved efficiently using functional\n",
    "programming. The Berkeley View project has identified [thirteen common\n",
    "computational patterns](http://view.eecs.berkeley.edu/wiki/Dwarf_Mine) in\n",
    "science and engineering, only one of which is MapReduce. The remaining\n",
    "patterns require shared state.\n",
    "\n",
    "In the remainder of this section, we will see how mutable shared state can\n",
    "introduce bugs into parallel programs and a number of approaches to prevent\n",
    "such bugs. We will examine these techniques in the context of two\n",
    "applications, a web [crawler](../examples/parallel/crawler.py.html) and a\n",
    "particle [simulator](../examples/parallel/particle.py.html).\n",
    "\n",
    "### 4.8.1 Parallelism in Python\n",
    "\n",
    "Before we dive deeper into the details of parallelism, let us first explore\n",
    "Python's support for parallel computation. Python provides two means of\n",
    "parallel execution: threading and multiprocessing.\n",
    "\n",
    "**Threading**. In _threading_ , multiple \"threads\" of execution exist within a\n",
    "single interpreter. Each thread executes code independently from the others,\n",
    "though they share the same data. However, the CPython interpreter, the main\n",
    "implementation of Python, only interprets code in one thread at a time,\n",
    "switching between them in order to provide the illusion of parallelism. On the\n",
    "other hand, operations external to the interpreter, such as writing to a file\n",
    "or accessing the network, may run in parallel.\n",
    "\n",
    "The `threading` module contains classes that enable threads to be created and\n",
    "synchronized. The following is a simple example of a multithreaded program:\n",
    "\n",
    "\n",
    "​"
   ]
  },
  {
   "cell_type": "code",
   "execution_count": null,
   "id": "a499b640",
   "metadata": {},
   "outputs": [],
   "source": [
    ">>> import threading\n",
    ">>> def thread_hello():\n",
    "        other = threading.Thread(target=thread_say_hello, args=())\n",
    "        other.start()\n",
    "        thread_say_hello()\n"
   ]
  },
  {
   "cell_type": "markdown",
   "id": "a1f988ea",
   "metadata": {},
   "source": [
    "​    \n",
    "​"
   ]
  },
  {
   "cell_type": "code",
   "execution_count": null,
   "id": "2fd0e6e9",
   "metadata": {},
   "outputs": [],
   "source": [
    ">>> def thread_say_hello():\n",
    "        print('hello from', threading.current_thread().name)\n"
   ]
  },
  {
   "cell_type": "markdown",
   "id": "fb3eade5",
   "metadata": {},
   "source": [
    "​    \n",
    "​"
   ]
  },
  {
   "cell_type": "code",
   "execution_count": null,
   "id": "da7e58fd",
   "metadata": {},
   "outputs": [],
   "source": [
    ">>> thread_hello()\n",
    "hello from Thread-1\n",
    "hello from MainThread\n"
   ]
  },
  {
   "cell_type": "markdown",
   "id": "b7a4778d",
   "metadata": {},
   "source": [
    "The `Thread` constructor creates a new thread. It requires a target function\n",
    "that the new thread should run, as well as the arguments to that function.\n",
    "Calling `start` on a `Thread` object marks it ready to run. The\n",
    "`current_thread` function returns the `Thread` object associated with the\n",
    "current thread of execution.\n",
    "\n",
    "In this example, the prints can happen in any order, since we haven't\n",
    "synchronized them in any way.\n",
    "\n",
    "**Multiprocessing**. Python also supports _multiprocessing_ , which allows a\n",
    "program to spawn multiple interpreters, or _processes_ , each of which can run\n",
    "code independently. These processes do not generally share data, so any shared\n",
    "state must be communicated between processes. On the other hand, processes\n",
    "execute in parallel according to the level of parallelism provided by the\n",
    "underlying operating system and hardware. Thus, if the CPU has multiple\n",
    "processor cores, Python processes can truly run concurrently.\n",
    "\n",
    "The `multiprocessing` module contains classes for creating and synchronizing\n",
    "processes. The following is the hello example using processes:\n",
    "\n",
    "\n",
    "​"
   ]
  },
  {
   "cell_type": "code",
   "execution_count": null,
   "id": "0cd14b36",
   "metadata": {},
   "outputs": [],
   "source": [
    ">>> import multiprocessing\n",
    ">>> def process_hello():\n",
    "        other = multiprocessing.Process(target=process_say_hello, args=())\n",
    "        other.start()\n",
    "        process_say_hello()\n"
   ]
  },
  {
   "cell_type": "markdown",
   "id": "0755505e",
   "metadata": {},
   "source": [
    "​    \n",
    "​"
   ]
  },
  {
   "cell_type": "code",
   "execution_count": null,
   "id": "defb12e7",
   "metadata": {},
   "outputs": [],
   "source": [
    ">>> def process_say_hello():\n",
    "        print('hello from', multiprocessing.current_process().name)\n"
   ]
  },
  {
   "cell_type": "markdown",
   "id": "f8bc87e3",
   "metadata": {},
   "source": [
    "​    \n",
    "​"
   ]
  },
  {
   "cell_type": "code",
   "execution_count": null,
   "id": "5428b1df",
   "metadata": {},
   "outputs": [],
   "source": [
    ">>> process_hello()\n",
    "hello from MainProcess\n",
    ">>> hello from Process-1\n"
   ]
  },
  {
   "cell_type": "markdown",
   "id": "c781e175",
   "metadata": {},
   "source": [
    "As this example demonstrates, many of the classes and functions in\n",
    "`multiprocessing` are analogous to those in `threading`. This example also\n",
    "demonstrates how lack of synchronization affects shared state, as the display\n",
    "can be considered shared state. Here, the interpreter prompt from the\n",
    "interactive process appears before the print output from the other process.\n",
    "\n",
    "### 4.8.2 The Problem with Shared State\n",
    "\n",
    "To further illustrate the problem with shared state, let's look at a simple\n",
    "example of a counter that is shared between two threads:\n",
    "\n",
    "\n",
    "​"
   ]
  },
  {
   "cell_type": "code",
   "execution_count": null,
   "id": "f832fb09",
   "metadata": {},
   "outputs": [],
   "source": [
    "import threading\n",
    "from time import sleep\n",
    "\n",
    "counter = [0]\n",
    "\n",
    "def increment():\n",
    "    count = counter[0]\n",
    "    sleep(0) # try to force a switch to the other thread\n",
    "    counter[0] = count + 1\n",
    "\n",
    "other = threading.Thread(target=increment, args=())\n",
    "other.start()\n",
    "increment()\n",
    "print('count is now: ', counter[0])\n"
   ]
  },
  {
   "cell_type": "markdown",
   "id": "9055916c",
   "metadata": {},
   "source": [
    "In this program, two threads attempt to increment the same counter. The\n",
    "CPython interpreter can switch between threads at almost any time. Only the\n",
    "most basic operations are _atomic_ , meaning that they appear to occur\n",
    "instantly, with no switch possible during their evaluation or execution.\n",
    "Incrementing a counter requires multiple basic operations: read the old value,\n",
    "add one to it, and write the new value. The interpreter can switch threads\n",
    "between any of these operations.\n",
    "\n",
    "In order to show what happens when the interpreter switches threads at the\n",
    "wrong time, we have attempted to force a switch by sleeping for 0 seconds.\n",
    "When this code is run, the interpreter often does switch threads at the\n",
    "`sleep` call. This can result in the following sequence of operations:\n",
    "\n",
    "\n",
    "​"
   ]
  },
  {
   "cell_type": "code",
   "execution_count": null,
   "id": "c62b2590",
   "metadata": {},
   "outputs": [],
   "source": [
    "Thread 0                    Thread 1\n",
    "read counter[0]: 0\n",
    "                            read counter[0]: 0\n",
    "calculate 0 + 1: 1\n",
    "write 1 -> counter[0]\n",
    "                            calculate 0 + 1: 1\n",
    "                            write 1 -> counter[0]\n"
   ]
  },
  {
   "cell_type": "markdown",
   "id": "d287c59b",
   "metadata": {},
   "source": [
    "The end result is that the counter has a value of 1, even though it was\n",
    "incremented twice! Worse, the interpreter may only switch at the wrong time\n",
    "very rarely, making this difficult to debug. Even with the `sleep` call, this\n",
    "program sometimes produces a correct count of 2 and sometimes an incorrect\n",
    "count of 1.\n",
    "\n",
    "This problem arises only in the presence of shared data that may be mutated by\n",
    "one thread while another thread accesses it. Such a conflict is called a _race\n",
    "condition_ , and it is an example of a bug that only exists in the parallel\n",
    "world.\n",
    "\n",
    "In order to avoid race conditions, shared data that may be mutated and\n",
    "accessed by multiple threads must be protected against concurrent access. For\n",
    "example, if we can ensure that thread 1 only accesses the counter after thread\n",
    "0 finishes accessing it, or vice versa, we can guarantee that the right result\n",
    "is computed. We say that shared data is _synchronized_ if it is protected from\n",
    "concurrent access. In the next few subsections, we will see multiple\n",
    "mechanisms providing synchronization.\n",
    "\n",
    "### 4.8.3 When No Synchronization is Necessary\n",
    "\n",
    "In some cases, access to shared data need not be synchronized, if concurrent\n",
    "access cannot result in incorrect behavior. The simplest example is read-only\n",
    "data. Since such data is never mutated, all threads will always read the same\n",
    "values regardless when they access the data.\n",
    "\n",
    "In rare cases, shared data that is mutated may not require synchronization.\n",
    "However, understanding when this is the case requires a deep knowledge of how\n",
    "the interpreter and underlying software and hardware work. Consider the\n",
    "following example:\n",
    "\n",
    "\n",
    "​"
   ]
  },
  {
   "cell_type": "code",
   "execution_count": null,
   "id": "bdcd5b61",
   "metadata": {},
   "outputs": [],
   "source": [
    "items = []\n",
    "flag = []\n",
    "\n",
    "def consume():\n",
    "    while not flag:\n",
    "        pass\n",
    "    print('items is', items)\n",
    "\n",
    "def produce():\n",
    "    consumer = threading.Thread(target=consume, args=())\n",
    "    consumer.start()\n",
    "    for i in range(10):\n",
    "        items.append(i)\n",
    "    flag.append('go')\n",
    "\n",
    "produce()\n"
   ]
  },
  {
   "cell_type": "markdown",
   "id": "bafb0818",
   "metadata": {},
   "source": [
    "Here, the producer thread adds items to `items`, while the consumer waits\n",
    "until `flag` is non-empty. When the producer finishes adding items, it adds an\n",
    "element to `flag`, allowing the consumer to proceed.\n",
    "\n",
    "In most Python implementations, this example will work correctly. However, a\n",
    "common optimization in other compilers and interpreters, and even the hardware\n",
    "itself, is to reorder operations within a single thread that do not depend on\n",
    "each other for data. In such a system, the statement `flag.append('go')` may\n",
    "be moved before the loop, since neither depends on the other for data. In\n",
    "general, you should avoid code like this unless you are certain that the\n",
    "underlying system won't reorder the relevant operations.\n",
    "\n",
    "### 4.8.4 Synchronized Data Structures\n",
    "\n",
    "The simplest means of synchronizing shared data is to use a data structure\n",
    "that provides synchronized operations. The `queue` module contains a `Queue`\n",
    "class that provides synchronized first in, first out access to data. The `put`\n",
    "method adds an item to the `Queue`, and the `get` method retrieves an item.\n",
    "The class itself ensures that these methods are synchronized, so items are not\n",
    "lost no matter how thread operations are interleaved. Here is a\n",
    "producer/consumer example that uses a `Queue`:\n",
    "\n",
    "\n",
    "​"
   ]
  },
  {
   "cell_type": "code",
   "execution_count": null,
   "id": "4926958b",
   "metadata": {},
   "outputs": [],
   "source": [
    "from queue import Queue\n",
    "\n",
    "queue = Queue()\n",
    "\n",
    "def synchronized_consume():\n",
    "    while True:\n",
    "        print('got an item:', queue.get())\n",
    "        queue.task_done()\n",
    "\n",
    "def synchronized_produce():\n",
    "    consumer = threading.Thread(target=synchronized_consume, args=())\n",
    "    consumer.daemon = True\n",
    "    consumer.start()\n",
    "    for i in range(10):\n",
    "        queue.put(i)\n",
    "    queue.join()\n",
    "\n",
    "synchronized_produce()\n"
   ]
  },
  {
   "cell_type": "markdown",
   "id": "b2174e5d",
   "metadata": {},
   "source": [
    "There are a few changes to this code, in addition to the `Queue` and `get` and\n",
    "`put` calls. We have marked the consumer thread as a _daemon_ , which means\n",
    "that the program will not wait for that thread to complete before exiting.\n",
    "This allows us to use an infinite loop in the consumer. However, we do need to\n",
    "ensure that the main thread exits, but only after all items have been consumed\n",
    "from the `Queue`. The consumer calls the `task_done` method to inform the\n",
    "`Queue` that it is done processing an item, and the main thread calls the\n",
    "`join` method, which waits until all items have been processed, ensuring that\n",
    "the program exits only after that is the case.\n",
    "\n",
    "A more complex example that makes use of a `Queue` is a parallel web\n",
    "[crawler](../examples/parallel/crawler.py.html) that searches for dead links\n",
    "on a website. This crawler follows all links that are hosted by the same site,\n",
    "so it must process a number of URLs, continually adding new ones to a `Queue`\n",
    "and removing URLs for processing. By using a synchronized `Queue`, multiple\n",
    "threads can safely add to and remove from the data structure concurrently.\n",
    "\n",
    "### 4.8.5 Locks\n",
    "\n",
    "When a synchronized version of a particular data structure is not available,\n",
    "we have to provide our own synchronization. A _lock_ is a basic mechanism to\n",
    "do so. It can be _acquired_ by at most one thread, after which no other thread\n",
    "may acquire it until it is _released_ by the thread that previously acquired\n",
    "it.\n",
    "\n",
    "In Python, the `threading` module contains a `Lock` class to provide locking.\n",
    "A `Lock` has `acquire` and `release` methods to acquire and release the lock,\n",
    "and the class guarantees that only one thread at a time can acquire it. All\n",
    "other threads that attempt to acquire a lock while it is already being held\n",
    "are forced to wait until it is released.\n",
    "\n",
    "For a lock to protect a particular set of data, all the threads need to be\n",
    "programmed to follow a rule: no thread will access any of the shared data\n",
    "unless it owns that particular lock. In effect, all the threads need to \"wrap\"\n",
    "their manipulation of the shared data in `acquire` and `release` calls for\n",
    "that lock.\n",
    "\n",
    "In the parallel web [crawler](../examples/parallel/crawler.py.html), a set is\n",
    "used to keep track of all URLs that have been encountered by any thread, so as\n",
    "to avoid processing a particular URL more than once (and potentially getting\n",
    "stuck in a cycle). However, Python does not provide a synchronized set, so we\n",
    "must use a lock to protect access to a normal set:\n",
    "\n",
    "\n",
    "​"
   ]
  },
  {
   "cell_type": "code",
   "execution_count": null,
   "id": "b980aea3",
   "metadata": {},
   "outputs": [],
   "source": [
    "seen = set()\n",
    "seen_lock = threading.Lock()\n",
    "\n",
    "def already_seen(item):\n",
    "    seen_lock.acquire()\n",
    "    result = True\n",
    "    if item not in seen:\n",
    "        seen.add(item)\n",
    "        result = False\n",
    "    seen_lock.release()\n",
    "    return result\n"
   ]
  },
  {
   "cell_type": "markdown",
   "id": "c31a5d04",
   "metadata": {},
   "source": [
    "A lock is necessary here, in order to prevent another thread from adding the\n",
    "URL to the set between this thread checking if it is in the set and adding it\n",
    "to the set. Furthermore, adding to a set is not atomic, so concurrent attempts\n",
    "to add to a set may corrupt its internal data.\n",
    "\n",
    "In this code, we had to be careful not to return until after we released the\n",
    "lock. In general, we have to ensure that we release a lock when we no longer\n",
    "need it. This can be very error-prone, particularly in the presence of\n",
    "exceptions, so Python provides a `with` compound statement that handles\n",
    "acquiring and releasing a lock for us:\n",
    "\n",
    "\n",
    "​"
   ]
  },
  {
   "cell_type": "code",
   "execution_count": null,
   "id": "691a76b9",
   "metadata": {},
   "outputs": [],
   "source": [
    "def already_seen(item):\n",
    "    with seen_lock:\n",
    "        if item not in seen:\n",
    "            seen.add(item)\n",
    "            return False\n",
    "        return True\n"
   ]
  },
  {
   "cell_type": "markdown",
   "id": "793764c2",
   "metadata": {},
   "source": [
    "The `with` statement ensures that `seen_lock` is acquired before its suite is\n",
    "executed and that it is released when the suite is exited for any reason. (The\n",
    "`with` statement can actually be used for operations other than locking,\n",
    "though we won't cover alternative uses here.)\n",
    "\n",
    "Operations that must be synchronized with each other must use the same lock.\n",
    "However, two disjoint sets of operations that must be synchronized only with\n",
    "operations in the same set should use two different lock objects to avoid\n",
    "over-synchronization.\n",
    "\n",
    "### 4.8.6 Barriers\n",
    "\n",
    "Another way to avoid conflicting access to shared data is to divide a program\n",
    "into phases, ensuring that shared data is mutated in a phase in which no other\n",
    "thread accesses it. A _barrier_ divides a program into phases by requiring all\n",
    "threads to reach it before any of them can proceed. Code that is executed\n",
    "after a barrier cannot be concurrent with code executed before the barrier.\n",
    "\n",
    "In Python, the `threading` module provides a barrier in the form of the the\n",
    "`wait` method of a `Barrier` instance:\n",
    "\n",
    "\n",
    "​"
   ]
  },
  {
   "cell_type": "code",
   "execution_count": null,
   "id": "e8464047",
   "metadata": {},
   "outputs": [],
   "source": [
    "counters = [0, 0]\n",
    "barrier = threading.Barrier(2)\n",
    "\n",
    "def count(thread_num, steps):\n",
    "    for i in range(steps):\n",
    "        other = counters[1 - thread_num]\n",
    "        barrier.wait() # wait for reads to complete\n",
    "        counters[thread_num] = other + 1\n",
    "        barrier.wait() # wait for writes to complete\n",
    "\n",
    "def threaded_count(steps):\n",
    "    other = threading.Thread(target=count, args=(1, steps))\n",
    "    other.start()\n",
    "    count(0, steps)\n",
    "    print('counters:', counters)\n",
    "\n",
    "threaded_count(10)\n"
   ]
  },
  {
   "cell_type": "markdown",
   "id": "85b5f4e2",
   "metadata": {},
   "source": [
    "In this example, reading and writing to shared data take place in different\n",
    "phases, separated by barriers. The writes occur in the same phase, but they\n",
    "are disjoint; this disjointness is necessary to avoid concurrent writes to the\n",
    "same data in the same phase. Since this code is properly synchronized, both\n",
    "counters will always be 10 at the end.\n",
    "\n",
    "The multithreaded particle [simulator](../examples/parallel/particle.py.html)\n",
    "uses a barrier in a similar fashion to synchronize access to shared data. In\n",
    "the simulation, each thread owns a number of particles, all of which interact\n",
    "with each other over the course of many discrete timesteps. A particle has a\n",
    "position, velocity, and acceleration, and a new acceleration is computed in\n",
    "each timestep based on the positions of the other particles. The velocity of\n",
    "the particle must be updated accordingly, and its position according to its\n",
    "velocity.\n",
    "\n",
    "As with the simple example above, there is a read phase, in which all\n",
    "particles' positions are read by all threads. Each thread updates its own\n",
    "particles' acceleration in this phase, but since these are disjoint writes,\n",
    "they need not be synchronized. In the write phase, each thread updates its own\n",
    "particles' velocities and positions. Again, these are disjoint writes, and\n",
    "they are protected from the read phase by barriers.\n",
    "\n",
    "### 4.8.7 Message Passing\n",
    "\n",
    "A final mechanism to avoid improper mutation of shared data is to entirely\n",
    "avoid concurrent access to the same data. In Python, using multiprocessing\n",
    "rather than threading naturally results in this, since processes run in\n",
    "separate interpreters with their own data. Any state required by multiple\n",
    "processes can be communicated by passing messages between processes.\n",
    "\n",
    "The `Pipe` class in the `multiprocessing` module provides a communication\n",
    "channel between processes. By default, it is duplex, meaning a two-way\n",
    "channel, though passing in the argument `False` results in a one-way channel.\n",
    "The `send` method sends an object over the channel, while the `recv` method\n",
    "receives an object. The latter is _blocking_ , meaning that a process that\n",
    "calls `recv` will wait until an object is received.\n",
    "\n",
    "The following is a producer/consumer example using processes and pipes:\n",
    "\n",
    "\n",
    "​"
   ]
  },
  {
   "cell_type": "code",
   "execution_count": null,
   "id": "e51783fa",
   "metadata": {},
   "outputs": [],
   "source": [
    "def process_consume(in_pipe):\n",
    "    while True:\n",
    "        item = in_pipe.recv()\n",
    "        if item is None:\n",
    "            return\n",
    "        print('got an item:', item)\n",
    "\n",
    "def process_produce():\n",
    "    pipe = multiprocessing.Pipe(False)\n",
    "    consumer = multiprocessing.Process(target=process_consume, args=(pipe[0],))\n",
    "    consumer.start()\n",
    "    for i in range(10):\n",
    "        pipe[1].send(i)\n",
    "    pipe[1].send(None) # done signal\n",
    "\n",
    "process_produce()\n"
   ]
  },
  {
   "cell_type": "markdown",
   "id": "49afdfd1",
   "metadata": {},
   "source": [
    "In this example, we use a `None` message to signal the end of communication.\n",
    "We also passed in one end of the pipe as an argument to the target function\n",
    "when creating the consumer process. This is necessary, since state must be\n",
    "explicitly shared between processes.\n",
    "\n",
    "The multiprocess version of the particle\n",
    "[simulator](../examples/parallel/particle.py.html) uses pipes to communicate\n",
    "particle positions between processes in each timestep. In fact, it uses pipes\n",
    "to set up an entire circular pipeline between processes, in order to minimize\n",
    "communication. Each process injects its own particles' positions into its\n",
    "pipeline stage, which eventually go through a full rotation of the pipeline.\n",
    "At each step of the rotation, a process applies forces from the positions that\n",
    "are currently in its own pipeline stage on to its own particles, so that after\n",
    "a full rotation, all forces have been applied to its particles.\n",
    "\n",
    "The `multiprocessing` module provides other synchronization mechanisms for\n",
    "processes, including synchronized queues, locks, and as of Python 3.3,\n",
    "barriers. For example, a lock or a barrier can be used to synchronize printing\n",
    "to the screen, avoiding the improper display output we saw previously.\n",
    "\n",
    "### 4.8.8 Synchronization Pitfalls\n",
    "\n",
    "While synchronization methods are effective for protecting shared state, they\n",
    "can also be used incorrectly, failing to accomplish the proper\n",
    "synchronization, over-synchronizing, or causing the program to hang as a\n",
    "result of deadlock.\n",
    "\n",
    "**Under-synchronization**. A common pitfall in parallel computing is to\n",
    "neglect to properly synchronize shared accesses. In the set example, we need\n",
    "to synchronize the membership check and insertion together, so that another\n",
    "thread cannot perform an insertion in between these two operations. Failing to\n",
    "synchronize the two operations together is erroneous, even if they are\n",
    "separately synchronized.\n",
    "\n",
    "**Over-synchronization**. Another common error is to over-synchronize a\n",
    "program, so that non-conflicting operations cannot occur concurrently. As a\n",
    "trivial example, we can avoid all conflicting access to shared data by\n",
    "acquiring a master lock when a thread starts and only releasing it when a\n",
    "thread completes. This serializes our entire code, so that nothing runs in\n",
    "parallel. In some cases, this can even cause our program to hang indefinitely.\n",
    "For example, consider a consumer/producer program in which the consumer\n",
    "obtains the lock and never releases it. This prevents the producer from\n",
    "producing any items, which in turn prevents the consumer from doing anything\n",
    "since it has nothing to consume.\n",
    "\n",
    "While this example is trivial, in practice, programmers often over-synchronize\n",
    "their code to some degree, preventing their code from taking complete\n",
    "advantage of the available parallelism.\n",
    "\n",
    "**Deadlock**. Because they cause threads or processes to wait on each other,\n",
    "synchronization mechanisms are vulnerable to _deadlock_ , a situation in which\n",
    "two or more threads or processes are stuck, waiting for each other to finish.\n",
    "We have just seen how neglecting to release a lock can cause a thread to get\n",
    "stuck indefinitely. But even if threads or processes do properly release\n",
    "locks, programs can still reach deadlock.\n",
    "\n",
    "The source of deadlock is a _circular wait_ , illustrated below with\n",
    "processes. No process can continue because it is waiting for other processes\n",
    "that are waiting for it to complete.\n",
    "\n",
    "![](http://www.composingprograms.com/img/deadlock.png)\n",
    "\n",
    "As an example, we will set up a deadlock with two processes. Suppose they\n",
    "share a duplex pipe and attempt to communicate with each other as follows:\n",
    "\n",
    "\n",
    "​"
   ]
  },
  {
   "cell_type": "code",
   "execution_count": null,
   "id": "77bde675",
   "metadata": {},
   "outputs": [],
   "source": [
    "def deadlock(in_pipe, out_pipe):\n",
    "    item = in_pipe.recv()\n",
    "    print('got an item:', item)\n",
    "    out_pipe.send(item + 1)\n",
    "\n",
    "def create_deadlock():\n",
    "    pipe = multiprocessing.Pipe()\n",
    "    other = multiprocessing.Process(target=deadlock, args=(pipe[0], pipe[1]))\n",
    "    other.start()\n",
    "    deadlock(pipe[1], pipe[0])\n",
    "\n",
    "create_deadlock()\n"
   ]
  },
  {
   "cell_type": "markdown",
   "id": "a077f750",
   "metadata": {},
   "source": [
    "Both processes attempt to receive data first. Recall that the `recv` method\n",
    "blocks until an item is available. Since neither process has sent anything,\n",
    "both will wait indefinitely for the other to send it data, resulting in\n",
    "deadlock.\n",
    "\n",
    "Synchronization operations must be properly aligned to avoid deadlock. This\n",
    "may require sending over a pipe before receiving, acquiring multiple locks in\n",
    "the same order, and ensuring that all threads reach the right barrier at the\n",
    "right time.\n",
    "\n",
    "### 4.8.9 Conclusion\n",
    "\n",
    "As we have seen, parallelism presents new challenges in writing correct and\n",
    "efficient code. As the trend of increasing parallelism at the hardware level\n",
    "will continue for the foreseeable future, parallel computation will become\n",
    "more and more important in application programming. There is a very active\n",
    "body of research on making parallelism easier and less error-prone for\n",
    "programmers. Our discussion here serves only as a basic introduction to this\n",
    "crucial area of computer science."
   ]
  }
 ],
 "metadata": {},
 "nbformat": 4,
 "nbformat_minor": 5
}
